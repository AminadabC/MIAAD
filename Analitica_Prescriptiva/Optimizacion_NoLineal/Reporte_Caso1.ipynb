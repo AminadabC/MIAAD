{
 "cells": [
  {
   "cell_type": "markdown",
   "id": "d4991528",
   "metadata": {},
   "source": [
    "Resuelve el Caso 1 de la sección de recursos. Proporciona un archivo PDF reportando las siguientes secciones:\n",
    "\n",
    "Definición del problema\n",
    "Modelo matemático\n",
    "Código en Python que lo resuelve\n",
    "Pantalla de ejecución donde se presente claramente el resultado\n",
    "Interpretación de la decisión preescrita por el modelo de decisión"
   ]
  }
 ],
 "metadata": {
  "language_info": {
   "name": "python"
  }
 },
 "nbformat": 4,
 "nbformat_minor": 5
}
