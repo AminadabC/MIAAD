{
 "cells": [
  {
   "cell_type": "markdown",
   "metadata": {},
   "source": [
    "**7.4.3 Estimation of Infectious Disease Models**\n",
    "\n",
    "Modelo de Estimación de Enfermedades Infecciosas\n",
    "\n",
    "Individuos y Dinámica del Modelo\n",
    "\n",
    "El modelo simula la propagación de una enfermedad infecciosa dentro de una comunidad pequeña de 300 individuos, como podría ser una escuela. Se utiliza un modelo compartimental de tiempo discreto, donde los individuos se dividen en tres grupos según su estado respecto a la enfermedad:\n",
    "- Susceptibles (S): Individuos sanos que pueden contraer la enfermedad.\n",
    "- Infectados (I): Individuos que han contraído la enfermedad en un intervalo de tiempo específico.\n",
    "- Recuperados (R): Individuos que han superado la enfermedad y han adquirido inmunidad permanente.\n",
    "\n",
    "Se asume que los infectados se recuperan completamente en el siguiente intervalo de tiempo, sin posibilidad de reinfección\n",
    "\n",
    "**Objetivo del Modelo**\n",
    "\n",
    "El objetivo principal es estimar los parámetros desconocidos del modelo que describen la propagación de la enfermedad. En particular, los parámetros b y a determinan la tasa de transmisión y la relación entre individuos infectados y susceptibles en la comunidad.\n",
    "\n",
    "**Formulación Matemática**\n",
    "\n",
    "El modelo utiliza ecuaciones en diferencias para representar la evolución de la enfermedad:\n"
   ]
  },
  {
   "cell_type": "markdown",
   "metadata": {},
   "source": [
    "Este modelo sigue la ecuación \n",
    "\n",
    "$$\n",
    "I_i = \\frac{b I_{i-1} S_{i-1}}{N}\n",
    "$$\n",
    "\n",
    "$$\n",
    "S_i = S_{i-1} - I_i\n",
    "$$"
   ]
  },
  {
   "cell_type": "markdown",
   "metadata": {},
   "source": [
    "Este modelo permite estimar los parámetros de transmisión de la enfermedad utilizando datos simulados. La optimización mediante mínimos cuadrados ajusta los parámetros y para que el modelo represente de la mejor manera posible la evolución de los casos observados. \n",
    "\n",
    "Esta metodología es útil para comprender la dinámica de enfermedades infecciosas y mejorar estrategias de intervención en salud pública."
   ]
  },
  {
   "cell_type": "code",
   "execution_count": 4,
   "metadata": {},
   "outputs": [
    {
     "data": {
      "text/latex": [
       "$\\displaystyle I_i = \\frac{b I_{i-1} S_{i-1}}{N}$"
      ],
      "text/plain": [
       "<IPython.core.display.Math object>"
      ]
     },
     "metadata": {},
     "output_type": "display_data"
    },
    {
     "data": {
      "text/latex": [
       "$\\displaystyle S_i = S_{i-1} - I_i$"
      ],
      "text/plain": [
       "<IPython.core.display.Math object>"
      ]
     },
     "metadata": {},
     "output_type": "display_data"
    }
   ],
   "source": [
    "from IPython.display import display, Math\n",
    "\n",
    "display(Math(r\"I_i = \\frac{b I_{i-1} S_{i-1}}{N}\"))\n",
    "display(Math(r\"S_i = S_{i-1} - I_i\"))\n"
   ]
  },
  {
   "cell_type": "markdown",
   "metadata": {},
   "source": [
    "$$\n",
    "I_i = \\frac{b I_{i-1} S_{i-1}}{N}\n",
    "$$\n"
   ]
  }
 ],
 "metadata": {
  "kernelspec": {
   "display_name": "Python 3",
   "language": "python",
   "name": "python3"
  },
  "language_info": {
   "codemirror_mode": {
    "name": "ipython",
    "version": 3
   },
   "file_extension": ".py",
   "mimetype": "text/x-python",
   "name": "python",
   "nbconvert_exporter": "python",
   "pygments_lexer": "ipython3",
   "version": "3.12.0"
  }
 },
 "nbformat": 4,
 "nbformat_minor": 2
}
