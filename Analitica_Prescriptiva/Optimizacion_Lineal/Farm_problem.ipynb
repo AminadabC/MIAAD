{
 "cells": [
  {
   "cell_type": "markdown",
   "id": "340886db",
   "metadata": {},
   "source": [
    "### Farm Planning ###"
   ]
  },
  {
   "cell_type": "code",
   "execution_count": 1,
   "id": "f85eb002",
   "metadata": {},
   "outputs": [
    {
     "name": "stdout",
     "output_type": "stream",
     "text": [
      "GLPSOL: GLPK LP/MIP Solver, v4.65\n",
      "Parameter(s) specified in the command line:\n",
      " --write C:\\Users\\AMINAD~1\\AppData\\Local\\Temp\\tmptnhmnxrb.glpk.raw --wglp\n",
      " C:\\Users\\AMINAD~1\\AppData\\Local\\Temp\\tmpwpr64b56.glpk.glp --cpxlp C:\\Users\\AMINAD~1\\AppData\\Local\\Temp\\tmpk5y6ppxz.pyomo.lp\n",
      "Reading problem data from 'C:\\Users\\AMINAD~1\\AppData\\Local\\Temp\\tmpk5y6ppxz.pyomo.lp'...\n",
      "5 rows, 70 columns, 75 non-zeros\n",
      "179 lines were read\n",
      "Writing problem data to 'C:\\Users\\AMINAD~1\\AppData\\Local\\Temp\\tmpwpr64b56.glpk.glp'...\n",
      "173 lines were written\n",
      "GLPK Simplex Optimizer, v4.65\n",
      "5 rows, 70 columns, 75 non-zeros\n",
      "Preprocessing...\n",
      "PROBLEM HAS NO DUAL FEASIBLE SOLUTION\n",
      "If you need actual output for non-optimal solution, use --nopresol\n",
      "Time used:   0.0 secs\n",
      "Memory used: 0.0 Mb (40045 bytes)\n",
      "Writing basic solution to 'C:\\Users\\AMINAD~1\\AppData\\Local\\Temp\\tmptnhmnxrb.glpk.raw'...\n",
      "84 lines were written\n",
      "Profit : Size=5, Index=Years\n",
      "    Key : Lower : Value : Upper : Fixed : Stale : Domain\n",
      "      1 :  None :  None :  None : False :  True :  Reals\n",
      "      2 :  None :  None :  None : False :  True :  Reals\n",
      "      3 :  None :  None :  None : False :  True :  Reals\n",
      "      4 :  None :  None :  None : False :  True :  Reals\n",
      "      5 :  None :  None :  None : False :  True :  Reals\n"
     ]
    }
   ],
   "source": [
    "from pyomo.environ import *\n",
    "\n",
    "# Crear modelo\n",
    "model = ConcreteModel()\n",
    "\n",
    "# Conjuntos\n",
    "model.Years = RangeSet(1, 5)\n",
    "model.Lands = RangeSet(1, 4)\n",
    "model.Ages = RangeSet(1, 12)\n",
    "\n",
    "# Parámetros\n",
    "model.housing_cap = Param(initialize=130)\n",
    "model.land_cap = Param(initialize=200)\n",
    "model.labor_cap = Param(initialize=5500)\n",
    "model.installment = Param(initialize=39.71)\n",
    "\n",
    "model.grain_intake = Param(initialize=0.6)\n",
    "model.sugar_intake = Param(initialize=0.7)\n",
    "\n",
    "model.heifer_decay = Param(initialize=0.05)\n",
    "model.cow_decay = Param(initialize=0.02)\n",
    "model.birthrate = Param(initialize=1.1)\n",
    "\n",
    "model.milk_price = Param(initialize=370)\n",
    "model.bl_price = Param(initialize=30)\n",
    "model.hf_price = Param(initialize=40)\n",
    "model.cow_price = Param(initialize=120)\n",
    "\n",
    "grain_yield = {1: 1.10, 2: 0.90, 3: 0.80, 4: 0.65}\n",
    "grain_area = {1: 20, 2: 30, 3: 20, 4: 10}\n",
    "model.gr_yield = Param(model.Lands, initialize=grain_yield)\n",
    "model.gr_area = Param(model.Lands, initialize=grain_area)\n",
    "\n",
    "# Variables de decisión\n",
    "model.Outlay = Var(model.Years, domain=NonNegativeReals)\n",
    "model.Overtime = Var(model.Years, domain=NonNegativeReals)\n",
    "model.Newborn = Var(model.Years, domain=NonNegativeReals)\n",
    "model.HeiferSell = Var(model.Years, domain=NonNegativeReals)\n",
    "model.Profit = Var(model.Years, domain=Reals)\n",
    "model.Cows = Var(model.Years, model.Ages, domain=NonNegativeReals)\n",
    "model.GR = Var(model.Years, model.Lands, domain=NonNegativeReals)\n",
    "model.SB = Var(model.Years, domain=NonNegativeReals)\n",
    "\n",
    "# Función objetivo\n",
    "def objective_rule(m):\n",
    "    return sum(m.Profit[t] - m.installment * (t + 4) * m.Outlay[t] for t in m.Years)\n",
    "model.Objective = Objective(rule=objective_rule, sense=maximize)\n",
    "\n",
    "# Restricción de capacidad de alojamiento\n",
    "def housing_capacity_rule(m, t):\n",
    "    return m.Newborn[t] + sum(m.Cows[t, k] for k in m.Ages if k != 12) <=            m.housing_cap + sum(m.Outlay[d] for d in m.Years if d <= t)\n",
    "model.HousingConstraint = Constraint(model.Years, rule=housing_capacity_rule)\n",
    "\n",
    "# Resolver el modelo\n",
    "solver = SolverFactory('glpk')\n",
    "results = solver.solve(model, tee=True)\n",
    "\n",
    "# Mostrar resultados\n",
    "model.Profit.display()"
   ]
  }
 ],
 "metadata": {
  "kernelspec": {
   "display_name": "Python 3",
   "language": "python",
   "name": "python3"
  },
  "language_info": {
   "codemirror_mode": {
    "name": "ipython",
    "version": 3
   },
   "file_extension": ".py",
   "mimetype": "text/x-python",
   "name": "python",
   "nbconvert_exporter": "python",
   "pygments_lexer": "ipython3",
   "version": "3.12.0"
  }
 },
 "nbformat": 4,
 "nbformat_minor": 5
}
