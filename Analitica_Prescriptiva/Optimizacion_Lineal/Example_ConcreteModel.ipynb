{
 "cells": [
  {
   "cell_type": "code",
   "execution_count": null,
   "metadata": {},
   "outputs": [],
   "source": [
    "# Simple Examples - Pyomo\n",
    "\n",
    "# Concrete Model\n",
    "import pyomo.environ as pyo\n",
    "model = pyo.ConcreteModel()\n",
    "model_x_1 = pyo.Var(within=pyo.NonNegativeReals)\n",
    "model_x_2 = pyo.Var(within=pyo.NonNegativeReals)\n",
    "\n",
    "model.obj = pyo.Objective(expr = model_x_1 + 2*model_x_2)\n",
    "# Restrictions\n",
    "model.con1 = pyo.Constraint(expr = 3*model_x_1 + 4*model_x_2 >= 1)\n",
    "model.con2 = pyo.Constraint(expr = 2*model_x_1 + 5*model_x_2 >= 2)"
   ]
  }
 ],
 "metadata": {
  "kernelspec": {
   "display_name": "Python 3",
   "language": "python",
   "name": "python3"
  },
  "language_info": {
   "codemirror_mode": {
    "name": "ipython",
    "version": 3
   },
   "file_extension": ".py",
   "mimetype": "text/x-python",
   "name": "python",
   "nbconvert_exporter": "python",
   "pygments_lexer": "ipython3",
   "version": "3.10.4"
  }
 },
 "nbformat": 4,
 "nbformat_minor": 2
}
