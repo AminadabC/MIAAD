{
 "cells": [
  {
   "cell_type": "markdown",
   "metadata": {},
   "source": [
    "#### **Ejercicios de Programacion Lineal** ####\n",
    "#### **Asignatura:** Programación para Analítica Prescriptiva y de Apoyo a la Decisión ####\n",
    "#### **Alumno:** Aminadab Córdova Acosta ####"
   ]
  },
  {
   "cell_type": "markdown",
   "metadata": {},
   "source": [
    "**Problema 1**\n",
    "\n",
    "La Ápex Televisión debe decidir el número de televisores de 27” y 20” producidos en una de sus fábricas. La investigación de mercado (analítica predictiva) proyecta ventas a lo más de 40 televisores de 27” y 10 de 20”. El número máximo de horas-hombre disponible es de 500 por mes, un televisor de 27” requiere 20 horas-hombre y uno 20” requiere 10 horas-hombre. Cada televisor de 27” produce una ganancia de $120 y cada uno de 20” da una ganancia de $80. Un distribuidor está de acuerdo comprar todos los televisores producidos siempre en cuando no exceda el máximo indicado por el estudio de mercado. ¿Cuántas televisiones debe producir Ápex Televisión de cada tipo para maximizar sus ganancias?"
   ]
  },
  {
   "cell_type": "markdown",
   "metadata": {},
   "source": [
    "Objetivo: Maximizar la ganancia\n",
    "\n",
    "Solución:\n",
    "\n",
    "Con la información proporcionada en el problema, se puede describir la expresión de la función objetivo, así como las restricciones.\n",
    "\n",
    "$x_1$ = # de televisores de 27\" \n",
    "\n",
    "$x_2$ = # de televisores de 20\"\n",
    "\n",
    "\n",
    "Modelo matemático\n",
    "\n",
    "Función objetivo:\n",
    "\n",
    "Max $120x_1$ + $80x_2$\n",
    "\n",
    "$s.a$\n",
    "\n",
    "$x_1$ $<=$ 40  --- (Demanda máxima de televisores de 27\")\n",
    "\n",
    "$x_2$ $<=$ 10  --- (Demanda máxima de televisores de 20\")\n",
    "\n",
    "$20x_1$ + $10x_2$ $<=$ 500   --- (Horas - hombre)\n",
    "\n",
    "$x_1>=0$, $x_2>=0$       --- (No negatividad)"
   ]
  },
  {
   "cell_type": "code",
   "execution_count": 9,
   "metadata": {},
   "outputs": [
    {
     "name": "stdout",
     "output_type": "stream",
     "text": [
      "Ganancia Maxima: 3200.0\n",
      "Producción óptima de televisores de 27\": 20.0\n",
      "Producción óptima de televisores de 20\": 10.0\n"
     ]
    }
   ],
   "source": [
    "# Se importa librería requerida\n",
    "import pyomo.environ as pyo\n",
    "# Crear el modelo\n",
    "model = pyo.ConcreteModel()\n",
    "#Variables de decision\n",
    "model.x1 = pyo.Var(within=pyo.NonNegativeReals)\n",
    "model.x2 = pyo.Var(within=pyo.NonNegativeReals)\n",
    "\n",
    "#Funcion objetivo\n",
    "model.obj = pyo.Objective(expr = 120*model.x1 + 80*model.x2, sense = pyo.maximize)\n",
    "\n",
    "# restricciones\n",
    "model.con1 = pyo.Constraint(expr = model.x1 <= 40)\n",
    "model.con2 = pyo.Constraint(expr = model.x2 <= 10)\n",
    "model.con3 = pyo.Constraint(expr = 20*model.x1 + 10*model.x2 <= 500)\n",
    "\n",
    "# Resolver\n",
    "solver = pyo.SolverFactory('glpk')\n",
    "result = solver.solve(model)\n",
    "\n",
    "# Mostrar resultados\n",
    "print(\"Ganancia Maxima:\", model.obj())\n",
    "print(f\"Producción óptima de televisores de 27\\\": {model.x1.value}\")\n",
    "print(f\"Producción óptima de televisores de 20\\\": {model.x2.value}\")"
   ]
  },
  {
   "cell_type": "markdown",
   "metadata": {},
   "source": [
    "**Problema 2**\n",
    "\n",
    "La compañía Word Light produce dos dispositivos para las lámparas (productos 1 y 2) que requieren partes de metal y componentes eléctricos. La administración desea determinar cuántas unidades de cada producto fabricar para maximizar la ganancia. Por cada unidad del producto 1 se requieren 1 unidad de partes de metal y 2 unidades de componentes eléctricos. Por cada unidad del producto 2 se requieren 3 unidades de partes de metal y 2 unidades de componentes eléctricos. La compañía tiene 200 unidades de partes de metal y 300 de componentes eléctricos. Cada unidad del producto 1 da una ganancia de $1. Las primeras 60 unidades de producto 2 dan una ganancia de $2 por unidad; cualquier exceso de 60 unidades no tiene ganancia por lo que fabricar más de 60 está fuera de consideración."
   ]
  },
  {
   "cell_type": "markdown",
   "metadata": {},
   "source": [
    "Objetivo: Maximizar la ganancia\n",
    "\n",
    "Solución:\n",
    "\n",
    "Con la información proporcionada en el problema, se puede describir la expresión de la función objetivo, así como las restricciones.\n",
    "\n",
    "$x_1$ = # de producto 1\n",
    "\n",
    "$x_2$ = # de producto 2\n",
    "\n",
    "\n",
    "Modelo matemático\n",
    "\n",
    "Función objetivo:\n",
    "\n",
    "Max $x_1$ + $2x_2$\n",
    "\n",
    "$s.a$\n",
    "\n",
    "$x_1$ + $3x_2$ $<=$ 200   --- (Unidades de partes de metal)\n",
    "\n",
    "$2x_1$ + $2x_2$ $<=$ 300   --- (Unidades de componentes electrónicos)\n",
    "\n",
    "$x_2$ $<=$ 60  --- (Límite unidades producto 2)\n",
    "\n",
    "$x_1>=0$, $x_2>=0$       --- (No negatividad)"
   ]
  },
  {
   "cell_type": "code",
   "execution_count": 10,
   "metadata": {},
   "outputs": [
    {
     "name": "stdout",
     "output_type": "stream",
     "text": [
      "Ganancia Maxima: 175.0\n",
      "Producción óptima del producto 1: 125.0\n",
      "Producción óptima del producto 2: 25.0\n"
     ]
    }
   ],
   "source": [
    "# Se importa librería requerida\n",
    "import pyomo.environ as pyo\n",
    "# Crear el modelo\n",
    "model = pyo.ConcreteModel()\n",
    "#Variables de decision\n",
    "model.x1 = pyo.Var(within=pyo.NonNegativeReals) # Número de unidades del producto 1\n",
    "#model.x2 = pyo.Var(within=pyo.NonNegativeReals) # Número de unidades del producto 2 \n",
    "model.x2 = pyo.Var(within=pyo.NonNegativeIntegers, bounds=(0, 60))  # Número de unidades del producto 2 (máximo 60)\n",
    "\n",
    "#Funcion objetivo\n",
    "model.obj = pyo.Objective(expr = 1*model.x1 + 2*model.x2, sense = pyo.maximize)\n",
    "\n",
    "# restricciones\n",
    "model.con1 = pyo.Constraint(expr = 1*model.x1 + 3*model.x2 <= 200) # Restricción de partes de metal\n",
    "model.con2 = pyo.Constraint(expr = 2*model.x1 + 2*model.x2 <= 300) # Restricción de componentes eléctricos\n",
    "#model.con3 = pyo.Constraint(expr = model.x2 <= 60) # restricción unidades de producto 2\n",
    "\n",
    "# Resolver\n",
    "solver = pyo.SolverFactory('glpk')\n",
    "result = solver.solve(model)\n",
    "\n",
    "# Mostrar resultados\n",
    "print(\"Ganancia Maxima:\", model.obj())\n",
    "print(f\"Producción óptima del producto 1: {model.x1.value}\")\n",
    "print(f\"Producción óptima del producto 2: {model.x2.value}\")"
   ]
  },
  {
   "cell_type": "markdown",
   "metadata": {},
   "source": [
    "**Problema 3**\n",
    "\n",
    "La compañía de seguros Primo está en proceso de introducir dos nuevas líneas de productos: seguro de riesgo especial e hipotecas. La ganancia esperada es de $5 por el seguro de riesgo especial y $2 por unidad de hipoteca. La administración desea establecer las cuotas de venta de las nuevas líneas para maximizar la ganancia total. Los requerimientos de trabajo son los siguientes:"
   ]
  },
  {
   "cell_type": "markdown",
   "metadata": {},
   "source": [
    "Objetivo: Maximizar la ganancia\n",
    "\n",
    "Solución:\n",
    "\n",
    "Con la información proporcionada en el problema, se puede describir la expresión de la función objetivo, así como las restricciones.\n",
    "\n",
    "$x_1$ = cuota de venta de seguro de riesgo especial\n",
    "\n",
    "$x_2$ = cuota de venta de hipoteca\n",
    "\n",
    "\n",
    "Modelo matemático\n",
    "\n",
    "Función objetivo:\n",
    "\n",
    "Max $5x_1$ + $2x_2$\n",
    "\n",
    "$s.a$\n",
    "\n",
    "$3x_1$ + $2x_2$ $<=$ 2400   --- (Horas-hombre del departamento de Suscripciones)\n",
    "\n",
    "$x_2$ $<=$ 800   --- (Horas-hombre del departamento de Administración)\n",
    "\n",
    "$2x_1$ $<=$ 1200   --- (Horas-hombre del departamento de Reclamaciones)\n",
    "\n",
    "\n",
    "$x_1>=0$, $x_2>=0$       --- (No negatividad)"
   ]
  },
  {
   "cell_type": "code",
   "execution_count": 11,
   "metadata": {},
   "outputs": [
    {
     "name": "stdout",
     "output_type": "stream",
     "text": [
      "Ganancia Maxima: 3600.0\n",
      "Producción óptima de seguros de riesgo especial: 600.0\n",
      "Producción óptima de hipotecas: 300.0\n"
     ]
    }
   ],
   "source": [
    "# Se importa librería requerida\n",
    "import pyomo.environ as pyo\n",
    "# Crear el modelo\n",
    "model = pyo.ConcreteModel()\n",
    "#Variables de decision\n",
    "model.x1 = pyo.Var(within=pyo.NonNegativeReals) # Número de unidades de seguro de riesgo especial\n",
    "model.x2 = pyo.Var(within=pyo.NonNegativeReals) #  Número de unidades de hipotecas\n",
    "\n",
    "\n",
    "#Funcion objetivo\n",
    "model.obj = pyo.Objective(expr = 5*model.x1 + 2*model.x2, sense = pyo.maximize)\n",
    "\n",
    "# restricciones\n",
    "model.con1 = pyo.Constraint(expr = 3*model.x1 + 2*model.x2 <= 2400) # Suscripciones\n",
    "model.con2 = pyo.Constraint(expr = 1*model.x2 <= 800) # Administración\n",
    "#model.con3 = pyo.Constraint(expr = 2*model.x1 <= 1200) # Reclamaciones\n",
    "model.con3 = pyo.Constraint(expr = 1*model.x1 <= 600) # Reclamaciones\n",
    "\n",
    "# Resolver\n",
    "solver = pyo.SolverFactory('glpk')\n",
    "result = solver.solve(model)\n",
    "\n",
    "# Mostrar resultados\n",
    "print(\"Ganancia Maxima:\", model.obj())\n",
    "print(f\"Producción óptima de seguros de riesgo especial: {model.x1.value}\")\n",
    "print(f\"Producción óptima de hipotecas: {model.x2.value}\")"
   ]
  },
  {
   "cell_type": "markdown",
   "metadata": {},
   "source": [
    "**Problema 4**\n",
    "\n",
    "Weenis and Buns es una planta procesadora de alimentos que fabrica productos para hotdogs. Muelen su propia harina para el pan a una tasa máxima de 200 libras por semana. Cada pan requiere 0.1 libras. Tienen un contrato con Pigland Inc., que especifica la entrega de 800 libras de productos de puerco cada lunes. Cada salchicha requiere ¼ de libra de producto de puerco. Se cuenta con suficiente cantidad del resto de los ingredientes de ambos productos. Por último, la mano de obra consiste en 5 empleados de tiempo completo (40horas por semana); cada salchicha requiere 3 minutos de mano de obra y cada pan 2 minutos de mano de obra. Cada salchicha proporciona una ganancia de $0.20 y cada pan $0.10. Weenis and Buns desea saber cuentas salchichas y cuantos panes debe producir cada semana para logara la ganancia más alta posible."
   ]
  },
  {
   "cell_type": "markdown",
   "metadata": {},
   "source": [
    "Objetivo: Maximizar la ganancia\n",
    "\n",
    "Solución:\n",
    "\n",
    "Con la información proporcionada en el problema, se puede describir la expresión de la función objetivo, así como las restricciones.\n",
    "\n",
    "$x_1$ = unidades de salchicha producidas\n",
    "\n",
    "$x_2$ = unidades de pan producidas\n",
    "\n",
    "\n",
    "Modelo matemático\n",
    "\n",
    "Función objetivo:\n",
    "\n",
    "Max $0.20x_1$ + $0.10x_2$\n",
    "\n",
    "$s.a$\n",
    "\n",
    "$0.1=<x_2<=200$ --- cantidad de harina requerida por semana\n",
    "\n",
    "$0.25=<x_1<=800$ --- cantidad de producto de puerco requerido\n",
    "\n",
    "$0.05x_1$ + $0.033x_2$ $<=$ 40   --- (Horas-hombre)\n",
    "\n",
    "$x_1>=0$, $x_2>=0$       --- (No negatividad)"
   ]
  },
  {
   "cell_type": "code",
   "execution_count": 12,
   "metadata": {},
   "outputs": [
    {
     "name": "stdout",
     "output_type": "stream",
     "text": [
      "Ganancia Máxima: 760.0\n",
      "Producción óptima de salchichas: 3200.0\n",
      "Producción óptima de panes: 1200.0\n"
     ]
    }
   ],
   "source": [
    "import pyomo.environ as pyo\n",
    "\n",
    "# Crear el modelo\n",
    "model = pyo.ConcreteModel()\n",
    "\n",
    "# Variables de decisión\n",
    "model.x1 = pyo.Var(within=pyo.NonNegativeIntegers)  # Salchichas\n",
    "model.x2 = pyo.Var(within=pyo.NonNegativeIntegers)  # Panes\n",
    "\n",
    "# Función objetivo (maximizar ganancia)\n",
    "model.obj = pyo.Objective(expr=0.20 * model.x1 + 0.10 * model.x2, sense=pyo.maximize)\n",
    "\n",
    "# Restricciones\n",
    "model.con1 = pyo.Constraint(expr=0.1 * model.x2 <= 200)  # Harina\n",
    "model.con2 = pyo.Constraint(expr=(1/4) * model.x1 <= 800)  # Producto de puerco\n",
    "model.con3 = pyo.Constraint(expr=3 * model.x1 + 2 * model.x2 <= 12000)  # Mano de obra\n",
    "\n",
    "# Resolver\n",
    "solver = pyo.SolverFactory('glpk')\n",
    "result = solver.solve(model)\n",
    "\n",
    "# Mostrar resultados\n",
    "print(\"Ganancia Máxima:\", model.obj())\n",
    "print(f\"Producción óptima de salchichas: {model.x1.value}\")\n",
    "print(f\"Producción óptima de panes: {model.x2.value}\")\n"
   ]
  },
  {
   "cell_type": "markdown",
   "metadata": {},
   "source": [
    "**Problema 5**\n",
    "\n",
    "La compañía manufacturera Omega descontinuó la producción de cierta línea de productos no\n",
    "redituable. Esto creo un exceso considerable en la capacidad de producción. La gerencia quiere\n",
    "dedicar esta capacidad a uno o más de los tres productos llamados 1, 2, y 3. En la siguiente tabla\n",
    "se resume la capacidad disponible de cada máquina, la cual limita la producción."
   ]
  },
  {
   "cell_type": "markdown",
   "metadata": {},
   "source": [
    "Objetivo: Maximizar la ganancia\n",
    "\n",
    "Solución:\n",
    "\n",
    "Con la información proporcionada en el problema, se puede describir la expresión de la función objetivo, así como las restricciones.\n",
    "\n",
    "$x_1$ = producto 1\n",
    "\n",
    "$x_2$ = producto 2\n",
    "\n",
    "$x_3$ = producto 3\n",
    "\n",
    "\n",
    "Modelo matemático\n",
    "\n",
    "Función objetivo:\n",
    "\n",
    "Max $50x_1$ + $20x_2$ + $25x_3$\n",
    "\n",
    "$s.a$\n",
    "\n",
    "$9x_1$ + $3x_2$ + $5x_3$  $<=$ 500   --- horas máquina fresadora\n",
    "\n",
    "$5x_1$ + $4x_2$  $<=$ 350 --- horas máquina torno\n",
    "\n",
    "$3x_1$ + $2x_3$  $<=$ 150   --- horas máquina rectificadora\n",
    "\n",
    "\n",
    "\n"
   ]
  },
  {
   "cell_type": "code",
   "execution_count": 13,
   "metadata": {},
   "outputs": [
    {
     "name": "stdout",
     "output_type": "stream",
     "text": [
      "x1 = 0.0\n",
      "x2 = 87.5\n",
      "x3 = 47.5\n",
      "Valor óptimo: 2937.5\n"
     ]
    }
   ],
   "source": [
    "from pyomo.environ import *\n",
    "\n",
    "# Crear el modelo\n",
    "model = ConcreteModel()\n",
    "\n",
    "# Variables de decisión\n",
    "model.x1 = Var(within=NonNegativeReals)\n",
    "model.x2 = Var(within=NonNegativeReals)\n",
    "model.x3 = Var(within=NonNegativeReals)\n",
    "\n",
    "# Función objetivo\n",
    "model.obj = Objective(expr=50*model.x1 + 20*model.x2 + 25*model.x3, sense=maximize)\n",
    "\n",
    "# Restricciones\n",
    "model.restr1 = Constraint(expr=9*model.x1 + 3*model.x2 + 5*model.x3 <= 500)  # Horas máquina fresadora\n",
    "model.restr2 = Constraint(expr=5*model.x1 + 4*model.x2 <= 350)  # Horas máquina torno\n",
    "model.restr3 = Constraint(expr=3*model.x1 + 2*model.x3 <= 150)  # Horas máquina rectificadora\n",
    "\n",
    "# Resolver el modelo\n",
    "solver = SolverFactory('glpk')  # Asegúrate de tener GLPK instalado\n",
    "solver.solve(model)\n",
    "\n",
    "# Mostrar resultados\n",
    "print(f\"x1 = {model.x1.value}\")\n",
    "print(f\"x2 = {model.x2.value}\")\n",
    "print(f\"x3 = {model.x3.value}\")\n",
    "print(f\"Valor óptimo: {model.obj()}\")\n"
   ]
  },
  {
   "cell_type": "markdown",
   "metadata": {},
   "source": [
    "**Problema 6**\n",
    "\n",
    "¡Hoy es su día de suerte! Acaba de ganarse un premio de $10,000. Dedicará $4,000 a impuestos y diversiones, pero ha decidido invertir los otros $6,000. Al oír las nuevas, dos amigos le han ofrecido una oportunidad de convertirse en socio en dos empresas distintas, cada una planeada por uno de ellos; en ambos casos, la inversión incluye dedicar parte de su tiempo el siguiente verano y dinero en efectivo. Para ser un socio al 100% del primer amigo debe invertir $5,000 y 400 horas, y su ganancia estimada (sin tomar en cuenta el valor del dinero en el tiempo) sería $4,500. Las cifras correspondientes para el segundo caso son $4000 y 500 horas con una ganancia estimada de $4,500; sin embargo, ambos amigos son flexibles y le permitirán participar con cualquier fracción de participación que quiera. Si elige una participación parcial, todas las cifras dadas para la sociedad completa (inversión de dinero y tiempo, y la ganancia) se puede multiplicar por esa fracción. Como de todas formas usted busca en trabajo de verano interesante (máximo 600 horas), ha decidido participar en una o ambas empresas en alguna combinación que maximice su ganancia total estimada. Usted debe resolver el problema de encontrar la mejor combinación."
   ]
  },
  {
   "cell_type": "code",
   "execution_count": 14,
   "metadata": {},
   "outputs": [
    {
     "name": "stdout",
     "output_type": "stream",
     "text": [
      "Valor óptimo: 5999.999999999998\n",
      "Porcentaje óptimo de inversión en la empresa 1: 66.67%\n",
      "Porcentaje óptimo de inversión en la empresa 2: 66.67%\n"
     ]
    }
   ],
   "source": [
    "from pyomo.environ import *\n",
    "\n",
    "# Crear el modelo\n",
    "model = ConcreteModel()\n",
    "\n",
    "# Definir variables de decisión\n",
    "model.x1 = Var(bounds=(0,1))  # Porcentaje de inversión en la empresa 1\n",
    "model.x2 = Var(bounds=(0,1))  # Porcentaje de inversión en la empresa 2\n",
    "\n",
    "# Función objetivo: Maximizar la ganancia total\n",
    "model.objective = Objective(expr=4500 * model.x1 + 4500 * model.x2, sense=maximize)\n",
    "\n",
    "# Restricciones de inversión y tiempo\n",
    "model.money = Constraint(expr=5000 * model.x1 + 4000 * model.x2 <= 6000)  # Restricción de dinero disponible\n",
    "model.time = Constraint(expr=400 * model.x1 + 500 * model.x2 <= 600)  # Restricción de tiempo disponible\n",
    "\n",
    "# Resolver el problema\n",
    "solver = SolverFactory('glpk')\n",
    "solver.solve(model)\n",
    "\n",
    "# Mostrar resultados\n",
    "print(f\"Valor óptimo: {model.objective()}\")\n",
    "print(f\"Porcentaje óptimo de inversión en la empresa 1: {model.x1.value * 100:.2f}%\")\n",
    "print(f\"Porcentaje óptimo de inversión en la empresa 2: {model.x2.value * 100:.2f}%\")\n"
   ]
  },
  {
   "cell_type": "markdown",
   "metadata": {},
   "source": [
    "**Problema 7**"
   ]
  },
  {
   "cell_type": "markdown",
   "metadata": {},
   "source": [
    "Modelo matemático\n",
    "\n",
    "$x_1$ = res\n",
    "\n",
    "$x_2$ = papas\n",
    "\n",
    "Función objetivo:\n",
    "\n",
    "Min $4x_1$ + $2x_2$\n",
    "\n",
    "$s.a$\n",
    "\n",
    "$5x_1$ + $15x_2$ $>=$ 50  --- carbohidratos\n",
    "\n",
    "$20x_1$ + $5x_2$  $>=$ 40 --- proteinas\n",
    "\n",
    "$15x_1$ + $2x_2$  $>=$ 60  --- grasa"
   ]
  },
  {
   "cell_type": "code",
   "execution_count": 15,
   "metadata": {},
   "outputs": [
    {
     "name": "stdout",
     "output_type": "stream",
     "text": [
      "x1 = 3.72093023255814\n",
      "x2 = 2.09302325581395\n",
      "Valor óptimo: 19.06976744186046\n"
     ]
    }
   ],
   "source": [
    "from pyomo.environ import *\n",
    "\n",
    "# Crear el modelo\n",
    "model = ConcreteModel()\n",
    "\n",
    "# Variables de decisión\n",
    "model.x1 = Var(within=NonNegativeReals)\n",
    "model.x2 = Var(within=NonNegativeReals)\n",
    "\n",
    "# Función objetivo\n",
    "model.obj = Objective(expr=4*model.x1 + 2*model.x2, sense=minimize)\n",
    "\n",
    "# Restricciones\n",
    "model.restr1 = Constraint(expr=5*model.x1 + 15*model.x2 >= 50)  # Carbohidratos\n",
    "model.restr2 = Constraint(expr=20*model.x1 + 5*model.x2 >= 40)  # Proteínas\n",
    "model.restr3 = Constraint(expr=15*model.x1 + 2*model.x2 >= 60)  # Grasa\n",
    "\n",
    "# Resolver el modelo\n",
    "solver = SolverFactory('glpk')  # Asegúrate de tener GLPK instalado\n",
    "solver.solve(model)\n",
    "\n",
    "# Mostrar resultados\n",
    "print(f\"x1 = {model.x1.value}\")\n",
    "print(f\"x2 = {model.x2.value}\")\n",
    "print(f\"Valor óptimo: {model.obj()}\")\n"
   ]
  },
  {
   "cell_type": "markdown",
   "metadata": {},
   "source": [
    "**Problema 8**\n",
    "\n",
    "Dwight es un maestro de primaria que también cría puercos para tener ingresos adicionales.\n",
    "Intenta decidir que alimento darles. Piensa que debe usar una combinación de los alimentos\n",
    "que venden los proveedores locales. Dwight desea que tenga un costo mínimo al mismo tiempo\n",
    "que cada puerco reciba una cantidad adecuada de calorías y vitaminas. El costo y los contenidos\n",
    "de cada alimento se muestran en la tabla. Cada puerco requiere al menos 8,000 calorías por día\n",
    "y 700 unidades de vitaminas"
   ]
  },
  {
   "cell_type": "markdown",
   "metadata": {},
   "source": [
    "Modelo matemático\n",
    "\n",
    "$x_1$ = Alimento Tipo A\n",
    "\n",
    "$x_2$ = Alimento Tipo B\n",
    "\n",
    "Función objetivo:\n",
    "\n",
    "Min $0.4x_1$ + $0.8x_2$\n",
    "\n",
    "$s.a$\n",
    "\n",
    "$800x_1$ + $1000x_2$ $>=$ 8000  --- carbohidratos\n",
    "\n",
    "$140x_1$ + $70x_2$  $>=$ 700 --- proteinas\n"
   ]
  },
  {
   "cell_type": "code",
   "execution_count": 16,
   "metadata": {},
   "outputs": [
    {
     "name": "stdout",
     "output_type": "stream",
     "text": [
      "x1 = 10.0\n",
      "x2 = 0.0\n",
      "Valor óptimo: 4.0\n"
     ]
    }
   ],
   "source": [
    "from pyomo.environ import *\n",
    "\n",
    "# Crear el modelo\n",
    "model = ConcreteModel()\n",
    "\n",
    "# Variables de decisión\n",
    "model.x1 = Var(within=NonNegativeReals)\n",
    "model.x2 = Var(within=NonNegativeReals)\n",
    "\n",
    "# Función objetivo\n",
    "model.obj = Objective(expr=0.4*model.x1 + 0.8*model.x2, sense=minimize)\n",
    "\n",
    "# Restricciones\n",
    "model.restr1 = Constraint(expr=800*model.x1 + 1000*model.x2 >= 8000)  # Carbohidratos\n",
    "model.restr2 = Constraint(expr=140*model.x1 + 70*model.x2 >= 700)  # Proteínas\n",
    "\n",
    "# Resolver el modelo\n",
    "solver = SolverFactory('glpk')  # Asegúrate de tener GLPK instalado\n",
    "solver.solve(model)\n",
    "\n",
    "# Mostrar resultados\n",
    "print(f\"x1 = {model.x1.value}\")\n",
    "print(f\"x2 = {model.x2.value}\")\n",
    "print(f\"Valor óptimo: {model.obj()}\")\n"
   ]
  },
  {
   "cell_type": "markdown",
   "metadata": {},
   "source": [
    "**Problema 9**\n",
    "\n",
    "La Medequip Company produce equipos de precisión de diagnóstico médico en dos fábricas. Se\n",
    "han recibido pedidos de tres centros médicos para la producción de este mes. La tabla muestra\n",
    "el costo unitario de envío desde cada fábrica a cada centro. Además, muestra el número de\n",
    "unidades que se producirán en cada fábrica y el número de unidades ordenadas por cada\n",
    "cliente.\n",
    "\n",
    "Ahora debe tomar la decisión sobre el plan de cuantas unidades enviar de cada fábrica a cada\n",
    "cliente."
   ]
  },
  {
   "cell_type": "markdown",
   "metadata": {},
   "source": []
  },
  {
   "cell_type": "markdown",
   "metadata": {},
   "source": [
    "**Problema 10**"
   ]
  },
  {
   "cell_type": "markdown",
   "metadata": {},
   "source": []
  }
 ],
 "metadata": {
  "kernelspec": {
   "display_name": "Python 3",
   "language": "python",
   "name": "python3"
  },
  "language_info": {
   "codemirror_mode": {
    "name": "ipython",
    "version": 3
   },
   "file_extension": ".py",
   "mimetype": "text/x-python",
   "name": "python",
   "nbconvert_exporter": "python",
   "pygments_lexer": "ipython3",
   "version": "3.10.4"
  }
 },
 "nbformat": 4,
 "nbformat_minor": 2
}
