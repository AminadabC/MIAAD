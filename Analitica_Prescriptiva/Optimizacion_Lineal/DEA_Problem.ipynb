{
 "cells": [
  {
   "cell_type": "code",
   "execution_count": null,
   "metadata": {},
   "outputs": [],
   "source": [
    "import pandas as pd\n",
    "from pyomo.environ import *\n",
    "\n",
    "# Cargar datos (asegúrate de que df tiene las columnas correctas)\n",
    "df = pd.read_csv('datos_talleres.csv')  # Reemplaza con tu archivo\n",
    "\n",
    "# Definir insumos y productos\n",
    "inputs = ['Staff', 'Show room space', 'Population in category 1', 'Population in category 2', 'Enquiries Alpha model', 'Enquiries Beta model']\n",
    "outputs = ['Alpha sales', 'Beta sales', 'Profit']\n",
    "DMUs = df['Garage Name'].tolist()\n",
    "\n",
    "# Crear modelo para cada DMU\n",
    "results = {}\n",
    "for k in DMUs:\n",
    "    model = ConcreteModel()\n",
    "    \n",
    "    # Variables de peso\n",
    "    model.u = Var(outputs, domain=NonNegativeReals)\n",
    "    model.v = Var(inputs, domain=NonNegativeReals)\n",
    "    \n",
    "    # Función objetivo (Maximizar la eficiencia del taller k)\n",
    "    model.obj = Objective(\n",
    "        expr=sum(df.loc[df['Garage Name'] == k, o].values[0] * model.u[o] for o in outputs),\n",
    "        sense=maximize\n",
    "    )\n",
    "    \n",
    "    # Restricciones de eficiencia para todos los talleres\n",
    "    model.constraints = ConstraintList()\n",
    "    for j in DMUs:\n",
    "        model.constraints.add(\n",
    "            sum(df.loc[df['Garage Name'] == j, o].values[0] * model.u[o] for o in outputs) \n",
    "            <= sum(df.loc[df['Garage Name'] == j, i].values[0] * model.v[i] for i in inputs)\n",
    "        )\n",
    "    \n",
    "    # Normalización (denominador de la función de eficiencia = 1)\n",
    "    model.norm = Constraint(\n",
    "        expr=sum(df.loc[df['Garage Name'] == k, i].values[0] * model.v[i] for i in inputs) == 1\n",
    "    )\n",
    "    \n",
    "    # Resolver\n",
    "    solver = SolverFactory('glpk')  # Asegúrate de tener GLPK instalado\n",
    "    solver.solve(model)\n",
    "    \n",
    "    # Guardar resultados\n",
    "    results[k] = {\n",
    "        'Efficiency': sum(df.loc[df['Garage Name'] == k, o].values[0] * model.u[o].value for o in outputs),\n",
    "        'u': {o: model.u[o].value for o in outputs},\n",
    "        'v': {i: model.v[i].value for i in inputs}\n",
    "    }\n",
    "\n",
    "# Convertir resultados en DataFrame\n",
    "results_df = pd.DataFrame.from_dict(results, orient='index')\n",
    "print(results_df)\n"
   ]
  }
 ],
 "metadata": {
  "kernelspec": {
   "display_name": "Python 3",
   "language": "python",
   "name": "python3"
  },
  "language_info": {
   "name": "python",
   "version": "3.12.0"
  }
 },
 "nbformat": 4,
 "nbformat_minor": 2
}
