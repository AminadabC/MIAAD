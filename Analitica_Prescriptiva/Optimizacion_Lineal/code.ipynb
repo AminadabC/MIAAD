{
 "cells": [
  {
   "cell_type": "code",
   "execution_count": 9,
   "metadata": {},
   "outputs": [
    {
     "name": "stdout",
     "output_type": "stream",
     "text": [
      "Ganancia Maxima: 2500.0\n",
      "Producción óptima de A: 22.5\n",
      "Producción óptima de A: 20.0\n"
     ]
    }
   ],
   "source": [
    "# Se importa librería requerida\n",
    "import pyomo.environ as pyo\n",
    "# Crear el modelo\n",
    "model = pyo.ConcreteModel()\n",
    "#Variables de decision\n",
    "model.x1 = pyo.Var(within=pyo.NonNegativeReals)\n",
    "model.x2 = pyo.Var(within=pyo.NonNegativeReals)\n",
    "\n",
    "#Funcion objetivo\n",
    "model.obj = pyo.Objective(expr = 40*model.x1 + 80*model.x2, sense = pyo.maximize)\n",
    "\n",
    "# restricciones\n",
    "model.con1 = pyo.Constraint(expr = model.x1 <= 30)\n",
    "model.con2 = pyo.Constraint(expr = model.x2 <= 20)\n",
    "model.con3 = pyo.Constraint(expr = 2*model.x1 + 3*model.x2 <= 105)\n",
    "\n",
    "# Resolver\n",
    "solver = pyo.SolverFactory('glpk')\n",
    "result = solver.solve(model)\n",
    "\n",
    "# Mostrar resultados\n",
    "print(\"Ganancia Maxima:\", model.obj())\n",
    "print(f\"Producción óptima de A: {model.x1.value}\")\n",
    "print(f\"Producción óptima de A: {model.x2.value}\")\n"
   ]
  },
  {
   "cell_type": "code",
   "execution_count": 7,
   "metadata": {},
   "outputs": [
    {
     "name": "stdout",
     "output_type": "stream",
     "text": [
      "Ganancia Máxima: 2480.0\n",
      "Producción óptima de A: 24.0\n",
      "Producción óptima de B: 19.0\n",
      "\n",
      "El número óptimo de unidades para el Producto A es de 24.0 y para el Producto B es de 19.0.\n",
      "La ganancia máxima total será de $2480.0.\n"
     ]
    }
   ],
   "source": [
    "# Se importa librería requerida\n",
    "import pyomo.environ as pyo\n",
    "\n",
    "# Crear el modelo\n",
    "model = pyo.ConcreteModel()\n",
    "\n",
    "# Variables de decisión\n",
    "model.x1 = pyo.Var(within=pyo.NonNegativeIntegers)  # Producto A\n",
    "model.x2 = pyo.Var(within=pyo.NonNegativeIntegers)  # Producto B\n",
    "\n",
    "# Función objetivo\n",
    "model.obj = pyo.Objective(expr=40*model.x1 + 80*model.x2, sense=pyo.maximize)\n",
    "\n",
    "# Restricciones\n",
    "model.con1 = pyo.Constraint(expr=model.x1 <= 30)\n",
    "model.con2 = pyo.Constraint(expr=model.x2 <= 20)\n",
    "model.con3 = pyo.Constraint(expr=2*model.x1 + 3*model.x2 <= 105)\n",
    "\n",
    "# Resolver\n",
    "solver = pyo.SolverFactory('glpk')\n",
    "result = solver.solve(model)\n",
    "\n",
    "# Mostrar resultados\n",
    "print(\"Ganancia Máxima:\", model.obj())\n",
    "print(f\"Producción óptima de A: {model.x1.value}\")\n",
    "print(f\"Producción óptima de B: {model.x2.value}\")\n",
    "\n",
    "# Resultados sugeridos a la empresa\n",
    "optimo_A = model.x1.value\n",
    "optimo_B = model.x2.value\n",
    "ganancia_maxima = model.obj()\n",
    "\n",
    "print(f\"\\nEl número óptimo de unidades para el Producto A es de {optimo_A} y para el Producto B es de {optimo_B}.\")\n",
    "print(f\"La ganancia máxima total será de ${ganancia_maxima}.\")"
   ]
  },
  {
   "cell_type": "code",
   "execution_count": 12,
   "metadata": {},
   "outputs": [
    {
     "name": "stdout",
     "output_type": "stream",
     "text": [
      "Transporte de C1 a B1: 300.0 cajas\n",
      "Transporte de C1 a B2: 0.0 cajas\n",
      "Transporte de C1 a B3: 0.0 cajas\n",
      "Transporte de C1 a B4: 0.0 cajas\n",
      "Transporte de C1 a B5: 700.0 cajas\n",
      "Transporte de C2 a B1: 200.0 cajas\n",
      "Transporte de C2 a B2: 900.0 cajas\n",
      "Transporte de C2 a B3: 1800.0 cajas\n",
      "Transporte de C2 a B4: 200.0 cajas\n",
      "Transporte de C2 a B5: 0.0 cajas\n",
      "Costo total mínimo: 8600.0\n"
     ]
    }
   ],
   "source": [
    "from pyomo.environ import *\n",
    "\n",
    "# Conjuntos\n",
    "cervecerias = ['C1', 'C2']\n",
    "bares = ['B1', 'B2', 'B3', 'B4', 'B5']\n",
    "\n",
    "# Parámetros\n",
    "costos = {\n",
    "    ('C1', 'B1'): 2, ('C1', 'B2'): 4, ('C1', 'B3'): 5, ('C1', 'B4'): 2, ('C1', 'B5'): 1,\n",
    "    ('C2', 'B1'): 3, ('C2', 'B2'): 1, ('C2', 'B3'): 3, ('C2', 'B4'): 2, ('C2', 'B5'): 3\n",
    "}\n",
    "\n",
    "oferta = {'C1': 1000, 'C2': 4000}  # Corregido el nombre del diccionario\n",
    "demanda = {'B1': 500, 'B2': 900, 'B3': 1800, 'B4': 200, 'B5': 700}\n",
    "\n",
    "# Modelo\n",
    "model = ConcreteModel()\n",
    "\n",
    "# Variables\n",
    "definir_variable = [(i, j) for i in cervecerias for j in bares]\n",
    "model.x = Var(definir_variable, within=NonNegativeReals)\n",
    "\n",
    "# Función Objetivo\n",
    "def costo_total(model):\n",
    "    return sum(model.x[i, j] * costos[i, j] for i in cervecerias for j in bares)\n",
    "model.obj = Objective(rule=costo_total, sense=minimize)\n",
    "\n",
    "# Restricciones de oferta\n",
    "def oferta_restriccion(model, i):\n",
    "    return sum(model.x[i, j] for j in bares) <= oferta[i]\n",
    "model.oferta_rest = Constraint(cervecerias, rule=oferta_restriccion)\n",
    "\n",
    "# Restricciones de demanda\n",
    "def demanda_restriccion(model, j):\n",
    "    return sum(model.x[i, j] for i in cervecerias) >= demanda[j]\n",
    "model.demanda_rest = Constraint(bares, rule=demanda_restriccion)\n",
    "\n",
    "# Resolver\n",
    "solver = SolverFactory('glpk')\n",
    "solver.solve(model)\n",
    "\n",
    "# Resultados\n",
    "for i in cervecerias:\n",
    "    for j in bares:\n",
    "        print(f'Transporte de {i} a {j}: {model.x[i, j].value} cajas')  # Corregido el acceso al valor de la variable\n",
    "\n",
    "print(f'Costo total mínimo: {model.obj()}')"
   ]
  },
  {
   "cell_type": "code",
   "execution_count": 14,
   "metadata": {},
   "outputs": [
    {
     "name": "stdout",
     "output_type": "stream",
     "text": [
      "Transporte de C1 a B1: 300.0 cajas\n",
      "Transporte de C1 a B2: 0.0 cajas\n",
      "Transporte de C1 a B3: 0.0 cajas\n",
      "Transporte de C1 a B4: 0.0 cajas\n",
      "Transporte de C1 a B5: 700.0 cajas\n",
      "Transporte de C2 a B1: 200.0 cajas\n",
      "Transporte de C2 a B2: 900.0 cajas\n",
      "Transporte de C2 a B3: 1800.0 cajas\n",
      "Transporte de C2 a B4: 200.0 cajas\n",
      "Transporte de C2 a B5: 0.0 cajas\n",
      "Costo total mínimo: 8600.0\n"
     ]
    }
   ],
   "source": [
    "from pyomo.environ import *\n",
    "\n",
    "# Conjuntos\n",
    "cervecerias = ['C1', 'C2']\n",
    "bares = ['B1', 'B2', 'B3', 'B4', 'B5']\n",
    "\n",
    "# Parámetros\n",
    "costos = {\n",
    "    ('C1', 'B1'): 2, ('C1', 'B2'): 4, ('C1', 'B3'): 5, ('C1', 'B4'): 2, ('C1', 'B5'): 1,\n",
    "    ('C2', 'B1'): 3, ('C2', 'B2'): 1, ('C2', 'B3'): 3, ('C2', 'B4'): 2, ('C2', 'B5'): 3\n",
    "}\n",
    "\n",
    "oferta = {'C1': 1000, 'C2': 4000}\n",
    "demanda = {'B1': 500, 'B2': 900, 'B3': 1800, 'B4': 200, 'B5': 700}\n",
    "\n",
    "# Modelo\n",
    "model = ConcreteModel()\n",
    "\n",
    "# Variables\n",
    "definir_variable = [(i, j) for i in cervecerias for j in bares]\n",
    "model.x = Var(definir_variable, within=NonNegativeReals)\n",
    "\n",
    "# Función Objetivo\n",
    "def costo_total(model):\n",
    "    return sum(model.x[i, j] * costos[i, j] for i in cervecerias for j in bares)\n",
    "model.obj = Objective(rule=costo_total, sense=minimize)\n",
    "\n",
    "# Restricciones de oferta\n",
    "def oferta_restriccion(model, i):\n",
    "    return sum(model.x[i, j] for j in bares) <= oferta[i]\n",
    "model.oferta_rest = Constraint(cervecerias, rule=oferta_restriccion)\n",
    "\n",
    "# Restricciones de demanda\n",
    "def demanda_restriccion(model, j):\n",
    "    return sum(model.x[i, j] for i in cervecerias) >= demanda[j]\n",
    "model.demanda_rest = Constraint(bares, rule=demanda_restriccion)\n",
    "\n",
    "# Resolver\n",
    "solver = SolverFactory('glpk')\n",
    "solver.solve(model)\n",
    "\n",
    "# Resultados\n",
    "for i in cervecerias:\n",
    "    for j in bares:\n",
    "        print(f'Transporte de {i} a {j}: {model.x[i, j].value} cajas')\n",
    "\n",
    "print(f'Costo total mínimo: {model.obj()}')"
   ]
  }
 ],
 "metadata": {
  "kernelspec": {
   "display_name": "Python 3",
   "language": "python",
   "name": "python3"
  },
  "language_info": {
   "codemirror_mode": {
    "name": "ipython",
    "version": 3
   },
   "file_extension": ".py",
   "mimetype": "text/x-python",
   "name": "python",
   "nbconvert_exporter": "python",
   "pygments_lexer": "ipython3",
   "version": "3.10.4"
  }
 },
 "nbformat": 4,
 "nbformat_minor": 2
}
