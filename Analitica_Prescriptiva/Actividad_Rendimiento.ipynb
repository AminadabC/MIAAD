{
 "cells": [
  {
   "cell_type": "code",
   "execution_count": null,
   "metadata": {},
   "outputs": [],
   "source": [
    "# wl_concrete.py\n",
    "# ConcreteModel version of warehouse location problem\n",
    "import pyomo.environ as pyo\n",
    "import cProfile\n",
    "import pstats\n",
    "import io\n",
    "from pyomo.common.timing import TicTocTimer, report_timing\n",
    "from pyomo.opt.results import assert_optimal_termination\n",
    "from pyomo.core.expr.numeric_expr import LinearExpression\n",
    "import matplotlib.pyplot as plt\n",
    "import numpy as np  \n",
    "np.random.seed(0)"
   ]
  },
  {
   "cell_type": "code",
   "execution_count": null,
   "metadata": {},
   "outputs": [],
   "source": [
    "def create_warehouse_model(num_locations = 50, num_customers=50):\n",
    "    N = list(range(num_locations))\n",
    "    M = list(range(num_customers))  \n",
    "    d = dict()\n",
    "    for n in N:\n",
    "        for m in M:\n",
    "            d[n,m] = np.random.randint(low = 1, high = 100)\n",
    "    max_num_warehouses = 2\n",
    "\n",
    "    model = pyo.ConcreteModel(name = \"(WL)\")\n",
    "    model.P = pyo.Param(initialize = max_num_warehouses, mutable = True)\n",
    "    model.x = pyo.Var(N, M, bounds = (0,1))\n",
    "    model.y = pyo.Var(N, bounds = (0,1))\n",
    "\n",
    "    def obj_rule(mdl):\n",
    "        return sum(d[n,m]*mdl.x[n,m] for n in N for m in M)\n",
    "    model.obj = pyo.Objective(rule = obj_rule)\n",
    "\n",
    "    def demand_rule(mdl, m):\n",
    "        return sum(mdl.x[n,m] for n in N) == 1\n",
    "    model.demand = pyo.Constraint(M, rule = demand_rule)\n",
    "\n",
    "    def warehouse_active_rule(mdl, n, m):\n",
    "        return mdl.x[n,m] <= mdl.y[n]\n",
    "    model.warehouse_active = pyo.Constraint(N, M, rule = warehouse_active_rule)\n",
    "\n",
    "    def num_warehouses_rule(mdl):\n",
    "        return sum(mdl.y[n] for n in N) <= mdl.P\n",
    "    model.num_warehouses = pyo.Constraint(rule = num_warehouses_rule)\n",
    "    return model\n",
    "\n"
   ]
  }
 ],
 "metadata": {
  "language_info": {
   "name": "python"
  }
 },
 "nbformat": 4,
 "nbformat_minor": 2
}
