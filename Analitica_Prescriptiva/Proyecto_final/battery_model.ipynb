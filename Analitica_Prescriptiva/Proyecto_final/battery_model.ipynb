{
 "cells": [
  {
   "cell_type": "code",
   "execution_count": null,
   "metadata": {},
   "outputs": [],
   "source": [
    "from pyomo.environ import *\n",
    "import numpy as np\n",
    "\n",
    "# Parámetros\n",
    "T = 24  # Horizonte de planificación (horas)\n",
    "E_max = 100  # Capacidad máxima de la batería (MWh)\n",
    "P_max = 50   # Potencia máxima de carga/descarga (MW)\n",
    "DoD = 0.8    # Profundidad de descarga permitida (80%)\n",
    "eta_c = 0.9  # Eficiencia de carga\n",
    "eta_d = 0.9  # Eficiencia de descarga\n",
    "E_0 = 50     # Estado inicial de carga de la batería (MWh)\n",
    "E_final = 50 # Estado final de carga de la batería (MWh)\n",
    "precios = np.random.uniform(20, 100, T)  # Precios aleatorios para cada hora ($/MWh)\n",
    "\n",
    "# Modelo Pyomo\n",
    "model = ConcreteModel()\n",
    "\n",
    "# Variables de decisión\n",
    "model.P_carga = Var(range(T), domain=NonNegativeReals, bounds=(0, P_max))\n",
    "model.P_descarga = Var(range(T), domain=NonNegativeReals, bounds=(0, P_max))\n",
    "model.E = Var(range(T), domain=NonNegativeReals, bounds=(E_max * (1 - DoD), E_max))\n",
    "\n",
    "# Función objetivo: Maximizar el beneficio por arbitraje de precios\n",
    "model.obj = Objective(expr=sum(precios[t] * model.P_descarga[t] - precios[t] * model.P_carga[t] for t in range(T)), sense=maximize)\n",
    "\n",
    "# Restricción de balance de energía\n",
    "model.balance = ConstraintList()\n",
    "for t in range(T):\n",
    "    if t == 0:\n",
    "        model.balance.add(model.E[t] == E_0 + eta_c * model.P_carga[t] - model.P_descarga[t] / eta_d)\n",
    "    else:\n",
    "        model.balance.add(model.E[t] == model.E[t-1] + eta_c * model.P_carga[t] - model.P_descarga[t] / eta_d)\n",
    "\n",
    "# Restricción de no carga y descarga simultánea\n",
    "model.no_simultaneo = ConstraintList()\n",
    "for t in range(T):\n",
    "    model.no_simultaneo.add(model.P_carga[t] * model.P_descarga[t] == 0)\n",
    "\n",
    "# Restricción de estado final de la batería\n",
    "model.final_energy = Constraint(expr=model.E[T-1] == E_final)\n",
    "\n",
    "# Resolver el modelo con CBC (o puedes cambiar a otro solver como Gurobi o CPLEX)\n",
    "solver = SolverFactory('cbc')\n",
    "solver.solve(model, tee=True)\n",
    "\n",
    "# Imprimir resultados\n",
    "print(\"Beneficio máximo:\", model.obj())\n",
    "for t in range(T):\n",
    "    print(f\"Hora {t}: Carga = {model.P_carga[t]()} MW, Descarga = {model.P_descarga[t]()} MW, Energía almacenada = {model.E[t]()} MWh\")\n"
   ]
  }
 ],
 "metadata": {
  "kernelspec": {
   "display_name": "Python 3",
   "language": "python",
   "name": "python3"
  },
  "language_info": {
   "name": "python",
   "version": "3.12.0"
  }
 },
 "nbformat": 4,
 "nbformat_minor": 2
}
