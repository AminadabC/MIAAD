{
 "cells": [
  {
   "cell_type": "code",
   "execution_count": 7,
   "metadata": {},
   "outputs": [
    {
     "name": "stdout",
     "output_type": "stream",
     "text": [
      "  Unit  Pmax (MW)  Pmin (MW)  ai ($/MW2h)  bi ($/MWh)  ci ($/h)  URi (MW/h)  \\\n",
      "0   G1        500        100       0.0070         7.0       240          80   \n",
      "1   G2        200         50       0.0095        10.0       200          50   \n",
      "2   G3        300         80       0.0090         8.5       220          65   \n",
      "3   G4        150         50       0.0090        11.0       200          50   \n",
      "4   G5        200         50       0.0080        10.5       220          50   \n",
      "5   G6        120         50       0.0075        12.0       190          50   \n",
      "\n",
      "   DRi (MW/h)  Pi (MW)          Prohibited Zones  \n",
      "0         120      440  [[210, 240], [350, 380]]  \n",
      "1          90      170   [[90, 110], [140, 160]]  \n",
      "2         100      200  [[150, 170], [210, 240]]  \n",
      "3          90      150    [[80, 90], [110, 120]]  \n",
      "4          90      190   [[90, 110], [140, 150]]  \n",
      "5          90      110    [[75, 85], [100, 105]]  \n"
     ]
    }
   ],
   "source": [
    "import pandas as pd\n",
    "import ast  # Para convertir las zonas prohibidas a listas\n",
    "\n",
    "# Cargar el archivo CSV\n",
    "df = pd.read_csv(\"generators.csv\")\n",
    "\n",
    "# Convertir la columna 'Prohibited Zones' en listas de tuplas\n",
    "df[\"Prohibited Zones\"] = df[\"Prohibited Zones\"].apply(lambda x: [ast.literal_eval(zone) for zone in x.split(\";\")])\n",
    "\n",
    "# Mostrar el DataFrame\n",
    "print(df)\n"
   ]
  },
  {
   "cell_type": "code",
   "execution_count": 8,
   "metadata": {},
   "outputs": [
    {
     "data": {
      "application/vnd.microsoft.datawrangler.viewer.v0+json": {
       "columns": [
        {
         "name": "index",
         "rawType": "int64",
         "type": "integer"
        },
        {
         "name": "Unit",
         "rawType": "object",
         "type": "string"
        },
        {
         "name": "Pmax (MW)",
         "rawType": "int64",
         "type": "integer"
        },
        {
         "name": "Pmin (MW)",
         "rawType": "int64",
         "type": "integer"
        },
        {
         "name": "ai ($/MW2h)",
         "rawType": "float64",
         "type": "float"
        },
        {
         "name": "bi ($/MWh)",
         "rawType": "float64",
         "type": "float"
        },
        {
         "name": "ci ($/h)",
         "rawType": "int64",
         "type": "integer"
        },
        {
         "name": "URi (MW/h)",
         "rawType": "int64",
         "type": "integer"
        },
        {
         "name": "DRi (MW/h)",
         "rawType": "int64",
         "type": "integer"
        },
        {
         "name": "Pi (MW)",
         "rawType": "int64",
         "type": "integer"
        },
        {
         "name": "Prohibited Zones",
         "rawType": "object",
         "type": "unknown"
        }
       ],
       "conversionMethod": "pd.DataFrame",
       "ref": "a09daee3-7dcb-4b84-842f-52c199b47f1d",
       "rows": [
        [
         "0",
         "G1",
         "500",
         "100",
         "0.007",
         "7.0",
         "240",
         "80",
         "120",
         "440",
         "[[210, 240], [350, 380]]"
        ],
        [
         "1",
         "G2",
         "200",
         "50",
         "0.0095",
         "10.0",
         "200",
         "50",
         "90",
         "170",
         "[[90, 110], [140, 160]]"
        ],
        [
         "2",
         "G3",
         "300",
         "80",
         "0.009",
         "8.5",
         "220",
         "65",
         "100",
         "200",
         "[[150, 170], [210, 240]]"
        ],
        [
         "3",
         "G4",
         "150",
         "50",
         "0.009",
         "11.0",
         "200",
         "50",
         "90",
         "150",
         "[[80, 90], [110, 120]]"
        ],
        [
         "4",
         "G5",
         "200",
         "50",
         "0.008",
         "10.5",
         "220",
         "50",
         "90",
         "190",
         "[[90, 110], [140, 150]]"
        ],
        [
         "5",
         "G6",
         "120",
         "50",
         "0.0075",
         "12.0",
         "190",
         "50",
         "90",
         "110",
         "[[75, 85], [100, 105]]"
        ]
       ],
       "shape": {
        "columns": 10,
        "rows": 6
       }
      },
      "text/html": [
       "<div>\n",
       "<style scoped>\n",
       "    .dataframe tbody tr th:only-of-type {\n",
       "        vertical-align: middle;\n",
       "    }\n",
       "\n",
       "    .dataframe tbody tr th {\n",
       "        vertical-align: top;\n",
       "    }\n",
       "\n",
       "    .dataframe thead th {\n",
       "        text-align: right;\n",
       "    }\n",
       "</style>\n",
       "<table border=\"1\" class=\"dataframe\">\n",
       "  <thead>\n",
       "    <tr style=\"text-align: right;\">\n",
       "      <th></th>\n",
       "      <th>Unit</th>\n",
       "      <th>Pmax (MW)</th>\n",
       "      <th>Pmin (MW)</th>\n",
       "      <th>ai ($/MW2h)</th>\n",
       "      <th>bi ($/MWh)</th>\n",
       "      <th>ci ($/h)</th>\n",
       "      <th>URi (MW/h)</th>\n",
       "      <th>DRi (MW/h)</th>\n",
       "      <th>Pi (MW)</th>\n",
       "      <th>Prohibited Zones</th>\n",
       "    </tr>\n",
       "  </thead>\n",
       "  <tbody>\n",
       "    <tr>\n",
       "      <th>0</th>\n",
       "      <td>G1</td>\n",
       "      <td>500</td>\n",
       "      <td>100</td>\n",
       "      <td>0.0070</td>\n",
       "      <td>7.0</td>\n",
       "      <td>240</td>\n",
       "      <td>80</td>\n",
       "      <td>120</td>\n",
       "      <td>440</td>\n",
       "      <td>[[210, 240], [350, 380]]</td>\n",
       "    </tr>\n",
       "    <tr>\n",
       "      <th>1</th>\n",
       "      <td>G2</td>\n",
       "      <td>200</td>\n",
       "      <td>50</td>\n",
       "      <td>0.0095</td>\n",
       "      <td>10.0</td>\n",
       "      <td>200</td>\n",
       "      <td>50</td>\n",
       "      <td>90</td>\n",
       "      <td>170</td>\n",
       "      <td>[[90, 110], [140, 160]]</td>\n",
       "    </tr>\n",
       "    <tr>\n",
       "      <th>2</th>\n",
       "      <td>G3</td>\n",
       "      <td>300</td>\n",
       "      <td>80</td>\n",
       "      <td>0.0090</td>\n",
       "      <td>8.5</td>\n",
       "      <td>220</td>\n",
       "      <td>65</td>\n",
       "      <td>100</td>\n",
       "      <td>200</td>\n",
       "      <td>[[150, 170], [210, 240]]</td>\n",
       "    </tr>\n",
       "    <tr>\n",
       "      <th>3</th>\n",
       "      <td>G4</td>\n",
       "      <td>150</td>\n",
       "      <td>50</td>\n",
       "      <td>0.0090</td>\n",
       "      <td>11.0</td>\n",
       "      <td>200</td>\n",
       "      <td>50</td>\n",
       "      <td>90</td>\n",
       "      <td>150</td>\n",
       "      <td>[[80, 90], [110, 120]]</td>\n",
       "    </tr>\n",
       "    <tr>\n",
       "      <th>4</th>\n",
       "      <td>G5</td>\n",
       "      <td>200</td>\n",
       "      <td>50</td>\n",
       "      <td>0.0080</td>\n",
       "      <td>10.5</td>\n",
       "      <td>220</td>\n",
       "      <td>50</td>\n",
       "      <td>90</td>\n",
       "      <td>190</td>\n",
       "      <td>[[90, 110], [140, 150]]</td>\n",
       "    </tr>\n",
       "    <tr>\n",
       "      <th>5</th>\n",
       "      <td>G6</td>\n",
       "      <td>120</td>\n",
       "      <td>50</td>\n",
       "      <td>0.0075</td>\n",
       "      <td>12.0</td>\n",
       "      <td>190</td>\n",
       "      <td>50</td>\n",
       "      <td>90</td>\n",
       "      <td>110</td>\n",
       "      <td>[[75, 85], [100, 105]]</td>\n",
       "    </tr>\n",
       "  </tbody>\n",
       "</table>\n",
       "</div>"
      ],
      "text/plain": [
       "  Unit  Pmax (MW)  Pmin (MW)  ai ($/MW2h)  bi ($/MWh)  ci ($/h)  URi (MW/h)  \\\n",
       "0   G1        500        100       0.0070         7.0       240          80   \n",
       "1   G2        200         50       0.0095        10.0       200          50   \n",
       "2   G3        300         80       0.0090         8.5       220          65   \n",
       "3   G4        150         50       0.0090        11.0       200          50   \n",
       "4   G5        200         50       0.0080        10.5       220          50   \n",
       "5   G6        120         50       0.0075        12.0       190          50   \n",
       "\n",
       "   DRi (MW/h)  Pi (MW)          Prohibited Zones  \n",
       "0         120      440  [[210, 240], [350, 380]]  \n",
       "1          90      170   [[90, 110], [140, 160]]  \n",
       "2         100      200  [[150, 170], [210, 240]]  \n",
       "3          90      150    [[80, 90], [110, 120]]  \n",
       "4          90      190   [[90, 110], [140, 150]]  \n",
       "5          90      110    [[75, 85], [100, 105]]  "
      ]
     },
     "execution_count": 8,
     "metadata": {},
     "output_type": "execute_result"
    }
   ],
   "source": [
    "df"
   ]
  },
  {
   "cell_type": "code",
   "execution_count": 9,
   "metadata": {},
   "outputs": [
    {
     "name": "stdout",
     "output_type": "stream",
     "text": [
      "Generador G1: Prohibido operar entre 210 MW y 240 MW\n",
      "Generador G1: Prohibido operar entre 350 MW y 380 MW\n",
      "Generador G2: Prohibido operar entre 90 MW y 110 MW\n",
      "Generador G2: Prohibido operar entre 140 MW y 160 MW\n",
      "Generador G3: Prohibido operar entre 150 MW y 170 MW\n",
      "Generador G3: Prohibido operar entre 210 MW y 240 MW\n",
      "Generador G4: Prohibido operar entre 80 MW y 90 MW\n",
      "Generador G4: Prohibido operar entre 110 MW y 120 MW\n",
      "Generador G5: Prohibido operar entre 90 MW y 110 MW\n",
      "Generador G5: Prohibido operar entre 140 MW y 150 MW\n",
      "Generador G6: Prohibido operar entre 75 MW y 85 MW\n",
      "Generador G6: Prohibido operar entre 100 MW y 105 MW\n"
     ]
    }
   ],
   "source": [
    "for index, row in df.iterrows():\n",
    "    prohibited_zones = row[\"Prohibited Zones\"]\n",
    "    for zone in prohibited_zones:\n",
    "        lower, upper = zone  # Extrae los límites del rango\n",
    "        print(f\"Generador {row['Unit']}: Prohibido operar entre {lower} MW y {upper} MW\")\n"
   ]
  }
 ],
 "metadata": {
  "kernelspec": {
   "display_name": "Python 3",
   "language": "python",
   "name": "python3"
  },
  "language_info": {
   "codemirror_mode": {
    "name": "ipython",
    "version": 3
   },
   "file_extension": ".py",
   "mimetype": "text/x-python",
   "name": "python",
   "nbconvert_exporter": "python",
   "pygments_lexer": "ipython3",
   "version": "3.10.4"
  }
 },
 "nbformat": 4,
 "nbformat_minor": 2
}
