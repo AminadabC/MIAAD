{
 "cells": [
  {
   "cell_type": "code",
   "execution_count": 1,
   "metadata": {},
   "outputs": [
    {
     "name": "stdout",
     "output_type": "stream",
     "text": [
      "WARNING: Could not locate the 'ipopt' executable, which is required for solver\n",
      "ipopt\n"
     ]
    },
    {
     "ename": "ApplicationError",
     "evalue": "No executable found for solver 'ipopt'",
     "output_type": "error",
     "traceback": [
      "\u001b[1;31m---------------------------------------------------------------------------\u001b[0m",
      "\u001b[1;31mApplicationError\u001b[0m                          Traceback (most recent call last)",
      "Cell \u001b[1;32mIn[1], line 69\u001b[0m\n\u001b[0;32m     67\u001b[0m \u001b[38;5;66;03m# Resolver el modelo\u001b[39;00m\n\u001b[0;32m     68\u001b[0m solver \u001b[38;5;241m=\u001b[39m SolverFactory(\u001b[38;5;124m'\u001b[39m\u001b[38;5;124mipopt\u001b[39m\u001b[38;5;124m'\u001b[39m)\n\u001b[1;32m---> 69\u001b[0m \u001b[43msolver\u001b[49m\u001b[38;5;241;43m.\u001b[39;49m\u001b[43msolve\u001b[49m\u001b[43m(\u001b[49m\u001b[43mmodel\u001b[49m\u001b[43m,\u001b[49m\u001b[43m \u001b[49m\u001b[43mtee\u001b[49m\u001b[38;5;241;43m=\u001b[39;49m\u001b[38;5;28;43;01mTrue\u001b[39;49;00m\u001b[43m)\u001b[49m\n\u001b[0;32m     71\u001b[0m \u001b[38;5;66;03m# Mostrar resultados\u001b[39;00m\n\u001b[0;32m     72\u001b[0m \u001b[38;5;28mprint\u001b[39m(\u001b[38;5;124m\"\u001b[39m\u001b[38;5;130;01m\\n\u001b[39;00m\u001b[38;5;124mResultados de generación óptima:\u001b[39m\u001b[38;5;124m\"\u001b[39m)\n",
      "File \u001b[1;32mc:\\Users\\Aminadab Cordova\\AppData\\Local\\Programs\\Python\\Python312\\Lib\\site-packages\\pyomo\\opt\\base\\solvers.py:534\u001b[0m, in \u001b[0;36mOptSolver.solve\u001b[1;34m(self, *args, **kwds)\u001b[0m\n\u001b[0;32m    531\u001b[0m \u001b[38;5;28;01mdef\u001b[39;00m \u001b[38;5;21msolve\u001b[39m(\u001b[38;5;28mself\u001b[39m, \u001b[38;5;241m*\u001b[39margs, \u001b[38;5;241m*\u001b[39m\u001b[38;5;241m*\u001b[39mkwds):\n\u001b[0;32m    532\u001b[0m \u001b[38;5;250m    \u001b[39m\u001b[38;5;124;03m\"\"\"Solve the problem\"\"\"\u001b[39;00m\n\u001b[1;32m--> 534\u001b[0m     \u001b[38;5;28;43mself\u001b[39;49m\u001b[38;5;241;43m.\u001b[39;49m\u001b[43mavailable\u001b[49m\u001b[43m(\u001b[49m\u001b[43mexception_flag\u001b[49m\u001b[38;5;241;43m=\u001b[39;49m\u001b[38;5;28;43;01mTrue\u001b[39;49;00m\u001b[43m)\u001b[49m\n\u001b[0;32m    535\u001b[0m     \u001b[38;5;66;03m#\u001b[39;00m\n\u001b[0;32m    536\u001b[0m     \u001b[38;5;66;03m# If the inputs are models, then validate that they have been\u001b[39;00m\n\u001b[0;32m    537\u001b[0m     \u001b[38;5;66;03m# constructed! Collect suffix names to try and import from solution.\u001b[39;00m\n\u001b[0;32m    538\u001b[0m     \u001b[38;5;66;03m#\u001b[39;00m\n\u001b[0;32m    539\u001b[0m     \u001b[38;5;28;01mfrom\u001b[39;00m \u001b[38;5;21;01mpyomo\u001b[39;00m\u001b[38;5;21;01m.\u001b[39;00m\u001b[38;5;21;01mcore\u001b[39;00m\u001b[38;5;21;01m.\u001b[39;00m\u001b[38;5;21;01mbase\u001b[39;00m\u001b[38;5;21;01m.\u001b[39;00m\u001b[38;5;21;01mblock\u001b[39;00m \u001b[38;5;28;01mimport\u001b[39;00m BlockData\n",
      "File \u001b[1;32mc:\\Users\\Aminadab Cordova\\AppData\\Local\\Programs\\Python\\Python312\\Lib\\site-packages\\pyomo\\opt\\solver\\shellcmd.py:140\u001b[0m, in \u001b[0;36mSystemCallSolver.available\u001b[1;34m(self, exception_flag)\u001b[0m\n\u001b[0;32m    138\u001b[0m     \u001b[38;5;28;01mif\u001b[39;00m exception_flag:\n\u001b[0;32m    139\u001b[0m         msg \u001b[38;5;241m=\u001b[39m \u001b[38;5;124m\"\u001b[39m\u001b[38;5;124mNo executable found for solver \u001b[39m\u001b[38;5;124m'\u001b[39m\u001b[38;5;132;01m%s\u001b[39;00m\u001b[38;5;124m'\u001b[39m\u001b[38;5;124m\"\u001b[39m\n\u001b[1;32m--> 140\u001b[0m         \u001b[38;5;28;01mraise\u001b[39;00m ApplicationError(msg \u001b[38;5;241m%\u001b[39m \u001b[38;5;28mself\u001b[39m\u001b[38;5;241m.\u001b[39mname)\n\u001b[0;32m    141\u001b[0m     \u001b[38;5;28;01mreturn\u001b[39;00m \u001b[38;5;28;01mFalse\u001b[39;00m\n\u001b[0;32m    142\u001b[0m \u001b[38;5;28;01mreturn\u001b[39;00m \u001b[38;5;28;01mTrue\u001b[39;00m\n",
      "\u001b[1;31mApplicationError\u001b[0m: No executable found for solver 'ipopt'"
     ]
    }
   ],
   "source": [
    "from pyomo.environ import *\n",
    "import numpy as np\n",
    "\n",
    "# Definir el modelo\n",
    "model = ConcreteModel()\n",
    "\n",
    "# Conjunto de generadores\n",
    "N = 3  # Número de generadores\n",
    "model.G = RangeSet(1, N)\n",
    "\n",
    "# Parámetros\n",
    "Pd = 850  # Demanda total en MW\n",
    "B = np.array([[0.00007, 0.00010, 0.00012],  # Coeficientes B_ij de pérdidas\n",
    "              [0.00010, 0.00008, 0.00011],\n",
    "              [0.00012, 0.00011, 0.00009]])\n",
    "\n",
    "B0 = np.array([0.0003, 0.00025, 0.0002])  # Coeficientes B_i0\n",
    "B00 = 0.0005  # Coeficiente B_00\n",
    "\n",
    "# Coeficientes de costo\n",
    "a = {1: 0.002, 2: 0.0018, 3: 0.0025}\n",
    "b = {1: 10, 2: 8, 3: 6}\n",
    "c = {1: 100, 2: 120, 3: 150}\n",
    "\n",
    "# Parámetros del efecto de punto de válvula\n",
    "d = {1: 20, 2: 18, 3: 25}\n",
    "e = {1: 0.03, 2: 0.025, 3: 0.02}\n",
    "\n",
    "# Límites de generación\n",
    "Pmin = {1: 150, 2: 100, 3: 50}\n",
    "Pmax = {1: 500, 2: 400, 3: 200}\n",
    "\n",
    "# Límites de rampa\n",
    "UR = {1: 50, 2: 40, 3: 30}\n",
    "DR = {1: 50, 2: 40, 3: 30}\n",
    "\n",
    "# Variables de potencia de generación\n",
    "model.PG = Var(model.G, within=NonNegativeReals)\n",
    "\n",
    "# Función de costo total\n",
    "def cost_function(model):\n",
    "    return sum(a[i] * model.PG[i]**2 + b[i] * model.PG[i] + c[i] + \n",
    "               abs(d[i] * sin(e[i] * (Pmin[i] - model.PG[i]))) for i in model.G)\n",
    "model.cost = Objective(rule=cost_function, sense=minimize)\n",
    "\n",
    "# Restricción de balance de potencia\n",
    "def power_balance_rule(model):\n",
    "    Ploss = sum(sum(model.PG[i] * B[i-1, j-1] * model.PG[j] for j in model.G) for i in model.G) + \\\n",
    "            sum(B0[i-1] * model.PG[i] for i in model.G) + B00\n",
    "    return sum(model.PG[i] for i in model.G) == Pd + Ploss\n",
    "model.power_balance = Constraint(rule=power_balance_rule)\n",
    "\n",
    "# Restricciones de generación\n",
    "def generation_limits_rule(model, i):\n",
    "    return (Pmin[i], model.PG[i], Pmax[i])\n",
    "model.gen_limits = Constraint(model.G, rule=generation_limits_rule)\n",
    "\n",
    "# Restricciones de rampa\n",
    "def ramp_up_rule(model, i):\n",
    "    return model.PG[i] - Pmin[i] >= -DR[i]\n",
    "model.ramp_up = Constraint(model.G, rule=ramp_up_rule)\n",
    "\n",
    "def ramp_down_rule(model, i):\n",
    "    return Pmax[i] - model.PG[i] >= UR[i]\n",
    "model.ramp_down = Constraint(model.G, rule=ramp_down_rule)\n",
    "\n",
    "# Resolver el modelo\n",
    "solver = SolverFactory('ipopt')\n",
    "solver.solve(model, tee=True)\n",
    "\n",
    "# Mostrar resultados\n",
    "print(\"\\nResultados de generación óptima:\")\n",
    "for i in model.G:\n",
    "    print(f\"Generador {i}: {model.PG[i]():.2f} MW\")\n",
    "\n",
    "print(f\"\\nCosto total: {model.cost():.2f} $/h\")\n"
   ]
  }
 ],
 "metadata": {
  "kernelspec": {
   "display_name": "Python 3",
   "language": "python",
   "name": "python3"
  },
  "language_info": {
   "codemirror_mode": {
    "name": "ipython",
    "version": 3
   },
   "file_extension": ".py",
   "mimetype": "text/x-python",
   "name": "python",
   "nbconvert_exporter": "python",
   "pygments_lexer": "ipython3",
   "version": "3.12.0"
  }
 },
 "nbformat": 4,
 "nbformat_minor": 2
}
