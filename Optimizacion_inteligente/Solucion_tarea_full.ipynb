{
 "cells": [
  {
   "cell_type": "markdown",
   "id": "2c4c5d73",
   "metadata": {},
   "source": [
    "\n",
    "**Actividad 2. Optimización de rutas de reparto (VRP) con GA**\n",
    "\n",
    "**Asignatura:** Optimización Inteligente\n",
    "\n",
    "**Alumno:** Aminadab Córdova Acosta\n",
    "\n",
    "\n",
    "Contexto\n",
    "\n",
    "Una empresa de distribución de cajas de verduras frescas entrega pedidos a múltiples clientes en la ciudad. Cuenta con 4 vehículos refrigerados, cada uno con\n",
    "capacidad de 30 cajas. Deben diseñar rutas saliendo y regresando al almacén central (nodo 0) minimizando la distancia total.\n",
    "\n",
    "Objetivo: Minimizar la distancia total recorrida respetando capacidades y número máximo de vehículos.\n",
    "\n",
    "Datos del problema\n",
    "- Depósito (nodo 0): (50, 50)\n",
    "- Clientes (1..24) con coordenadas en 2D (0..100) y demandas en cajas (2..9).\n",
    "- Vehículos: 4 unidades\n",
    "- Capacidad por vehículo: 30\n",
    "\n",
    "Resolver:\n",
    "\n",
    "1. Implementa un algoritmo genético (GA) para este VRP:\n",
    "   - Representa soluciones como permutaciones de cliente_id.\n",
    "   - Decodifica la permutación en rutas secuenciales respetando la capacidad 30. Si abres una nueva ruta, cuenta para el límite de 4 vehículos.\n",
    "   - Función objetivo: distancia total (euclidiana) de todas las rutas, de ida y vuelta al depósito.\n",
    "   - Penalización: si superas 4 rutas, añade una penalización grande al fitness\n",
    "\n",
    "\n",
    "2. Explora configuraciones de parámetros:\n",
    "   - Tamaño de población N pertenece a {30, 80, 150}\n",
    "   - Probabilidad de cruza pc pertenece a  {0.6, 0.9}\n",
    "   - Probabilidad de mutación pm pertenece a  {0.02, 0.1, 0.2}\n",
    "   - Elitismo e pertenece a  {0, 2, 5}\n",
    "   - Selección: torneo vs ruleta (o ranking si lo implementas)\n",
    "\n",
    "3. Compara resultados:\n",
    "   - Mejor fitness final (distancia mínima penalizada).\n",
    "   - Curvas de convergencia (mejor y promedio por generación).\n",
    "   - Diversidad poblacional (puedes usar entropía aproximada por posición).\n",
    "\n",
    "4. Reflexiona:\n",
    "   - ¿Qué combinaciones de parámetros funcionaron mejor y por qué?\n",
    "   - ¿Observaste convergencia prematura? ¿Qué la mitigó?\n",
    "   - ¿Cómo afectó pm a la diversidad y a la calidad final?\n",
    "\n",
    "### Modelación del problema\n",
    "\n",
    "Considerando la información proporcionada en la descripción del problema de ruteo de vehículos VRP (Vehicle Routing Problem), se obtiene la siguiente formulación del problema:\n",
    "\n",
    "- **Datos del problema**:  \n",
    "  - Depósito central: nodo 0 en la coordenada (50, 50).  \n",
    "  - 24 clientes, cada uno con coordenadas \\((x, y)\\) en el plano y una demanda en cajas.  \n",
    "  - 4 vehículos refrigerados, todos con capacidad máxima de 30 cajas.  \n",
    "  - Cada ruta inicia y termina en el depósito.  \n",
    "\n",
    "- **Variables principales**:  \n",
    "  - Coordenadas \\((x, y)\\) de los clientes → definen la ubicación espacial, en este caso 2D.  \n",
    "  - Demanda de cada cliente → condiciona la carga y factibilidad de las rutas.  \n",
    "  - Asignación de clientes a rutas y orden de visita → variables de decisión.  \n",
    "\n",
    "- **Restricciones**:  \n",
    "  1. La suma de demandas en una ruta no puede exceder la capacidad del vehículo (30).  \n",
    "  2. Cada cliente debe ser visitado exactamente una vez.  \n",
    "  3. El número de rutas abiertas no puede superar el número de vehículos disponibles (4).  \n",
    "\n",
    "- **Función objetivo**:  \n",
    "  Minimizar la **distancia total recorrida** por todos los vehículos, incluyendo la salida y regreso al depósito:\n",
    "\n",
    "$$\n",
    "  \\min \\; \\sum_{\\text{rutas}} \\Big( d(0, c_1) + \\sum_{i=1}^{k-1} d(c_i, c_{i+1}) + d(c_k, 0) \\Big)\n",
    "$$\n",
    "\n",
    "  donde \\(d(a, b)\\) es la distancia euclidiana entre nodos \\(a\\) y \\(b\\).\n",
    "\n",
    "- **Penalización**:  \n",
    "  Si una solución propone más de 4 rutas, se añade un **costo penalizador grande** al valor de la función objetivo para desincentivar soluciones infactibles.\n",
    "\n",
    "---\n"
   ]
  },
  {
   "cell_type": "code",
   "execution_count": 24,
   "id": "d37906fc",
   "metadata": {},
   "outputs": [
    {
     "name": "stdout",
     "output_type": "stream",
     "text": [
      "   cliente_id      x      y  demanda\n",
      "0           1  45.97  14.40        3\n",
      "1           2  20.49  63.20        5\n",
      "2           3  93.79  11.57        9\n",
      "3           4  41.70  80.85        3\n",
      "4           5  47.70  63.64        5\n"
     ]
    }
   ],
   "source": [
    "# Se importan las librerías necesarias\n",
    "import numpy as np\n",
    "import pandas as pd\n",
    "import matplotlib.pyplot as plt\n",
    "from math import log\n",
    "import random\n",
    "\n",
    "# Se carga el archivo CSV en un DataFrame de pandas. Se asume que el archivo está en el mismo directorio que esta notebook.\n",
    "df = pd.read_csv('vrp_agricola_24clientes_4vehiculos.csv')\n",
    "\n",
    "print(df.head())  # Muestra las primeras filas del DataFrame para verificar la carga correcta"
   ]
  },
  {
   "cell_type": "code",
   "execution_count": 13,
   "id": "07fa13fa",
   "metadata": {},
   "outputs": [
    {
     "name": "stdout",
     "output_type": "stream",
     "text": [
      "Demanda total=136, Capacidad agregada=120\n",
      "La instancia con 4 vehículos de 30 es infactible; se aplicará penalización.\n",
      "\n"
     ]
    }
   ],
   "source": [
    "assert {'cliente_id','x','y','demanda'}.issubset(df.columns), \"df debe tener: cliente_id, x, y, demanda\"\n",
    "\n",
    "# Parámetros del problema\n",
    "DEPOT = (50.0, 50.0)\n",
    "CAPACITY = 30\n",
    "MAX_VEHICLES = 4\n",
    "BIG_PENALTY = 1e6\n",
    "\n",
    "# Construcción de insumos alineados a df (índice 0 = Depot, 1..n = clientes)\n",
    "names = [\"Depot\"] + [str(cid) for cid in df['cliente_id'].tolist()]\n",
    "coords = np.vstack([np.array(DEPOT), df[['x','y']].to_numpy(dtype=float)])\n",
    "demands = np.array([0] + df['demanda'].astype(int).tolist())\n",
    "num_locations = len(coords)    # incluye depósito\n",
    "n_customers = num_locations-1  # sin depósito\n",
    "\n",
    "# Aviso de factibilidad agregada (opcional)\n",
    "total_demand = int(df['demanda'].sum())\n",
    "total_capacity = CAPACITY * MAX_VEHICLES\n",
    "print(f\"Demanda total={total_demand}, Capacidad agregada={total_capacity}\")\n",
    "if total_demand > total_capacity:\n",
    "    print(\"La instancia con 4 vehículos de 30 es infactible; se aplicará penalización.\\n\")\n",
    "\n",
    "# Matriz de distancias euclidianas\n",
    "def euclidean(p1, p2):\n",
    "    return float(np.linalg.norm(np.array(p1) - np.array(p2)))\n",
    "\n",
    "distance_matrix = np.zeros((num_locations, num_locations))\n",
    "for i in range(num_locations):\n",
    "    for j in range(num_locations):\n",
    "        if i != j:\n",
    "            distance_matrix[i, j] = euclidean(coords[i], coords[j])\n"
   ]
  },
  {
   "cell_type": "markdown",
   "id": "017c9da5",
   "metadata": {},
   "source": [
    "1.1 Representa soluciones como permutaciones de cliente_id"
   ]
  },
  {
   "cell_type": "code",
   "execution_count": 15,
   "id": "a2b05172",
   "metadata": {},
   "outputs": [
    {
     "name": "stdout",
     "output_type": "stream",
     "text": [
      "[[16, 19, 5, 17, 7, 18, 8, 10, 20, 15, 12, 22, 1, 21, 6, 11, 13, 24, 4, 23, 14, 3, 9, 2], [6, 17, 10, 9, 23, 12, 18, 19, 8, 7, 5, 21, 14, 16, 24, 22, 2, 4, 15, 11, 1, 3, 13, 20], [4, 6, 12, 2, 18, 5, 3, 24, 16, 8, 10, 22, 15, 9, 23, 14, 13, 1, 11, 19, 17, 21, 20, 7]]\n"
     ]
    }
   ],
   "source": [
    "def initial_population(size, seed=None):\n",
    "    rng = random.Random(seed)\n",
    "    customers = list(range(1, num_locations))  # 1..n (clientes)\n",
    "    pop = []\n",
    "    for _ in range(size):\n",
    "        ind = customers[:]\n",
    "        rng.shuffle(ind)\n",
    "        pop.append(ind)\n",
    "    return pop\n",
    "\n",
    "# Ejemplo de generación de población inicial\n",
    "poblacion_demo = initial_population(size=3, seed=123)\n",
    "print(poblacion_demo)  # cada individuo es una permutación de 1..n\n"
   ]
  },
  {
   "cell_type": "markdown",
   "id": "b0880beb",
   "metadata": {},
   "source": [
    "1.2 Decodifica la permutación en rutas por capacidad 30 (cuenta para el límite de 4 vehículos)"
   ]
  },
  {
   "cell_type": "code",
   "execution_count": 31,
   "id": "9fb700b7",
   "metadata": {},
   "outputs": [
    {
     "name": "stdout",
     "output_type": "stream",
     "text": [
      "Rutas generadas: 5\n",
      "Ruta 1 (carga=26): Depot -> 16 -> 19 -> 5 -> 17 -> 7 -> Depot\n",
      "Ruta 2 (carga=27): Depot -> 18 -> 8 -> 10 -> 20 -> Depot\n",
      "Ruta 3 (carga=27): Depot -> 15 -> 12 -> 22 -> 1 -> 21 -> Depot\n",
      "Ruta 4 (carga=29): Depot -> 6 -> 11 -> 13 -> 24 -> 4 -> Depot\n",
      "Ruta 5 (carga=27): Depot -> 23 -> 14 -> 3 -> 9 -> 2 -> Depot\n"
     ]
    }
   ],
   "source": [
    "def decode_routes_from_perm(perm_idx, capacity=CAPACITY):\n",
    "    \"\"\"Parte la permutación (1..n) en rutas secuenciales que respeten 'capacity'.\"\"\"\n",
    "    routes, cur, load = [], [], 0\n",
    "    for i in perm_idx:\n",
    "        dem = demands[i]\n",
    "        if load + dem <= capacity:\n",
    "            cur.append(i); load += dem\n",
    "        else:\n",
    "            if cur: routes.append(cur)\n",
    "            cur, load = [i], dem\n",
    "    if cur: routes.append(cur)\n",
    "    return routes\n",
    "\n",
    "def format_routes(routes):\n",
    "    def load(route): return sum(demands[i] for i in route)\n",
    "    lines = []\n",
    "    for k, r in enumerate(routes, 1):\n",
    "        seq = \" -> \".join([\"Depot\"] + [names[i] for i in r] + [\"Depot\"])\n",
    "        lines.append(f\"Ruta {k} (carga={load(r)}): {seq}\")\n",
    "    return \"\\n\".join(lines)\n",
    "\n",
    "# Permutación de ejemplo\n",
    "perm_ejemplo = poblacion_demo[0]\n",
    "rutas_ejemplo = decode_routes_from_perm(perm_ejemplo)\n",
    "print(f\"Rutas generadas: {len(rutas_ejemplo)}\")\n",
    "print(format_routes(rutas_ejemplo))\n"
   ]
  },
  {
   "cell_type": "code",
   "execution_count": 30,
   "id": "640faf64",
   "metadata": {},
   "outputs": [
    {
     "name": "stdout",
     "output_type": "stream",
     "text": [
      "Permutación 1: [16, 19, 5, 17, 7, 18, 8, 10, 20, 15, 12, 22, 1, 21, 6, 11, 13, 24, 4, 23, 14, 3, 9, 2]\n",
      "Rutas generadas: 5\n",
      "Ruta 1 (carga=26): Depot -> 16 -> 19 -> 5 -> 17 -> 7 -> Depot\n",
      "Ruta 2 (carga=27): Depot -> 18 -> 8 -> 10 -> 20 -> Depot\n",
      "Ruta 3 (carga=27): Depot -> 15 -> 12 -> 22 -> 1 -> 21 -> Depot\n",
      "Ruta 4 (carga=29): Depot -> 6 -> 11 -> 13 -> 24 -> 4 -> Depot\n",
      "Ruta 5 (carga=27): Depot -> 23 -> 14 -> 3 -> 9 -> 2 -> Depot\n",
      "--------------------------------------------------\n",
      "Permutación 2: [6, 17, 10, 9, 23, 12, 18, 19, 8, 7, 5, 21, 14, 16, 24, 22, 2, 4, 15, 11, 1, 3, 13, 20]\n",
      "Rutas generadas: 5\n",
      "Ruta 1 (carga=30): Depot -> 6 -> 17 -> 10 -> 9 -> Depot\n",
      "Ruta 2 (carga=26): Depot -> 23 -> 12 -> 18 -> 19 -> 8 -> 7 -> Depot\n",
      "Ruta 3 (carga=27): Depot -> 5 -> 21 -> 14 -> 16 -> 24 -> Depot\n",
      "Ruta 4 (carga=29): Depot -> 22 -> 2 -> 4 -> 15 -> 11 -> Depot\n",
      "Ruta 5 (carga=24): Depot -> 1 -> 3 -> 13 -> 20 -> Depot\n",
      "--------------------------------------------------\n",
      "Permutación 3: [4, 6, 12, 2, 18, 5, 3, 24, 16, 8, 10, 22, 15, 9, 23, 14, 13, 1, 11, 19, 17, 21, 20, 7]\n",
      "Rutas generadas: 5\n",
      "Ruta 1 (carga=27): Depot -> 4 -> 6 -> 12 -> 2 -> 18 -> Depot\n",
      "Ruta 2 (carga=26): Depot -> 5 -> 3 -> 24 -> 16 -> Depot\n",
      "Ruta 3 (carga=27): Depot -> 8 -> 10 -> 22 -> 15 -> Depot\n",
      "Ruta 4 (carga=28): Depot -> 9 -> 23 -> 14 -> 13 -> 1 -> 11 -> 19 -> Depot\n",
      "Ruta 5 (carga=28): Depot -> 17 -> 21 -> 20 -> 7 -> Depot\n",
      "--------------------------------------------------\n"
     ]
    }
   ],
   "source": [
    "for idx, perm in enumerate(poblacion_demo):\n",
    "    rutas = decode_routes_from_perm(perm)\n",
    "    print(f\"Permutación {idx + 1}: {perm}\")\n",
    "    print(f\"Rutas generadas: {len(rutas)}\")\n",
    "    print(format_routes(rutas))\n",
    "    print(\"-\" * 50)"
   ]
  },
  {
   "cell_type": "markdown",
   "id": "11522a57",
   "metadata": {},
   "source": [
    "1.3 Función objetivo: distancia total (euclidiana) ida/vuelta al depósito"
   ]
  },
  {
   "cell_type": "code",
   "execution_count": 20,
   "id": "076d6a39",
   "metadata": {},
   "outputs": [
    {
     "name": "stdout",
     "output_type": "stream",
     "text": [
      "Distancia total (sin penalización): 1190.14\n"
     ]
    }
   ],
   "source": [
    "def route_distance(route_idx):\n",
    "    \"\"\" Distancia 0 -> ruta -> 0 (route_idx no incluye 0). \"\"\"\n",
    "    if not route_idx: return 0.0\n",
    "    d = distance_matrix[0, route_idx[0]]\n",
    "    for a, b in zip(route_idx[:-1], route_idx[1:]):\n",
    "        d += distance_matrix[a, b]\n",
    "    d += distance_matrix[route_idx[-1], 0]\n",
    "    return d\n",
    "\n",
    "# Distancia total de la solución (sin mirar aún el límite de vehículos)\n",
    "dist_total_pura = sum(route_distance(r) for r in rutas_ejemplo)\n",
    "print(f\"Distancia total (sin penalización): {dist_total_pura:.2f}\")\n"
   ]
  },
  {
   "cell_type": "markdown",
   "id": "327326e3",
   "metadata": {},
   "source": [
    "1.4 Penalización: si superas 4 rutas, añade penalización grande al fitness"
   ]
  },
  {
   "cell_type": "code",
   "execution_count": 21,
   "id": "35f3d76e",
   "metadata": {},
   "outputs": [
    {
     "name": "stdout",
     "output_type": "stream",
     "text": [
      "Costo penalizado: 1001190.14 | #rutas=5 | MAX=4\n",
      "Fitness: 0.00000100\n"
     ]
    }
   ],
   "source": [
    "def total_distance_vrp_with_penalty(perm_idx, capacity=CAPACITY, max_vehicles=MAX_VEHICLES):\n",
    "    \"\"\"Suma distancias por ruta + penalización por exceder #vehículos permitidos.\"\"\"\n",
    "    routes = decode_routes_from_perm(perm_idx, capacity)\n",
    "    dist = sum(route_distance(r) for r in routes)\n",
    "    penalty = BIG_PENALTY * max(0, len(routes) - max_vehicles)\n",
    "    return dist + penalty, routes\n",
    "\n",
    "def fitness_from_cost(cost):\n",
    "    # Fitness (mayor es mejor) para problema de minimización\n",
    "    return 1.0 / (1.0 + cost)\n",
    "\n",
    "costo_penalizado, rutas_eval = total_distance_vrp_with_penalty(perm_ejemplo)\n",
    "print(f\"Costo penalizado: {costo_penalizado:.2f} | #rutas={len(rutas_eval)} | MAX={MAX_VEHICLES}\")\n",
    "print(f\"Fitness: {fitness_from_cost(costo_penalizado):.8f}\")\n"
   ]
  },
  {
   "cell_type": "markdown",
   "id": "7b011450",
   "metadata": {},
   "source": [
    "2) Explora configuraciones de parámetros\n",
    "- 2.1–2.5 Operadores GA y run_ga (torneo/ruleta, OX, swap, elitismo)"
   ]
  },
  {
   "cell_type": "code",
   "execution_count": 22,
   "id": "27ae3533",
   "metadata": {},
   "outputs": [],
   "source": [
    "# --- Selección ---\n",
    "def tournament_selection(population, costs, k=3, seed=None):\n",
    "    rng = random.Random(seed)\n",
    "    pairs = list(zip(population, costs))\n",
    "    selected = []\n",
    "    for _ in range(len(population)):\n",
    "        aspirants = rng.sample(pairs, min(k, len(pairs)))\n",
    "        winner = min(aspirants, key=lambda x: x[1])[0]\n",
    "        selected.append(winner)\n",
    "    return selected\n",
    "\n",
    "def roulette_selection(population, costs, seed=None):\n",
    "    rng = random.Random(seed)\n",
    "    fits = np.array([fitness_from_cost(c) for c in costs], dtype=float)\n",
    "    s = fits.sum()\n",
    "    if s <= 0 or not np.isfinite(s):\n",
    "        idxs = list(range(len(population)))\n",
    "        return [population[rng.choice(idxs)] for _ in range(len(population))]\n",
    "    probs = (fits / s).tolist()\n",
    "    cum = np.cumsum(probs)\n",
    "    chosen = []\n",
    "    for _ in range(len(population)):\n",
    "        r = rng.random()\n",
    "        i = int(np.searchsorted(cum, r, side='left'))\n",
    "        chosen.append(population[i])\n",
    "    return chosen\n",
    "\n",
    "# --- Cruza OX y mutación swap ---\n",
    "def crossover_OX(parent1, parent2, seed=None):\n",
    "    rng = random.Random(seed)\n",
    "    size = len(parent1)\n",
    "    a, b = sorted(rng.sample(range(size), 2))\n",
    "    child = [None] * size\n",
    "    child[a:b+1] = parent1[a:b+1]\n",
    "    ptr = 0\n",
    "    for i in range(size):\n",
    "        if parent2[i] not in child:\n",
    "            while child[ptr] is not None:\n",
    "                ptr += 1\n",
    "            child[ptr] = parent2[i]\n",
    "    return child\n",
    "\n",
    "def mutate(individual, rate=0.1, seed=None):\n",
    "    rng = random.Random(seed)\n",
    "    ind = individual[:]\n",
    "    for i in range(len(ind)):\n",
    "        if rng.random() < rate:\n",
    "            j = rng.randrange(len(ind))\n",
    "            ind[i], ind[j] = ind[j], ind[i]\n",
    "    return ind\n",
    "\n",
    "# --- Núcleo GA con elitismo “simple” ---\n",
    "def positional_entropy(pop, n_symbols):\n",
    "    \"\"\" Entropía de Shannon promedio por posición, normalizada [0,1]. \"\"\"\n",
    "    if not pop: return 0.0\n",
    "    m, n = len(pop), len(pop[0])\n",
    "    norm = log(n_symbols) if n_symbols > 1 else 1.0\n",
    "    ent = []\n",
    "    for pos in range(n):\n",
    "        counts = {}\n",
    "        for ind in pop:\n",
    "            v = ind[pos]; counts[v] = counts.get(v, 0) + 1\n",
    "        H = 0.0\n",
    "        for c in counts.values():\n",
    "            p = c / m; H -= p * log(p)\n",
    "        ent.append(H / norm if norm > 0 else 0.0)\n",
    "    return float(np.mean(ent))\n",
    "\n",
    "def run_ga(pop_size=80, pc=0.9, pm=0.1, elitism=2, selection='tournament',\n",
    "           generations=250, patience=60, tournament_k=3, seed=2025, verbose=True,\n",
    "           return_population=False):\n",
    "    assert elitism < pop_size, \"Elitismo debe ser < pop_size.\"\n",
    "    rng = random.Random(seed)\n",
    "\n",
    "    # Inicialización\n",
    "    population = initial_population(pop_size, seed=rng.random())\n",
    "    costs = [total_distance_vrp_with_penalty(ind)[0] for ind in population]\n",
    "\n",
    "    # Mejor inicial\n",
    "    best_idx = int(np.argmin(costs))\n",
    "    best_cost = float(costs[best_idx])\n",
    "    best_perm = population[best_idx][:]\n",
    "    best_routes = total_distance_vrp_with_penalty(best_perm)[1]\n",
    "\n",
    "    # Tracking\n",
    "    history_best = [best_cost]\n",
    "    history_avg = [float(np.mean(costs))]\n",
    "    history_fit_avg = [float(np.mean([fitness_from_cost(c) for c in costs]))]\n",
    "    history_div = [positional_entropy(population, n_symbols=n_customers)]\n",
    "    no_improve = 0\n",
    "\n",
    "    if verbose:\n",
    "        print(f\"Inicial | mejor costo: {best_cost:.3f} | rutas: {len(best_routes)}\")\n",
    "\n",
    "    for g in range(1, generations+1):\n",
    "        # Elitismo: guardar top 'elitism' de la población actual\n",
    "        elite_idx = np.argsort(costs)[:elitism]\n",
    "        elites = [population[i][:] for i in elite_idx]\n",
    "\n",
    "        # Selección de padres\n",
    "        if selection == 'tournament':\n",
    "            parents = tournament_selection(population, costs, k=tournament_k, seed=rng.random())\n",
    "        elif selection == 'roulette':\n",
    "            parents = roulette_selection(population, costs, seed=rng.random())\n",
    "        else:\n",
    "            raise ValueError(\"Selección no reconocida (usa 'tournament' o 'roulette').\")\n",
    "\n",
    "        # Cruza + mutación hasta completar pop_size - elitism\n",
    "        children = []\n",
    "        while len(children) < (pop_size - elitism):\n",
    "            # emparejar al azar\n",
    "            i, j = rng.randrange(len(parents)), rng.randrange(len(parents))\n",
    "            p1, p2 = parents[i], parents[j]\n",
    "            # cruce\n",
    "            if rng.random() < pc:\n",
    "                c1 = crossover_OX(p1, p2, seed=rng.random())\n",
    "                c2 = crossover_OX(p2, p1, seed=rng.random())\n",
    "            else:\n",
    "                c1, c2 = p1[:], p2[:]\n",
    "            # mutación\n",
    "            c1 = mutate(c1, rate=pm, seed=rng.random())\n",
    "            c2 = mutate(c2, rate=pm, seed=rng.random())\n",
    "            children.append(c1)\n",
    "            if len(children) < (pop_size - elitism):\n",
    "                children.append(c2)\n",
    "\n",
    "        # Nueva población = élites + hijos\n",
    "        population = elites + children\n",
    "\n",
    "        # Evaluación\n",
    "        costs = [total_distance_vrp_with_penalty(ind)[0] for ind in population]\n",
    "\n",
    "        # Actualizar mejor global\n",
    "        gen_best_idx = int(np.argmin(costs))\n",
    "        gen_best_cost = float(costs[gen_best_idx])\n",
    "        if gen_best_cost < best_cost - 1e-9:\n",
    "            best_cost = gen_best_cost\n",
    "            best_perm = population[gen_best_idx][:]\n",
    "            best_routes = total_distance_vrp_with_penalty(best_perm)[1]\n",
    "            no_improve = 0\n",
    "        else:\n",
    "            no_improve += 1\n",
    "\n",
    "        # Métricas\n",
    "        history_best.append(best_cost)\n",
    "        history_avg.append(float(np.mean(costs)))\n",
    "        history_fit_avg.append(float(np.mean([fitness_from_cost(c) for c in costs])))\n",
    "        history_div.append(positional_entropy(population, n_symbols=n_customers))\n",
    "\n",
    "        if verbose and (g % 50 == 0 or g == generations):\n",
    "            print(f\"Gen {g:4d} | mejor: {best_cost:.3f} | avg: {history_avg[-1]:.3f} \"\n",
    "                  f\"| div: {history_div[-1]:.3f} | rutas: {len(best_routes)}\")\n",
    "\n",
    "        if no_improve >= patience:\n",
    "            if verbose:\n",
    "                print(f\"Early stopping en gen {g} (sin mejora {patience} gens).\")\n",
    "            break\n",
    "\n",
    "    return {\n",
    "        'best_cost': best_cost,\n",
    "        'best_perm': best_perm,\n",
    "        'best_routes': best_routes,\n",
    "        'history_best': history_best,\n",
    "        'history_avg': history_avg,\n",
    "        'history_fit_avg': history_fit_avg,\n",
    "        'history_div': history_div,\n",
    "        'final_population': population if return_population else None\n",
    "    }\n"
   ]
  },
  {
   "cell_type": "code",
   "execution_count": 23,
   "id": "526d492c",
   "metadata": {},
   "outputs": [
    {
     "name": "stdout",
     "output_type": "stream",
     "text": [
      "Inicial | mejor costo: 1000987.231 | rutas: 5\n",
      "Gen   50 | mejor: 1000751.991 | avg: 1176084.902 | div: 0.840 | rutas: 5\n",
      "Gen  100 | mejor: 1000678.578 | avg: 1126083.545 | div: 0.846 | rutas: 5\n",
      "Early stopping en gen 133 (sin mejora 50 gens).\n",
      "\n",
      "Mejor costo penalizado: 1000678.58\n",
      "Rutas:\n",
      "Ruta 1 (carga=29): Depot -> 10 -> 15 -> 8 -> 19 -> 17 -> Depot\n",
      "Ruta 2 (carga=28): Depot -> 14 -> 1 -> 11 -> 5 -> 12 -> 18 -> Depot\n",
      "Ruta 3 (carga=27): Depot -> 21 -> 13 -> 7 -> 6 -> 4 -> Depot\n",
      "Ruta 4 (carga=29): Depot -> 20 -> 2 -> 23 -> 24 -> 9 -> Depot\n",
      "Ruta 5 (carga=23): Depot -> 22 -> 3 -> 16 -> Depot\n"
     ]
    }
   ],
   "source": [
    "# Ejecución del GA\n",
    "res = run_ga(pop_size=80, pc=0.9, pm=0.1, elitism=2, selection='tournament',\n",
    "             generations=200, patience=50, seed=2025, verbose=True)\n",
    "print(f\"\\nMejor costo penalizado: {res['best_cost']:.2f}\")\n",
    "print(\"Rutas:\\n\" + format_routes(res['best_routes']))\n"
   ]
  },
  {
   "cell_type": "markdown",
   "id": "0048fbbf",
   "metadata": {},
   "source": [
    "3) Compara resultados\n",
    "- 3.1–3.3 Grid de parámetros + curvas + diversidad"
   ]
  },
  {
   "cell_type": "code",
   "execution_count": 9,
   "id": "1d73338d",
   "metadata": {},
   "outputs": [
    {
     "name": "stdout",
     "output_type": "stream",
     "text": [
      "[tournament] N=30 pc=0.6 pm=0.02 e=0 -> cost=1000577.34 rutas=5 div=0.107\n",
      "[roulette] N=30 pc=0.6 pm=0.02 e=0 -> cost=1000912.38 rutas=5 div=0.502\n",
      "[tournament] N=30 pc=0.6 pm=0.02 e=2 -> cost=1000622.24 rutas=5 div=0.019\n",
      "[roulette] N=30 pc=0.6 pm=0.02 e=2 -> cost=1000717.93 rutas=5 div=0.623\n",
      "[tournament] N=30 pc=0.6 pm=0.02 e=5 -> cost=1000652.94 rutas=5 div=0.037\n",
      "[roulette] N=30 pc=0.6 pm=0.02 e=5 -> cost=1000618.99 rutas=5 div=0.464\n",
      "[tournament] N=30 pc=0.6 pm=0.1 e=0 -> cost=1000838.42 rutas=5 div=0.745\n",
      "[roulette] N=30 pc=0.6 pm=0.1 e=0 -> cost=1000869.54 rutas=5 div=0.782\n",
      "[tournament] N=30 pc=0.6 pm=0.1 e=2 -> cost=1000704.67 rutas=5 div=0.503\n",
      "[roulette] N=30 pc=0.6 pm=0.1 e=2 -> cost=1000818.63 rutas=5 div=0.751\n",
      "[tournament] N=30 pc=0.6 pm=0.1 e=5 -> cost=1000624.31 rutas=5 div=0.316\n",
      "[roulette] N=30 pc=0.6 pm=0.1 e=5 -> cost=1000797.12 rutas=5 div=0.700\n",
      "[tournament] N=30 pc=0.6 pm=0.2 e=0 -> cost=1000861.89 rutas=5 div=0.793\n",
      "[roulette] N=30 pc=0.6 pm=0.2 e=0 -> cost=1000871.17 rutas=5 div=0.781\n",
      "[tournament] N=30 pc=0.6 pm=0.2 e=2 -> cost=1000729.86 rutas=5 div=0.698\n",
      "[roulette] N=30 pc=0.6 pm=0.2 e=2 -> cost=1000941.31 rutas=5 div=0.791\n",
      "[tournament] N=30 pc=0.6 pm=0.2 e=5 -> cost=1000692.87 rutas=5 div=0.665\n",
      "[roulette] N=30 pc=0.6 pm=0.2 e=5 -> cost=1000861.19 rutas=5 div=0.770\n",
      "[tournament] N=30 pc=0.9 pm=0.02 e=0 -> cost=1000624.84 rutas=5 div=0.053\n",
      "[roulette] N=30 pc=0.9 pm=0.02 e=0 -> cost=1000942.66 rutas=5 div=0.625\n",
      "[tournament] N=30 pc=0.9 pm=0.02 e=2 -> cost=1000607.19 rutas=5 div=0.054\n",
      "[roulette] N=30 pc=0.9 pm=0.02 e=2 -> cost=1000740.63 rutas=5 div=0.598\n",
      "[tournament] N=30 pc=0.9 pm=0.02 e=5 -> cost=1000637.81 rutas=5 div=0.046\n",
      "[roulette] N=30 pc=0.9 pm=0.02 e=5 -> cost=1000610.35 rutas=5 div=0.291\n",
      "[tournament] N=30 pc=0.9 pm=0.1 e=0 -> cost=1000818.46 rutas=5 div=0.683\n",
      "[roulette] N=30 pc=0.9 pm=0.1 e=0 -> cost=1000919.01 rutas=5 div=0.778\n",
      "[tournament] N=30 pc=0.9 pm=0.1 e=2 -> cost=1000685.15 rutas=5 div=0.655\n",
      "[roulette] N=30 pc=0.9 pm=0.1 e=2 -> cost=1000701.89 rutas=5 div=0.760\n",
      "[tournament] N=30 pc=0.9 pm=0.1 e=5 -> cost=1000614.56 rutas=5 div=0.383\n",
      "[roulette] N=30 pc=0.9 pm=0.1 e=5 -> cost=1000878.68 rutas=5 div=0.699\n",
      "[tournament] N=30 pc=0.9 pm=0.2 e=0 -> cost=1000899.12 rutas=5 div=0.792\n",
      "[roulette] N=30 pc=0.9 pm=0.2 e=0 -> cost=1000936.67 rutas=5 div=0.813\n",
      "[tournament] N=30 pc=0.9 pm=0.2 e=2 -> cost=1000838.80 rutas=5 div=0.730\n",
      "[roulette] N=30 pc=0.9 pm=0.2 e=2 -> cost=1000861.62 rutas=5 div=0.818\n",
      "[tournament] N=30 pc=0.9 pm=0.2 e=5 -> cost=1000714.27 rutas=5 div=0.636\n",
      "[roulette] N=30 pc=0.9 pm=0.2 e=5 -> cost=1000853.62 rutas=5 div=0.813\n",
      "[tournament] N=80 pc=0.6 pm=0.02 e=0 -> cost=1000620.29 rutas=5 div=0.072\n",
      "[roulette] N=80 pc=0.6 pm=0.02 e=0 -> cost=1000881.17 rutas=5 div=0.828\n",
      "[tournament] N=80 pc=0.6 pm=0.02 e=2 -> cost=1000611.93 rutas=5 div=0.065\n",
      "[roulette] N=80 pc=0.6 pm=0.02 e=2 -> cost=1000709.05 rutas=5 div=0.805\n",
      "[tournament] N=80 pc=0.6 pm=0.02 e=5 -> cost=1000613.63 rutas=5 div=0.086\n",
      "[roulette] N=80 pc=0.6 pm=0.02 e=5 -> cost=1000659.54 rutas=5 div=0.688\n",
      "[tournament] N=80 pc=0.6 pm=0.1 e=0 -> cost=1000829.51 rutas=5 div=0.839\n",
      "[roulette] N=80 pc=0.6 pm=0.1 e=0 -> cost=1000908.99 rutas=5 div=0.892\n",
      "[tournament] N=80 pc=0.6 pm=0.1 e=2 -> cost=1000663.32 rutas=5 div=0.804\n",
      "[roulette] N=80 pc=0.6 pm=0.1 e=2 -> cost=1000829.98 rutas=5 div=0.895\n",
      "[tournament] N=80 pc=0.6 pm=0.1 e=5 -> cost=1000607.00 rutas=5 div=0.688\n",
      "[roulette] N=80 pc=0.6 pm=0.1 e=5 -> cost=1000628.69 rutas=5 div=0.818\n",
      "[tournament] N=80 pc=0.6 pm=0.2 e=0 -> cost=1000836.65 rutas=5 div=0.920\n",
      "[roulette] N=80 pc=0.6 pm=0.2 e=0 -> cost=1000857.39 rutas=5 div=0.921\n",
      "[tournament] N=80 pc=0.6 pm=0.2 e=2 -> cost=1000823.60 rutas=5 div=0.873\n",
      "[roulette] N=80 pc=0.6 pm=0.2 e=2 -> cost=1000885.95 rutas=5 div=0.920\n",
      "[tournament] N=80 pc=0.6 pm=0.2 e=5 -> cost=1000731.67 rutas=5 div=0.815\n",
      "[roulette] N=80 pc=0.6 pm=0.2 e=5 -> cost=1000826.27 rutas=5 div=0.899\n",
      "[tournament] N=80 pc=0.9 pm=0.02 e=0 -> cost=1000581.87 rutas=5 div=0.111\n",
      "[roulette] N=80 pc=0.9 pm=0.02 e=0 -> cost=1000840.11 rutas=5 div=0.832\n",
      "[tournament] N=80 pc=0.9 pm=0.02 e=2 -> cost=1000600.92 rutas=5 div=0.056\n",
      "[roulette] N=80 pc=0.9 pm=0.02 e=2 -> cost=1000774.00 rutas=5 div=0.853\n",
      "[tournament] N=80 pc=0.9 pm=0.02 e=5 -> cost=1000628.91 rutas=5 div=0.061\n",
      "[roulette] N=80 pc=0.9 pm=0.02 e=5 -> cost=1000690.09 rutas=5 div=0.803\n",
      "[tournament] N=80 pc=0.9 pm=0.1 e=0 -> cost=1000861.43 rutas=5 div=0.897\n",
      "[roulette] N=80 pc=0.9 pm=0.1 e=0 -> cost=1000923.92 rutas=5 div=0.918\n",
      "[tournament] N=80 pc=0.9 pm=0.1 e=2 -> cost=1000678.58 rutas=5 div=0.754\n",
      "[roulette] N=80 pc=0.9 pm=0.1 e=2 -> cost=1000777.36 rutas=5 div=0.919\n",
      "[tournament] N=80 pc=0.9 pm=0.1 e=5 -> cost=1000598.07 rutas=5 div=0.626\n",
      "[roulette] N=80 pc=0.9 pm=0.1 e=5 -> cost=1000763.87 rutas=5 div=0.894\n",
      "[tournament] N=80 pc=0.9 pm=0.2 e=0 -> cost=1000896.24 rutas=5 div=0.924\n",
      "[roulette] N=80 pc=0.9 pm=0.2 e=0 -> cost=1000876.89 rutas=5 div=0.936\n",
      "[tournament] N=80 pc=0.9 pm=0.2 e=2 -> cost=1000831.76 rutas=5 div=0.918\n",
      "[roulette] N=80 pc=0.9 pm=0.2 e=2 -> cost=1000878.93 rutas=5 div=0.940\n",
      "[tournament] N=80 pc=0.9 pm=0.2 e=5 -> cost=1000736.98 rutas=5 div=0.883\n",
      "[roulette] N=80 pc=0.9 pm=0.2 e=5 -> cost=1000813.86 rutas=5 div=0.925\n",
      "[tournament] N=150 pc=0.6 pm=0.02 e=0 -> cost=1000598.85 rutas=5 div=0.079\n",
      "[roulette] N=150 pc=0.6 pm=0.02 e=0 -> cost=1000844.78 rutas=5 div=0.900\n",
      "[tournament] N=150 pc=0.6 pm=0.02 e=2 -> cost=1000579.37 rutas=5 div=0.095\n",
      "[roulette] N=150 pc=0.6 pm=0.02 e=2 -> cost=1000682.85 rutas=5 div=0.919\n",
      "[tournament] N=150 pc=0.6 pm=0.02 e=5 -> cost=1000555.68 rutas=5 div=0.088\n",
      "[roulette] N=150 pc=0.6 pm=0.02 e=5 -> cost=1000584.39 rutas=5 div=0.878\n",
      "[tournament] N=150 pc=0.6 pm=0.1 e=0 -> cost=1000803.53 rutas=5 div=0.925\n",
      "[roulette] N=150 pc=0.6 pm=0.1 e=0 -> cost=1000878.75 rutas=5 div=0.937\n",
      "[tournament] N=150 pc=0.6 pm=0.1 e=2 -> cost=1000765.12 rutas=5 div=0.833\n",
      "[roulette] N=150 pc=0.6 pm=0.1 e=2 -> cost=1000795.50 rutas=5 div=0.944\n",
      "[tournament] N=150 pc=0.6 pm=0.1 e=5 -> cost=1000637.21 rutas=5 div=0.747\n",
      "[roulette] N=150 pc=0.6 pm=0.1 e=5 -> cost=1000790.32 rutas=5 div=0.932\n",
      "[tournament] N=150 pc=0.6 pm=0.2 e=0 -> cost=1000805.71 rutas=5 div=0.955\n",
      "[roulette] N=150 pc=0.6 pm=0.2 e=0 -> cost=1000883.32 rutas=5 div=0.960\n",
      "[tournament] N=150 pc=0.6 pm=0.2 e=2 -> cost=1000808.81 rutas=5 div=0.946\n",
      "[roulette] N=150 pc=0.6 pm=0.2 e=2 -> cost=1000795.55 rutas=5 div=0.962\n",
      "[tournament] N=150 pc=0.6 pm=0.2 e=5 -> cost=1000700.43 rutas=5 div=0.917\n",
      "[roulette] N=150 pc=0.6 pm=0.2 e=5 -> cost=1000743.64 rutas=5 div=0.956\n",
      "[tournament] N=150 pc=0.9 pm=0.02 e=0 -> cost=1000591.24 rutas=5 div=0.091\n",
      "[roulette] N=150 pc=0.9 pm=0.02 e=0 -> cost=1000882.91 rutas=5 div=0.918\n",
      "[tournament] N=150 pc=0.9 pm=0.02 e=2 -> cost=1000611.62 rutas=5 div=0.084\n",
      "[roulette] N=150 pc=0.9 pm=0.02 e=2 -> cost=1000731.60 rutas=5 div=0.927\n",
      "[tournament] N=150 pc=0.9 pm=0.02 e=5 -> cost=1000578.02 rutas=5 div=0.067\n",
      "[roulette] N=150 pc=0.9 pm=0.02 e=5 -> cost=1000740.98 rutas=5 div=0.904\n",
      "[tournament] N=150 pc=0.9 pm=0.1 e=0 -> cost=1000772.56 rutas=5 div=0.941\n",
      "[roulette] N=150 pc=0.9 pm=0.1 e=0 -> cost=1000894.02 rutas=5 div=0.954\n",
      "[tournament] N=150 pc=0.9 pm=0.1 e=2 -> cost=1000799.38 rutas=5 div=0.938\n",
      "[roulette] N=150 pc=0.9 pm=0.1 e=2 -> cost=1000789.48 rutas=5 div=0.949\n",
      "[tournament] N=150 pc=0.9 pm=0.1 e=5 -> cost=1000650.74 rutas=5 div=0.834\n",
      "[roulette] N=150 pc=0.9 pm=0.1 e=5 -> cost=1000726.82 rutas=5 div=0.945\n",
      "[tournament] N=150 pc=0.9 pm=0.2 e=0 -> cost=1000865.25 rutas=5 div=0.959\n",
      "[roulette] N=150 pc=0.9 pm=0.2 e=0 -> cost=1000861.26 rutas=5 div=0.967\n",
      "[tournament] N=150 pc=0.9 pm=0.2 e=2 -> cost=1000832.90 rutas=5 div=0.955\n",
      "[roulette] N=150 pc=0.9 pm=0.2 e=2 -> cost=1000873.29 rutas=5 div=0.967\n",
      "[tournament] N=150 pc=0.9 pm=0.2 e=5 -> cost=1000748.10 rutas=5 div=0.947\n",
      "[roulette] N=150 pc=0.9 pm=0.2 e=5 -> cost=1000850.81 rutas=5 div=0.965\n",
      "\n",
      "== Mejores 10 configuraciones por costo (3.1) ==\n"
     ]
    },
    {
     "data": {
      "application/vnd.microsoft.datawrangler.viewer.v0+json": {
       "columns": [
        {
         "name": "index",
         "rawType": "int64",
         "type": "integer"
        },
        {
         "name": "pop_size",
         "rawType": "int64",
         "type": "integer"
        },
        {
         "name": "pc",
         "rawType": "float64",
         "type": "float"
        },
        {
         "name": "pm",
         "rawType": "float64",
         "type": "float"
        },
        {
         "name": "elitism",
         "rawType": "int64",
         "type": "integer"
        },
        {
         "name": "selection",
         "rawType": "object",
         "type": "string"
        },
        {
         "name": "best_cost",
         "rawType": "float64",
         "type": "float"
        },
        {
         "name": "best_fitness",
         "rawType": "float64",
         "type": "float"
        },
        {
         "name": "routes_count",
         "rawType": "int64",
         "type": "integer"
        },
        {
         "name": "final_diversity",
         "rawType": "float64",
         "type": "float"
        }
       ],
       "ref": "bcc31fae-ea8c-4b55-a8ab-da52a12f05ca",
       "rows": [
        [
         "0",
         "150",
         "0.6",
         "0.02",
         "5",
         "tournament",
         "1000555.6766561507",
         "9.994436330603368e-07",
         "5",
         "0.087502787546477"
        ],
        [
         "1",
         "30",
         "0.6",
         "0.02",
         "0",
         "tournament",
         "1000577.3414653308",
         "9.994219928201886e-07",
         "5",
         "0.10744562414624236"
        ],
        [
         "2",
         "150",
         "0.9",
         "0.02",
         "5",
         "tournament",
         "1000578.0151666991",
         "9.994213198978567e-07",
         "5",
         "0.06675262444595399"
        ],
        [
         "3",
         "150",
         "0.6",
         "0.02",
         "2",
         "tournament",
         "1000579.3664307011",
         "9.99419970199124e-07",
         "5",
         "0.09472572992654209"
        ],
        [
         "4",
         "80",
         "0.9",
         "0.02",
         "0",
         "tournament",
         "1000581.8686763789",
         "9.99417470861609e-07",
         "5",
         "0.11087702006277138"
        ],
        [
         "5",
         "150",
         "0.6",
         "0.02",
         "5",
         "roulette",
         "1000584.3942168534",
         "9.994149482690464e-07",
         "5",
         "0.8783441366261684"
        ],
        [
         "6",
         "150",
         "0.9",
         "0.02",
         "0",
         "tournament",
         "1000591.2407794546",
         "9.994081097620813e-07",
         "5",
         "0.09070437889430294"
        ],
        [
         "7",
         "80",
         "0.9",
         "0.1",
         "5",
         "tournament",
         "1000598.0657630085",
         "9.99401292901916e-07",
         "5",
         "0.6264491953449975"
        ],
        [
         "8",
         "150",
         "0.6",
         "0.02",
         "0",
         "tournament",
         "1000598.848920864",
         "9.994005106821564e-07",
         "5",
         "0.07867622872669862"
        ],
        [
         "9",
         "80",
         "0.9",
         "0.02",
         "2",
         "tournament",
         "1000600.9189956548",
         "9.993984430928745e-07",
         "5",
         "0.05623221351761834"
        ]
       ],
       "shape": {
        "columns": 9,
        "rows": 10
       }
      },
      "text/html": [
       "<div>\n",
       "<style scoped>\n",
       "    .dataframe tbody tr th:only-of-type {\n",
       "        vertical-align: middle;\n",
       "    }\n",
       "\n",
       "    .dataframe tbody tr th {\n",
       "        vertical-align: top;\n",
       "    }\n",
       "\n",
       "    .dataframe thead th {\n",
       "        text-align: right;\n",
       "    }\n",
       "</style>\n",
       "<table border=\"1\" class=\"dataframe\">\n",
       "  <thead>\n",
       "    <tr style=\"text-align: right;\">\n",
       "      <th></th>\n",
       "      <th>pop_size</th>\n",
       "      <th>pc</th>\n",
       "      <th>pm</th>\n",
       "      <th>elitism</th>\n",
       "      <th>selection</th>\n",
       "      <th>best_cost</th>\n",
       "      <th>best_fitness</th>\n",
       "      <th>routes_count</th>\n",
       "      <th>final_diversity</th>\n",
       "    </tr>\n",
       "  </thead>\n",
       "  <tbody>\n",
       "    <tr>\n",
       "      <th>0</th>\n",
       "      <td>150</td>\n",
       "      <td>0.6</td>\n",
       "      <td>0.02</td>\n",
       "      <td>5</td>\n",
       "      <td>tournament</td>\n",
       "      <td>1.000556e+06</td>\n",
       "      <td>9.994436e-07</td>\n",
       "      <td>5</td>\n",
       "      <td>0.087503</td>\n",
       "    </tr>\n",
       "    <tr>\n",
       "      <th>1</th>\n",
       "      <td>30</td>\n",
       "      <td>0.6</td>\n",
       "      <td>0.02</td>\n",
       "      <td>0</td>\n",
       "      <td>tournament</td>\n",
       "      <td>1.000577e+06</td>\n",
       "      <td>9.994220e-07</td>\n",
       "      <td>5</td>\n",
       "      <td>0.107446</td>\n",
       "    </tr>\n",
       "    <tr>\n",
       "      <th>2</th>\n",
       "      <td>150</td>\n",
       "      <td>0.9</td>\n",
       "      <td>0.02</td>\n",
       "      <td>5</td>\n",
       "      <td>tournament</td>\n",
       "      <td>1.000578e+06</td>\n",
       "      <td>9.994213e-07</td>\n",
       "      <td>5</td>\n",
       "      <td>0.066753</td>\n",
       "    </tr>\n",
       "    <tr>\n",
       "      <th>3</th>\n",
       "      <td>150</td>\n",
       "      <td>0.6</td>\n",
       "      <td>0.02</td>\n",
       "      <td>2</td>\n",
       "      <td>tournament</td>\n",
       "      <td>1.000579e+06</td>\n",
       "      <td>9.994200e-07</td>\n",
       "      <td>5</td>\n",
       "      <td>0.094726</td>\n",
       "    </tr>\n",
       "    <tr>\n",
       "      <th>4</th>\n",
       "      <td>80</td>\n",
       "      <td>0.9</td>\n",
       "      <td>0.02</td>\n",
       "      <td>0</td>\n",
       "      <td>tournament</td>\n",
       "      <td>1.000582e+06</td>\n",
       "      <td>9.994175e-07</td>\n",
       "      <td>5</td>\n",
       "      <td>0.110877</td>\n",
       "    </tr>\n",
       "    <tr>\n",
       "      <th>5</th>\n",
       "      <td>150</td>\n",
       "      <td>0.6</td>\n",
       "      <td>0.02</td>\n",
       "      <td>5</td>\n",
       "      <td>roulette</td>\n",
       "      <td>1.000584e+06</td>\n",
       "      <td>9.994149e-07</td>\n",
       "      <td>5</td>\n",
       "      <td>0.878344</td>\n",
       "    </tr>\n",
       "    <tr>\n",
       "      <th>6</th>\n",
       "      <td>150</td>\n",
       "      <td>0.9</td>\n",
       "      <td>0.02</td>\n",
       "      <td>0</td>\n",
       "      <td>tournament</td>\n",
       "      <td>1.000591e+06</td>\n",
       "      <td>9.994081e-07</td>\n",
       "      <td>5</td>\n",
       "      <td>0.090704</td>\n",
       "    </tr>\n",
       "    <tr>\n",
       "      <th>7</th>\n",
       "      <td>80</td>\n",
       "      <td>0.9</td>\n",
       "      <td>0.10</td>\n",
       "      <td>5</td>\n",
       "      <td>tournament</td>\n",
       "      <td>1.000598e+06</td>\n",
       "      <td>9.994013e-07</td>\n",
       "      <td>5</td>\n",
       "      <td>0.626449</td>\n",
       "    </tr>\n",
       "    <tr>\n",
       "      <th>8</th>\n",
       "      <td>150</td>\n",
       "      <td>0.6</td>\n",
       "      <td>0.02</td>\n",
       "      <td>0</td>\n",
       "      <td>tournament</td>\n",
       "      <td>1.000599e+06</td>\n",
       "      <td>9.994005e-07</td>\n",
       "      <td>5</td>\n",
       "      <td>0.078676</td>\n",
       "    </tr>\n",
       "    <tr>\n",
       "      <th>9</th>\n",
       "      <td>80</td>\n",
       "      <td>0.9</td>\n",
       "      <td>0.02</td>\n",
       "      <td>2</td>\n",
       "      <td>tournament</td>\n",
       "      <td>1.000601e+06</td>\n",
       "      <td>9.993984e-07</td>\n",
       "      <td>5</td>\n",
       "      <td>0.056232</td>\n",
       "    </tr>\n",
       "  </tbody>\n",
       "</table>\n",
       "</div>"
      ],
      "text/plain": [
       "   pop_size   pc    pm  elitism   selection     best_cost  best_fitness  \\\n",
       "0       150  0.6  0.02        5  tournament  1.000556e+06  9.994436e-07   \n",
       "1        30  0.6  0.02        0  tournament  1.000577e+06  9.994220e-07   \n",
       "2       150  0.9  0.02        5  tournament  1.000578e+06  9.994213e-07   \n",
       "3       150  0.6  0.02        2  tournament  1.000579e+06  9.994200e-07   \n",
       "4        80  0.9  0.02        0  tournament  1.000582e+06  9.994175e-07   \n",
       "5       150  0.6  0.02        5    roulette  1.000584e+06  9.994149e-07   \n",
       "6       150  0.9  0.02        0  tournament  1.000591e+06  9.994081e-07   \n",
       "7        80  0.9  0.10        5  tournament  1.000598e+06  9.994013e-07   \n",
       "8       150  0.6  0.02        0  tournament  1.000599e+06  9.994005e-07   \n",
       "9        80  0.9  0.02        2  tournament  1.000601e+06  9.993984e-07   \n",
       "\n",
       "   routes_count  final_diversity  \n",
       "0             5         0.087503  \n",
       "1             5         0.107446  \n",
       "2             5         0.066753  \n",
       "3             5         0.094726  \n",
       "4             5         0.110877  \n",
       "5             5         0.878344  \n",
       "6             5         0.090704  \n",
       "7             5         0.626449  \n",
       "8             5         0.078676  \n",
       "9             5         0.056232  "
      ]
     },
     "metadata": {},
     "output_type": "display_data"
    },
    {
     "name": "stdout",
     "output_type": "stream",
     "text": [
      "\n",
      "(3.1) Mejor fitness final = 0.000001 (distancia penalizada = 1000555.677)\n"
     ]
    },
    {
     "data": {
      "image/png": "[encoded data removed]",
      "text/plain": [
       "<Figure size 600x360 with 1 Axes>"
      ]
     },
     "metadata": {},
     "output_type": "display_data"
    },
    {
     "data": {
      "image/png": "[encoded data removed]",
      "text/plain": [
       "<Figure size 600x360 with 1 Axes>"
      ]
     },
     "metadata": {},
     "output_type": "display_data"
    },
    {
     "name": "stdout",
     "output_type": "stream",
     "text": [
      "No hay población final.\n"
     ]
    }
   ],
   "source": [
    "from itertools import product\n",
    "\n",
    "param_grid = {\n",
    "    'pop_size': [30, 80, 150],\n",
    "    'pc': [0.6, 0.9],\n",
    "    'pm': [0.02, 0.1, 0.2],\n",
    "    'elitism': [0, 2, 5],\n",
    "    'selection': ['tournament', 'roulette']\n",
    "}\n",
    "\n",
    "def run_grid(generations=250, patience=60, seed=2025, verbose=True, keep_top=3):\n",
    "    rows, top = [], []\n",
    "    for pop_size, pc, pm, elitism, selection in product(\n",
    "        param_grid['pop_size'], param_grid['pc'], param_grid['pm'],\n",
    "        param_grid['elitism'], param_grid['selection']\n",
    "    ):\n",
    "        if elitism >= pop_size: \n",
    "            continue\n",
    "        res = run_ga(pop_size=pop_size, pc=pc, pm=pm, elitism=elitism,\n",
    "                     selection=selection, generations=generations,\n",
    "                     patience=patience, seed=seed, verbose=False)\n",
    "        best_cost = res['best_cost']\n",
    "        best_fit = fitness_from_cost(best_cost)\n",
    "        routes_count = len(res['best_routes'])\n",
    "        final_div = res['history_div'][-1]\n",
    "        rows.append({\n",
    "            'pop_size': pop_size, 'pc': pc, 'pm': pm, 'elitism': elitism, 'selection': selection,\n",
    "            'best_cost': best_cost, 'best_fitness': best_fit,\n",
    "            'routes_count': routes_count, 'final_diversity': final_div\n",
    "        })\n",
    "        top.append({'params':{'pop_size':pop_size,'pc':pc,'pm':pm,'elitism':elitism,'selection':selection}, **res})\n",
    "        top = sorted(top, key=lambda d: d['best_cost'])[:keep_top]\n",
    "        if verbose:\n",
    "            print(f\"[{selection}] N={pop_size} pc={pc} pm={pm} e={elitism} \"\n",
    "                  f\"-> cost={best_cost:.2f} rutas={routes_count} div={final_div:.3f}\")\n",
    "    results = pd.DataFrame(rows).sort_values(by=['best_cost','routes_count']).reset_index(drop=True)\n",
    "    return results, top\n",
    "\n",
    "def plot_convergence(history_best, history_avg, title=None):\n",
    "    plt.figure(figsize=(6,3.6))\n",
    "    plt.plot(history_best, label=\"Mejor costo\")\n",
    "    plt.plot(history_avg, label=\"Costo promedio\")\n",
    "    plt.xlabel(\"Generación\"); plt.ylabel(\"Costo (distancia penalizada)\")\n",
    "    plt.title(title or \"Convergencia (mejor y promedio)\"); plt.grid(True); plt.legend(); plt.show()\n",
    "\n",
    "def plot_diversity(history_div, title=None):\n",
    "    plt.figure(figsize=(6,3.6))\n",
    "    plt.plot(history_div)\n",
    "    plt.xlabel(\"Generación\"); plt.ylabel(\"Entropía posicional (0–1)\")\n",
    "    plt.title(title or \"Diversidad poblacional\"); plt.grid(True); plt.show()\n",
    "\n",
    "def plot_entropy_per_position(population, title=None):\n",
    "    if not population: \n",
    "        print(\"No hay población final.\"); return\n",
    "    n = len(population[0]); m = len(population)\n",
    "    norm = log(n_customers) if n_customers > 1 else 1.0\n",
    "    ent = []\n",
    "    for pos in range(n):\n",
    "        counts = {}\n",
    "        for ind in population:\n",
    "            v = ind[pos]; counts[v] = counts.get(v, 0) + 1\n",
    "        H = 0.0\n",
    "        for c in counts.values():\n",
    "            p = c / m; H -= p * log(p)\n",
    "        ent.append(H / norm if norm > 0 else 0.0)\n",
    "    plt.figure(figsize=(7,3))\n",
    "    plt.bar(np.arange(1, n+1), ent)\n",
    "    plt.xlabel(\"Posición en la permutación\"); plt.ylabel(\"Entropía normalizada\")\n",
    "    plt.title(title or \"Entropía por posición (foto final)\"); plt.grid(True); plt.show()\n",
    "\n",
    "# --- Ejecutar la comparación ---\n",
    "results, top_runs = run_grid(generations=250, patience=60, seed=2025, verbose=True, keep_top=3)\n",
    "print(\"\\n== Mejores 10 configuraciones por costo (3.1) ==\")\n",
    "display(results.head(10))\n",
    "\n",
    "# Curvas y diversidad de la mejor configuración\n",
    "if top_runs:\n",
    "    best_run = top_runs[0]\n",
    "    print(f\"\\n(3.1) Mejor fitness final = {fitness_from_cost(best_run['best_cost']):.6f} \"\n",
    "          f\"(distancia penalizada = {best_run['best_cost']:.3f})\")\n",
    "    plot_convergence(best_run['history_best'], best_run['history_avg'],\n",
    "                     title=f\"Convergencia - {best_run['params']}\")\n",
    "    plot_diversity(best_run['history_div'], title=\"Diversidad - mejor configuración\")\n",
    "    plot_entropy_per_position(best_run['final_population'], title=\"Entropía por posición (final)\")\n"
   ]
  },
  {
   "cell_type": "markdown",
   "id": "1a22d873",
   "metadata": {},
   "source": [
    "4) Reflexion"
   ]
  },
  {
   "cell_type": "code",
   "execution_count": null,
   "id": "d8e1a384",
   "metadata": {},
   "outputs": [
    {
     "name": "stdout",
     "output_type": "stream",
     "text": [
      "\n",
      "=== Por selección ===\n"
     ]
    },
    {
     "data": {
      "application/vnd.microsoft.datawrangler.viewer.v0+json": {
       "columns": [
        {
         "name": "selection",
         "rawType": "object",
         "type": "string"
        },
        {
         "name": "best_cost",
         "rawType": "float64",
         "type": "float"
        },
        {
         "name": "best_fitness",
         "rawType": "float64",
         "type": "float"
        },
        {
         "name": "final_diversity",
         "rawType": "float64",
         "type": "float"
        }
       ],
       "ref": "09d26000-c7d3-468c-9d13-4d040e51bc6e",
       "rows": [
        [
         "tournament",
         "1000707.4370687939",
         "9.992920748874129e-07",
         "0.5501625557647727"
        ],
        [
         "roulette",
         "1000809.8098047515",
         "9.991898553472897e-07",
         "0.8319810555697541"
        ]
       ],
       "shape": {
        "columns": 3,
        "rows": 2
       }
      },
      "text/html": [
       "<div>\n",
       "<style scoped>\n",
       "    .dataframe tbody tr th:only-of-type {\n",
       "        vertical-align: middle;\n",
       "    }\n",
       "\n",
       "    .dataframe tbody tr th {\n",
       "        vertical-align: top;\n",
       "    }\n",
       "\n",
       "    .dataframe thead th {\n",
       "        text-align: right;\n",
       "    }\n",
       "</style>\n",
       "<table border=\"1\" class=\"dataframe\">\n",
       "  <thead>\n",
       "    <tr style=\"text-align: right;\">\n",
       "      <th></th>\n",
       "      <th>best_cost</th>\n",
       "      <th>best_fitness</th>\n",
       "      <th>final_diversity</th>\n",
       "    </tr>\n",
       "    <tr>\n",
       "      <th>selection</th>\n",
       "      <th></th>\n",
       "      <th></th>\n",
       "      <th></th>\n",
       "    </tr>\n",
       "  </thead>\n",
       "  <tbody>\n",
       "    <tr>\n",
       "      <th>tournament</th>\n",
       "      <td>1.000707e+06</td>\n",
       "      <td>9.992921e-07</td>\n",
       "      <td>0.550163</td>\n",
       "    </tr>\n",
       "    <tr>\n",
       "      <th>roulette</th>\n",
       "      <td>1.000810e+06</td>\n",
       "      <td>9.991899e-07</td>\n",
       "      <td>0.831981</td>\n",
       "    </tr>\n",
       "  </tbody>\n",
       "</table>\n",
       "</div>"
      ],
      "text/plain": [
       "               best_cost  best_fitness  final_diversity\n",
       "selection                                              \n",
       "tournament  1.000707e+06  9.992921e-07         0.550163\n",
       "roulette    1.000810e+06  9.991899e-07         0.831981"
      ]
     },
     "metadata": {},
     "output_type": "display_data"
    },
    {
     "name": "stdout",
     "output_type": "stream",
     "text": [
      "\n",
      "=== Por pm ===\n"
     ]
    },
    {
     "data": {
      "application/vnd.microsoft.datawrangler.viewer.v0+json": {
       "columns": [
        {
         "name": "pm",
         "rawType": "float64",
         "type": "float"
        },
        {
         "name": "best_cost",
         "rawType": "float64",
         "type": "float"
        },
        {
         "name": "best_fitness",
         "rawType": "float64",
         "type": "float"
        },
        {
         "name": "final_diversity",
         "rawType": "float64",
         "type": "float"
        }
       ],
       "ref": "dcfbc95d-c115-4750-9749-9bf64394c31e",
       "rows": [
        [
         "0.02",
         "1000679.4194397742",
         "9.993200545188916e-07",
         "0.4063517229523928"
        ],
        [
         "0.1",
         "1000767.9051012809",
         "9.992316949222364e-07",
         "0.7938287677763353"
        ],
        [
         "0.2",
         "1000828.5457692631",
         "9.99171145910926e-07",
         "0.873034926273062"
        ]
       ],
       "shape": {
        "columns": 3,
        "rows": 3
       }
      },
      "text/html": [
       "<div>\n",
       "<style scoped>\n",
       "    .dataframe tbody tr th:only-of-type {\n",
       "        vertical-align: middle;\n",
       "    }\n",
       "\n",
       "    .dataframe tbody tr th {\n",
       "        vertical-align: top;\n",
       "    }\n",
       "\n",
       "    .dataframe thead th {\n",
       "        text-align: right;\n",
       "    }\n",
       "</style>\n",
       "<table border=\"1\" class=\"dataframe\">\n",
       "  <thead>\n",
       "    <tr style=\"text-align: right;\">\n",
       "      <th></th>\n",
       "      <th>best_cost</th>\n",
       "      <th>best_fitness</th>\n",
       "      <th>final_diversity</th>\n",
       "    </tr>\n",
       "    <tr>\n",
       "      <th>pm</th>\n",
       "      <th></th>\n",
       "      <th></th>\n",
       "      <th></th>\n",
       "    </tr>\n",
       "  </thead>\n",
       "  <tbody>\n",
       "    <tr>\n",
       "      <th>0.02</th>\n",
       "      <td>1.000679e+06</td>\n",
       "      <td>9.993201e-07</td>\n",
       "      <td>0.406352</td>\n",
       "    </tr>\n",
       "    <tr>\n",
       "      <th>0.10</th>\n",
       "      <td>1.000768e+06</td>\n",
       "      <td>9.992317e-07</td>\n",
       "      <td>0.793829</td>\n",
       "    </tr>\n",
       "    <tr>\n",
       "      <th>0.20</th>\n",
       "      <td>1.000829e+06</td>\n",
       "      <td>9.991711e-07</td>\n",
       "      <td>0.873035</td>\n",
       "    </tr>\n",
       "  </tbody>\n",
       "</table>\n",
       "</div>"
      ],
      "text/plain": [
       "         best_cost  best_fitness  final_diversity\n",
       "pm                                               \n",
       "0.02  1.000679e+06  9.993201e-07         0.406352\n",
       "0.10  1.000768e+06  9.992317e-07         0.793829\n",
       "0.20  1.000829e+06  9.991711e-07         0.873035"
      ]
     },
     "metadata": {},
     "output_type": "display_data"
    },
    {
     "name": "stdout",
     "output_type": "stream",
     "text": [
      "\n",
      "=== Por elitism ===\n"
     ]
    },
    {
     "data": {
      "application/vnd.microsoft.datawrangler.viewer.v0+json": {
       "columns": [
        {
         "name": "elitism",
         "rawType": "int64",
         "type": "integer"
        },
        {
         "name": "best_cost",
         "rawType": "float64",
         "type": "float"
        },
        {
         "name": "best_fitness",
         "rawType": "float64",
         "type": "float"
        },
        {
         "name": "final_diversity",
         "rawType": "float64",
         "type": "float"
        }
       ],
       "ref": "526b9fca-753e-4450-9358-2bd507caf401",
       "rows": [
        [
         "5",
         "1000698.9556048992",
         "9.993005420720084e-07",
         "0.6440130914535677"
        ],
        [
         "2",
         "1000752.7995298795",
         "9.992467767287096e-07",
         "0.7033596156602119"
        ],
        [
         "0",
         "1000824.1151755392",
         "9.99175576551336e-07",
         "0.7258427098880106"
        ]
       ],
       "shape": {
        "columns": 3,
        "rows": 3
       }
      },
      "text/html": [
       "<div>\n",
       "<style scoped>\n",
       "    .dataframe tbody tr th:only-of-type {\n",
       "        vertical-align: middle;\n",
       "    }\n",
       "\n",
       "    .dataframe tbody tr th {\n",
       "        vertical-align: top;\n",
       "    }\n",
       "\n",
       "    .dataframe thead th {\n",
       "        text-align: right;\n",
       "    }\n",
       "</style>\n",
       "<table border=\"1\" class=\"dataframe\">\n",
       "  <thead>\n",
       "    <tr style=\"text-align: right;\">\n",
       "      <th></th>\n",
       "      <th>best_cost</th>\n",
       "      <th>best_fitness</th>\n",
       "      <th>final_diversity</th>\n",
       "    </tr>\n",
       "    <tr>\n",
       "      <th>elitism</th>\n",
       "      <th></th>\n",
       "      <th></th>\n",
       "      <th></th>\n",
       "    </tr>\n",
       "  </thead>\n",
       "  <tbody>\n",
       "    <tr>\n",
       "      <th>5</th>\n",
       "      <td>1.000699e+06</td>\n",
       "      <td>9.993005e-07</td>\n",
       "      <td>0.644013</td>\n",
       "    </tr>\n",
       "    <tr>\n",
       "      <th>2</th>\n",
       "      <td>1.000753e+06</td>\n",
       "      <td>9.992468e-07</td>\n",
       "      <td>0.703360</td>\n",
       "    </tr>\n",
       "    <tr>\n",
       "      <th>0</th>\n",
       "      <td>1.000824e+06</td>\n",
       "      <td>9.991756e-07</td>\n",
       "      <td>0.725843</td>\n",
       "    </tr>\n",
       "  </tbody>\n",
       "</table>\n",
       "</div>"
      ],
      "text/plain": [
       "            best_cost  best_fitness  final_diversity\n",
       "elitism                                             \n",
       "5        1.000699e+06  9.993005e-07         0.644013\n",
       "2        1.000753e+06  9.992468e-07         0.703360\n",
       "0        1.000824e+06  9.991756e-07         0.725843"
      ]
     },
     "metadata": {},
     "output_type": "display_data"
    },
    {
     "name": "stdout",
     "output_type": "stream",
     "text": [
      "\n",
      "=== Por pop_size ===\n"
     ]
    },
    {
     "data": {
      "application/vnd.microsoft.datawrangler.viewer.v0+json": {
       "columns": [
        {
         "name": "pop_size",
         "rawType": "int64",
         "type": "integer"
        },
        {
         "name": "best_cost",
         "rawType": "float64",
         "type": "float"
        },
        {
         "name": "best_fitness",
         "rawType": "float64",
         "type": "float"
        },
        {
         "name": "final_diversity",
         "rawType": "float64",
         "type": "float"
        }
       ],
       "ref": "42ba1853-29c0-4481-95a6-50c7d35f5ea9",
       "rows": [
        [
         "150",
         "1000751.5221910197",
         "9.992480542358302e-07",
         "0.7856141536224338"
        ],
        [
         "80",
         "1000757.7333711976",
         "9.992418536044082e-07",
         "0.7243798183462025"
        ],
        [
         "30",
         "1000766.6147481009",
         "9.992329875118157e-07",
         "0.5632214450331539"
        ]
       ],
       "shape": {
        "columns": 3,
        "rows": 3
       }
      },
      "text/html": [
       "<div>\n",
       "<style scoped>\n",
       "    .dataframe tbody tr th:only-of-type {\n",
       "        vertical-align: middle;\n",
       "    }\n",
       "\n",
       "    .dataframe tbody tr th {\n",
       "        vertical-align: top;\n",
       "    }\n",
       "\n",
       "    .dataframe thead th {\n",
       "        text-align: right;\n",
       "    }\n",
       "</style>\n",
       "<table border=\"1\" class=\"dataframe\">\n",
       "  <thead>\n",
       "    <tr style=\"text-align: right;\">\n",
       "      <th></th>\n",
       "      <th>best_cost</th>\n",
       "      <th>best_fitness</th>\n",
       "      <th>final_diversity</th>\n",
       "    </tr>\n",
       "    <tr>\n",
       "      <th>pop_size</th>\n",
       "      <th></th>\n",
       "      <th></th>\n",
       "      <th></th>\n",
       "    </tr>\n",
       "  </thead>\n",
       "  <tbody>\n",
       "    <tr>\n",
       "      <th>150</th>\n",
       "      <td>1.000752e+06</td>\n",
       "      <td>9.992481e-07</td>\n",
       "      <td>0.785614</td>\n",
       "    </tr>\n",
       "    <tr>\n",
       "      <th>80</th>\n",
       "      <td>1.000758e+06</td>\n",
       "      <td>9.992419e-07</td>\n",
       "      <td>0.724380</td>\n",
       "    </tr>\n",
       "    <tr>\n",
       "      <th>30</th>\n",
       "      <td>1.000767e+06</td>\n",
       "      <td>9.992330e-07</td>\n",
       "      <td>0.563221</td>\n",
       "    </tr>\n",
       "  </tbody>\n",
       "</table>\n",
       "</div>"
      ],
      "text/plain": [
       "             best_cost  best_fitness  final_diversity\n",
       "pop_size                                             \n",
       "150       1.000752e+06  9.992481e-07         0.785614\n",
       "80        1.000758e+06  9.992419e-07         0.724380\n",
       "30        1.000767e+06  9.992330e-07         0.563221"
      ]
     },
     "metadata": {},
     "output_type": "display_data"
    },
    {
     "name": "stdout",
     "output_type": "stream",
     "text": [
      "\n",
      "=== ¿Convergencia prematura en top 3? ===\n",
      "Top 1 {'pop_size': 150, 'pc': 0.6, 'pm': 0.02, 'elitism': 5, 'selection': 'tournament'} -> prematura: True\n",
      "Top 2 {'pop_size': 30, 'pc': 0.6, 'pm': 0.02, 'elitism': 0, 'selection': 'tournament'} -> prematura: True\n",
      "Top 3 {'pop_size': 150, 'pc': 0.9, 'pm': 0.02, 'elitism': 5, 'selection': 'tournament'} -> prematura: False\n"
     ]
    }
   ],
   "source": [
    "# Promedios por parámetro \n",
    "print(\"\\n=== Por selección ===\")\n",
    "display(results.groupby('selection')[['best_cost','best_fitness','final_diversity']].mean().sort_values('best_cost'))\n",
    "\n",
    "print(\"\\n=== Por pm ===\")\n",
    "display(results.groupby('pm')[['best_cost','best_fitness','final_diversity']].mean().sort_values('best_cost'))\n",
    "\n",
    "print(\"\\n=== Por elitism ===\")\n",
    "display(results.groupby('elitism')[['best_cost','best_fitness','final_diversity']].mean().sort_values('best_cost'))\n",
    "\n",
    "print(\"\\n=== Por pop_size ===\")\n",
    "display(results.groupby('pop_size')[['best_cost','best_fitness','final_diversity']].mean().sort_values('best_cost'))\n",
    "\n",
    "# Heurística simple de convergencia prematura (4.2)\n",
    "def premature_convergence_flag(run_dict):\n",
    "    hist_div = run_dict['history_div']\n",
    "    hist_best = run_dict['history_best']\n",
    "    g = len(hist_div) - 1\n",
    "    if g < 10:  # corridas muy cortas\n",
    "        return False\n",
    "    early_cut = int(0.3 * g)\n",
    "    late_cut = int(0.6 * g)\n",
    "    early_low_div = (np.array(hist_div[:early_cut+1]) < 0.15).any()\n",
    "    start = hist_best[late_cut]; end = hist_best[-1]\n",
    "    marginal_improvement = (start - end) / max(start, 1e-9)\n",
    "    return early_low_div and (marginal_improvement < 0.01)\n",
    "\n",
    "if top_runs:\n",
    "    print(\"\\n=== ¿Convergencia prematura en top 3? ===\")\n",
    "    for i, r in enumerate(top_runs, 1):\n",
    "        print(f\"Top {i} {r['params']} -> prematura: {premature_convergence_flag(r)}\")\n"
   ]
  }
 ],
 "metadata": {
  "kernelspec": {
   "display_name": "Python 3",
   "language": "python",
   "name": "python3"
  },
  "language_info": {
   "codemirror_mode": {
    "name": "ipython",
    "version": 3
   },
   "file_extension": ".py",
   "mimetype": "text/x-python",
   "name": "python",
   "nbconvert_exporter": "python",
   "pygments_lexer": "ipython3",
   "version": "3.10.4"
  }
 },
 "nbformat": 4,
 "nbformat_minor": 5
}
