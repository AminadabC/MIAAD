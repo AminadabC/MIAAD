{
 "cells": [
  {
   "cell_type": "markdown",
   "id": "74b9cab8",
   "metadata": {},
   "source": [
    "### **Aplicaciones de conceptos estadísticos en conjunto de datos** ###\n",
    "\n",
    "Mstemáticas y Estadística para Inteligencia Artificial\n",
    "\n",
    "**Alumno**: Aminadab Córdova Acosta"
   ]
  },
  {
   "cell_type": "markdown",
   "id": "a40d109d",
   "metadata": {},
   "source": [
    "Ejercicios. Desarrolle los siguientes planteamientos. Aunque est´an pensados\n",
    "a desarrollarse en Python, usted podr´a elegir cualquier otro lenguaje o entorno\n",
    "de programaci´on. Si usted opta por esta segunda opci´on, aseg´urese de utilizar\n",
    "el mismo conjunto de datos (eg. iris, tips. etc). Usted deber´a incluir el c´odigo\n",
    "fuente usado y la salida generada. Adem´as debe incluir sus observaciones de lo\n",
    "que fue obteniendo. Al final deber´a entregar un archivo en formato PDF."
   ]
  },
  {
   "cell_type": "markdown",
   "id": "ccd5e0a6",
   "metadata": {},
   "source": [
    "**1. Operaciones básicas**\n",
    "\n",
    "Instrucciones:\n",
    "1. Crea un array de 10 elementos con valores entre 1 y 10.\n",
    "2. Calcula la media, mediana, y desviaci´on est´andar de los valores.\n",
    "3. Multiplica cada valor por 2."
   ]
  },
  {
   "cell_type": "code",
   "execution_count": null,
   "id": "a7da4de5",
   "metadata": {},
   "outputs": [
    {
     "data": {
      "text/plain": [
       "array([ 1,  2,  3,  4,  5,  6,  7,  8,  9, 10])"
      ]
     },
     "execution_count": 5,
     "metadata": {},
     "output_type": "execute_result"
    }
   ],
   "source": [
    "import numpy as np\n",
    "\n",
    "#1. Crear un array de 10 elementos con valores aleatorios entre 1 y 10\n",
    "arr = np.arange(1, 11, 1)\n",
    "arr"
   ]
  },
  {
   "cell_type": "code",
   "execution_count": 10,
   "id": "6ba9f243",
   "metadata": {},
   "outputs": [
    {
     "name": "stdout",
     "output_type": "stream",
     "text": [
      "Media:  5.5 Mediana:  5.5 Desviacion Estándar:  2.8722813232690143\n"
     ]
    }
   ],
   "source": [
    "#2. Calcula la media, mediana y desviación estándar del array\n",
    "mean = np.mean(arr)\n",
    "median = np.median(arr)\n",
    "std_dev = np.std(arr)\n",
    "print(\"Media: \", mean, \"Mediana: \", median, \"Desviacion Estándar: \", std_dev)"
   ]
  },
  {
   "cell_type": "code",
   "execution_count": 12,
   "id": "ce08be02",
   "metadata": {},
   "outputs": [
    {
     "name": "stdout",
     "output_type": "stream",
     "text": [
      "Array multiplicado por 2:  [ 2  4  6  8 10 12 14 16 18 20]\n"
     ]
    }
   ],
   "source": [
    "# 3. Multiplicar el array por 2\n",
    "arr_mult = arr * 2\n",
    "print(\"Array multiplicado por 2: \", arr_mult)"
   ]
  }
 ],
 "metadata": {
  "kernelspec": {
   "display_name": "Python 3",
   "language": "python",
   "name": "python3"
  },
  "language_info": {
   "codemirror_mode": {
    "name": "ipython",
    "version": 3
   },
   "file_extension": ".py",
   "mimetype": "text/x-python",
   "name": "python",
   "nbconvert_exporter": "python",
   "pygments_lexer": "ipython3",
   "version": "3.10.4"
  }
 },
 "nbformat": 4,
 "nbformat_minor": 5
}
