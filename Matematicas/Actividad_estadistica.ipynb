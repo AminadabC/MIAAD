{
 "cells": [
  {
   "cell_type": "markdown",
   "id": "74b9cab8",
   "metadata": {},
   "source": [
    "### **Aplicaciones de conceptos estadísticos en conjunto de datos** ###\n",
    "\n",
    "Mstemáticas y Estadística para Inteligencia Artificial\n",
    "\n",
    "**Alumno**: Aminadab Córdova Acosta"
   ]
  },
  {
   "cell_type": "markdown",
   "id": "a40d109d",
   "metadata": {},
   "source": [
    "Ejercicios. Desarrolle los siguientes planteamientos. Aunque est´an pensados\n",
    "a desarrollarse en Python, usted podr´a elegir cualquier otro lenguaje o entorno\n",
    "de programaci´on. Si usted opta por esta segunda opci´on, aseg´urese de utilizar\n",
    "el mismo conjunto de datos (eg. iris, tips. etc). Usted deber´a incluir el c´odigo\n",
    "fuente usado y la salida generada. Adem´as debe incluir sus observaciones de lo\n",
    "que fue obteniendo. Al final deber´a entregar un archivo en formato PDF."
   ]
  },
  {
   "cell_type": "markdown",
   "id": "ccd5e0a6",
   "metadata": {},
   "source": [
    "**1. Operaciones básicas**\n",
    "\n",
    "Instrucciones:\n",
    "1. Crea un array de 10 elementos con valores entre 1 y 10.\n",
    "2. Calcula la media, mediana, y desviaci´on est´andar de los valores.\n",
    "3. Multiplica cada valor por 2."
   ]
  }
 ],
 "metadata": {
  "language_info": {
   "name": "python"
  }
 },
 "nbformat": 4,
 "nbformat_minor": 5
}
