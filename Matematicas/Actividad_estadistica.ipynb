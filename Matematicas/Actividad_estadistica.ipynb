{
 "cells": [
  {
   "cell_type": "markdown",
   "id": "74b9cab8",
   "metadata": {},
   "source": [
    "### **Aplicaciones de conceptos estadísticos en conjunto de datos** ###\n",
    "\n",
    "Mstemáticas y Estadística para Inteligencia Artificial\n",
    "\n",
    "**Instructora**: Helen Clara Peñate Rodríguez\n",
    "\n",
    "**Alumno**: Aminadab Córdova Acosta"
   ]
  },
  {
   "cell_type": "markdown",
   "id": "a40d109d",
   "metadata": {},
   "source": [
    "Ejercicios. Desarrolle los siguientes planteamientos. Aunque est´an pensados\n",
    "a desarrollarse en Python, usted podr´a elegir cualquier otro lenguaje o entorno\n",
    "de programaci´on. Si usted opta por esta segunda opci´on, aseg´urese de utilizar\n",
    "el mismo conjunto de datos (eg. iris, tips. etc). Usted deber´a incluir el c´odigo\n",
    "fuente usado y la salida generada. Adem´as debe incluir sus observaciones de lo\n",
    "que fue obteniendo. Al final deber´a entregar un archivo en formato PDF."
   ]
  },
  {
   "cell_type": "markdown",
   "id": "ccd5e0a6",
   "metadata": {},
   "source": [
    "**1. Operaciones básicas**\n",
    "\n",
    "Instrucciones:\n",
    "1. Crea un array de 10 elementos con valores entre 1 y 10.\n",
    "2. Calcula la media, mediana, y desviaci´on est´andar de los valores.\n",
    "3. Multiplica cada valor por 2."
   ]
  },
  {
   "cell_type": "code",
   "execution_count": null,
   "id": "a7da4de5",
   "metadata": {},
   "outputs": [
    {
     "data": {
      "text/plain": [
       "array([ 1,  2,  3,  4,  5,  6,  7,  8,  9, 10])"
      ]
     },
     "execution_count": 5,
     "metadata": {},
     "output_type": "execute_result"
    }
   ],
   "source": [
    "import numpy as np\n",
    "\n",
    "#1. Crear un array de 10 elementos con valores aleatorios entre 1 y 10\n",
    "arr = np.arange(1, 11, 1)\n",
    "arr"
   ]
  },
  {
   "cell_type": "code",
   "execution_count": 10,
   "id": "6ba9f243",
   "metadata": {},
   "outputs": [
    {
     "name": "stdout",
     "output_type": "stream",
     "text": [
      "Media:  5.5 Mediana:  5.5 Desviacion Estándar:  2.8722813232690143\n"
     ]
    }
   ],
   "source": [
    "#2. Calcula la media, mediana y desviación estándar del array\n",
    "mean = np.mean(arr)\n",
    "median = np.median(arr)\n",
    "std_dev = np.std(arr)\n",
    "print(\"Media: \", mean, \"Mediana: \", median, \"Desviacion Estándar: \", std_dev)"
   ]
  },
  {
   "cell_type": "code",
   "execution_count": 12,
   "id": "ce08be02",
   "metadata": {},
   "outputs": [
    {
     "name": "stdout",
     "output_type": "stream",
     "text": [
      "Array multiplicado por 2:  [ 2  4  6  8 10 12 14 16 18 20]\n"
     ]
    }
   ],
   "source": [
    "# 3. Multiplicar el array por 2\n",
    "arr_mult = arr * 2\n",
    "print(\"Array multiplicado por 2: \", arr_mult)"
   ]
  },
  {
   "cell_type": "markdown",
   "id": "470db567",
   "metadata": {},
   "source": [
    "**2. Operaciones con Dataframes**\n",
    "\n",
    "Instrucciones:\n",
    "1. Crea un DataFrame con 3 columnas (A, B, C) y 5 filas con números\n",
    "aleatorios enteros.\n",
    "2. Renombra las columnas a Col1, Col2, Col3.\n",
    "3. A˜nade una nueva columna que sea la suma de las columnas Col1 y Col2.\n",
    "4. Elimina todas las filas donde el valor de Col3 sea menor que 10"
   ]
  },
  {
   "cell_type": "code",
   "execution_count": 13,
   "id": "a17c1671",
   "metadata": {},
   "outputs": [
    {
     "data": {
      "application/vnd.microsoft.datawrangler.viewer.v0+json": {
       "columns": [
        {
         "name": "index",
         "rawType": "int64",
         "type": "integer"
        },
        {
         "name": "A",
         "rawType": "int32",
         "type": "integer"
        },
        {
         "name": "B",
         "rawType": "int32",
         "type": "integer"
        },
        {
         "name": "C",
         "rawType": "int32",
         "type": "integer"
        }
       ],
       "conversionMethod": "pd.DataFrame",
       "ref": "8f049436-3d19-4199-a314-aac44e37b2ea",
       "rows": [
        [
         "0",
         "51",
         "5",
         "79"
        ],
        [
         "1",
         "95",
         "69",
         "10"
        ],
        [
         "2",
         "8",
         "10",
         "56"
        ],
        [
         "3",
         "15",
         "25",
         "8"
        ],
        [
         "4",
         "36",
         "10",
         "63"
        ]
       ],
       "shape": {
        "columns": 3,
        "rows": 5
       }
      },
      "text/html": [
       "<div>\n",
       "<style scoped>\n",
       "    .dataframe tbody tr th:only-of-type {\n",
       "        vertical-align: middle;\n",
       "    }\n",
       "\n",
       "    .dataframe tbody tr th {\n",
       "        vertical-align: top;\n",
       "    }\n",
       "\n",
       "    .dataframe thead th {\n",
       "        text-align: right;\n",
       "    }\n",
       "</style>\n",
       "<table border=\"1\" class=\"dataframe\">\n",
       "  <thead>\n",
       "    <tr style=\"text-align: right;\">\n",
       "      <th></th>\n",
       "      <th>A</th>\n",
       "      <th>B</th>\n",
       "      <th>C</th>\n",
       "    </tr>\n",
       "  </thead>\n",
       "  <tbody>\n",
       "    <tr>\n",
       "      <th>0</th>\n",
       "      <td>51</td>\n",
       "      <td>5</td>\n",
       "      <td>79</td>\n",
       "    </tr>\n",
       "    <tr>\n",
       "      <th>1</th>\n",
       "      <td>95</td>\n",
       "      <td>69</td>\n",
       "      <td>10</td>\n",
       "    </tr>\n",
       "    <tr>\n",
       "      <th>2</th>\n",
       "      <td>8</td>\n",
       "      <td>10</td>\n",
       "      <td>56</td>\n",
       "    </tr>\n",
       "    <tr>\n",
       "      <th>3</th>\n",
       "      <td>15</td>\n",
       "      <td>25</td>\n",
       "      <td>8</td>\n",
       "    </tr>\n",
       "    <tr>\n",
       "      <th>4</th>\n",
       "      <td>36</td>\n",
       "      <td>10</td>\n",
       "      <td>63</td>\n",
       "    </tr>\n",
       "  </tbody>\n",
       "</table>\n",
       "</div>"
      ],
      "text/plain": [
       "    A   B   C\n",
       "0  51   5  79\n",
       "1  95  69  10\n",
       "2   8  10  56\n",
       "3  15  25   8\n",
       "4  36  10  63"
      ]
     },
     "execution_count": 13,
     "metadata": {},
     "output_type": "execute_result"
    }
   ],
   "source": [
    "# 1. Crea un Dataframe con 3 columnas y 5 filas con valores aleatorios enterios\n",
    "import pandas as pd\n",
    "\n",
    "# Generar un DataFrame \n",
    "df = pd.DataFrame(np.random.randint(1, 100, size=(5, 3)), columns=['A', 'B', 'C'])\n",
    "df "
   ]
  },
  {
   "cell_type": "code",
   "execution_count": 14,
   "id": "0acc581d",
   "metadata": {},
   "outputs": [
    {
     "data": {
      "application/vnd.microsoft.datawrangler.viewer.v0+json": {
       "columns": [
        {
         "name": "index",
         "rawType": "int64",
         "type": "integer"
        },
        {
         "name": "Col1",
         "rawType": "int32",
         "type": "integer"
        },
        {
         "name": "Col2",
         "rawType": "int32",
         "type": "integer"
        },
        {
         "name": "Col3",
         "rawType": "int32",
         "type": "integer"
        }
       ],
       "conversionMethod": "pd.DataFrame",
       "ref": "b8d9afc4-f4bd-4f79-a88f-6b37b27d12ad",
       "rows": [
        [
         "0",
         "51",
         "5",
         "79"
        ],
        [
         "1",
         "95",
         "69",
         "10"
        ],
        [
         "2",
         "8",
         "10",
         "56"
        ],
        [
         "3",
         "15",
         "25",
         "8"
        ],
        [
         "4",
         "36",
         "10",
         "63"
        ]
       ],
       "shape": {
        "columns": 3,
        "rows": 5
       }
      },
      "text/html": [
       "<div>\n",
       "<style scoped>\n",
       "    .dataframe tbody tr th:only-of-type {\n",
       "        vertical-align: middle;\n",
       "    }\n",
       "\n",
       "    .dataframe tbody tr th {\n",
       "        vertical-align: top;\n",
       "    }\n",
       "\n",
       "    .dataframe thead th {\n",
       "        text-align: right;\n",
       "    }\n",
       "</style>\n",
       "<table border=\"1\" class=\"dataframe\">\n",
       "  <thead>\n",
       "    <tr style=\"text-align: right;\">\n",
       "      <th></th>\n",
       "      <th>Col1</th>\n",
       "      <th>Col2</th>\n",
       "      <th>Col3</th>\n",
       "    </tr>\n",
       "  </thead>\n",
       "  <tbody>\n",
       "    <tr>\n",
       "      <th>0</th>\n",
       "      <td>51</td>\n",
       "      <td>5</td>\n",
       "      <td>79</td>\n",
       "    </tr>\n",
       "    <tr>\n",
       "      <th>1</th>\n",
       "      <td>95</td>\n",
       "      <td>69</td>\n",
       "      <td>10</td>\n",
       "    </tr>\n",
       "    <tr>\n",
       "      <th>2</th>\n",
       "      <td>8</td>\n",
       "      <td>10</td>\n",
       "      <td>56</td>\n",
       "    </tr>\n",
       "    <tr>\n",
       "      <th>3</th>\n",
       "      <td>15</td>\n",
       "      <td>25</td>\n",
       "      <td>8</td>\n",
       "    </tr>\n",
       "    <tr>\n",
       "      <th>4</th>\n",
       "      <td>36</td>\n",
       "      <td>10</td>\n",
       "      <td>63</td>\n",
       "    </tr>\n",
       "  </tbody>\n",
       "</table>\n",
       "</div>"
      ],
      "text/plain": [
       "   Col1  Col2  Col3\n",
       "0    51     5    79\n",
       "1    95    69    10\n",
       "2     8    10    56\n",
       "3    15    25     8\n",
       "4    36    10    63"
      ]
     },
     "execution_count": 14,
     "metadata": {},
     "output_type": "execute_result"
    }
   ],
   "source": [
    "# 2. Renombra las columnas a 'Col1', 'Col2', 'Col3'\n",
    "df.rename(columns={'A': 'Col1', 'B': 'Col2', 'C': 'Col3'}, inplace=True)\n",
    "df"
   ]
  },
  {
   "cell_type": "code",
   "execution_count": 15,
   "id": "5a9a80b7",
   "metadata": {},
   "outputs": [
    {
     "data": {
      "application/vnd.microsoft.datawrangler.viewer.v0+json": {
       "columns": [
        {
         "name": "index",
         "rawType": "int64",
         "type": "integer"
        },
        {
         "name": "Col1",
         "rawType": "int32",
         "type": "integer"
        },
        {
         "name": "Col2",
         "rawType": "int32",
         "type": "integer"
        },
        {
         "name": "Col3",
         "rawType": "int32",
         "type": "integer"
        },
        {
         "name": "Col4",
         "rawType": "int32",
         "type": "integer"
        }
       ],
       "conversionMethod": "pd.DataFrame",
       "ref": "569c323a-8116-4f91-a69b-44c8f87fd9a8",
       "rows": [
        [
         "0",
         "51",
         "5",
         "79",
         "56"
        ],
        [
         "1",
         "95",
         "69",
         "10",
         "164"
        ],
        [
         "2",
         "8",
         "10",
         "56",
         "18"
        ],
        [
         "3",
         "15",
         "25",
         "8",
         "40"
        ],
        [
         "4",
         "36",
         "10",
         "63",
         "46"
        ]
       ],
       "shape": {
        "columns": 4,
        "rows": 5
       }
      },
      "text/html": [
       "<div>\n",
       "<style scoped>\n",
       "    .dataframe tbody tr th:only-of-type {\n",
       "        vertical-align: middle;\n",
       "    }\n",
       "\n",
       "    .dataframe tbody tr th {\n",
       "        vertical-align: top;\n",
       "    }\n",
       "\n",
       "    .dataframe thead th {\n",
       "        text-align: right;\n",
       "    }\n",
       "</style>\n",
       "<table border=\"1\" class=\"dataframe\">\n",
       "  <thead>\n",
       "    <tr style=\"text-align: right;\">\n",
       "      <th></th>\n",
       "      <th>Col1</th>\n",
       "      <th>Col2</th>\n",
       "      <th>Col3</th>\n",
       "      <th>Col4</th>\n",
       "    </tr>\n",
       "  </thead>\n",
       "  <tbody>\n",
       "    <tr>\n",
       "      <th>0</th>\n",
       "      <td>51</td>\n",
       "      <td>5</td>\n",
       "      <td>79</td>\n",
       "      <td>56</td>\n",
       "    </tr>\n",
       "    <tr>\n",
       "      <th>1</th>\n",
       "      <td>95</td>\n",
       "      <td>69</td>\n",
       "      <td>10</td>\n",
       "      <td>164</td>\n",
       "    </tr>\n",
       "    <tr>\n",
       "      <th>2</th>\n",
       "      <td>8</td>\n",
       "      <td>10</td>\n",
       "      <td>56</td>\n",
       "      <td>18</td>\n",
       "    </tr>\n",
       "    <tr>\n",
       "      <th>3</th>\n",
       "      <td>15</td>\n",
       "      <td>25</td>\n",
       "      <td>8</td>\n",
       "      <td>40</td>\n",
       "    </tr>\n",
       "    <tr>\n",
       "      <th>4</th>\n",
       "      <td>36</td>\n",
       "      <td>10</td>\n",
       "      <td>63</td>\n",
       "      <td>46</td>\n",
       "    </tr>\n",
       "  </tbody>\n",
       "</table>\n",
       "</div>"
      ],
      "text/plain": [
       "   Col1  Col2  Col3  Col4\n",
       "0    51     5    79    56\n",
       "1    95    69    10   164\n",
       "2     8    10    56    18\n",
       "3    15    25     8    40\n",
       "4    36    10    63    46"
      ]
     },
     "execution_count": 15,
     "metadata": {},
     "output_type": "execute_result"
    }
   ],
   "source": [
    "# 3. Añade una nueva columna 'Col4' que sea la suma de 'Col1' y 'Col2'\n",
    "df['Col4'] = df['Col1'] + df['Col2']\n",
    "df"
   ]
  },
  {
   "cell_type": "code",
   "execution_count": 16,
   "id": "3439d197",
   "metadata": {},
   "outputs": [
    {
     "data": {
      "application/vnd.microsoft.datawrangler.viewer.v0+json": {
       "columns": [
        {
         "name": "index",
         "rawType": "int64",
         "type": "integer"
        },
        {
         "name": "Col1",
         "rawType": "int32",
         "type": "integer"
        },
        {
         "name": "Col2",
         "rawType": "int32",
         "type": "integer"
        },
        {
         "name": "Col3",
         "rawType": "int32",
         "type": "integer"
        },
        {
         "name": "Col4",
         "rawType": "int32",
         "type": "integer"
        }
       ],
       "conversionMethod": "pd.DataFrame",
       "ref": "918dfde0-7e86-4964-952b-b180ab35ed09",
       "rows": [
        [
         "0",
         "51",
         "5",
         "79",
         "56"
        ],
        [
         "1",
         "95",
         "69",
         "10",
         "164"
        ],
        [
         "2",
         "8",
         "10",
         "56",
         "18"
        ],
        [
         "4",
         "36",
         "10",
         "63",
         "46"
        ]
       ],
       "shape": {
        "columns": 4,
        "rows": 4
       }
      },
      "text/html": [
       "<div>\n",
       "<style scoped>\n",
       "    .dataframe tbody tr th:only-of-type {\n",
       "        vertical-align: middle;\n",
       "    }\n",
       "\n",
       "    .dataframe tbody tr th {\n",
       "        vertical-align: top;\n",
       "    }\n",
       "\n",
       "    .dataframe thead th {\n",
       "        text-align: right;\n",
       "    }\n",
       "</style>\n",
       "<table border=\"1\" class=\"dataframe\">\n",
       "  <thead>\n",
       "    <tr style=\"text-align: right;\">\n",
       "      <th></th>\n",
       "      <th>Col1</th>\n",
       "      <th>Col2</th>\n",
       "      <th>Col3</th>\n",
       "      <th>Col4</th>\n",
       "    </tr>\n",
       "  </thead>\n",
       "  <tbody>\n",
       "    <tr>\n",
       "      <th>0</th>\n",
       "      <td>51</td>\n",
       "      <td>5</td>\n",
       "      <td>79</td>\n",
       "      <td>56</td>\n",
       "    </tr>\n",
       "    <tr>\n",
       "      <th>1</th>\n",
       "      <td>95</td>\n",
       "      <td>69</td>\n",
       "      <td>10</td>\n",
       "      <td>164</td>\n",
       "    </tr>\n",
       "    <tr>\n",
       "      <th>2</th>\n",
       "      <td>8</td>\n",
       "      <td>10</td>\n",
       "      <td>56</td>\n",
       "      <td>18</td>\n",
       "    </tr>\n",
       "    <tr>\n",
       "      <th>4</th>\n",
       "      <td>36</td>\n",
       "      <td>10</td>\n",
       "      <td>63</td>\n",
       "      <td>46</td>\n",
       "    </tr>\n",
       "  </tbody>\n",
       "</table>\n",
       "</div>"
      ],
      "text/plain": [
       "   Col1  Col2  Col3  Col4\n",
       "0    51     5    79    56\n",
       "1    95    69    10   164\n",
       "2     8    10    56    18\n",
       "4    36    10    63    46"
      ]
     },
     "execution_count": 16,
     "metadata": {},
     "output_type": "execute_result"
    }
   ],
   "source": [
    "# 4. Elimina todas las filas donde 'Col3' sea menor que 10\n",
    "df = df[df['Col3'] >= 10]\n",
    "df"
   ]
  }
 ],
 "metadata": {
  "kernelspec": {
   "display_name": "Python 3",
   "language": "python",
   "name": "python3"
  },
  "language_info": {
   "codemirror_mode": {
    "name": "ipython",
    "version": 3
   },
   "file_extension": ".py",
   "mimetype": "text/x-python",
   "name": "python",
   "nbconvert_exporter": "python",
   "pygments_lexer": "ipython3",
   "version": "3.10.4"
  }
 },
 "nbformat": 4,
 "nbformat_minor": 5
}
