{
 "cells": [
  {
   "cell_type": "markdown",
   "metadata": {},
   "source": [
    "### **Tarea: Métrica del Sentimiento Acumulado** ###\n",
    "\n",
    "Matemáticas y Estadística para Inteligencia Artificial\n",
    "\n",
    "**Alumno**: Aminadab Córdova Acosta\n",
    "\n",
    "\n",
    "Instrucciones\n",
    "\n",
    "En esta tarea utilizaremos la integración definida y la integración numérica para comparar resultados exactos y aproximados del valor de una integral\n",
    "\n",
    "La semana pasada estuvimos trabajando con datos que simulaban la disposición de ciertos usuarios para comprar un producto determinado. A este comportamiento se le conoce como \"análisis de sentimiento\". Con estos datos se puede calcular el impacto total de sentimiento de un grupo de usuarios. Esto nos daría la acumulación total de la probabilidad de compra en cierto rango de salarios. Con esto podemos identificar qué grupo de ingresos es el mejor objetivo de marketing y ajustar estrategias de precio según la capacidad de compra.\n",
    "\n",
    "Si los tenemos los datos de los salarios si y la probabilidad de compra p(s) en un intervalo s∈[a,b] de salarios, podemos calcular el impacto de sentimiento como \n",
    "\n",
    "$$I = \\int_{a}^{b} p(s) \\,ds$$\n",
    "\n",
    "1. Para los datos que utilizó en la tarea anterior calcule el impacto de sentimiento I en el intervalo de salarios dados utilizando:Compare los resultados obtenidos en la pregunta anterior\n",
    "    - El método de sumas de Riemann\n",
    "    - El método de los trapecios\n",
    "    - Integrando directamente la función $$ p(s) = \\frac{1}{1 + e^{-(s - s_0)}} $$\n",
    "    donde $s_0$ es el punto que escogió para obtener el desarrollo de Taylor.\n",
    "    - Integrando directamente la aproximación de Taylor obtenida en la tarea anteior para la función  p(s)\n",
    "2. Compare los resultados obtenidos en la pregunta anterior"
   ]
  },
  {
   "cell_type": "markdown",
   "metadata": {},
   "source": [
    "Dos integraciones numéricas\n",
    "\n",
    "- Método de Riemman\n",
    "- Método de Trapecios\n",
    "\n",
    "Integral definida\n",
    "\n",
    "Integral del polinomio de Taylor\n"
   ]
  },
  {
   "cell_type": "code",
   "execution_count": 5,
   "metadata": {},
   "outputs": [
    {
     "name": "stdout",
     "output_type": "stream",
     "text": [
      "0.3350000000000001\n"
     ]
    },
    {
     "data": {
      "text/plain": [
       "(0.0, 1.0)"
      ]
     },
     "execution_count": 5,
     "metadata": {},
     "output_type": "execute_result"
    },
    {
     "data": {
      "image/png": "[encoded data removed]",
      "text/plain": [
       "<Figure size 640x480 with 1 Axes>"
      ]
     },
     "metadata": {},
     "output_type": "display_data"
    }
   ],
   "source": [
    "import numpy as np\n",
    "import matplotlib.pyplot as plt\n",
    "\n",
    "a=0\n",
    "b=1\n",
    "N = 10\n",
    "\n",
    "x = np.linspace(a,b,N+1)\n",
    "y = x**2\n",
    "\n",
    "y_right = y[1:]\n",
    "y_left = y[:-1]\n",
    "\n",
    "# Trapezoidal rule\n",
    "dx = (b-a)/N\n",
    "A = (dx/2)*(np.sum(y_right + y_left)) \n",
    "\n",
    "print(A)\n",
    "\n",
    "plt.plot(x,y)\n",
    "plt.xlim([0,1]); plt.ylim([0,1])"
   ]
  },
  {
   "cell_type": "code",
   "execution_count": 6,
   "metadata": {},
   "outputs": [
    {
     "name": "stdout",
     "output_type": "stream",
     "text": [
      "1.9835235375094546\n",
      "0.01647646249054535\n",
      "1.9835235375094546\n",
      "0.01647646249054535\n",
      "2.0082484079079745\n",
      "-0.008248407907974542\n"
     ]
    }
   ],
   "source": [
    "import numpy as np\n",
    "\n",
    "a = 0\n",
    "b = np.pi\n",
    "n = 11\n",
    "h = (b - a) / (n - 1)\n",
    "x = np.linspace(a, b, n)\n",
    "f = np.sin(x)\n",
    "\n",
    "I_riemannL = h * sum(f[:n-1])\n",
    "err_riemannL = 2 - I_riemannL\n",
    "\n",
    "I_riemannR = h * sum(f[1::])\n",
    "err_riemannR = 2 - I_riemannR\n",
    "\n",
    "I_mid = h * sum(np.sin((x[:n-1] \\\n",
    "        + x[1:])/2))\n",
    "err_mid = 2 - I_mid\n",
    "\n",
    "print(I_riemannL)\n",
    "print(err_riemannL)\n",
    "\n",
    "print(I_riemannR)\n",
    "print(err_riemannR)\n",
    "\n",
    "print(I_mid)\n",
    "print(err_mid)"
   ]
  },
  {
   "cell_type": "markdown",
   "metadata": {},
   "source": [
    "# Integral de la función \\( p(s) \\) por el método de Riemann\n",
    "\n",
    "Dada la función sigmoide:\n",
    "\n",
    "$$ p(s) = \\frac{1}{1 + e^{-(s - s_0)}} $$\n",
    "\n",
    "Queremos calcular la integral definida en un intervalo \\([a, b]\\) utilizando la suma de Riemann:\n",
    "\n",
    "$$ I = \\int_a^b p(s) \\, ds $$\n",
    "\n",
    "Dividimos el intervalo \\([a, b]\\) en \\( n \\) subintervalos de ancho \\( \\Delta s \\):\n",
    "\n",
    "$$ \\Delta s = \\frac{b - a}{n} $$\n",
    "\n",
    "Aproximamos la integral con la suma de Riemann en el punto medio:\n",
    "\n",
    "$$ I \\approx \\sum_{i=0}^{n-1} p(s_i) \\cdot \\Delta s $$\n",
    "\n",
    "donde \\( s_i \\) son los puntos medios de cada subintervalo:\n",
    "\n",
    "$$ s_i = a + \\left(i + \\frac{1}{2}\\right) \\Delta s $$\n",
    "\n",
    "\n"
   ]
  },
  {
   "cell_type": "code",
   "execution_count": 7,
   "metadata": {},
   "outputs": [
    {
     "name": "stdout",
     "output_type": "stream",
     "text": [
      "Valor aproximado de la integral: 5.000000\n"
     ]
    }
   ],
   "source": [
    "import numpy as np\n",
    "\n",
    "def p(s, s0):\n",
    "    return 1 / (1 + np.exp(-(s - s0)))\n",
    "\n",
    "def riemann_integral(a, b, s0, n=1000):\n",
    "    \"\"\"Calcula la integral de p(s) en [a, b] usando la suma de Riemann.\"\"\"\n",
    "    delta_s = (b - a) / n\n",
    "    s_values = np.linspace(a + delta_s / 2, b - delta_s / 2, n)  # Puntos medios\n",
    "    integral = np.sum(p(s_values, s0) * delta_s)\n",
    "    return integral\n",
    "\n",
    "# Definir los valores\n",
    "a, b = -5, 5  # Intervalo de integración\n",
    "s0 = 0        # Parámetro de la función sigmoide\n",
    "n = 1000      # Número de subintervalos\n",
    "\n",
    "resultado = riemann_integral(a, b, s0, n)\n",
    "print(f\"Valor aproximado de la integral: {resultado:.6f}\")\n"
   ]
  },
  {
   "cell_type": "markdown",
   "metadata": {},
   "source": [
    "# Integral de la función \\( p(s) \\) por el método de los trapecios\n",
    "\n",
    "Dada la función sigmoide:\n",
    "\n",
    "$$ p(s) = \\frac{1}{1 + e^{-(s - s_0)}} $$\n",
    "\n",
    "Queremos calcular la integral definida en un intervalo \\([a, b]\\) utilizando la **regla del trapecio**, que se define como:\n",
    "\n",
    "$$ I \\approx \\frac{\\Delta s}{2} \\sum_{i=0}^{n} \\left[ p(s_i) + p(s_{i+1}) \\right] $$\n",
    "\n",
    "donde:\n",
    "\n",
    "\n",
    "- Los puntos de partición en el intervalo \\([a, b]\\) están dados por:  \n",
    "  $$ s_i = a + i \\Delta s $$  \n",
    "\n",
    "- El ancho de cada subintervalo es:  \n",
    "  $$ \\Delta s = \\frac{b - a}{n} $$  \n",
    "\n",
    "- Se suman los valores de la función en los extremos de cada trapecio y se multiplican por:  \n",
    "  $$ \\frac{\\Delta s}{2} $$  \n",
    "\n",
    "\n"
   ]
  },
  {
   "cell_type": "code",
   "execution_count": 8,
   "metadata": {},
   "outputs": [
    {
     "name": "stdout",
     "output_type": "stream",
     "text": [
      "Valor aproximado de la integral: 5.000000\n"
     ]
    }
   ],
   "source": [
    "## Código en Python\n",
    "import numpy as np\n",
    "\n",
    "def p(s, s0):\n",
    "    return 1 / (1 + np.exp(-(s - s0)))\n",
    "\n",
    "def trapezoidal_integral(a, b, s0, n=1000):\n",
    "    \"\"\"Calcula la integral de p(s) en [a, b] usando la regla del trapecio.\"\"\"\n",
    "    delta_s = (b - a) / n\n",
    "    s_values = np.linspace(a, b, n+1)  # Puntos de partición\n",
    "    integral = (delta_s / 2) * np.sum(p(s_values[:-1], s0) + p(s_values[1:], s0))\n",
    "    return integral\n",
    "\n",
    "# Definir los valores\n",
    "a, b = -5, 5  # Intervalo de integración\n",
    "s0 = 0        # Parámetro de la función sigmoide\n",
    "n = 1000      # Número de subintervalos\n",
    "\n",
    "resultado = trapezoidal_integral(a, b, s0, n)\n",
    "print(f\"Valor aproximado de la integral: {resultado:.6f}\")"
   ]
  },
  {
   "cell_type": "markdown",
   "metadata": {},
   "source": [
    "Integral directa"
   ]
  },
  {
   "cell_type": "code",
   "execution_count": 9,
   "metadata": {},
   "outputs": [
    {
     "name": "stdout",
     "output_type": "stream",
     "text": [
      "       ⎛ -s + s₀    ⎞\n",
      "s + log⎝ℯ        + 1⎠\n"
     ]
    }
   ],
   "source": [
    "import sympy as sp\n",
    "\n",
    "# Definir la variable y la función\n",
    "s, s0 = sp.symbols('s s0')\n",
    "p_s = 1 / (1 + sp.exp(-(s - s0)))\n",
    "\n",
    "# Calcular la integral simbólicamente\n",
    "integral_p = sp.integrate(p_s, s)\n",
    "\n",
    "# Mostrar el resultado\n",
    "sp.pretty_print(integral_p)\n"
   ]
  },
  {
   "cell_type": "code",
   "execution_count": 10,
   "metadata": {},
   "outputs": [
    {
     "data": {
      "text/latex": [
       "$\\displaystyle s + \\log{\\left(e^{- s + s_{0}} + 1 \\right)}$"
      ],
      "text/plain": [
       "s + log(exp(-s + s0) + 1)"
      ]
     },
     "execution_count": 10,
     "metadata": {},
     "output_type": "execute_result"
    }
   ],
   "source": [
    "integral_p"
   ]
  },
  {
   "cell_type": "markdown",
   "metadata": {},
   "source": [
    "**Referencias**\n",
    "\n",
    "1. Qingkai Kong, Timmy Siauw, Alexandre Bayen. Python Programming and Numerical Methods A Guide for Engineers and Scientists. https://pythonnumericalmethods.studentorg.berkeley.edu/notebooks/Index.html\n",
    "\n",
    "2. Richard L. Burden, J. Douglas Faires. Numerical Analysis. Brooks/Cole CENGAGE Learning\n",
    "\n"
   ]
  }
 ],
 "metadata": {
  "kernelspec": {
   "display_name": "Python 3",
   "language": "python",
   "name": "python3"
  },
  "language_info": {
   "codemirror_mode": {
    "name": "ipython",
    "version": 3
   },
   "file_extension": ".py",
   "mimetype": "text/x-python",
   "name": "python",
   "nbconvert_exporter": "python",
   "pygments_lexer": "ipython3",
   "version": "3.10.4"
  }
 },
 "nbformat": 4,
 "nbformat_minor": 2
}
