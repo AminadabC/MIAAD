{
 "cells": [
  {
   "cell_type": "markdown",
   "metadata": {},
   "source": [
    "### **Tarea: Métrica del Sentimiento Acumulado** ###\n",
    "\n",
    "Matemáticas y Estadística para Inteligencia Artificial\n",
    "\n",
    "**Alumno**: Aminadab Córdova Acosta\n",
    "\n",
    "\n",
    "Instrucciones\n",
    "\n",
    "En esta tarea utilizaremos la integración definida y la integración numérica para comparar resultados exactos y aproximados del valor de una integral\n",
    "\n",
    "La semana pasada estuvimos trabajando con datos que simulaban la disposición de ciertos usuarios para comprar un producto determinado. A este comportamiento se le conoce como \"análisis de sentimiento\". Con estos datos se puede calcular el impacto total de sentimiento de un grupo de usuarios. Esto nos daría la acumulación total de la probabilidad de compra en cierto rango de salarios. Con esto podemos identificar qué grupo de ingresos es el mejor objetivo de marketing y ajustar estrategias de precio según la capacidad de compra.\n",
    "\n",
    "Si los tenemos los datos de los salarios si y la probabilidad de compra p(s) en un intervalo s∈[a,b] de salarios, podemos calcular el impacto de sentimiento como \n",
    "\n",
    "$$I = \\int_{a}^{b} p(s) \\,ds$$\n",
    "\n",
    "1. Para los datos que utilizó en la tarea anterior calcule el impacto de sentimiento I en el intervalo de salarios dados utilizando:Compare los resultados obtenidos en la pregunta anterior\n",
    "    - El método de sumas de Riemann\n",
    "    - El método de los trapecios\n",
    "    - Integrando directamente la función $$ p(s) = \\frac{1}{1 + e^{-(s - s_0)}} $$\n",
    "    donde $s_0$ es el punto que escogió para obtener el desarrollo de Taylor.\n",
    "    - Integrando directamente la aproximación de Taylor obtenida en la tarea anteior para la función  p(s)\n",
    "2. Compare los resultados obtenidos en la pregunta anterior"
   ]
  },
  {
   "cell_type": "markdown",
   "metadata": {},
   "source": [
    "Dos integraciones numéricas\n",
    "\n",
    "- Método de Riemman\n",
    "- Método de Trapecios\n",
    "\n",
    "Integral definida\n",
    "\n",
    "Integral del polinomio de Taylor\n"
   ]
  }
 ],
 "metadata": {
  "language_info": {
   "name": "python"
  }
 },
 "nbformat": 4,
 "nbformat_minor": 2
}
