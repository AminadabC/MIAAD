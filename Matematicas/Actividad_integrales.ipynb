{
 "cells": [
  {
   "cell_type": "markdown",
   "metadata": {},
   "source": [
    "Métrica del Sentimiento Acumulado"
   ]
  },
  {
   "cell_type": "markdown",
   "metadata": {},
   "source": [
    "En esta tarea utilizaremos la integración definida y la integración numérica para comparar resultados exactos y aproximados del valor de una integral\n",
    "\n",
    "La semana pasada estuvimos trabajando con datos que simulaban la disposición de ciertos usuarios para comprar un producto determinado. A este comportamiento se le conoce como \"análisis de sentimiento\". Con estos datos se puede calcular el impacto total de sentimiento de un grupo de usuarios. Esto nos daría la acumulación total de la probabilidad de compra en cierto rango de salarios. Con esto podemos identificar qué grupo de ingresos es el mejor objetivo de marketing y ajustar estrategias de precio según la capacidad de compra.\n",
    "\n",
    "Si los tenemos los datos de los salarios si y la probabilidad de compra p(s) en un intervalo s∈[a,b] de salarios, podemos calcular el impacto de sentimiento como "
   ]
  }
 ],
 "metadata": {
  "language_info": {
   "name": "python"
  }
 },
 "nbformat": 4,
 "nbformat_minor": 2
}
