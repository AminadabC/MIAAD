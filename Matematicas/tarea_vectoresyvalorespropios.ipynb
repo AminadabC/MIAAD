{
 "cells": [
  {
   "cell_type": "code",
   "execution_count": 4,
   "metadata": {},
   "outputs": [],
   "source": [
    "import numpy as np\n",
    "import sympy as sp"
   ]
  },
  {
   "cell_type": "code",
   "execution_count": 5,
   "metadata": {},
   "outputs": [],
   "source": [
    "# Definir la matriz de elementos fraccionarios como un array de NumPy\n",
    "A = np.array([\n",
    "    [sp.Rational(1, 2), sp.Rational(1, 3), sp.Rational(1, 4)],\n",
    "    [sp.Rational(1, 5), sp.Rational(1, 6), sp.Rational(1, 7)],\n",
    "    [sp.Rational(1, 8), sp.Rational(1, 9), sp.Rational(1, 10)]\n",
    "], dtype=object)  # dtype=object para mantener los valores simbólicos"
   ]
  },
  {
   "cell_type": "code",
   "execution_count": 10,
   "metadata": {},
   "outputs": [
    {
     "name": "stdout",
     "output_type": "stream",
     "text": [
      "⎡1/2  1/3  1/4 ⎤\n",
      "⎢              ⎥\n",
      "⎢1/5  1/6  1/7 ⎥\n",
      "⎢              ⎥\n",
      "⎣1/8  1/9  1/10⎦\n"
     ]
    }
   ],
   "source": [
    "# Definir la matriz con elementos fraccionarios\n",
    "A = sp.Matrix([\n",
    "    [sp.Rational(1, 2), sp.Rational(1, 3), sp.Rational(1, 4)],\n",
    "    [sp.Rational(1, 5), sp.Rational(1, 6), sp.Rational(1, 7)],\n",
    "    [sp.Rational(1, 8), sp.Rational(1, 9), sp.Rational(1, 10)]\n",
    "])\n",
    "\n",
    "# Mostrar la matriz en formato bonito\n",
    "sp.pprint(A)"
   ]
  },
  {
   "cell_type": "code",
   "execution_count": 9,
   "metadata": {},
   "outputs": [
    {
     "data": {
      "text/plain": [
       "array([[1/2, 1/3, 1/4],\n",
       "       [1/5, 1/6, 1/7],\n",
       "       [1/8, 1/9, 1/10]], dtype=object)"
      ]
     },
     "metadata": {},
     "output_type": "display_data"
    }
   ],
   "source": [
    "from IPython.display import display\n",
    "display(A)"
   ]
  },
  {
   "cell_type": "code",
   "execution_count": 6,
   "metadata": {},
   "outputs": [
    {
     "name": "stdout",
     "output_type": "stream",
     "text": [
      "Autovalores (aproximados numéricamente): [0.71616315 0.0496668  0.00083672]\n",
      "Polinomio característico: λ**3 - 23*λ**2/30 + 73*λ/2016 - 1/33600\n"
     ]
    }
   ],
   "source": [
    "# Cálculo de autovalores usando NumPy\n",
    "eigenvalues = np.linalg.eigvals(np.array(A, dtype=float))  # Convertimos a float para calcular\n",
    "\n",
    "# Definir matriz simbólica con SymPy\n",
    "M = sp.Matrix(A)\n",
    "\n",
    "# Obtener el polinomio característico\n",
    "lambda_ = sp.Symbol('λ')\n",
    "char_poly = M.charpoly(lambda_)\n",
    "\n",
    "# Mostrar resultados\n",
    "print(\"Autovalores (aproximados numéricamente):\", eigenvalues)\n",
    "print(\"Polinomio característico:\", char_poly.as_expr())"
   ]
  },
  {
   "cell_type": "code",
   "execution_count": 11,
   "metadata": {},
   "outputs": [
    {
     "name": "stdout",
     "output_type": "stream",
     "text": [
      "Matriz A:\n",
      "⎡1/2  1/3  1/4 ⎤\n",
      "⎢              ⎥\n",
      "⎢1/5  1/6  1/7 ⎥\n",
      "⎢              ⎥\n",
      "⎣1/8  1/9  1/10⎦\n",
      "\n",
      "\n",
      "Autovalores exactos:\n",
      "⎧                      ___________________________                             ↪\n",
      "⎪23   ⎛  1   √3⋅ⅈ⎞    ╱  30817    √728550569670⋅ⅈ                           24 ↪\n",
      "⎪── + ⎜- ─ - ────⎟⋅3 ╱  ─────── + ───────────────  + ───────────────────────── ↪\n",
      "⎨90   ⎝  2    2  ⎠ ╲╱   2551500      381024000                               _ ↪\n",
      "⎪                                                           ⎛  1   √3⋅ⅈ⎞    ╱  ↪\n",
      "⎪                                                    453600⋅⎜- ─ - ────⎟⋅3 ╱   ↪\n",
      "⎩                                                           ⎝  2    2  ⎠ ╲╱    ↪\n",
      "\n",
      "↪                                                                              ↪\n",
      "↪ 149                            23                          24149             ↪\n",
      "↪ ──────────────────────────: 1, ── + ──────────────────────────────────────── ↪\n",
      "↪ __________________________     90                           ________________ ↪\n",
      "↪  30817    √728550569670⋅ⅈ                  ⎛  1   √3⋅ⅈ⎞    ╱  30817    √7285 ↪\n",
      "↪ ─────── + ───────────────           453600⋅⎜- ─ + ────⎟⋅3 ╱  ─────── + ───── ↪\n",
      "↪ 2551500      381024000                     ⎝  2    2  ⎠ ╲╱   2551500      38 ↪\n",
      "\n",
      "↪                                ___________________________                   ↪\n",
      "↪               ⎛  1   √3⋅ⅈ⎞    ╱  30817    √728550569670⋅ⅈ      23            ↪\n",
      "↪ ─────────── + ⎜- ─ + ────⎟⋅3 ╱  ─────── + ─────────────── : 1, ── + ──────── ↪\n",
      "↪ ___________   ⎝  2    2  ⎠ ╲╱   2551500      381024000         90            ↪\n",
      "↪ 50569670⋅ⅈ                                                                   ↪\n",
      "↪ ──────────                                                          453600⋅3 ↪\n",
      "↪ 1024000                                                                    ╲ ↪\n",
      "\n",
      "↪                                      ___________________________   ⎫\n",
      "↪         24149                       ╱  30817    √728550569670⋅ⅈ    ⎪\n",
      "↪ ────────────────────────────── + 3 ╱  ─────── + ─────────────── : 1⎪\n",
      "↪    ___________________________   ╲╱   2551500      381024000       ⎬\n",
      "↪   ╱  30817    √728550569670⋅ⅈ                                      ⎪\n",
      "↪  ╱  ─────── + ───────────────                                      ⎪\n",
      "↪ ╱   2551500      381024000                                         ⎭\n",
      "\n",
      "\n",
      "Polinomio característico:\n",
      "         2               \n",
      " 3   23⋅λ    73⋅λ     1  \n",
      "λ  - ───── + ──── - ─────\n",
      "      30     2016   33600\n"
     ]
    }
   ],
   "source": [
    "import sympy as sp\n",
    "\n",
    "# Definir la matriz con elementos fraccionarios\n",
    "A = sp.Matrix([\n",
    "    [sp.Rational(1, 2), sp.Rational(1, 3), sp.Rational(1, 4)],\n",
    "    [sp.Rational(1, 5), sp.Rational(1, 6), sp.Rational(1, 7)],\n",
    "    [sp.Rational(1, 8), sp.Rational(1, 9), sp.Rational(1, 10)]\n",
    "])\n",
    "\n",
    "# Mostrar la matriz en formato matricial\n",
    "print(\"Matriz A:\")\n",
    "sp.pprint(A)\n",
    "print(\"\\n\")  # Salto de línea para mejor presentación\n",
    "\n",
    "# Obtener autovalores exactos\n",
    "eigenvalues = A.eigenvals()\n",
    "\n",
    "# Obtener polinomio característico\n",
    "lambda_ = sp.Symbol('λ')\n",
    "char_poly = A.charpoly(lambda_)\n",
    "\n",
    "# Mostrar resultados\n",
    "print(\"Autovalores exactos:\")\n",
    "sp.pprint(eigenvalues)\n",
    "print(\"\\n\")\n",
    "\n",
    "print(\"Polinomio característico:\")\n",
    "sp.pprint(char_poly.as_expr())\n"
   ]
  },
  {
   "cell_type": "code",
   "execution_count": 10,
   "metadata": {},
   "outputs": [
    {
     "name": "stdout",
     "output_type": "stream",
     "text": [
      "Matriz A:\n",
      "⎡5/11   9/11   -9/11⎤\n",
      "⎢                   ⎥\n",
      "⎢       -19         ⎥\n",
      "⎢9/11   ────   -3/11⎥\n",
      "⎢        11         ⎥\n",
      "⎢                   ⎥\n",
      "⎢              -19  ⎥\n",
      "⎢-9/11  -3/11  ──── ⎥\n",
      "⎣               11  ⎦\n",
      "\n",
      "\n",
      "Autovalores y sus multiplicidades algebraicas:\n",
      "Autovalor: 1, Multiplicidad: 1\n",
      "Autovalor: -2, Multiplicidad: 2\n",
      "\n",
      "Polinomio característico:\n",
      " 3      2    \n",
      "λ  + 3⋅λ  - 4\n"
     ]
    }
   ],
   "source": [
    "import sympy as sp\n",
    "\n",
    "# Definir la matriz con elementos fraccionarios\n",
    "A = sp.Matrix([\n",
    "    [sp.Rational(5,11), sp.Rational(9, 11), sp.Rational(-9, 11)],\n",
    "    [sp.Rational(9, 11), sp.Rational(-19, 11), sp.Rational(-3, 11)],\n",
    "    [sp.Rational(-9, 11), sp.Rational(-3, 11), sp.Rational(-19, 11)]\n",
    "])\n",
    "\n",
    "# Mostrar la matriz en formato matricial\n",
    "print(\"Matriz A:\")\n",
    "sp.pprint(A)\n",
    "print(\"\\n\")\n",
    "\n",
    "# Obtener autovalores exactos y sus multiplicidades algebraicas\n",
    "eigenvalues = A.eigenvals()\n",
    "\n",
    "# Obtener polinomio característico\n",
    "lambda_ = sp.Symbol('λ')\n",
    "char_poly = A.charpoly(lambda_)\n",
    "\n",
    "# Mostrar resultados\n",
    "print(\"Autovalores y sus multiplicidades algebraicas:\")\n",
    "for eigenvalue, multiplicity in eigenvalues.items():\n",
    "    print(f\"Autovalor: {eigenvalue}, Multiplicidad: {multiplicity}\")\n",
    "\n",
    "print(\"\\nPolinomio característico:\")\n",
    "sp.pprint(char_poly.as_expr())\n"
   ]
  },
  {
   "cell_type": "code",
   "execution_count": 3,
   "metadata": {},
   "outputs": [
    {
     "name": "stdout",
     "output_type": "stream",
     "text": [
      "Autovalores y sus multiplicidades algebraicas:\n",
      "Autovalor: 1, Multiplicidad: 1\n",
      "Autovalor: -2, Multiplicidad: 2\n",
      "\n",
      "Polinomio característico:\n",
      " 3      2    \n",
      "λ  + 3⋅λ  - 4\n",
      "\n",
      "\n",
      "Subespacios propios (vectores propios asociados a cada autovalor):\n",
      "\n",
      "Subespacio propio asociado al autovalor -2:\n",
      "⎡-1/3⎤\n",
      "⎢    ⎥\n",
      "⎢ 1  ⎥\n",
      "⎢    ⎥\n",
      "⎣ 0  ⎦\n",
      "⎡1/3⎤\n",
      "⎢   ⎥\n",
      "⎢ 0 ⎥\n",
      "⎢   ⎥\n",
      "⎣ 1 ⎦\n",
      "\n",
      "Subespacio propio asociado al autovalor 1:\n",
      "⎡-3⎤\n",
      "⎢  ⎥\n",
      "⎢-1⎥\n",
      "⎢  ⎥\n",
      "⎣1 ⎦\n",
      "\n",
      "Subespacio propio asociado al autovalor -2:\n",
      "⎡-1/3⎤\n",
      "⎢    ⎥\n",
      "⎢ 1  ⎥\n",
      "⎢    ⎥\n",
      "⎣ 0  ⎦\n",
      "⎡1/3⎤\n",
      "⎢   ⎥\n",
      "⎢ 0 ⎥\n",
      "⎢   ⎥\n",
      "⎣ 1 ⎦\n",
      "\n",
      "Subespacio propio asociado al autovalor 1:\n",
      "⎡-3⎤\n",
      "⎢  ⎥\n",
      "⎢-1⎥\n",
      "⎢  ⎥\n",
      "⎣1 ⎦\n"
     ]
    }
   ],
   "source": [
    "# Obtener autovalores y sus multiplicidades algebraicas\n",
    "eigenvalues = A.eigenvals()\n",
    "\n",
    "# Obtener polinomio característico\n",
    "lambda_ = sp.Symbol('λ')\n",
    "char_poly = A.charpoly(lambda_)\n",
    "\n",
    "# Mostrar autovalores y sus multiplicidades\n",
    "print(\"Autovalores y sus multiplicidades algebraicas:\")\n",
    "for eigenvalue, multiplicity in eigenvalues.items():\n",
    "    print(f\"Autovalor: {eigenvalue}, Multiplicidad: {multiplicity}\")\n",
    "\n",
    "print(\"\\nPolinomio característico:\")\n",
    "sp.pprint(char_poly.as_expr())\n",
    "print(\"\\n\")\n",
    "\n",
    "# Obtener subespacios propios (vectores propios)\n",
    "print(\"Subespacios propios (vectores propios asociados a cada autovalor):\")\n",
    "for eigenvalue in eigenvalues:\n",
    "    eigenspace = A.eigenvects()\n",
    "    for eigval, mult, eigvecs in eigenspace:\n",
    "        print(f\"\\nSubespacio propio asociado al autovalor {eigval}:\")\n",
    "        for vec in eigvecs:\n",
    "            sp.pprint(vec)"
   ]
  },
  {
   "cell_type": "code",
   "execution_count": 4,
   "metadata": {},
   "outputs": [
    {
     "name": "stdout",
     "output_type": "stream",
     "text": [
      "Bases de los subespacios propios:\n",
      "\n",
      "Base del subespacio propio asociado al autovalor -2:\n",
      "⎡-1/3⎤\n",
      "⎢    ⎥\n",
      "⎢ 1  ⎥\n",
      "⎢    ⎥\n",
      "⎣ 0  ⎦\n",
      "⎡1/3⎤\n",
      "⎢   ⎥\n",
      "⎢ 0 ⎥\n",
      "⎢   ⎥\n",
      "⎣ 1 ⎦\n",
      "\n",
      "Base del subespacio propio asociado al autovalor 1:\n",
      "⎡-3⎤\n",
      "⎢  ⎥\n",
      "⎢-1⎥\n",
      "⎢  ⎥\n",
      "⎣1 ⎦\n"
     ]
    }
   ],
   "source": [
    "# Obtener autovalores y vectores propios\n",
    "eigenvects = A.eigenvects()\n",
    "\n",
    "# Mostrar las bases de los subespacios propios\n",
    "print(\"Bases de los subespacios propios:\")\n",
    "for eigenvalue, multiplicity, eigvecs in eigenvects:\n",
    "    print(f\"\\nBase del subespacio propio asociado al autovalor {eigenvalue}:\")\n",
    "    for vec in eigvecs:\n",
    "        sp.pprint(vec)"
   ]
  },
  {
   "cell_type": "code",
   "execution_count": 5,
   "metadata": {},
   "outputs": [
    {
     "name": "stdout",
     "output_type": "stream",
     "text": [
      "Autovalores y dimensiones de sus subespacios propios:\n",
      "Autovalor: -2, Multiplicidad algebraica: 2, Dimensión del subespacio propio: 2\n",
      "Autovalor: 1, Multiplicidad algebraica: 1, Dimensión del subespacio propio: 1\n",
      "\n",
      "¿Es la matriz diagonalizable?\n",
      "Sí\n"
     ]
    }
   ],
   "source": [
    "# Obtener autovalores y vectores propios\n",
    "eigenvects = A.eigenvects()\n",
    "\n",
    "# Verificar si la matriz es diagonalizable\n",
    "suma_multiplicidades_geometricas = sum(len(eigvecs) for _, _, eigvecs in eigenvects)\n",
    "\n",
    "# Comparar con el tamaño de la matriz\n",
    "es_diagonalizable = suma_multiplicidades_geometricas == A.shape[0]\n",
    "\n",
    "# Mostrar resultados\n",
    "print(\"Autovalores y dimensiones de sus subespacios propios:\")\n",
    "for eigenvalue, multiplicidad, eigvecs in eigenvects:\n",
    "    print(f\"Autovalor: {eigenvalue}, Multiplicidad algebraica: {multiplicidad}, Dimensión del subespacio propio: {len(eigvecs)}\")\n",
    "\n",
    "print(\"\\n¿Es la matriz diagonalizable?\")\n",
    "print(\"Sí\" if es_diagonalizable else \"No\")\n"
   ]
  },
  {
   "cell_type": "code",
   "execution_count": 9,
   "metadata": {},
   "outputs": [
    {
     "data": {
      "text/plain": [
       "[(-2,\n",
       "  2,\n",
       "  [Matrix([\n",
       "   [-1/3],\n",
       "   [   1],\n",
       "   [   0]]),\n",
       "   Matrix([\n",
       "   [1/3],\n",
       "   [  0],\n",
       "   [  1]])]),\n",
       " (1,\n",
       "  1,\n",
       "  [Matrix([\n",
       "   [-3],\n",
       "   [-1],\n",
       "   [ 1]])])]"
      ]
     },
     "execution_count": 9,
     "metadata": {},
     "output_type": "execute_result"
    }
   ],
   "source": [
    "eigenvects"
   ]
  }
 ],
 "metadata": {
  "kernelspec": {
   "display_name": "Python 3",
   "language": "python",
   "name": "python3"
  },
  "language_info": {
   "codemirror_mode": {
    "name": "ipython",
    "version": 3
   },
   "file_extension": ".py",
   "mimetype": "text/x-python",
   "name": "python",
   "nbconvert_exporter": "python",
   "pygments_lexer": "ipython3",
   "version": "3.10.4"
  }
 },
 "nbformat": 4,
 "nbformat_minor": 2
}
