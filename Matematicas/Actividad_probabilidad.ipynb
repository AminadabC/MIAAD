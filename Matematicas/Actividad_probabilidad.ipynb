{
 "cells": [
  {
   "cell_type": "markdown",
   "id": "591c22f0",
   "metadata": {},
   "source": [
    "### **Ejercicios de probabilidad y simulación de distribuciones** ###\n",
    "\n",
    "### **Probabilidad y Estadística** ###\n",
    "\n",
    "Mstemáticas y Estadística para Inteligencia Artificial\n",
    "\n",
    "**Instructora**: Helen Clara Peñate Rodríguez\n",
    "\n",
    "**Alumno**: Aminadab Córdova Acosta\n",
    "\n",
    "Ejercicios. Resuelva los siguientes ejercicios. Adem´as de la respuestas correctas, incluya el planteamiento y procedimiento seguido."
   ]
  },
  {
   "cell_type": "markdown",
   "id": "7e41577e",
   "metadata": {},
   "source": [
    "**1. El 10 % de la población en Ciudad Juárez ve un concurso que hay en el Canal 44. Desde el concurso se llama por teléfono a 12 personas de la ciudad elegidas al azar. Calcular la probabilidad de que, entre las 12 personas,  estuvieran viendo el programa:**\n",
    "- Más de 8 personas.\n",
    "- Algunas de las 12 personas.\n",
    "- Cuál es la media y la desviación típica."
   ]
  },
  {
   "cell_type": "code",
   "execution_count": 1,
   "id": "3ace4312",
   "metadata": {},
   "outputs": [
    {
     "name": "stdout",
     "output_type": "stream",
     "text": [
      "Probabilidad de más de 8 personas viendo el programa: 0.00000017\n",
      "Probabilidad de que al menos una persona vea el programa: 0.7176\n",
      "Media (esperanza matemática): 1.2000000000000002\n",
      "Desviación típica: 1.0392\n"
     ]
    }
   ],
   "source": [
    "import scipy.stats as stats\n",
    "import math\n",
    "\n",
    "# Parámetros del problema\n",
    "n = 12           # número de personas\n",
    "p = 0.10         # probabilidad de que una persona esté viendo el programa\n",
    "q = 1 - p        # complemento\n",
    "\n",
    "# Definimos la distribución binomial\n",
    "binomial = stats.binom(n, p)\n",
    "\n",
    "# 1. Probabilidad de que más de 8 personas estén viendo el programa\n",
    "prob_mas_de_8 = binomial.sf(8)  # sf = 1 - cdf(8), es decir, P(X > 8)\n",
    "\n",
    "# 2. Probabilidad de que al menos una persona esté viendo el programa\n",
    "prob_al_menos_una = 1 - binomial.pmf(0)  # 1 - P(X=0)\n",
    "\n",
    "# 3. Media y desviación típica\n",
    "media = binomial.mean()\n",
    "desviacion_tipica = binomial.std()\n",
    "\n",
    "# Mostramos los resultados\n",
    "print(f\"Probabilidad de más de 8 personas viendo el programa: {prob_mas_de_8:.8f}\")\n",
    "print(f\"Probabilidad de que al menos una persona vea el programa: {prob_al_menos_una:.4f}\")\n",
    "print(f\"Media (esperanza matemática): {media}\")\n",
    "print(f\"Desviación típica: {desviacion_tipica:.4f}\")\n"
   ]
  },
  {
   "cell_type": "markdown",
   "id": "4798a267",
   "metadata": {},
   "source": [
    "**2. Los aspirantes a la MIAAD de UACJ responden un cuestionario de 20 preguntas. Cada pregunta tiene cuatro posibles respuestas, de las que s´olo una es correcta. Suponga que los aspirantes tienen la misma probabilidad de responder. Se pide hallar las probabilidades para el aspirante:**\n",
    "- Conteste todas las preguntas mal.\n",
    "- Conteste al menos 10 preguntas bien.\n",
    "- Conteste entre 5 y 8 preguntas bien.\n",
    "- Conteste menos de tres preguntas bien"
   ]
  },
  {
   "cell_type": "code",
   "execution_count": 2,
   "id": "ada0430e",
   "metadata": {},
   "outputs": [
    {
     "name": "stdout",
     "output_type": "stream",
     "text": [
      "Probabilidad de contestar todas las preguntas mal: 0.00317121\n",
      "Probabilidad de contestar al menos 10 preguntas bien: 0.0139\n",
      "Probabilidad de contestar entre 5 y 8 preguntas bien: 0.5442\n",
      "Probabilidad de contestar menos de 3 preguntas bien: 0.0913\n"
     ]
    }
   ],
   "source": [
    "import scipy.stats as stats\n",
    "\n",
    "# Parámetros del problema\n",
    "n = 20           # número de preguntas\n",
    "p = 0.25         # probabilidad de acertar una pregunta\n",
    "q = 1 - p        # probabilidad de fallar\n",
    "\n",
    "# Definimos la distribución binomial\n",
    "binomial = stats.binom(n, p)\n",
    "\n",
    "# 1. Probabilidad de contestar todas las preguntas mal (aciertos = 0)\n",
    "prob_todas_mal = binomial.pmf(0)\n",
    "\n",
    "# 2. Probabilidad de contestar al menos 10 preguntas bien\n",
    "prob_al_menos_10 = binomial.sf(9)  # sf(9) = P(X > 9) = P(X >= 10)\n",
    "\n",
    "# 3. Probabilidad de contestar entre 5 y 8 preguntas bien (incluidos 5 y 8)\n",
    "prob_entre_5_y_8 = binomial.cdf(8) - binomial.cdf(4)\n",
    "\n",
    "# 4. Probabilidad de contestar menos de 3 preguntas bien (0, 1 o 2)\n",
    "prob_menos_de_3 = binomial.cdf(2)\n",
    "\n",
    "# Mostramos los resultados\n",
    "print(f\"Probabilidad de contestar todas las preguntas mal: {prob_todas_mal:.8f}\")\n",
    "print(f\"Probabilidad de contestar al menos 10 preguntas bien: {prob_al_menos_10:.4f}\")\n",
    "print(f\"Probabilidad de contestar entre 5 y 8 preguntas bien: {prob_entre_5_y_8:.4f}\")\n",
    "print(f\"Probabilidad de contestar menos de 3 preguntas bien: {prob_menos_de_3:.4f}\")\n"
   ]
  },
  {
   "cell_type": "markdown",
   "id": "97eee995",
   "metadata": {},
   "source": [
    "**3. Un comité de 5 personas debe ser seleccionado de manera aleatoria a partir de un grupo de 5 hombres y 10 mujeres**\n",
    "- Halle la probabilidad que el comité esté compuesto por 2 hombres y 3 mujeres.\n",
    "- Halle la probabilidad que el comité esté compuesto sélo por mujeres."
   ]
  },
  {
   "cell_type": "code",
   "execution_count": 3,
   "id": "5be49d5c",
   "metadata": {},
   "outputs": [
    {
     "name": "stdout",
     "output_type": "stream",
     "text": [
      "Probabilidad de 2 hombres y 3 mujeres: 0.3996\n",
      "Probabilidad de sólo mujeres: 0.0839\n"
     ]
    }
   ],
   "source": [
    "import math\n",
    "\n",
    "# Función combinatoria\n",
    "def combinacion(n, k):\n",
    "    return math.comb(n, k)\n",
    "\n",
    "# Datos\n",
    "hombres = 5\n",
    "mujeres = 10\n",
    "total_personas = hombres + mujeres\n",
    "comite = 5\n",
    "\n",
    "# 1. Probabilidad de 2 hombres y 3 mujeres\n",
    "formas_2h_3m = combinacion(hombres, 2) * combinacion(mujeres, 3)\n",
    "formas_totales = combinacion(total_personas, comite)\n",
    "prob_2h_3m = formas_2h_3m / formas_totales\n",
    "\n",
    "# 2. Probabilidad de solo mujeres\n",
    "formas_5m = combinacion(mujeres, 5)\n",
    "prob_5m = formas_5m / formas_totales\n",
    "\n",
    "# Mostrar resultados\n",
    "print(f\"Probabilidad de 2 hombres y 3 mujeres: {prob_2h_3m:.4f}\")\n",
    "print(f\"Probabilidad de sólo mujeres: {prob_5m:.4f}\")\n"
   ]
  },
  {
   "cell_type": "markdown",
   "id": "39fc083e",
   "metadata": {},
   "source": [
    "**4. Considere el experimento de tirar un volado repetidas veces y contar el n´umero de volados que se tiraron antes que apareciera la primera “´aguila”.**\n",
    "- Encuentre el espacio de muestreo del experimento.\n",
    "- Encuentre la probabilidad P(ek) que la primera “´aguila” aparezca en el k-´esimo volado.\n",
    "- Muestre que la sumatoria de todos los posibles P(ek) (i.e., para k desde 1 hasta infinito) es uno."
   ]
  },
  {
   "cell_type": "markdown",
   "id": "44b16654",
   "metadata": {},
   "source": [
    "**5. Considere una vez m´as el experimento del problema anterior.**\n",
    "- Halle la probabilidad que la primera “´aguila” aparezca en un n´umero par de volados (i.e k par).\n",
    "- Halle la probabilidad que la primera “´aguila” aparezca en un n´umero impar de volados (i.e k impar)."
   ]
  },
  {
   "cell_type": "markdown",
   "id": "fbd98a9e",
   "metadata": {},
   "source": [
    "**6. Considere los procedimientos rand0, rand1, rand2 y rand3 de la secci´on 7.1 “Uniform Deviates” del libro: Numerical Recipes in C : The Art of Scientific Computing by William H. Press, Brian P. Flannery, Saul A. Teukolsky, William T. Vetterling, Second Edition (available online). Implemente los 4 procedimientos en lenguaje/software de su preferencia y muestre a trav´es de histogramas que efectivamente producen una distribuci´on uniforme. Indique cu´al de los 4 procedimientos produce mejores secuencias pseudo-aleatorias. Explique todas sus conclusiones.**"
   ]
  },
  {
   "cell_type": "markdown",
   "id": "97b80b03",
   "metadata": {},
   "source": [
    "**7. Un experimento consiste en lanzar dos dados y observar la suma de los dos. Halle la probabilidad que:**\n",
    "- La suma sea 7 y,\n",
    "- La probabilidad que la suma sea mayor que 10.\n",
    "\n",
    "Compruebe los resultados te´oricos obtenidos utilizando un programa de\n",
    "que simule ambos ejercicios. Repita el problema un n´umero suficientemente grande de veces y determine con qu´e precisi´on el resultado te´orico puede\n",
    "ser corroborado experimentalmente."
   ]
  },
  {
   "cell_type": "markdown",
   "id": "e1f4f0c2",
   "metadata": {},
   "source": [
    "**8. Suponga que hist´oricamente, el promedio IQ de los estudiantes de maestr´ıa de la UACJ es de 120 puntos, con una varianza de 36 puntos cuadrados. Suponga adem´as que se decide que el 2026 todos los aspirantes de nuevo ingreso deber´an tomar un examen de IQ. En su opini´on:**\n",
    "- ¿Con qu´e cantidad m´ınima de puntos un aspirante deber´ıa ser definitivamente aceptado por ser un(a) “chico(a) prodigio”?\n",
    "- ¿Con qu´e cantidad m´axima de puntos un aspirante deber´ıa ser definitivamente rechazado por ser un “estudiante con menos de 5 dedo de frente”?\n",
    "- Encuentre la probabilidad que en este grupo de la MIAAD los IQs de cada uno de los estudiantes est´e entre 115 y 120 puntos y entre 125-130 puntos"
   ]
  },
  {
   "cell_type": "markdown",
   "id": "22901fa0",
   "metadata": {},
   "source": [
    "**9. A mediados del lejano siglo XVII, el Chevalier de Mere conjetur´o que la probabilidad de sacar un 6 tras tirar 4 veces un dado es mayor que la probabilidad de sacar doble seis tras tirar 24 veces dos dados. Aproxime la distribuci´on binomial con la distribuci´on normal para calcular cu´antos experimentos tuvo que realizar el Chevalier de Mere para poder llegar a la conclusi´on correcta con una certidumbre del 70 % y del 95 %.**"
   ]
  }
 ],
 "metadata": {
  "kernelspec": {
   "display_name": "Python 3",
   "language": "python",
   "name": "python3"
  },
  "language_info": {
   "codemirror_mode": {
    "name": "ipython",
    "version": 3
   },
   "file_extension": ".py",
   "mimetype": "text/x-python",
   "name": "python",
   "nbconvert_exporter": "python",
   "pygments_lexer": "ipython3",
   "version": "3.10.4"
  }
 },
 "nbformat": 4,
 "nbformat_minor": 5
}
