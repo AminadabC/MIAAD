{
 "cells": [
  {
   "cell_type": "markdown",
   "id": "591c22f0",
   "metadata": {},
   "source": [
    "### **Ejercicios de probabilidad y simulación de distribuciones** ###\n",
    "\n",
    "### **Probabilidad y Estadística** ###\n",
    "\n",
    "Mstemáticas y Estadística para Inteligencia Artificial\n",
    "\n",
    "**Instructora**: Helen Clara Peñate Rodríguez\n",
    "\n",
    "**Alumno**: Aminadab Córdova Acosta\n",
    "\n",
    "Ejercicios. Resuelva los siguientes ejercicios. Adem´as de la respuestas correctas, incluya el planteamiento y procedimiento seguido."
   ]
  },
  {
   "cell_type": "markdown",
   "id": "7e41577e",
   "metadata": {},
   "source": [
    "**1. El 10 % de la población en Ciudad Juárez ve un concurso que hay en el Canal 44. Desde el concurso se llama por teléfono a 12 personas de la ciudad elegidas al azar. Calcular la probabilidad de que, entre las 12 personas,  estuvieran viendo el programa:**\n",
    "- Más de 8 personas.**\n",
    "- Algunas de las 12 personas.\n",
    "- Cuál es la media y la desviación típica."
   ]
  },
  {
   "cell_type": "markdown",
   "id": "4798a267",
   "metadata": {},
   "source": [
    "**2. Los aspirantes a la MIAAD de UACJ responden un cuestionario de 20 preguntas. Cada pregunta tiene cuatro posibles respuestas, de las que s´olo una es correcta. Suponga que los aspirantes tienen la misma probabilidad de responder. Se pide hallar las probabilidades para el aspirante:**\n",
    "- Conteste todas las preguntas mal.\n",
    "- Conteste al menos 10 preguntas bien.\n",
    "- Conteste entre 5 y 8 preguntas bien.\n",
    "- Conteste menos de tres preguntas bien"
   ]
  }
 ],
 "metadata": {
  "language_info": {
   "name": "python"
  }
 },
 "nbformat": 4,
 "nbformat_minor": 5
}
