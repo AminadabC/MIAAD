{
 "cells": [
  {
   "cell_type": "markdown",
   "id": "591c22f0",
   "metadata": {},
   "source": [
    "### **Ejercicios de probabilidad y simulación de distribuciones** ###\n",
    "\n",
    "### **Probabilidad y Estadística** ###\n",
    "\n",
    "Mstemáticas y Estadística para Inteligencia Artificial\n",
    "\n",
    "**Instructora**: Helen Clara Peñate Rodríguez\n",
    "\n",
    "**Alumno**: Aminadab Córdova Acosta\n",
    "\n",
    "Ejercicios. Resuelva los siguientes ejercicios. Adem´as de la respuestas correctas, incluya el planteamiento y procedimiento seguido."
   ]
  },
  {
   "cell_type": "markdown",
   "id": "7e41577e",
   "metadata": {},
   "source": [
    "**1. El 10 % de la población en Ciudad Juárez ve un concurso que hay en el Canal 44. Desde el concurso se llama por teléfono a 12 personas de la ciudad elegidas al azar. Calcular la probabilidad de que, entre las 12 personas,  estuvieran viendo el programa:**\n",
    "- Más de 8 personas.\n",
    "- Algunas de las 12 personas.\n",
    "- Cuál es la media y la desviación típica."
   ]
  },
  {
   "cell_type": "markdown",
   "id": "e5a6687b",
   "metadata": {},
   "source": [
    "Este ejercicio se modela con una **distribución binomial**, ya que cumple con las siguientes características:\n",
    "\n",
    "- Se realizan **n = 12 ensayos** independientes (llamadas telefónicas).\n",
    "- Cada ensayo tiene solo **dos posibles resultados**: la persona ve el programa o no lo ve.\n",
    "- La **probabilidad de éxito** (una persona ve el programa) es constante: p = 0.10.\n",
    "- Nos interesa conocer la **cantidad de éxitos** (personas que ven el programa) en esos 12 intentos.\n",
    "\n",
    "Por lo tanto, la variable aleatoria \\( X \\), que representa el número de personas que están viendo el programa, **sigue una distribución binomial**:  \n",
    "$$\n",
    "X \\sim \\text{Binomial}(n = 12, p = 0.10)\n",
    "$$\n"
   ]
  },
  {
   "cell_type": "code",
   "execution_count": 1,
   "id": "3ace4312",
   "metadata": {},
   "outputs": [
    {
     "name": "stdout",
     "output_type": "stream",
     "text": [
      "Probabilidad de más de 8 personas viendo el programa: 0.00000017\n",
      "Probabilidad de que al menos una persona vea el programa: 0.7176\n",
      "Media (esperanza matemática): 1.2000000000000002\n",
      "Desviación típica: 1.0392\n"
     ]
    }
   ],
   "source": [
    "import scipy.stats as stats\n",
    "import math\n",
    "\n",
    "# Parámetros del problema\n",
    "n = 12           # número de personas\n",
    "p = 0.10         # probabilidad de que una persona esté viendo el programa\n",
    "q = 1 - p        # complemento\n",
    "\n",
    "# Definimos la distribución binomial\n",
    "binomial = stats.binom(n, p)\n",
    "\n",
    "# 1. Probabilidad de que más de 8 personas estén viendo el programa\n",
    "prob_mas_de_8 = binomial.sf(8)  # sf = 1 - cdf(8), es decir, P(X > 8)\n",
    "\n",
    "# 2. Probabilidad de que al menos una persona esté viendo el programa\n",
    "prob_al_menos_una = 1 - binomial.pmf(0)  # 1 - P(X=0)\n",
    "\n",
    "# 3. Media y desviación típica\n",
    "media = binomial.mean()\n",
    "desviacion_tipica = binomial.std()\n",
    "\n",
    "# Mostramos los resultados\n",
    "print(f\"Probabilidad de más de 8 personas viendo el programa: {prob_mas_de_8:.8f}\")\n",
    "print(f\"Probabilidad de que al menos una persona vea el programa: {prob_al_menos_una:.4f}\")\n",
    "print(f\"Media (esperanza matemática): {media}\")\n",
    "print(f\"Desviación típica: {desviacion_tipica:.4f}\")\n"
   ]
  },
  {
   "cell_type": "markdown",
   "id": "4798a267",
   "metadata": {},
   "source": [
    "**2. Los aspirantes a la MIAAD de UACJ responden un cuestionario de 20 preguntas. Cada pregunta tiene cuatro posibles respuestas, de las que s´olo una es correcta. Suponga que los aspirantes tienen la misma probabilidad de responder. Se pide hallar las probabilidades para el aspirante:**\n",
    "- Conteste todas las preguntas mal.\n",
    "- Conteste al menos 10 preguntas bien.\n",
    "- Conteste entre 5 y 8 preguntas bien.\n",
    "- Conteste menos de tres preguntas bien"
   ]
  },
  {
   "cell_type": "code",
   "execution_count": 2,
   "id": "ada0430e",
   "metadata": {},
   "outputs": [
    {
     "name": "stdout",
     "output_type": "stream",
     "text": [
      "Probabilidad de contestar todas las preguntas mal: 0.00317121\n",
      "Probabilidad de contestar al menos 10 preguntas bien: 0.0139\n",
      "Probabilidad de contestar entre 5 y 8 preguntas bien: 0.5442\n",
      "Probabilidad de contestar menos de 3 preguntas bien: 0.0913\n"
     ]
    }
   ],
   "source": [
    "import scipy.stats as stats\n",
    "\n",
    "# Parámetros del problema\n",
    "n = 20           # número de preguntas\n",
    "p = 0.25         # probabilidad de acertar una pregunta\n",
    "q = 1 - p        # probabilidad de fallar\n",
    "\n",
    "# Definimos la distribución binomial\n",
    "binomial = stats.binom(n, p)\n",
    "\n",
    "# 1. Probabilidad de contestar todas las preguntas mal (aciertos = 0)\n",
    "prob_todas_mal = binomial.pmf(0)\n",
    "\n",
    "# 2. Probabilidad de contestar al menos 10 preguntas bien\n",
    "prob_al_menos_10 = binomial.sf(9)  # sf(9) = P(X > 9) = P(X >= 10)\n",
    "\n",
    "# 3. Probabilidad de contestar entre 5 y 8 preguntas bien (incluidos 5 y 8)\n",
    "prob_entre_5_y_8 = binomial.cdf(8) - binomial.cdf(4)\n",
    "\n",
    "# 4. Probabilidad de contestar menos de 3 preguntas bien (0, 1 o 2)\n",
    "prob_menos_de_3 = binomial.cdf(2)\n",
    "\n",
    "# Mostramos los resultados\n",
    "print(f\"Probabilidad de contestar todas las preguntas mal: {prob_todas_mal:.8f}\")\n",
    "print(f\"Probabilidad de contestar al menos 10 preguntas bien: {prob_al_menos_10:.4f}\")\n",
    "print(f\"Probabilidad de contestar entre 5 y 8 preguntas bien: {prob_entre_5_y_8:.4f}\")\n",
    "print(f\"Probabilidad de contestar menos de 3 preguntas bien: {prob_menos_de_3:.4f}\")\n"
   ]
  },
  {
   "cell_type": "markdown",
   "id": "97eee995",
   "metadata": {},
   "source": [
    "**3. Un comité de 5 personas debe ser seleccionado de manera aleatoria a partir de un grupo de 5 hombres y 10 mujeres**\n",
    "- Halle la probabilidad que el comité esté compuesto por 2 hombres y 3 mujeres.\n",
    "- Halle la probabilidad que el comité esté compuesto sélo por mujeres."
   ]
  },
  {
   "cell_type": "code",
   "execution_count": 3,
   "id": "5be49d5c",
   "metadata": {},
   "outputs": [
    {
     "name": "stdout",
     "output_type": "stream",
     "text": [
      "Probabilidad de 2 hombres y 3 mujeres: 0.3996\n",
      "Probabilidad de sólo mujeres: 0.0839\n"
     ]
    }
   ],
   "source": [
    "import math\n",
    "\n",
    "# Función combinatoria\n",
    "def combinacion(n, k):\n",
    "    return math.comb(n, k)\n",
    "\n",
    "# Datos\n",
    "hombres = 5\n",
    "mujeres = 10\n",
    "total_personas = hombres + mujeres\n",
    "comite = 5\n",
    "\n",
    "# 1. Probabilidad de 2 hombres y 3 mujeres\n",
    "formas_2h_3m = combinacion(hombres, 2) * combinacion(mujeres, 3)\n",
    "formas_totales = combinacion(total_personas, comite)\n",
    "prob_2h_3m = formas_2h_3m / formas_totales\n",
    "\n",
    "# 2. Probabilidad de solo mujeres\n",
    "formas_5m = combinacion(mujeres, 5)\n",
    "prob_5m = formas_5m / formas_totales\n",
    "\n",
    "# Mostrar resultados\n",
    "print(f\"Probabilidad de 2 hombres y 3 mujeres: {prob_2h_3m:.4f}\")\n",
    "print(f\"Probabilidad de sólo mujeres: {prob_5m:.4f}\")\n"
   ]
  },
  {
   "cell_type": "markdown",
   "id": "39fc083e",
   "metadata": {},
   "source": [
    "**4. Considere el experimento de tirar un volado repetidas veces y contar el n´umero de volados que se tiraron antes que apareciera la primera “´aguila”.**\n",
    "- Encuentre el espacio de muestreo del experimento.\n",
    "- Encuentre la probabilidad P(ek) que la primera “´aguila” aparezca en el k-´esimo volado.\n",
    "- Muestre que la sumatoria de todos los posibles P(ek) (i.e., para k desde 1 hasta infinito) es uno."
   ]
  },
  {
   "cell_type": "code",
   "execution_count": 4,
   "id": "bfc908d7",
   "metadata": {},
   "outputs": [
    {
     "name": "stdout",
     "output_type": "stream",
     "text": [
      "Suma aproximada de las probabilidades: 1.000000\n"
     ]
    }
   ],
   "source": [
    "# Definir función de probabilidad\n",
    "def probabilidad_ek(k):\n",
    "    return 0.5 ** k\n",
    "\n",
    "# Calcular suma de P(ek) para k=1 hasta un número grande (simulamos infinito)\n",
    "suma_probabilidades = sum(probabilidad_ek(k) for k in range(1, 10000))\n",
    "\n",
    "print(f\"Suma aproximada de las probabilidades: {suma_probabilidades:.6f}\")\n"
   ]
  },
  {
   "cell_type": "markdown",
   "id": "44b16654",
   "metadata": {},
   "source": [
    "**5. Considere una vez más el experimento del problema anterior.**\n",
    "- Halle la probabilidad que la primera “´aguila” aparezca en un n´umero par de volados (i.e k par).\n",
    "- Halle la probabilidad que la primera “´aguila” aparezca en un n´umero impar de volados (i.e k impar)."
   ]
  },
  {
   "cell_type": "code",
   "execution_count": 5,
   "id": "c3cbc4b9",
   "metadata": {},
   "outputs": [
    {
     "name": "stdout",
     "output_type": "stream",
     "text": [
      "Probabilidad de número par de volados: 0.3333\n",
      "Probabilidad de número impar de volados: 0.6667\n"
     ]
    }
   ],
   "source": [
    "# Probabilidad de que primera águila sea en volado k\n",
    "def p_ek(k):\n",
    "    return 0.5 ** k\n",
    "\n",
    "# Calculamos suma hasta un valor grande\n",
    "suma_par = sum(p_ek(k) for k in range(2, 10000, 2))\n",
    "suma_impar = sum(p_ek(k) for k in range(1, 10000, 2))\n",
    "\n",
    "print(f\"Probabilidad de número par de volados: {suma_par:.4f}\")\n",
    "print(f\"Probabilidad de número impar de volados: {suma_impar:.4f}\")\n"
   ]
  },
  {
   "cell_type": "markdown",
   "id": "fbd98a9e",
   "metadata": {},
   "source": [
    "**6. Considere los procedimientos rand0, rand1, rand2 y rand3 de la secci´on 7.1 “Uniform Deviates” del libro: Numerical Recipes in C : The Art of Scientific Computing by William H. Press, Brian P. Flannery, Saul A. Teukolsky, William T. Vetterling, Second Edition (available online). Implemente los 4 procedimientos en lenguaje/software de su preferencia y muestre a trav´es de histogramas que efectivamente producen una distribuci´on uniforme. Indique cu´al de los 4 procedimientos produce mejores secuencias pseudo-aleatorias. Explique todas sus conclusiones.**"
   ]
  },
  {
   "cell_type": "code",
   "execution_count": 6,
   "id": "b15c1115",
   "metadata": {},
   "outputs": [
    {
     "data": {
      "image/png": "[encoded data removed]",
      "text/plain": [
       "<Figure size 1200x800 with 4 Axes>"
      ]
     },
     "metadata": {},
     "output_type": "display_data"
    }
   ],
   "source": [
    "import numpy as np\n",
    "import matplotlib.pyplot as plt\n",
    "\n",
    "# rand0: Linear Congruential Generator (malo)\n",
    "def rand0(seed, n):\n",
    "    a = 1664525\n",
    "    c = 1013904223\n",
    "    m = 2**32\n",
    "    x = seed\n",
    "    results = []\n",
    "    for _ in range(n):\n",
    "        x = (a * x + c) % m\n",
    "        results.append(x / m)\n",
    "    return np.array(results)\n",
    "\n",
    "# rand1: Mejor LCG\n",
    "def rand1(seed, n):\n",
    "    a = 1664525\n",
    "    c = 1013904223\n",
    "    m = 2**32\n",
    "    x = seed\n",
    "    results = []\n",
    "    for _ in range(n):\n",
    "        x = (a * x + c) & 0xFFFFFFFF\n",
    "        results.append(x / m)\n",
    "    return np.array(results)\n",
    "\n",
    "# rand2: LCG + shuffle\n",
    "def rand2(seed, n):\n",
    "    a = 1664525\n",
    "    c = 1013904223\n",
    "    m = 2**32\n",
    "    x = seed\n",
    "    shuffle = [0] * 97\n",
    "    for i in range(97):\n",
    "        x = (a * x + c) % m\n",
    "        shuffle[i] = x / m\n",
    "    results = []\n",
    "    for _ in range(n):\n",
    "        j = int(np.random.randint(0, 97))\n",
    "        temp = shuffle[j]\n",
    "        x = (a * x + c) % m\n",
    "        shuffle[j] = x / m\n",
    "        results.append(temp)\n",
    "    return np.array(results)\n",
    "\n",
    "# rand3: LCG + shuffle + arithmetic combination\n",
    "def rand3(seed, n):\n",
    "    a = 1664525\n",
    "    c = 1013904223\n",
    "    m = 2**32\n",
    "    x = seed\n",
    "    shuffle = [0] * 97\n",
    "    for i in range(97):\n",
    "        x = (a * x + c) % m\n",
    "        shuffle[i] = x / m\n",
    "    results = []\n",
    "    for _ in range(n):\n",
    "        j = int(np.random.randint(0, 97))\n",
    "        temp = shuffle[j]\n",
    "        x = (a * x + c) % m\n",
    "        shuffle[j] = (x / m)\n",
    "        x_new = (temp - shuffle[j])\n",
    "        if x_new < 0:\n",
    "            x_new += 1.0\n",
    "        results.append(x_new)\n",
    "    return np.array(results)\n",
    "\n",
    "# Configuración\n",
    "n = 10000\n",
    "seed = 123456789\n",
    "\n",
    "# Generar números\n",
    "nums_rand0 = rand0(seed, n)\n",
    "nums_rand1 = rand1(seed, n)\n",
    "nums_rand2 = rand2(seed, n)\n",
    "nums_rand3 = rand3(seed, n)\n",
    "\n",
    "# Plotting\n",
    "fig, axs = plt.subplots(2, 2, figsize=(12, 8))\n",
    "\n",
    "axs[0, 0].hist(nums_rand0, bins=50, color='blue', alpha=0.7)\n",
    "axs[0, 0].set_title('rand0')\n",
    "\n",
    "axs[0, 1].hist(nums_rand1, bins=50, color='green', alpha=0.7)\n",
    "axs[0, 1].set_title('rand1')\n",
    "\n",
    "axs[1, 0].hist(nums_rand2, bins=50, color='red', alpha=0.7)\n",
    "axs[1, 0].set_title('rand2')\n",
    "\n",
    "axs[1, 1].hist(nums_rand3, bins=50, color='purple', alpha=0.7)\n",
    "axs[1, 1].set_title('rand3')\n",
    "\n",
    "for ax in axs.flat:\n",
    "    ax.set_xlim(0, 1)\n",
    "\n",
    "plt.tight_layout()\n",
    "plt.show()\n"
   ]
  },
  {
   "cell_type": "markdown",
   "id": "97b80b03",
   "metadata": {},
   "source": [
    "**7. Un experimento consiste en lanzar dos dados y observar la suma de los dos. Halle la probabilidad que:**\n",
    "- La suma sea 7 y,\n",
    "- La probabilidad que la suma sea mayor que 10.\n",
    "\n",
    "Compruebe los resultados te´oricos obtenidos utilizando un programa de\n",
    "que simule ambos ejercicios. Repita el problema un n´umero suficientemente grande de veces y determine con qu´e precisi´on el resultado te´orico puede\n",
    "ser corroborado experimentalmente."
   ]
  },
  {
   "cell_type": "code",
   "execution_count": 7,
   "id": "322006bd",
   "metadata": {},
   "outputs": [
    {
     "name": "stdout",
     "output_type": "stream",
     "text": [
      "Probabilidad simulada de suma 7: 0.1657\n",
      "Probabilidad simulada de suma mayor que 10: 0.0834\n"
     ]
    }
   ],
   "source": [
    "import numpy as np\n",
    "\n",
    "# Configuración\n",
    "np.random.seed(42)  # Semilla para reproducibilidad\n",
    "n = 100000  # Número de experimentos\n",
    "\n",
    "# Simular lanzamientos de dos dados\n",
    "dado1 = np.random.randint(1, 7, n)\n",
    "dado2 = np.random.randint(1, 7, n)\n",
    "suma = dado1 + dado2\n",
    "\n",
    "# Cálculo experimental\n",
    "prob_suma_7 = np.sum(suma == 7) / n\n",
    "prob_suma_mayor_10 = np.sum(suma > 10) / n\n",
    "\n",
    "# Mostrar resultados\n",
    "print(f\"Probabilidad simulada de suma 7: {prob_suma_7:.4f}\")\n",
    "print(f\"Probabilidad simulada de suma mayor que 10: {prob_suma_mayor_10:.4f}\")\n"
   ]
  },
  {
   "cell_type": "markdown",
   "id": "e1f4f0c2",
   "metadata": {},
   "source": [
    "**8. Suponga que hist´oricamente, el promedio IQ de los estudiantes de maestr´ıa de la UACJ es de 120 puntos, con una varianza de 36 puntos cuadrados. Suponga adem´as que se decide que el 2026 todos los aspirantes de nuevo ingreso deber´an tomar un examen de IQ. En su opini´on:**\n",
    "- ¿Con qu´e cantidad m´ınima de puntos un aspirante deber´ıa ser definitivamente aceptado por ser un(a) “chico(a) prodigio”?\n",
    "- ¿Con qu´e cantidad m´axima de puntos un aspirante deber´ıa ser definitivamente rechazado por ser un “estudiante con menos de 5 dedo de frente”?\n",
    "- Encuentre la probabilidad que en este grupo de la MIAAD los IQs de cada uno de los estudiantes est´e entre 115 y 120 puntos y entre 125-130 puntos"
   ]
  },
  {
   "cell_type": "code",
   "execution_count": 8,
   "id": "5db08703",
   "metadata": {},
   "outputs": [
    {
     "name": "stdout",
     "output_type": "stream",
     "text": [
      "Probabilidad entre 115 y 120: 0.2977\n",
      "Probabilidad entre 125 y 130: 0.1545\n",
      "Chico prodigio: IQ ≥ 132\n",
      "Rechazo: IQ ≤ 108\n"
     ]
    }
   ],
   "source": [
    "import scipy.stats as stats\n",
    "\n",
    "# Datos\n",
    "mu = 120\n",
    "sigma = 6\n",
    "\n",
    "# Puntos de corte\n",
    "z_115 = (115 - mu) / sigma\n",
    "z_120 = (120 - mu) / sigma\n",
    "z_125 = (125 - mu) / sigma\n",
    "z_130 = (130 - mu) / sigma\n",
    "\n",
    "# Probabilidades\n",
    "p_115_120 = stats.norm.cdf(z_120) - stats.norm.cdf(z_115)\n",
    "p_125_130 = stats.norm.cdf(z_130) - stats.norm.cdf(z_125)\n",
    "\n",
    "print(f\"Probabilidad entre 115 y 120: {p_115_120:.4f}\")\n",
    "print(f\"Probabilidad entre 125 y 130: {p_125_130:.4f}\")\n",
    "\n",
    "# Valores para aceptación/rechazo\n",
    "punto_prodigo = mu + 2*sigma\n",
    "punto_rechazo = mu - 2*sigma\n",
    "\n",
    "print(f\"Chico prodigio: IQ ≥ {punto_prodigo}\")\n",
    "print(f\"Rechazo: IQ ≤ {punto_rechazo}\")\n"
   ]
  },
  {
   "cell_type": "markdown",
   "id": "22901fa0",
   "metadata": {},
   "source": [
    "**9. A mediados del lejano siglo XVII, el Chevalier de Mere conjetur´o que la probabilidad de sacar un 6 tras tirar 4 veces un dado es mayor que la probabilidad de sacar doble seis tras tirar 24 veces dos dados. Aproxime la distribuci´on binomial con la distribuci´on normal para calcular cu´antos experimentos tuvo que realizar el Chevalier de Mere para poder llegar a la conclusi´on correcta con una certidumbre del 70 % y del 95 %.**"
   ]
  },
  {
   "cell_type": "code",
   "execution_count": 9,
   "id": "9b63e45b",
   "metadata": {},
   "outputs": [
    {
     "name": "stdout",
     "output_type": "stream",
     "text": [
      "Probabilidad teórica (al menos un 6 en 4 lanzamientos): 0.5177\n",
      "Probabilidad teórica (al menos un doble 6 en 24 lanzamientos de dos dados): 0.4914\n",
      "\n",
      "Resultados simulados con 100000 experimentos:\n",
      "Frecuencia (al menos un 6 en 4 lanzamientos): 0.5150\n",
      "Frecuencia (al menos un doble 6 en 24 lanzamientos de dos dados): 0.4908\n",
      "\n",
      "Simulación confirma que sacar un 6 en 4 tiros es más probable.\n"
     ]
    }
   ],
   "source": [
    "import numpy as np\n",
    "\n",
    "# Configuraciones\n",
    "np.random.seed(42)  # Semilla para reproducibilidad\n",
    "\n",
    "# Probabilidades teóricas\n",
    "p_sacar_6_en_4_tiros = 1 - (5/6)**4\n",
    "p_sacar_doble6_en_24_tiros = 1 - (35/36)**24\n",
    "\n",
    "print(f\"Probabilidad teórica (al menos un 6 en 4 lanzamientos): {p_sacar_6_en_4_tiros:.4f}\")\n",
    "print(f\"Probabilidad teórica (al menos un doble 6 en 24 lanzamientos de dos dados): {p_sacar_doble6_en_24_tiros:.4f}\")\n",
    "\n",
    "# Función para simular el experimento de un dado lanzado 4 veces\n",
    "def experimento_un_dado_4_tiros():\n",
    "    lanzamientos = np.random.randint(1, 7, 4)\n",
    "    return np.any(lanzamientos == 6)\n",
    "\n",
    "# Función para simular el experimento de dos dados lanzados 24 veces\n",
    "def experimento_dos_dados_24_tiros():\n",
    "    dado1 = np.random.randint(1, 7, 24)\n",
    "    dado2 = np.random.randint(1, 7, 24)\n",
    "    return np.any((dado1 == 6) & (dado2 == 6))\n",
    "\n",
    "# Número de simulaciones\n",
    "n_simulaciones = 100000  # Puedes cambiar a 783 o 2776 si quieres ver para esos niveles de confianza\n",
    "\n",
    "# Simulaciones\n",
    "resultados_1dado = [experimento_un_dado_4_tiros() for _ in range(n_simulaciones)]\n",
    "resultados_2dados = [experimento_dos_dados_24_tiros() for _ in range(n_simulaciones)]\n",
    "\n",
    "# Cálculo de frecuencias\n",
    "freq_1dado = np.mean(resultados_1dado)\n",
    "freq_2dados = np.mean(resultados_2dados)\n",
    "\n",
    "print(f\"\\nResultados simulados con {n_simulaciones} experimentos:\")\n",
    "print(f\"Frecuencia (al menos un 6 en 4 lanzamientos): {freq_1dado:.4f}\")\n",
    "print(f\"Frecuencia (al menos un doble 6 en 24 lanzamientos de dos dados): {freq_2dados:.4f}\")\n",
    "\n",
    "# ¿Cuál fue más probable en la simulación?\n",
    "if freq_1dado > freq_2dados:\n",
    "    print(\"\\nSimulación confirma que sacar un 6 en 4 tiros es más probable.\")\n",
    "else:\n",
    "    print(\"\\nSimulación NO confirma (posible error de muestreo).\")\n"
   ]
  }
 ],
 "metadata": {
  "kernelspec": {
   "display_name": "Python 3",
   "language": "python",
   "name": "python3"
  },
  "language_info": {
   "codemirror_mode": {
    "name": "ipython",
    "version": 3
   },
   "file_extension": ".py",
   "mimetype": "text/x-python",
   "name": "python",
   "nbconvert_exporter": "python",
   "pygments_lexer": "ipython3",
   "version": "3.10.4"
  }
 },
 "nbformat": 4,
 "nbformat_minor": 5
}
