{
 "cells": [
  {
   "cell_type": "markdown",
   "id": "591c22f0",
   "metadata": {},
   "source": [
    "### **Ejercicios de probabilidad y simulación de distribuciones** ###\n",
    "\n",
    "### **Probabilidad y Estadística** ###\n",
    "\n",
    "Mstemáticas y Estadística para Inteligencia Artificial\n",
    "\n",
    "**Instructora**: Helen Clara Peñate Rodríguez\n",
    "\n",
    "**Alumno**: Aminadab Córdova Acosta\n",
    "\n",
    "Ejercicios. Resuelva los siguientes ejercicios. Adem´as de la respuestas correctas, incluya el planteamiento y procedimiento seguido."
   ]
  },
  {
   "cell_type": "markdown",
   "id": "7e41577e",
   "metadata": {},
   "source": [
    "**1. El 10 % de la población en Ciudad Juárez ve un concurso que hay en el Canal 44. Desde el concurso se llama por teléfono a 12 personas de la ciudad elegidas al azar. Calcular la probabilidad de que, entre las 12 personas,  estuvieran viendo el programa:**\n",
    "- Más de 8 personas.\n",
    "- Algunas de las 12 personas.\n",
    "- Cuál es la media y la desviación típica."
   ]
  },
  {
   "cell_type": "markdown",
   "id": "4798a267",
   "metadata": {},
   "source": [
    "**2. Los aspirantes a la MIAAD de UACJ responden un cuestionario de 20 preguntas. Cada pregunta tiene cuatro posibles respuestas, de las que s´olo una es correcta. Suponga que los aspirantes tienen la misma probabilidad de responder. Se pide hallar las probabilidades para el aspirante:**\n",
    "- Conteste todas las preguntas mal.\n",
    "- Conteste al menos 10 preguntas bien.\n",
    "- Conteste entre 5 y 8 preguntas bien.\n",
    "- Conteste menos de tres preguntas bien"
   ]
  },
  {
   "cell_type": "markdown",
   "id": "97eee995",
   "metadata": {},
   "source": [
    "**3. Un comité de 5 personas debe ser seleccionado de manera aleatoria a partir de un grupo de 5 hombres y 10 mujeres**\n",
    "- Halle la probabilidad que el comité esté compuesto por 2 hombres y 3 mujeres.\n",
    "- Halle la probabilidad que el comité esté compuesto sélo por mujeres."
   ]
  },
  {
   "cell_type": "markdown",
   "id": "39fc083e",
   "metadata": {},
   "source": [
    "**4. Considere el experimento de tirar un volado repetidas veces y contar el n´umero de volados que se tiraron antes que apareciera la primera “´aguila”.**\n",
    "- Encuentre el espacio de muestreo del experimento.\n",
    "- Encuentre la probabilidad P(ek) que la primera “´aguila” aparezca en el k-´esimo volado.\n",
    "- Muestre que la sumatoria de todos los posibles P(ek) (i.e., para k desde 1 hasta infinito) es uno."
   ]
  },
  {
   "cell_type": "markdown",
   "id": "44b16654",
   "metadata": {},
   "source": [
    "**5. Considere una vez m´as el experimento del problema anterior.**\n",
    "- Halle la probabilidad que la primera “´aguila” aparezca en un n´umero par de volados (i.e k par).\n",
    "- Halle la probabilidad que la primera “´aguila” aparezca en un n´umero impar de volados (i.e k impar)."
   ]
  },
  {
   "cell_type": "markdown",
   "id": "fbd98a9e",
   "metadata": {},
   "source": [
    "**6. Considere los procedimientos rand0, rand1, rand2 y rand3 de la secci´on 7.1 “Uniform Deviates” del libro: Numerical Recipes in C : The Art of Scientific Computing by William H. Press, Brian P. Flannery, Saul A. Teukolsky, William T. Vetterling, Second Edition (available online). Implemente los 4 procedimientos en lenguaje/software de su preferencia y muestre a trav´es de histogramas que efectivamente producen una distribuci´on uniforme. Indique cu´al de los 4 procedimientos produce mejores secuencias pseudo-aleatorias. Explique todas sus conclusiones.**"
   ]
  },
  {
   "cell_type": "markdown",
   "id": "97b80b03",
   "metadata": {},
   "source": [
    "**7. Un experimento consiste en lanzar dos dados y observar la suma de los dos. Halle la probabilidad que:**\n",
    "- La suma sea 7 y,\n",
    "- La probabilidad que la suma sea mayor que 10.\n",
    "\n",
    "Compruebe los resultados te´oricos obtenidos utilizando un programa de\n",
    "que simule ambos ejercicios. Repita el problema un n´umero suficientemente grande de veces y determine con qu´e precisi´on el resultado te´orico puede\n",
    "ser corroborado experimentalmente."
   ]
  },
  {
   "cell_type": "markdown",
   "id": "e1f4f0c2",
   "metadata": {},
   "source": [
    "**8. Suponga que hist´oricamente, el promedio IQ de los estudiantes de maestr´ıa de la UACJ es de 120 puntos, con una varianza de 36 puntos cuadrados. Suponga adem´as que se decide que el 2026 todos los aspirantes de nuevo ingreso deber´an tomar un examen de IQ. En su opini´on:**\n",
    "- ¿Con qu´e cantidad m´ınima de puntos un aspirante deber´ıa ser definitivamente aceptado por ser un(a) “chico(a) prodigio”?\n",
    "- ¿Con qu´e cantidad m´axima de puntos un aspirante deber´ıa ser definitivamente rechazado por ser un “estudiante con menos de 5 dedo de frente”?\n",
    "- Encuentre la probabilidad que en este grupo de la MIAAD los IQs de cada uno de los estudiantes est´e entre 115 y 120 puntos y entre 125-130 puntos"
   ]
  },
  {
   "cell_type": "markdown",
   "id": "22901fa0",
   "metadata": {},
   "source": [
    "**9. A mediados del lejano siglo XVII, el Chevalier de Mere conjetur´o que la probabilidad de sacar un 6 tras tirar 4 veces un dado es mayor que la probabilidad de sacar doble seis tras tirar 24 veces dos dados. Aproxime la distribuci´on binomial con la distribuci´on normal para calcular cu´antos experimentos tuvo que realizar el Chevalier de Mere para poder llegar a la conclusi´on correcta con una certidumbre del 70 % y del 95 %.**"
   ]
  }
 ],
 "metadata": {
  "language_info": {
   "name": "python"
  }
 },
 "nbformat": 4,
 "nbformat_minor": 5
}
