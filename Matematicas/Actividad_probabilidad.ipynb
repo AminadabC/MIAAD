{
 "cells": [
  {
   "cell_type": "markdown",
   "id": "591c22f0",
   "metadata": {},
   "source": [
    "### **Ejercicios de probabilidad y simulación de distribuciones** ###\n",
    "\n",
    "### **Probabilidad y Estadística** ###\n",
    "\n",
    "Mstemáticas y Estadística para Inteligencia Artificial\n",
    "\n",
    "**Instructora**: Helen Clara Peñate Rodríguez\n",
    "\n",
    "**Alumno**: Aminadab Córdova Acosta\n",
    "\n",
    "Ejercicios. Resuelva los siguientes ejercicios. Adem´as de la respuestas correctas, incluya el planteamiento y procedimiento seguido."
   ]
  },
  {
   "cell_type": "markdown",
   "id": "7e41577e",
   "metadata": {},
   "source": [
    "**1. El 10 % de la población en Ciudad Juárez ve un concurso que hay en el Canal 44. Desde el concurso se llama por teléfono a 12 personas de la ciudad elegidas al azar. Calcular la probabilidad de que, entre las 12 personas,  estuvieran viendo el programa:**\n",
    "- Más de 8 personas.\n",
    "- Algunas de las 12 personas.\n",
    "- Cuál es la media y la desviación típica."
   ]
  },
  {
   "cell_type": "markdown",
   "id": "e5a6687b",
   "metadata": {},
   "source": [
    "**Solución:**\n",
    "\n",
    "Este ejercicio se modela con una **distribución binomial**, ya que cumple con las siguientes características:\n",
    "\n",
    "- Se realizan **n = 12 ensayos** independientes (llamadas telefónicas).\n",
    "- Cada ensayo tiene solo **dos posibles resultados**: la persona ve el programa o no lo ve.\n",
    "- La **probabilidad de éxito** (una persona ve el programa) es constante: p = 0.10.\n",
    "- Nos interesa conocer la **cantidad de éxitos** (personas que ven el programa) en esos 12 intentos.\n",
    "\n",
    "Por lo tanto, la variable aleatoria \\( X \\), que representa el número de personas que están viendo el programa, **sigue una distribución binomial**:  \n",
    "$$\n",
    "X \\sim \\text{Binomial}(n = 12, p = 0.10)\n",
    "$$\n"
   ]
  },
  {
   "cell_type": "code",
   "execution_count": 1,
   "id": "3ace4312",
   "metadata": {},
   "outputs": [
    {
     "name": "stdout",
     "output_type": "stream",
     "text": [
      "Probabilidad de más de 8 personas viendo el programa: 0.00000017\n",
      "Probabilidad de que al menos una persona vea el programa: 0.7176\n",
      "Media (esperanza matemática): 1.2000000000000002\n",
      "Desviación típica: 1.0392\n"
     ]
    }
   ],
   "source": [
    "import scipy.stats as stats\n",
    "import math\n",
    "\n",
    "# Parámetros del problema\n",
    "n = 12           # número de personas\n",
    "p = 0.10         # probabilidad de que una persona esté viendo el programa\n",
    "q = 1 - p        # complemento\n",
    "\n",
    "# Definimos la distribución binomial\n",
    "binomial = stats.binom(n, p)\n",
    "\n",
    "# 1. Probabilidad de que más de 8 personas estén viendo el programa\n",
    "prob_mas_de_8 = binomial.sf(8)  # sf = 1 - cdf(8), es decir, P(X > 8)\n",
    "\n",
    "# 2. Probabilidad de que al menos una persona esté viendo el programa\n",
    "prob_al_menos_una = 1 - binomial.pmf(0)  # 1 - P(X=0)\n",
    "\n",
    "# 3. Media y desviación típica\n",
    "media = binomial.mean()\n",
    "desviacion_tipica = binomial.std()\n",
    "\n",
    "# Mostramos los resultados\n",
    "print(f\"Probabilidad de más de 8 personas viendo el programa: {prob_mas_de_8:.8f}\")\n",
    "print(f\"Probabilidad de que al menos una persona vea el programa: {prob_al_menos_una:.4f}\")\n",
    "print(f\"Media (esperanza matemática): {media}\")\n",
    "print(f\"Desviación típica: {desviacion_tipica:.4f}\")\n"
   ]
  },
  {
   "cell_type": "markdown",
   "id": "4798a267",
   "metadata": {},
   "source": [
    "**2. Los aspirantes a la MIAAD de UACJ responden un cuestionario de 20 preguntas. Cada pregunta tiene cuatro posibles respuestas, de las que solo una es correcta. Suponga que los aspirantes tienen la misma probabilidad de responder. Se pide hallar las probabilidades para el aspirante:**\n",
    "- Conteste todas las preguntas mal.\n",
    "- Conteste al menos 10 preguntas bien.\n",
    "- Conteste entre 5 y 8 preguntas bien.\n",
    "- Conteste menos de tres preguntas bien"
   ]
  },
  {
   "cell_type": "markdown",
   "id": "ce87b79d",
   "metadata": {},
   "source": [
    "**Solución:**\n",
    "\n",
    "Este problema se resuelve utilizando una **distribución binomial** porque:\n",
    "\n",
    "- Hay un número fijo de ensayos: $ n = 20 $ preguntas.\n",
    "- Cada pregunta tiene solo dos resultados posibles desde el punto de vista de acierto: correcta o incorrecta.\n",
    "- La probabilidad de éxito (acertar) es constante: $  p = \\frac{1}{4} = 0.25 $.\n",
    "- Las preguntas se responden de manera independiente.\n",
    "\n",
    "Por lo tanto, la variable aleatoria \\( X \\), que representa el número de respuestas correctas, sigue una distribución binomial\n",
    "  \n",
    "$$\n",
    "X \\sim \\text{Binomial}(n = 20, p = 0.25)\n",
    "$$\n"
   ]
  },
  {
   "cell_type": "code",
   "execution_count": 2,
   "id": "ada0430e",
   "metadata": {},
   "outputs": [
    {
     "name": "stdout",
     "output_type": "stream",
     "text": [
      "Probabilidad de contestar todas las preguntas mal: 0.00317121\n",
      "Probabilidad de contestar al menos 10 preguntas bien: 0.0139\n",
      "Probabilidad de contestar entre 5 y 8 preguntas bien: 0.5442\n",
      "Probabilidad de contestar menos de 3 preguntas bien: 0.0913\n"
     ]
    }
   ],
   "source": [
    "import scipy.stats as stats\n",
    "\n",
    "# Parámetros del problema\n",
    "n = 20           # número de preguntas\n",
    "p = 0.25         # probabilidad de acertar una pregunta\n",
    "q = 1 - p        # probabilidad de fallar\n",
    "\n",
    "# Definimos la distribución binomial\n",
    "binomial = stats.binom(n, p)\n",
    "\n",
    "# 1. Probabilidad de contestar todas las preguntas mal (aciertos = 0)\n",
    "prob_todas_mal = binomial.pmf(0)\n",
    "\n",
    "# 2. Probabilidad de contestar al menos 10 preguntas bien\n",
    "prob_al_menos_10 = binomial.sf(9)  # sf(9) = P(X > 9) = P(X >= 10)\n",
    "\n",
    "# 3. Probabilidad de contestar entre 5 y 8 preguntas bien (incluidos 5 y 8)\n",
    "prob_entre_5_y_8 = binomial.cdf(8) - binomial.cdf(4)\n",
    "\n",
    "# 4. Probabilidad de contestar menos de 3 preguntas bien (0, 1 o 2)\n",
    "prob_menos_de_3 = binomial.cdf(2)\n",
    "\n",
    "# Mostramos los resultados\n",
    "print(f\"Probabilidad de contestar todas las preguntas mal: {prob_todas_mal:.8f}\")\n",
    "print(f\"Probabilidad de contestar al menos 10 preguntas bien: {prob_al_menos_10:.4f}\")\n",
    "print(f\"Probabilidad de contestar entre 5 y 8 preguntas bien: {prob_entre_5_y_8:.4f}\")\n",
    "print(f\"Probabilidad de contestar menos de 3 preguntas bien: {prob_menos_de_3:.4f}\")\n"
   ]
  },
  {
   "cell_type": "markdown",
   "id": "97eee995",
   "metadata": {},
   "source": [
    "**3. Un comité de 5 personas debe ser seleccionado de manera aleatoria a partir de un grupo de 5 hombres y 10 mujeres**\n",
    "- Halle la probabilidad que el comité esté compuesto por 2 hombres y 3 mujeres.\n",
    "- Halle la probabilidad que el comité esté compuesto sélo por mujeres."
   ]
  },
  {
   "cell_type": "markdown",
   "id": "befded8d",
   "metadata": {},
   "source": [
    "**Solución:**\n",
    "\n",
    "Este ejercicio se modela con una **distribución hipergeométrica**, porque:\n",
    "\n",
    "- Se elige un subconjunto (comité de 5 personas) **sin reemplazo**.\n",
    "- La población total es finita y conocida: $ N = 5 \\text{ hombres} + 10 \\text{ mujeres} = 15 $ personas.\n",
    "- Nos interesa conocer la composición del grupo según dos categorías: **hombres** y **mujeres**.\n",
    "\n",
    "La probabilidad se calcula mediante la fórmula:\n",
    "\n",
    "$$\n",
    "P(X = x) = \\frac{\\binom{H}{x} \\cdot \\binom{M}{n - x}}{\\binom{N}{n}}\n",
    "$$\n",
    "\n",
    "Donde:\n",
    "- $ H = $ número de hombres (5)\n",
    "- $ M = $ número de mujeres (10)\n",
    "- $ N = H + M = 15 $\n",
    "- $ n = $ tamaño del comité (5)\n",
    "- $ x = $ número de hombres seleccionados"
   ]
  },
  {
   "cell_type": "code",
   "execution_count": 3,
   "id": "5be49d5c",
   "metadata": {},
   "outputs": [
    {
     "name": "stdout",
     "output_type": "stream",
     "text": [
      "Probabilidad de 2 hombres y 3 mujeres: 0.3996\n",
      "Probabilidad de sólo mujeres: 0.0839\n"
     ]
    }
   ],
   "source": [
    "import math\n",
    "\n",
    "# Función combinatoria\n",
    "def combinacion(n, k):\n",
    "    return math.comb(n, k)\n",
    "\n",
    "# Datos\n",
    "hombres = 5\n",
    "mujeres = 10\n",
    "total_personas = hombres + mujeres\n",
    "comite = 5\n",
    "\n",
    "# 1. Probabilidad de 2 hombres y 3 mujeres\n",
    "formas_2h_3m = combinacion(hombres, 2) * combinacion(mujeres, 3)\n",
    "formas_totales = combinacion(total_personas, comite)\n",
    "prob_2h_3m = formas_2h_3m / formas_totales\n",
    "\n",
    "# 2. Probabilidad de solo mujeres\n",
    "formas_5m = combinacion(mujeres, 5)\n",
    "prob_5m = formas_5m / formas_totales\n",
    "\n",
    "# Mostrar resultados\n",
    "print(f\"Probabilidad de 2 hombres y 3 mujeres: {prob_2h_3m:.4f}\")\n",
    "print(f\"Probabilidad de sólo mujeres: {prob_5m:.4f}\")\n"
   ]
  },
  {
   "cell_type": "markdown",
   "id": "39fc083e",
   "metadata": {},
   "source": [
    "**4. Considere el experimento de tirar un volado repetidas veces y contar el numero de volados que se tiraron antes que apareciera la primera “aguila”.**\n",
    "- Encuentre el espacio de muestreo del experimento.\n",
    "- Encuentre la probabilidad P(ek) que la primera “aguila” aparezca en el k-esimo volado.\n",
    "- Muestre que la sumatoria de todos los posibles P(ek) (i.e., para k desde 1 hasta infinito) es uno."
   ]
  },
  {
   "cell_type": "markdown",
   "id": "d2be02dd",
   "metadata": {},
   "source": [
    "**Solución:**\n",
    "\n",
    "Este experimento sigue una **distribución geométrica**, ya que:\n",
    "\n",
    "- Se repite un experimento de Bernoulli (lanzamiento de una moneda).\n",
    "- Hay solo dos posibles resultados: **águila (éxito)** o **sol (fracaso)**.\n",
    "- Se busca contar el número de intentos **hasta el primer éxito**.\n",
    "- Cada intento es independiente y con la **misma probabilidad de éxito**: $p = 0.5 $ (si la moneda es justa).\n",
    "\n",
    "---\n",
    "\n",
    "1. Espacio muestral\n",
    "\n",
    "El espacio muestral $ S $ está formado por todas las secuencias de lanzamientos que terminan con la **primera águila** en la posición $ k $.  \n",
    "Cada secuencia contiene $ k-1 $ soles (S) seguidos de una águila (A) al final:\n",
    "\n",
    "$$\n",
    "S = \\{ A, SA, SSA, SSSA, \\dots \\}\n",
    "$$\n",
    "\n",
    "Equivalente a:\n",
    "\n",
    "$$\n",
    "S = \\{ e_1, e_2, e_3, \\dots \\}\n",
    "$$\n",
    "\n",
    "Donde $ e_k $ es el evento: “la primera águila aparece en el k-ésimo volado”.\n",
    "\n",
    "---\n",
    "\n",
    "2. Probabilidad de $ P(e_k) $\n",
    "\n",
    "La probabilidad de obtener la primera águila en el k-ésimo intento es:\n",
    "\n",
    "$$\n",
    "P(e_k) = (1 - p)^{k - 1} \\cdot p\n",
    "$$\n",
    "\n",
    "Dado que $ p = 0.5 $:\n",
    "\n",
    "$$\n",
    "P(e_k) = (0.5)^{k - 1} \\cdot 0.5 = (0.5)^k\n",
    "$$\n",
    "\n",
    "---\n",
    "\n",
    "3. Verificación: suma total de probabilidades\n",
    "\n",
    "Comprobamos que:\n",
    "\n",
    "$$\n",
    "\\sum_{k=1}^{\\infty} P(e_k) = \\sum_{k=1}^{\\infty} (0.5)^k = 1\n",
    "$$\n",
    "\n",
    "Esta es una **serie geométrica infinita** con razón $ r = 0.5 $, que cumple:\n",
    "\n",
    "$$\n",
    "\\sum_{k=1}^{\\infty} r^k = \\frac{r}{1 - r} = \\frac{0.5}{1 - 0.5} = 1\n",
    "$$"
   ]
  },
  {
   "cell_type": "code",
   "execution_count": 3,
   "id": "395938a5",
   "metadata": {},
   "outputs": [
    {
     "name": "stdout",
     "output_type": "stream",
     "text": [
      "P(e_1) = 0.500000\n",
      "P(e_2) = 0.250000\n",
      "P(e_3) = 0.125000\n",
      "P(e_4) = 0.062500\n",
      "P(e_5) = 0.031250\n",
      "P(e_6) = 0.015625\n",
      "P(e_7) = 0.007812\n",
      "P(e_8) = 0.003906\n",
      "P(e_9) = 0.001953\n",
      "P(e_10) = 0.000977\n",
      "\n",
      "Suma total de probabilidades (k=1 a 100): 1.000000\n"
     ]
    }
   ],
   "source": [
    "# Parámetros\n",
    "p = 0.5  # Probabilidad de águila\n",
    "k_max = 100  # Aprox. hasta k = 100 para acercarse al infinito\n",
    "\n",
    "# Calcular P(ek) para k = 1 a k_max\n",
    "P_ek = [(1 - p)**(k - 1) * p for k in range(1, k_max + 1)]\n",
    "\n",
    "# Suma total\n",
    "suma_probabilidades = sum(P_ek)\n",
    "\n",
    "# Mostrar los primeros 10 valores\n",
    "for k in range(1, 11):\n",
    "    print(f\"P(e_{k}) = {P_ek[k-1]:.6f}\")\n",
    "\n",
    "print(f\"\\nSuma total de probabilidades (k=1 a {k_max}): {suma_probabilidades:.6f}\")\n"
   ]
  },
  {
   "cell_type": "markdown",
   "id": "44b16654",
   "metadata": {},
   "source": [
    "**5. Considere una vez más el experimento del problema anterior.**\n",
    "- Halle la probabilidad que la primera “aguila” aparezca en un numero par de volados (i.e k par).\n",
    "- Halle la probabilidad que la primera “aguila” aparezca en un numero impar de volados (i.e k impar)."
   ]
  },
  {
   "cell_type": "markdown",
   "id": "b5c5e385",
   "metadata": {},
   "source": [
    "**Solución:**\n",
    "\n",
    "Ya sabemos que:\n",
    "\n",
    "$$\n",
    "P(e_k) = (0.5)^k\n",
    "$$\n",
    "\n",
    "Entonces:\n",
    "\n",
    "- Para $ k $ **par**, sumamos $ P(e_2), P(e_4), P(e_6), \\dots $\n",
    "- Para $ k $ **impar**, sumamos $ P(e_1), P(e_3), P(e_5), \\dots $\n",
    "\n",
    "Estas sumas son **series geométricas alternadas**, y deben sumar 1 en total.\n",
    "\n",
    "---\n",
    "\n",
    "Solución analítica\n",
    "\n",
    "$$\n",
    "\\sum_{\\substack{k = 2 \\\\ k \\text{ par}}}^{\\infty} P(e_k) = \\sum_{j=1}^{\\infty} (0.5)^{2j} = \\sum_{j=1}^{\\infty} (0.25)^j = \\frac{0.25}{1 - 0.25} = \\frac{0.25}{0.75} = \\frac{1}{3}\n",
    "$$\n",
    "\n",
    "$$\n",
    "\\sum_{\\substack{k = 1 \\\\ k \\text{ impar}}}^{\\infty} P(e_k) = 1 - \\frac{1}{3} = \\frac{2}{3}\n",
    "$$"
   ]
  },
  {
   "cell_type": "code",
   "execution_count": null,
   "id": "d5d17134",
   "metadata": {},
   "outputs": [
    {
     "name": "stdout",
     "output_type": "stream",
     "text": [
      "Probabilidad de que la primera águila sea en un número PAR de volados: 0.333333\n",
      "Probabilidad de que la primera águila sea en un número IMPAR de volados: 0.666667\n",
      "Suma total: 1.000000\n"
     ]
    }
   ],
   "source": [
    "# Parámetros\n",
    "p = 0.5\n",
    "k_max = 1000  # Lo suficientemente grande \n",
    "\n",
    "# Listas para pares e impares\n",
    "prob_pares = [p * (1 - p)**(k - 1) for k in range(2, k_max + 1, 2)]\n",
    "prob_impares = [p * (1 - p)**(k - 1) for k in range(1, k_max + 1, 2)]\n",
    "\n",
    "# Sumas\n",
    "suma_pares = sum(prob_pares)\n",
    "suma_impares = sum(prob_impares)\n",
    "\n",
    "# Mostrar resultados\n",
    "print(f\"Probabilidad de que la primera águila sea en un número PAR de volados: {suma_pares:.6f}\")\n",
    "print(f\"Probabilidad de que la primera águila sea en un número IMPAR de volados: {suma_impares:.6f}\")\n",
    "print(f\"Suma total: {suma_pares + suma_impares:.6f}\")\n"
   ]
  },
  {
   "cell_type": "markdown",
   "id": "fbd98a9e",
   "metadata": {},
   "source": [
    "**6. Considere los procedimientos rand0, rand1, rand2 y rand3 de la seccion 7.1 “Uniform Deviates” del libro: Numerical Recipes in C : The Art of Scientific Computing by William H. Press, Brian P. Flannery, Saul A. Teukolsky, William T. Vetterling, Second Edition (available online). Implemente los 4 procedimientos en lenguaje/software de su preferencia y muestre a traves de histogramas que efectivamente producen una distribucion uniforme. Indique cual de los 4 procedimientos produce mejores secuencias pseudo-aleatorias. Explique todas sus conclusiones.**"
   ]
  },
  {
   "cell_type": "code",
   "execution_count": 6,
   "id": "6ee4626c",
   "metadata": {},
   "outputs": [],
   "source": [
    "import matplotlib.pyplot as plt\n",
    "import numpy as np\n",
    "\n",
    "# ran0: Minimal Standard Generator (Park & Miller)\n",
    "def ran0(seed, size):\n",
    "    a = 16807\n",
    "    m = 2147483647\n",
    "    values = []\n",
    "    for _ in range(size):\n",
    "        seed = (a * seed) % m\n",
    "        values.append(seed / m)\n",
    "    return np.array(values)\n",
    "\n",
    "# ran1: ran0 + Bays-Durham shuffle\n",
    "def ran1(seed, size):\n",
    "    a = 16807\n",
    "    m = 2147483647\n",
    "    NDIV = 1 + (m - 1) // 32\n",
    "    shuffle = [0] * 32\n",
    "    values = []\n",
    "\n",
    "    for j in range(32):\n",
    "        seed = (a * seed) % m\n",
    "        shuffle[j] = seed\n",
    "\n",
    "    for _ in range(size):\n",
    "        seed = (a * seed) % m\n",
    "        j = seed // NDIV\n",
    "        val = shuffle[j] / m\n",
    "        shuffle[j] = seed\n",
    "        values.append(val)\n",
    "    return np.array(values)\n",
    "\n",
    "# ran2: L'Ecuyer + Shuffle\n",
    "def ran2(seed, size):\n",
    "    IM1 = 2147483563\n",
    "    IM2 = 2147483399\n",
    "    AM = 1.0 / IM1\n",
    "    IA1 = 40014\n",
    "    IA2 = 40692\n",
    "    IQ1 = 53668\n",
    "    IQ2 = 52774\n",
    "    IR1 = 12211\n",
    "    IR2 = 3791\n",
    "    NTAB = 32\n",
    "    NDIV = 1 + (IM1 - 1) // NTAB\n",
    "    EPS = 1.2e-7\n",
    "    RNMX = 1.0 - EPS\n",
    "\n",
    "    idum = seed\n",
    "    idum2 = 123456789\n",
    "    iv = [0]*NTAB\n",
    "    iy = 0\n",
    "    values = []\n",
    "\n",
    "    if idum <= 0:\n",
    "        idum = max(-idum, 1)\n",
    "        idum2 = idum\n",
    "        for j in range(NTAB + 7, -1, -1):\n",
    "            k = idum // IQ1\n",
    "            idum = IA1 * (idum - k * IQ1) - k * IR1\n",
    "            if idum < 0:\n",
    "                idum += IM1\n",
    "            if j < NTAB:\n",
    "                iv[j] = idum\n",
    "        iy = iv[0]\n",
    "\n",
    "    for _ in range(size):\n",
    "        k = idum // IQ1\n",
    "        idum = IA1 * (idum - k * IQ1) - k * IR1\n",
    "        if idum < 0:\n",
    "            idum += IM1\n",
    "        k = idum2 // IQ2\n",
    "        idum2 = IA2 * (idum2 - k * IQ2) - k * IR2\n",
    "        if idum2 < 0:\n",
    "            idum2 += IM2\n",
    "        j = iy // NDIV\n",
    "        iy = iv[j] - idum2\n",
    "        iv[j] = idum\n",
    "        if iy < 1:\n",
    "            iy += IM1 - 1\n",
    "        temp = AM * iy\n",
    "        values.append(min(temp, RNMX))\n",
    "    return np.array(values)\n",
    "\n",
    "# ran3: Subtractive method (Knuth)\n",
    "def ran3(seed, size):\n",
    "    MBIG = 1000000000\n",
    "    MSEED = 161803398\n",
    "    FAC = 1.0 / MBIG\n",
    "\n",
    "    ma = [0] * 56\n",
    "    mj = abs(MSEED - abs(seed)) % MBIG\n",
    "    ma[55] = mj\n",
    "    mk = 1\n",
    "    for i in range(1, 55):\n",
    "        ii = (21 * i) % 55\n",
    "        ma[ii] = mk\n",
    "        mk = mj - mk\n",
    "        if mk < 0:\n",
    "            mk += MBIG\n",
    "        mj = ma[ii]\n",
    "    for _ in range(4):\n",
    "        for i in range(1, 56):\n",
    "            ma[i] -= ma[1 + (i + 30) % 55]\n",
    "            if ma[i] < 0:\n",
    "                ma[i] += MBIG\n",
    "    inext = 0\n",
    "    inextp = 31\n",
    "    values = []\n",
    "    for _ in range(size):\n",
    "        inext += 1\n",
    "        if inext == 56:\n",
    "            inext = 1\n",
    "        inextp += 1\n",
    "        if inextp == 56:\n",
    "            inextp = 1\n",
    "        mj = ma[inext] - ma[inextp]\n",
    "        if mj < 0:\n",
    "            mj += MBIG\n",
    "        ma[inext] = mj\n",
    "        values.append(mj * FAC)\n",
    "    return np.array(values)\n"
   ]
  },
  {
   "cell_type": "code",
   "execution_count": 7,
   "id": "ee20d957",
   "metadata": {},
   "outputs": [
    {
     "data": {
      "image/png": "[encoded data removed]",
      "text/plain": [
       "<Figure size 1200x1000 with 4 Axes>"
      ]
     },
     "metadata": {},
     "output_type": "display_data"
    }
   ],
   "source": [
    "# Parámetros\n",
    "seed = 123456\n",
    "size = 2000  # Reducido para asegurar rendimiento\n",
    "\n",
    "# Generar muestras\n",
    "samples_ran0 = ran0(seed, size)\n",
    "samples_ran1 = ran1(seed, size)\n",
    "samples_ran2 = ran2(seed, size)\n",
    "samples_ran3 = ran3(seed, size)\n",
    "\n",
    "# Plotear histogramas\n",
    "fig, axs = plt.subplots(2, 2, figsize=(12, 10))\n",
    "\n",
    "axs[0, 0].hist(samples_ran0, bins=50, color='skyblue', edgecolor='black')\n",
    "axs[0, 0].set_title('ran0 - Minimal Standard')\n",
    "\n",
    "axs[0, 1].hist(samples_ran1, bins=50, color='lightgreen', edgecolor='black')\n",
    "axs[0, 1].set_title('ran1 - Shuffle')\n",
    "\n",
    "axs[1, 0].hist(samples_ran2, bins=50, color='orange', edgecolor='black')\n",
    "axs[1, 0].set_title('ran2 - L’Ecuyer + Shuffle')\n",
    "\n",
    "axs[1, 1].hist(samples_ran3, bins=50, color='salmon', edgecolor='black')\n",
    "axs[1, 1].set_title('ran3 - Knuth Subtractive')\n",
    "\n",
    "plt.tight_layout()\n",
    "plt.show()\n"
   ]
  },
  {
   "cell_type": "markdown",
   "id": "bcba8b6c",
   "metadata": {},
   "source": [
    "Al analizar los histogramas generados por los cuatro métodos, se observa que todos producen secuencias aproximadamente uniformes, pero ran2 destaca por su mayor regularidad y equilibrio en la distribución. Esto confirma que es el generador más robusto entre los cuatro, tanto visualmente como por su fundamento teórico."
   ]
  },
  {
   "cell_type": "markdown",
   "id": "97b80b03",
   "metadata": {},
   "source": [
    "**7. Un experimento consiste en lanzar dos dados y observar la suma de los dos. Halle la probabilidad que:**\n",
    "- La suma sea 7 y,\n",
    "- La probabilidad que la suma sea mayor que 10.\n",
    "\n",
    "Compruebe los resultados teoricos obtenidos utilizando un programa deque simule ambos ejercicios. Repita el problema un numero suficientemente grande de veces y determine con que precision el resultado teorico puede ser corroborado experimentalmente."
   ]
  },
  {
   "cell_type": "markdown",
   "id": "85ab2e81",
   "metadata": {},
   "source": [
    "**Solución:**\n",
    "\n",
    "\n",
    "Hay un total de $ 6 \\times 6 = 36 $ posibles combinaciones al lanzar dos dados.\n",
    "\n",
    "- La suma **7** se puede obtener con las siguientes 6 combinaciones:\n",
    "  $$\n",
    "  (1,6),\\ (2,5),\\ (3,4),\\ (4,3),\\ (5,2),\\ (6,1)\n",
    "  $$\n",
    "  Entonces:\n",
    "  $$\n",
    "  P(\\text{suma} = 7) = \\frac{6}{36} = \\frac{1}{6} \\approx 0.1667\n",
    "  $$\n",
    "\n",
    "- La suma **mayor que 10** puede ser:\n",
    "  - 11 → (5,6), (6,5) → 2 combinaciones\n",
    "  - 12 → (6,6) → 1 combinación\n",
    "\n",
    "  Entonces:\n",
    " $$\n",
    "  P(\\text{suma} > 10) = \\frac{3}{36} = \\frac{1}{12} \\approx 0.0833\n",
    " $$\n"
   ]
  },
  {
   "cell_type": "code",
   "execution_count": 9,
   "id": "99ce769f",
   "metadata": {},
   "outputs": [
    {
     "name": "stdout",
     "output_type": "stream",
     "text": [
      "Probabilidad teórica de suma = 7: 0.1667\n",
      "Probabilidad experimental de suma = 7: 0.1677\n",
      "Probabilidad teórica de suma > 10: 0.0833\n",
      "Probabilidad experimental de suma > 10: 0.0832\n",
      "Diferencia en suma = 7: 0.0010\n",
      "Diferencia en suma > 10: 0.0001\n"
     ]
    }
   ],
   "source": [
    "import numpy as np\n",
    "\n",
    "# Número de simulaciones\n",
    "n_simulaciones = 100_000\n",
    "\n",
    "# Lanzar dos dados n_simulaciones veces\n",
    "dado1 = np.random.randint(1, 7, size=n_simulaciones)\n",
    "dado2 = np.random.randint(1, 7, size=n_simulaciones)\n",
    "suma_dados = dado1 + dado2\n",
    "\n",
    "# Cálculo experimental\n",
    "prob_suma_7_exp = np.mean(suma_dados == 7)\n",
    "prob_mayor_10_exp = np.mean(suma_dados > 10)\n",
    "\n",
    "# Resultados teóricos\n",
    "prob_suma_7_teo = 1/6\n",
    "prob_mayor_10_teo = 1/12\n",
    "\n",
    "# Mostrar resultados\n",
    "print(f\"Probabilidad teórica de suma = 7: {prob_suma_7_teo:.4f}\")\n",
    "print(f\"Probabilidad experimental de suma = 7: {prob_suma_7_exp:.4f}\")\n",
    "\n",
    "print(f\"Probabilidad teórica de suma > 10: {prob_mayor_10_teo:.4f}\")\n",
    "print(f\"Probabilidad experimental de suma > 10: {prob_mayor_10_exp:.4f}\")\n",
    "\n",
    "# Diferencias absolutas\n",
    "print(f\"Diferencia en suma = 7: {abs(prob_suma_7_exp - prob_suma_7_teo):.4f}\")\n",
    "print(f\"Diferencia en suma > 10: {abs(prob_mayor_10_exp - prob_mayor_10_teo):.4f}\")\n"
   ]
  },
  {
   "cell_type": "markdown",
   "id": "bbfab2f3",
   "metadata": {},
   "source": [
    "\n",
    "Los resultados obtenidos mediante simulación confirman con gran precisión las probabilidades teóricas. La diferencia entre el valor esperado y el observado fue de apenas 0.001 para la suma igual a 7 y de 0.0001 para sumas mayores que 10, lo cual es insignificante dado el número de repeticiones. Esto demuestra que el modelo de simulación es confiable para reproducir el comportamiento teórico de un experimento aleatorio bien definido como el lanzamiento de dos dados.\n"
   ]
  },
  {
   "cell_type": "markdown",
   "id": "e1f4f0c2",
   "metadata": {},
   "source": [
    "**8. Suponga que historicamente, el promedio IQ de los estudiantes de maestrıa de la UACJ es de 120 puntos, con una varianza de 36 puntos cuadrados. Suponga ademas que se decide que el 2026 todos los aspirantes de nuevo ingreso deberan tomar un examen de IQ. En su opinion:**\n",
    "- ¿Con que cantidad minima de puntos un aspirante deberia ser definitivamente aceptado por ser un(a) “chico(a) prodigio”?\n",
    "- ¿Con que cantidad maxima de puntos un aspirante deberia ser definitivamente rechazado por ser un “estudiante con menos de 5 dedo de frente”?\n",
    "- Encuentre la probabilidad que en este grupo de la MIAAD los IQs de cada uno de los estudiantes este entre 115 y 120 puntos y entre 125-130 puntos"
   ]
  },
  {
   "cell_type": "markdown",
   "id": "6f1d8736",
   "metadata": {},
   "source": [
    "**Solución:**\n",
    "\n",
    "Supuestos\n",
    "\n",
    "- Se asume que el IQ de los estudiantes de maestría de la UACJ sigue una **distribución normal**:\n",
    " $$\n",
    "  X \\sim \\mathcal{N}(\\mu = 120,\\ \\sigma^2 = 36)\n",
    "$$\n",
    "- Por lo tanto, la **desviación estándar** es:\n",
    "  $$\n",
    "  \\sigma = \\sqrt{36} = 6\n",
    "  $$\n",
    "- Los criterios para aceptar o rechazar se interpretan en términos de percentiles de la distribución:\n",
    "  - **Chico(a) prodigio**: pertenece al **2% superior** → percentil 98.\n",
    "  - **Rechazo**: pertenece al **2% inferior** → percentil 2."
   ]
  },
  {
   "cell_type": "code",
   "execution_count": 12,
   "id": "bc2cb63d",
   "metadata": {},
   "outputs": [
    {
     "name": "stdout",
     "output_type": "stream",
     "text": [
      "1. Mínimo IQ para ser considerado 'chico(a) prodigio': 132.32\n",
      "2. Máximo IQ para ser considerado 'menos de 5 dedos de frente': 107.68\n",
      "3. Probabilidad de IQ entre 115 y 120: 0.2977\n",
      "4. Probabilidad de IQ entre 125 y 130: 0.1545\n"
     ]
    }
   ],
   "source": [
    "from scipy.stats import norm\n",
    "\n",
    "# Parámetros de la distribución normal\n",
    "mu = 120\n",
    "sigma = 6\n",
    "\n",
    "# 1. Puntos mínimos para ser considerado \"chico(a) prodigio\" (percentil 98)\n",
    "umbral_prodigio = norm.ppf(0.98, loc=mu, scale=sigma)\n",
    "\n",
    "# 2. Puntos máximos para ser rechazado (\"< 5 dedos de frente\") (percentil 2)\n",
    "umbral_rechazo = norm.ppf(0.02, loc=mu, scale=sigma)\n",
    "\n",
    "# 3. Probabilidades de rangos\n",
    "prob_115_120 = norm.cdf(120, loc=mu, scale=sigma) - norm.cdf(115, loc=mu, scale=sigma)\n",
    "prob_125_130 = norm.cdf(130, loc=mu, scale=sigma) - norm.cdf(125, loc=mu, scale=sigma)\n",
    "\n",
    "# Mostrar resultados\n",
    "print(f\"1. Mínimo IQ para ser considerado 'chico(a) prodigio': {umbral_prodigio:.2f}\")\n",
    "print(f\"2. Máximo IQ para ser considerado 'menos de 5 dedos de frente': {umbral_rechazo:.2f}\")\n",
    "print(f\"3. Probabilidad de IQ entre 115 y 120: {prob_115_120:.4f}\")\n",
    "print(f\"4. Probabilidad de IQ entre 125 y 130: {prob_125_130:.4f}\")\n"
   ]
  },
  {
   "cell_type": "markdown",
   "id": "60f85723",
   "metadata": {},
   "source": [
    "Con base en los percentiles extremos de una distribución normal con media 120 y desviación estándar 6, se concluye lo siguiente:\n",
    "\n",
    "- Un aspirante debe obtener un IQ **igual o mayor a 132.32** para ser considerado un(a) **chico(a) prodigio**, ya que este valor corresponde al **percentil 98**.\n",
    "- Por otro lado, un aspirante con IQ **igual o menor a 107.68** cae en el **percentil 2**, y podría ser rechazado por presentar un desempeño significativamente bajo.\n",
    "- Además, las probabilidades de que un estudiante tenga un IQ entre **115 y 120** o entre **125 y 130** son aproximadamente **29.77%** y **15.45%**, respectivamente, lo que muestra cómo se concentran los valores alrededor de la media en una distribución normal.\n"
   ]
  },
  {
   "cell_type": "markdown",
   "id": "22901fa0",
   "metadata": {},
   "source": [
    "**9. A mediados del lejano siglo XVII, el Chevalier de Mere conjeturo que la probabilidad de sacar un 6 tras tirar 4 veces un dado es mayor que la probabilidad de sacar doble seis tras tirar 24 veces dos dados. Aproxime la distribucion binomial con la distribucion normal para calcular cuantos experimentos tuvo que realizar el Chevalier de Mere para poder llegar a la conclusion correcta con una certidumbre del 70 % y del 95 %.**"
   ]
  },
  {
   "cell_type": "code",
   "execution_count": 15,
   "id": "9b63e45b",
   "metadata": {},
   "outputs": [
    {
     "name": "stdout",
     "output_type": "stream",
     "text": [
      "Probabilidad teórica (al menos un 6 en 4 lanzamientos): 0.5177\n",
      "Probabilidad teórica (al menos un doble 6 en 24 lanzamientos de dos dados): 0.4914\n",
      "\n",
      "Resultados simulados con 100000 experimentos:\n",
      "Frecuencia (al menos un 6 en 4 lanzamientos): 0.5150\n",
      "Frecuencia (al menos un doble 6 en 24 lanzamientos de dos dados): 0.4908\n",
      "\n",
      "Simulación confirma que sacar un 6 en 4 tiros es más probable.\n"
     ]
    }
   ],
   "source": [
    "import numpy as np\n",
    "\n",
    "# Configuraciones\n",
    "np.random.seed(42)  # Semilla para reproducibilidad\n",
    "\n",
    "# Probabilidades teóricas\n",
    "p_sacar_6_en_4_tiros = 1 - (5/6)**4\n",
    "p_sacar_doble6_en_24_tiros = 1 - (35/36)**24\n",
    "\n",
    "print(f\"Probabilidad teórica (al menos un 6 en 4 lanzamientos): {p_sacar_6_en_4_tiros:.4f}\")\n",
    "print(f\"Probabilidad teórica (al menos un doble 6 en 24 lanzamientos de dos dados): {p_sacar_doble6_en_24_tiros:.4f}\")\n",
    "\n",
    "# Función para simular el experimento de un dado lanzado 4 veces\n",
    "def experimento_un_dado_4_tiros():\n",
    "    lanzamientos = np.random.randint(1, 7, 4)\n",
    "    return np.any(lanzamientos == 6)\n",
    "\n",
    "# Función para simular el experimento de dos dados lanzados 24 veces\n",
    "def experimento_dos_dados_24_tiros():\n",
    "    dado1 = np.random.randint(1, 7, 24)\n",
    "    dado2 = np.random.randint(1, 7, 24)\n",
    "    return np.any((dado1 == 6) & (dado2 == 6))\n",
    "\n",
    "# Número de simulaciones\n",
    "n_simulaciones = 100000  # Puedes cambiar a 783 o 2776 si quieres ver para esos niveles de confianza\n",
    "\n",
    "# Simulaciones\n",
    "resultados_1dado = [experimento_un_dado_4_tiros() for _ in range(n_simulaciones)]\n",
    "resultados_2dados = [experimento_dos_dados_24_tiros() for _ in range(n_simulaciones)]\n",
    "\n",
    "# Cálculo de frecuencias\n",
    "freq_1dado = np.mean(resultados_1dado)\n",
    "freq_2dados = np.mean(resultados_2dados)\n",
    "\n",
    "print(f\"\\nResultados simulados con {n_simulaciones} experimentos:\")\n",
    "print(f\"Frecuencia (al menos un 6 en 4 lanzamientos): {freq_1dado:.4f}\")\n",
    "print(f\"Frecuencia (al menos un doble 6 en 24 lanzamientos de dos dados): {freq_2dados:.4f}\")\n",
    "\n",
    "# ¿Cuál fue más probable en la simulación?\n",
    "if freq_1dado > freq_2dados:\n",
    "    print(\"\\nSimulación confirma que sacar un 6 en 4 tiros es más probable.\")\n",
    "else:\n",
    "    print(\"\\nSimulación NO confirma (posible error de muestreo).\")\n"
   ]
  },
  {
   "cell_type": "markdown",
   "id": "b74ebe6f",
   "metadata": {},
   "source": [
    "Los resultados de la simulación, con 100,000 experimentos, confirman la intuición del Chevalier de Méré: es ligeramente más probable obtener al menos un “6” al lanzar un dado 4 veces (≈51.5%) que obtener al menos un doble seis al lanzar dos dados 24 veces (≈49.1%).\n",
    "La diferencia, aunque pequeña, es consistente tanto en las probabilidades teóricas como en las frecuencias observadas experimentalmente, lo cual valida la conclusión con evidencia estadística."
   ]
  },
  {
   "cell_type": "code",
   "execution_count": 16,
   "id": "d12d83bd",
   "metadata": {},
   "outputs": [
    {
     "name": "stdout",
     "output_type": "stream",
     "text": [
      "IC 95% para al menos un 6 en 4 tiros: 0.5119 a 0.5181\n",
      "IC 95% para al menos un doble 6 en 24 tiros: 0.4877 a 0.4939\n"
     ]
    }
   ],
   "source": [
    "from math import sqrt\n",
    "\n",
    "# Resultados de la simulación\n",
    "p1_hat = 0.5150  # frecuencia de al menos un 6 en 4 tiros\n",
    "p2_hat = 0.4908  # frecuencia de al menos un doble 6 en 24 dobles\n",
    "n = 100000\n",
    "z = 1.96  # para 95% de confianza\n",
    "\n",
    "# Función para intervalo de confianza\n",
    "def intervalo_confianza(p_hat, n, z=1.96):\n",
    "    margen_error = z * sqrt(p_hat * (1 - p_hat) / n)\n",
    "    return (p_hat - margen_error, p_hat + margen_error)\n",
    "\n",
    "ic_1 = intervalo_confianza(p1_hat, n)\n",
    "ic_2 = intervalo_confianza(p2_hat, n)\n",
    "\n",
    "print(f\"IC 95% para al menos un 6 en 4 tiros: {ic_1[0]:.4f} a {ic_1[1]:.4f}\")\n",
    "print(f\"IC 95% para al menos un doble 6 en 24 tiros: {ic_2[0]:.4f} a {ic_2[1]:.4f}\")\n"
   ]
  },
  {
   "cell_type": "markdown",
   "id": "38f293d1",
   "metadata": {},
   "source": [
    "La simulación con 100,000 experimentos confirma que es más probable obtener al menos un “6” en 4 lanzamientos de un dado (≈51.5%) que obtener al menos un doble seis en 24 lanzamientos de dos dados (≈49.1%).\n",
    "\n",
    "Los intervalos de confianza al 95% para ambas proporciones son:\n",
    "\n",
    "[0.5119, 0.5181] para el experimento con 4 lanzamientos de un dado.\n",
    "\n",
    "[0.4877, 0.4939] para el experimento con 24 lanzamientos de dos dados.\n",
    "\n",
    "Como estos intervalos no se traslapan, podemos concluir que la diferencia observada es estadísticamente significativa y no atribuible al azar. Esto valida empíricamente la conjetura del Chevalier de Méré con un alto grado de certeza."
   ]
  }
 ],
 "metadata": {
  "kernelspec": {
   "display_name": "Python 3",
   "language": "python",
   "name": "python3"
  },
  "language_info": {
   "codemirror_mode": {
    "name": "ipython",
    "version": 3
   },
   "file_extension": ".py",
   "mimetype": "text/x-python",
   "name": "python",
   "nbconvert_exporter": "python",
   "pygments_lexer": "ipython3",
   "version": "3.10.4"
  }
 },
 "nbformat": 4,
 "nbformat_minor": 5
}
