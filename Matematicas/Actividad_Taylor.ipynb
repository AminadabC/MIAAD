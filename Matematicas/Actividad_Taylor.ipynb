{
 "cells": [
  {
   "cell_type": "markdown",
   "metadata": {},
   "source": [
    "### **Tarea: Taylor** ###\n",
    "\n",
    "Matemáticas y Estadística para Inteligencia Artificial\n",
    "\n",
    "**Alumno**: Aminadab Córdova Acosta\n",
    "\n",
    "\n",
    "Instrucciones\n",
    "\n",
    "Los datos en la tabla muestran la probabilidad de que una persona, con un salario x, compre un producto determinado. Una función \n",
    "que comunmente se utiliza para modelar este comportamiento es la función logística:\n",
    "\n",
    "$$ f(x) = \\frac{1}{1 + e^{-(x - x_0)}} $$\n",
    "\n",
    "\n",
    "donde $ x_0 $ es el punto donde la probabilidad es 0.5. Sin embargo, en términos de evaluación, es más sencillo evaluar una aproximación polinómica que evaluar esta función. Es por ello que emplearemos un polinomio de Taylor para describir estos datos.\n",
    "\n",
    "1. Para los datos que se muestran en la tabla diga cuál cree que es el valor de $ x_0 $\n",
    "2. Encuentre un polinomio de Taylor de orden 3 para la función logística alrededor de $ x_0 $\n",
    "3. Evalúe el polinomio obtenido para cada uno de los salarios de la tabla\n",
    "4. Encuentre el error de aproximación calculando el valor absoluto de la diferencia de los valores\n",
    "aproximados y los reales\n",
    "5. Grafique los valores aproximados y los reales y analice el resultado"
   ]
  },
  {
   "cell_type": "code",
   "execution_count": 21,
   "metadata": {},
   "outputs": [
    {
     "name": "stdout",
     "output_type": "stream",
     "text": [
      "    salario en miles  Probabilidad\n",
      "0                  6      0.040000\n",
      "1                  7      0.000001\n",
      "2                  8      0.059998\n",
      "3                  9      0.039994\n",
      "4                 10      0.019983\n",
      "5                 11      0.059955\n",
      "6                 12      0.000123\n",
      "7                 13      0.059665\n",
      "8                 14      0.019089\n",
      "9                 15      0.057527\n",
      "10                16      0.006693\n",
      "11                17      0.042014\n",
      "12                18      0.047426\n",
      "13                19      0.059203\n",
      "14                20      0.208941\n",
      "15                21      0.440000\n",
      "16                22      0.671059\n",
      "17                23      0.840797\n",
      "18                24      0.912574\n",
      "19                25      0.922014\n",
      "20                26      0.993307\n",
      "21                27      0.977527\n",
      "22                28      0.939089\n",
      "23                29      0.979665\n",
      "24                30      0.999877\n"
     ]
    }
   ],
   "source": [
    "# Importar librerías requeridas\n",
    "import numpy as np\n",
    "import pandas as pd\n",
    "import matplotlib.pyplot as plt\n",
    "from scipy.optimize import curve_fit\n",
    "from sympy import symbols, diff, exp, series\n",
    "pd.options.display.float_format = '{:.6f}'.format\n",
    "\n",
    "df = pd.read_excel(r'D:\\Nueva carpeta\\compra_producto.xlsx', usecols=\"B:C\") # Leer el archivo de Excel de una ruta específica\n",
    "print(df)"
   ]
  },
  {
   "cell_type": "markdown",
   "metadata": {},
   "source": [
    "**1. Para los datos que se muestran en la tabla diga cuál cree que es el valor de $ x_0 $**"
   ]
  },
  {
   "attachments": {
    "image.png": {
     "image/png": "[encoded data removed]"
    }
   },
   "cell_type": "markdown",
   "metadata": {},
   "source": [
    "R: Revisando los datos de la Tabla, $ x_0 $ está alrededor de 21 y 22.\n",
    "\n",
    "![image.png](attachment:image.png)\n",
    "\n",
    "También se puede realizar una interpolación lineal entre los valores\n"
   ]
  },
  {
   "cell_type": "code",
   "execution_count": 22,
   "metadata": {},
   "outputs": [
    {
     "name": "stdout",
     "output_type": "stream",
     "text": [
      "El valor estimado de x_0 es: 21.2597\n"
     ]
    }
   ],
   "source": [
    "# Buscar los valores más cercanos a 0.5\n",
    "df_sorted = df.sort_values(\"Probabilidad\")\n",
    "df_below = df_sorted[df_sorted[\"Probabilidad\"] <= 0.5].iloc[-1]  # Mayor valor debajo de 0.5\n",
    "df_above = df_sorted[df_sorted[\"Probabilidad\"] > 0.5].iloc[0]  # Menor valor por encima de 0.5\n",
    "\n",
    "# Interpolación lineal para encontrar x_0\n",
    "x0 = df_below[\"salario en miles\"] + (0.5 - df_below[\"Probabilidad\"]) * \\\n",
    "     (df_above[\"salario en miles\"] - df_below[\"salario en miles\"]) / (df_above[\"Probabilidad\"] - df_below[\"Probabilidad\"])\n",
    "\n",
    "print(f\"El valor estimado de x_0 es: {x0:.4f}\")"
   ]
  },
  {
   "cell_type": "markdown",
   "metadata": {},
   "source": [
    "**2. Encuentre un polinomio de Taylor de orden 3 para la función logística alrededor de $ x_0 $**"
   ]
  },
  {
   "cell_type": "code",
   "execution_count": 23,
   "metadata": {},
   "outputs": [],
   "source": [
    "import sympy as sp\n",
    "\n",
    "# Definir la variable simbólica\n",
    "x, x0 = sp.symbols('x x0')"
   ]
  },
  {
   "cell_type": "code",
   "execution_count": 24,
   "metadata": {},
   "outputs": [
    {
     "data": {
      "text/latex": [
       "$\\displaystyle \\frac{1}{e^{- x + x_{0}} + 1}$"
      ],
      "text/plain": [
       "1/(exp(-x + x0) + 1)"
      ]
     },
     "execution_count": 24,
     "metadata": {},
     "output_type": "execute_result"
    }
   ],
   "source": [
    "# Definir la función logística\n",
    "f_x = 1 / (1 + sp.exp(-(x - x0)))\n",
    "f_x"
   ]
  },
  {
   "attachments": {
    "image.png": {
     "image/png": "[encoded data removed]"
    }
   },
   "cell_type": "markdown",
   "metadata": {},
   "source": [
    "La expresión de la serie de taylor de orden 3: \n",
    "\n",
    "![image.png](attachment:image.png)"
   ]
  },
  {
   "cell_type": "code",
   "execution_count": 25,
   "metadata": {},
   "outputs": [
    {
     "data": {
      "text/latex": [
       "$\\displaystyle \\frac{e^{- x + x_{0}}}{\\left(e^{- x + x_{0}} + 1\\right)^{2}}$"
      ],
      "text/plain": [
       "exp(-x + x0)/(exp(-x + x0) + 1)**2"
      ]
     },
     "execution_count": 25,
     "metadata": {},
     "output_type": "execute_result"
    }
   ],
   "source": [
    "# Calcular derivadas\n",
    "f_1 = sp.diff(f_x, x) # Primera derivada\n",
    "f_1"
   ]
  },
  {
   "cell_type": "code",
   "execution_count": 26,
   "metadata": {},
   "outputs": [
    {
     "data": {
      "text/latex": [
       "$\\displaystyle - \\frac{e^{- x + x_{0}}}{\\left(e^{- x + x_{0}} + 1\\right)^{2}} + \\frac{2 e^{- 2 x + 2 x_{0}}}{\\left(e^{- x + x_{0}} + 1\\right)^{3}}$"
      ],
      "text/plain": [
       "-exp(-x + x0)/(exp(-x + x0) + 1)**2 + 2*exp(-2*x + 2*x0)/(exp(-x + x0) + 1)**3"
      ]
     },
     "execution_count": 26,
     "metadata": {},
     "output_type": "execute_result"
    }
   ],
   "source": [
    "f_2 = sp.diff(f_1, x) # Segunda derivada\n",
    "f_2"
   ]
  },
  {
   "cell_type": "code",
   "execution_count": 27,
   "metadata": {},
   "outputs": [
    {
     "data": {
      "text/latex": [
       "$\\displaystyle \\frac{e^{- x + x_{0}}}{\\left(e^{- x + x_{0}} + 1\\right)^{2}} - \\frac{6 e^{- 2 x + 2 x_{0}}}{\\left(e^{- x + x_{0}} + 1\\right)^{3}} + \\frac{6 e^{- 2 x + 2 x_{0}} e^{- x + x_{0}}}{\\left(e^{- x + x_{0}} + 1\\right)^{4}}$"
      ],
      "text/plain": [
       "exp(-x + x0)/(exp(-x + x0) + 1)**2 - 6*exp(-2*x + 2*x0)/(exp(-x + x0) + 1)**3 + 6*exp(-2*x + 2*x0)*exp(-x + x0)/(exp(-x + x0) + 1)**4"
      ]
     },
     "execution_count": 27,
     "metadata": {},
     "output_type": "execute_result"
    }
   ],
   "source": [
    "f_3 = sp.diff(f_2, x) # Tercera derivada\n",
    "f_3"
   ]
  },
  {
   "cell_type": "code",
   "execution_count": 28,
   "metadata": {},
   "outputs": [
    {
     "data": {
      "text/latex": [
       "$\\displaystyle \\frac{x}{4} - \\frac{x_{0}}{4} - \\frac{\\left(x - x_{0}\\right)^{3}}{48} + \\frac{1}{2}$"
      ],
      "text/plain": [
       "x/4 - x0/4 - (x - x0)**3/48 + 1/2"
      ]
     },
     "execution_count": 28,
     "metadata": {},
     "output_type": "execute_result"
    }
   ],
   "source": [
    "# Evaluar en x0\n",
    "f_0_val = f_x.subs(x, x0)\n",
    "f_1_val = f_1.subs(x, x0)\n",
    "f_2_val = f_2.subs(x, x0)\n",
    "f_3_val = f_3.subs(x, x0)\n",
    "\n",
    "# Construir la serie de Taylor de orden 3\n",
    "P3_x = f_0_val + f_1_val * (x - x0) + (f_2_val / 2) * (x - x0)**2 + (f_3_val / 6) * (x - x0)**3\n",
    "P3_x"
   ]
  },
  {
   "cell_type": "code",
   "execution_count": 29,
   "metadata": {},
   "outputs": [
    {
     "name": "stdout",
     "output_type": "stream",
     "text": [
      "Polinomio de Taylor de orden 3:\n",
      "                 3    \n",
      "x   x₀   (x - x₀)    1\n",
      "─ - ── - ───────── + ─\n",
      "4   4       48       2\n"
     ]
    }
   ],
   "source": [
    "# Simplificar la expresión\n",
    "P3_x = sp.simplify(P3_x)\n",
    "\n",
    "# Mostrar el polinomio de Taylor\n",
    "print(\"Polinomio de Taylor de orden 3:\")\n",
    "sp.pprint(P3_x)"
   ]
  },
  {
   "cell_type": "code",
   "execution_count": 30,
   "metadata": {},
   "outputs": [
    {
     "data": {
      "text/latex": [
       "$\\displaystyle \\frac{x}{4} - 237.3046875 \\left(0.0444444444444444 x - 1\\right)^{3} - 5.125$"
      ],
      "text/plain": [
       "x/4 - 237.3046875*(0.0444444444444444*x - 1)**3 - 5.125"
      ]
     },
     "execution_count": 30,
     "metadata": {},
     "output_type": "execute_result"
    }
   ],
   "source": [
    "x0_value = 22.5  # Valor encontrado con interpolación\n",
    "P3_numeric = P3_x.subs(x0, x0_value)\n",
    "\n",
    "# Mostrar el polinomio de Taylor con x0 = 22.5\n",
    "P3_numeric"
   ]
  },
  {
   "cell_type": "markdown",
   "metadata": {},
   "source": [
    "**3. Evalúe el polinomio obtenido para cada uno de los salarios de la tabla**"
   ]
  },
  {
   "cell_type": "code",
   "execution_count": 32,
   "metadata": {},
   "outputs": [
    {
     "data": {
      "application/vnd.microsoft.datawrangler.viewer.v0+json": {
       "columns": [
        {
         "name": "index",
         "rawType": "int64",
         "type": "integer"
        },
        {
         "name": "salario en miles",
         "rawType": "int64",
         "type": "integer"
        },
        {
         "name": "Probabilidad",
         "rawType": "float64",
         "type": "float"
        },
        {
         "name": "Polinomio Evaluado",
         "rawType": "object",
         "type": "unknown"
        }
       ],
       "conversionMethod": "pd.DataFrame",
       "ref": "0c6d6aff-c07f-4453-b37c-dc5ec9e824f6",
       "rows": [
        [
         "0",
         "6",
         "0.03999969409777308",
         "89.9609375000000"
        ],
        [
         "1",
         "7",
         "8.315280276641321e-07",
         "74.2057291666667"
        ],
        [
         "2",
         "8",
         "0.05999773967570209",
         "60.3880208333333"
        ],
        [
         "3",
         "9",
         "0.03999385582539779",
         "48.3828125000000"
        ],
        [
         "4",
         "10",
         "0.019983298578151905",
         "38.0651041666667"
        ],
        [
         "5",
         "11",
         "0.059954602131297566",
         "29.3098958333333"
        ],
        [
         "6",
         "12",
         "0.00012339457598623172",
         "21.9921875000000"
        ],
        [
         "7",
         "13",
         "0.05966464986953352",
         "15.9869791666667"
        ],
        [
         "8",
         "14",
         "0.019088948805599356",
         "11.1692708333333"
        ],
        [
         "9",
         "15",
         "0.05752737684336522",
         "7.41406249999999"
        ],
        [
         "10",
         "16",
         "0.0066928509242848554",
         "4.59635416666667"
        ],
        [
         "11",
         "17",
         "0.042013790037908436",
         "2.59114583333333"
        ],
        [
         "12",
         "18",
         "0.04742587317756678",
         "1.27343750000000"
        ],
        [
         "13",
         "19",
         "0.05920292202211755",
         "0.518229166666667"
        ],
        [
         "14",
         "20",
         "0.2089414213699951",
         "0.200520833333333"
        ],
        [
         "15",
         "21",
         "0.44",
         "0.195312500000000"
        ],
        [
         "16",
         "22",
         "0.671058578630005",
         "0.377604166666667"
        ],
        [
         "17",
         "23",
         "0.8407970779778823",
         "0.622395833333333"
        ],
        [
         "18",
         "24",
         "0.9125741268224333",
         "0.804687500000000"
        ],
        [
         "19",
         "25",
         "0.9220137900379084",
         "0.799479166666666"
        ],
        [
         "20",
         "26",
         "0.9933071490757153",
         "0.481770833333331"
        ],
        [
         "21",
         "27",
         "0.9775273768433653",
         "-0.273437499999999"
        ],
        [
         "22",
         "28",
         "0.9390889488055993",
         "-1.59114583333333"
        ],
        [
         "23",
         "29",
         "0.9796646498695336",
         "-3.59635416666667"
        ],
        [
         "24",
         "30",
         "0.9998766054240137",
         "-6.41406250000001"
        ]
       ],
       "shape": {
        "columns": 3,
        "rows": 25
       }
      },
      "text/html": [
       "<div>\n",
       "<style scoped>\n",
       "    .dataframe tbody tr th:only-of-type {\n",
       "        vertical-align: middle;\n",
       "    }\n",
       "\n",
       "    .dataframe tbody tr th {\n",
       "        vertical-align: top;\n",
       "    }\n",
       "\n",
       "    .dataframe thead th {\n",
       "        text-align: right;\n",
       "    }\n",
       "</style>\n",
       "<table border=\"1\" class=\"dataframe\">\n",
       "  <thead>\n",
       "    <tr style=\"text-align: right;\">\n",
       "      <th></th>\n",
       "      <th>salario en miles</th>\n",
       "      <th>Probabilidad</th>\n",
       "      <th>Polinomio Evaluado</th>\n",
       "    </tr>\n",
       "  </thead>\n",
       "  <tbody>\n",
       "    <tr>\n",
       "      <th>0</th>\n",
       "      <td>6</td>\n",
       "      <td>0.040000</td>\n",
       "      <td>89.9609375000000</td>\n",
       "    </tr>\n",
       "    <tr>\n",
       "      <th>1</th>\n",
       "      <td>7</td>\n",
       "      <td>0.000001</td>\n",
       "      <td>74.2057291666667</td>\n",
       "    </tr>\n",
       "    <tr>\n",
       "      <th>2</th>\n",
       "      <td>8</td>\n",
       "      <td>0.059998</td>\n",
       "      <td>60.3880208333333</td>\n",
       "    </tr>\n",
       "    <tr>\n",
       "      <th>3</th>\n",
       "      <td>9</td>\n",
       "      <td>0.039994</td>\n",
       "      <td>48.3828125000000</td>\n",
       "    </tr>\n",
       "    <tr>\n",
       "      <th>4</th>\n",
       "      <td>10</td>\n",
       "      <td>0.019983</td>\n",
       "      <td>38.0651041666667</td>\n",
       "    </tr>\n",
       "    <tr>\n",
       "      <th>5</th>\n",
       "      <td>11</td>\n",
       "      <td>0.059955</td>\n",
       "      <td>29.3098958333333</td>\n",
       "    </tr>\n",
       "    <tr>\n",
       "      <th>6</th>\n",
       "      <td>12</td>\n",
       "      <td>0.000123</td>\n",
       "      <td>21.9921875000000</td>\n",
       "    </tr>\n",
       "    <tr>\n",
       "      <th>7</th>\n",
       "      <td>13</td>\n",
       "      <td>0.059665</td>\n",
       "      <td>15.9869791666667</td>\n",
       "    </tr>\n",
       "    <tr>\n",
       "      <th>8</th>\n",
       "      <td>14</td>\n",
       "      <td>0.019089</td>\n",
       "      <td>11.1692708333333</td>\n",
       "    </tr>\n",
       "    <tr>\n",
       "      <th>9</th>\n",
       "      <td>15</td>\n",
       "      <td>0.057527</td>\n",
       "      <td>7.41406249999999</td>\n",
       "    </tr>\n",
       "    <tr>\n",
       "      <th>10</th>\n",
       "      <td>16</td>\n",
       "      <td>0.006693</td>\n",
       "      <td>4.59635416666667</td>\n",
       "    </tr>\n",
       "    <tr>\n",
       "      <th>11</th>\n",
       "      <td>17</td>\n",
       "      <td>0.042014</td>\n",
       "      <td>2.59114583333333</td>\n",
       "    </tr>\n",
       "    <tr>\n",
       "      <th>12</th>\n",
       "      <td>18</td>\n",
       "      <td>0.047426</td>\n",
       "      <td>1.27343750000000</td>\n",
       "    </tr>\n",
       "    <tr>\n",
       "      <th>13</th>\n",
       "      <td>19</td>\n",
       "      <td>0.059203</td>\n",
       "      <td>0.518229166666667</td>\n",
       "    </tr>\n",
       "    <tr>\n",
       "      <th>14</th>\n",
       "      <td>20</td>\n",
       "      <td>0.208941</td>\n",
       "      <td>0.200520833333333</td>\n",
       "    </tr>\n",
       "    <tr>\n",
       "      <th>15</th>\n",
       "      <td>21</td>\n",
       "      <td>0.440000</td>\n",
       "      <td>0.195312500000000</td>\n",
       "    </tr>\n",
       "    <tr>\n",
       "      <th>16</th>\n",
       "      <td>22</td>\n",
       "      <td>0.671059</td>\n",
       "      <td>0.377604166666667</td>\n",
       "    </tr>\n",
       "    <tr>\n",
       "      <th>17</th>\n",
       "      <td>23</td>\n",
       "      <td>0.840797</td>\n",
       "      <td>0.622395833333333</td>\n",
       "    </tr>\n",
       "    <tr>\n",
       "      <th>18</th>\n",
       "      <td>24</td>\n",
       "      <td>0.912574</td>\n",
       "      <td>0.804687500000000</td>\n",
       "    </tr>\n",
       "    <tr>\n",
       "      <th>19</th>\n",
       "      <td>25</td>\n",
       "      <td>0.922014</td>\n",
       "      <td>0.799479166666666</td>\n",
       "    </tr>\n",
       "    <tr>\n",
       "      <th>20</th>\n",
       "      <td>26</td>\n",
       "      <td>0.993307</td>\n",
       "      <td>0.481770833333331</td>\n",
       "    </tr>\n",
       "    <tr>\n",
       "      <th>21</th>\n",
       "      <td>27</td>\n",
       "      <td>0.977527</td>\n",
       "      <td>-0.273437499999999</td>\n",
       "    </tr>\n",
       "    <tr>\n",
       "      <th>22</th>\n",
       "      <td>28</td>\n",
       "      <td>0.939089</td>\n",
       "      <td>-1.59114583333333</td>\n",
       "    </tr>\n",
       "    <tr>\n",
       "      <th>23</th>\n",
       "      <td>29</td>\n",
       "      <td>0.979665</td>\n",
       "      <td>-3.59635416666667</td>\n",
       "    </tr>\n",
       "    <tr>\n",
       "      <th>24</th>\n",
       "      <td>30</td>\n",
       "      <td>0.999877</td>\n",
       "      <td>-6.41406250000001</td>\n",
       "    </tr>\n",
       "  </tbody>\n",
       "</table>\n",
       "</div>"
      ],
      "text/plain": [
       "    salario en miles  Probabilidad  Polinomio Evaluado\n",
       "0                  6      0.040000    89.9609375000000\n",
       "1                  7      0.000001    74.2057291666667\n",
       "2                  8      0.059998    60.3880208333333\n",
       "3                  9      0.039994    48.3828125000000\n",
       "4                 10      0.019983    38.0651041666667\n",
       "5                 11      0.059955    29.3098958333333\n",
       "6                 12      0.000123    21.9921875000000\n",
       "7                 13      0.059665    15.9869791666667\n",
       "8                 14      0.019089    11.1692708333333\n",
       "9                 15      0.057527    7.41406249999999\n",
       "10                16      0.006693    4.59635416666667\n",
       "11                17      0.042014    2.59114583333333\n",
       "12                18      0.047426    1.27343750000000\n",
       "13                19      0.059203   0.518229166666667\n",
       "14                20      0.208941   0.200520833333333\n",
       "15                21      0.440000   0.195312500000000\n",
       "16                22      0.671059   0.377604166666667\n",
       "17                23      0.840797   0.622395833333333\n",
       "18                24      0.912574   0.804687500000000\n",
       "19                25      0.922014   0.799479166666666\n",
       "20                26      0.993307   0.481770833333331\n",
       "21                27      0.977527  -0.273437499999999\n",
       "22                28      0.939089   -1.59114583333333\n",
       "23                29      0.979665   -3.59635416666667\n",
       "24                30      0.999877   -6.41406250000001"
      ]
     },
     "execution_count": 32,
     "metadata": {},
     "output_type": "execute_result"
    }
   ],
   "source": [
    "# Evaluar el polinomio para cada salario en la tabla\n",
    "evaluated_values = df['salario en miles'].apply(lambda salario: P3_numeric.subs(x, salario))\n",
    "\n",
    "# Añadir los valores evaluados al DataFrame\n",
    "df['Polinomio Evaluado'] = evaluated_values\n",
    "\n",
    "df"
   ]
  },
  {
   "cell_type": "markdown",
   "metadata": {},
   "source": [
    "**4. Encuentre el error de aproximación calculando el valor absoluto de la diferencia de los valores aproximados y los reales**"
   ]
  },
  {
   "cell_type": "code",
   "execution_count": 33,
   "metadata": {},
   "outputs": [
    {
     "data": {
      "application/vnd.microsoft.datawrangler.viewer.v0+json": {
       "columns": [
        {
         "name": "index",
         "rawType": "int64",
         "type": "integer"
        },
        {
         "name": "salario en miles",
         "rawType": "int64",
         "type": "integer"
        },
        {
         "name": "Probabilidad",
         "rawType": "float64",
         "type": "float"
        },
        {
         "name": "Polinomio Evaluado",
         "rawType": "object",
         "type": "unknown"
        },
        {
         "name": "Error de Aproximación",
         "rawType": "object",
         "type": "unknown"
        }
       ],
       "conversionMethod": "pd.DataFrame",
       "ref": "c6457a23-1d13-412e-a947-2b90240fe2c1",
       "rows": [
        [
         "0",
         "6",
         "0.03999969409777308",
         "89.9609375000000",
         "89.9209378059023"
        ],
        [
         "1",
         "7",
         "8.315280276641321e-07",
         "74.2057291666667",
         "74.2057283351386"
        ],
        [
         "2",
         "8",
         "0.05999773967570209",
         "60.3880208333333",
         "60.3280230936576"
        ],
        [
         "3",
         "9",
         "0.03999385582539779",
         "48.3828125000000",
         "48.3428186441746"
        ],
        [
         "4",
         "10",
         "0.019983298578151905",
         "38.0651041666667",
         "38.0451208680885"
        ],
        [
         "5",
         "11",
         "0.059954602131297566",
         "29.3098958333333",
         "29.2499412312020"
        ],
        [
         "6",
         "12",
         "0.00012339457598623172",
         "21.9921875000000",
         "21.9920641054240"
        ],
        [
         "7",
         "13",
         "0.05966464986953352",
         "15.9869791666667",
         "15.9273145167971"
        ],
        [
         "8",
         "14",
         "0.019088948805599356",
         "11.1692708333333",
         "11.1501818845277"
        ],
        [
         "9",
         "15",
         "0.05752737684336522",
         "7.41406249999999",
         "7.35653512315663"
        ],
        [
         "10",
         "16",
         "0.0066928509242848554",
         "4.59635416666667",
         "4.58966131574238"
        ],
        [
         "11",
         "17",
         "0.042013790037908436",
         "2.59114583333333",
         "2.54913204329543"
        ],
        [
         "12",
         "18",
         "0.04742587317756678",
         "1.27343750000000",
         "1.22601162682243"
        ],
        [
         "13",
         "19",
         "0.05920292202211755",
         "0.518229166666667",
         "0.459026244644549"
        ],
        [
         "14",
         "20",
         "0.2089414213699951",
         "0.200520833333333",
         "0.00842058803666229"
        ],
        [
         "15",
         "21",
         "0.44",
         "0.195312500000000",
         "0.244687500000000"
        ],
        [
         "16",
         "22",
         "0.671058578630005",
         "0.377604166666667",
         "0.293454411963338"
        ],
        [
         "17",
         "23",
         "0.8407970779778823",
         "0.622395833333333",
         "0.218401244644549"
        ],
        [
         "18",
         "24",
         "0.9125741268224333",
         "0.804687500000000",
         "0.107886626822433"
        ],
        [
         "19",
         "25",
         "0.9220137900379084",
         "0.799479166666666",
         "0.122534623371242"
        ],
        [
         "20",
         "26",
         "0.9933071490757153",
         "0.481770833333331",
         "0.511536315742384"
        ],
        [
         "21",
         "27",
         "0.9775273768433653",
         "-0.273437499999999",
         "1.25096487684336"
        ],
        [
         "22",
         "28",
         "0.9390889488055993",
         "-1.59114583333333",
         "2.53023478213893"
        ],
        [
         "23",
         "29",
         "0.9796646498695336",
         "-3.59635416666667",
         "4.57601881653621"
        ],
        [
         "24",
         "30",
         "0.9998766054240137",
         "-6.41406250000001",
         "7.41393910542402"
        ]
       ],
       "shape": {
        "columns": 4,
        "rows": 25
       }
      },
      "text/html": [
       "<div>\n",
       "<style scoped>\n",
       "    .dataframe tbody tr th:only-of-type {\n",
       "        vertical-align: middle;\n",
       "    }\n",
       "\n",
       "    .dataframe tbody tr th {\n",
       "        vertical-align: top;\n",
       "    }\n",
       "\n",
       "    .dataframe thead th {\n",
       "        text-align: right;\n",
       "    }\n",
       "</style>\n",
       "<table border=\"1\" class=\"dataframe\">\n",
       "  <thead>\n",
       "    <tr style=\"text-align: right;\">\n",
       "      <th></th>\n",
       "      <th>salario en miles</th>\n",
       "      <th>Probabilidad</th>\n",
       "      <th>Polinomio Evaluado</th>\n",
       "      <th>Error de Aproximación</th>\n",
       "    </tr>\n",
       "  </thead>\n",
       "  <tbody>\n",
       "    <tr>\n",
       "      <th>0</th>\n",
       "      <td>6</td>\n",
       "      <td>0.040000</td>\n",
       "      <td>89.9609375000000</td>\n",
       "      <td>89.9209378059023</td>\n",
       "    </tr>\n",
       "    <tr>\n",
       "      <th>1</th>\n",
       "      <td>7</td>\n",
       "      <td>0.000001</td>\n",
       "      <td>74.2057291666667</td>\n",
       "      <td>74.2057283351386</td>\n",
       "    </tr>\n",
       "    <tr>\n",
       "      <th>2</th>\n",
       "      <td>8</td>\n",
       "      <td>0.059998</td>\n",
       "      <td>60.3880208333333</td>\n",
       "      <td>60.3280230936576</td>\n",
       "    </tr>\n",
       "    <tr>\n",
       "      <th>3</th>\n",
       "      <td>9</td>\n",
       "      <td>0.039994</td>\n",
       "      <td>48.3828125000000</td>\n",
       "      <td>48.3428186441746</td>\n",
       "    </tr>\n",
       "    <tr>\n",
       "      <th>4</th>\n",
       "      <td>10</td>\n",
       "      <td>0.019983</td>\n",
       "      <td>38.0651041666667</td>\n",
       "      <td>38.0451208680885</td>\n",
       "    </tr>\n",
       "    <tr>\n",
       "      <th>5</th>\n",
       "      <td>11</td>\n",
       "      <td>0.059955</td>\n",
       "      <td>29.3098958333333</td>\n",
       "      <td>29.2499412312020</td>\n",
       "    </tr>\n",
       "    <tr>\n",
       "      <th>6</th>\n",
       "      <td>12</td>\n",
       "      <td>0.000123</td>\n",
       "      <td>21.9921875000000</td>\n",
       "      <td>21.9920641054240</td>\n",
       "    </tr>\n",
       "    <tr>\n",
       "      <th>7</th>\n",
       "      <td>13</td>\n",
       "      <td>0.059665</td>\n",
       "      <td>15.9869791666667</td>\n",
       "      <td>15.9273145167971</td>\n",
       "    </tr>\n",
       "    <tr>\n",
       "      <th>8</th>\n",
       "      <td>14</td>\n",
       "      <td>0.019089</td>\n",
       "      <td>11.1692708333333</td>\n",
       "      <td>11.1501818845277</td>\n",
       "    </tr>\n",
       "    <tr>\n",
       "      <th>9</th>\n",
       "      <td>15</td>\n",
       "      <td>0.057527</td>\n",
       "      <td>7.41406249999999</td>\n",
       "      <td>7.35653512315663</td>\n",
       "    </tr>\n",
       "    <tr>\n",
       "      <th>10</th>\n",
       "      <td>16</td>\n",
       "      <td>0.006693</td>\n",
       "      <td>4.59635416666667</td>\n",
       "      <td>4.58966131574238</td>\n",
       "    </tr>\n",
       "    <tr>\n",
       "      <th>11</th>\n",
       "      <td>17</td>\n",
       "      <td>0.042014</td>\n",
       "      <td>2.59114583333333</td>\n",
       "      <td>2.54913204329543</td>\n",
       "    </tr>\n",
       "    <tr>\n",
       "      <th>12</th>\n",
       "      <td>18</td>\n",
       "      <td>0.047426</td>\n",
       "      <td>1.27343750000000</td>\n",
       "      <td>1.22601162682243</td>\n",
       "    </tr>\n",
       "    <tr>\n",
       "      <th>13</th>\n",
       "      <td>19</td>\n",
       "      <td>0.059203</td>\n",
       "      <td>0.518229166666667</td>\n",
       "      <td>0.459026244644549</td>\n",
       "    </tr>\n",
       "    <tr>\n",
       "      <th>14</th>\n",
       "      <td>20</td>\n",
       "      <td>0.208941</td>\n",
       "      <td>0.200520833333333</td>\n",
       "      <td>0.00842058803666229</td>\n",
       "    </tr>\n",
       "    <tr>\n",
       "      <th>15</th>\n",
       "      <td>21</td>\n",
       "      <td>0.440000</td>\n",
       "      <td>0.195312500000000</td>\n",
       "      <td>0.244687500000000</td>\n",
       "    </tr>\n",
       "    <tr>\n",
       "      <th>16</th>\n",
       "      <td>22</td>\n",
       "      <td>0.671059</td>\n",
       "      <td>0.377604166666667</td>\n",
       "      <td>0.293454411963338</td>\n",
       "    </tr>\n",
       "    <tr>\n",
       "      <th>17</th>\n",
       "      <td>23</td>\n",
       "      <td>0.840797</td>\n",
       "      <td>0.622395833333333</td>\n",
       "      <td>0.218401244644549</td>\n",
       "    </tr>\n",
       "    <tr>\n",
       "      <th>18</th>\n",
       "      <td>24</td>\n",
       "      <td>0.912574</td>\n",
       "      <td>0.804687500000000</td>\n",
       "      <td>0.107886626822433</td>\n",
       "    </tr>\n",
       "    <tr>\n",
       "      <th>19</th>\n",
       "      <td>25</td>\n",
       "      <td>0.922014</td>\n",
       "      <td>0.799479166666666</td>\n",
       "      <td>0.122534623371242</td>\n",
       "    </tr>\n",
       "    <tr>\n",
       "      <th>20</th>\n",
       "      <td>26</td>\n",
       "      <td>0.993307</td>\n",
       "      <td>0.481770833333331</td>\n",
       "      <td>0.511536315742384</td>\n",
       "    </tr>\n",
       "    <tr>\n",
       "      <th>21</th>\n",
       "      <td>27</td>\n",
       "      <td>0.977527</td>\n",
       "      <td>-0.273437499999999</td>\n",
       "      <td>1.25096487684336</td>\n",
       "    </tr>\n",
       "    <tr>\n",
       "      <th>22</th>\n",
       "      <td>28</td>\n",
       "      <td>0.939089</td>\n",
       "      <td>-1.59114583333333</td>\n",
       "      <td>2.53023478213893</td>\n",
       "    </tr>\n",
       "    <tr>\n",
       "      <th>23</th>\n",
       "      <td>29</td>\n",
       "      <td>0.979665</td>\n",
       "      <td>-3.59635416666667</td>\n",
       "      <td>4.57601881653621</td>\n",
       "    </tr>\n",
       "    <tr>\n",
       "      <th>24</th>\n",
       "      <td>30</td>\n",
       "      <td>0.999877</td>\n",
       "      <td>-6.41406250000001</td>\n",
       "      <td>7.41393910542402</td>\n",
       "    </tr>\n",
       "  </tbody>\n",
       "</table>\n",
       "</div>"
      ],
      "text/plain": [
       "    salario en miles  Probabilidad  Polinomio Evaluado Error de Aproximación\n",
       "0                  6      0.040000    89.9609375000000      89.9209378059023\n",
       "1                  7      0.000001    74.2057291666667      74.2057283351386\n",
       "2                  8      0.059998    60.3880208333333      60.3280230936576\n",
       "3                  9      0.039994    48.3828125000000      48.3428186441746\n",
       "4                 10      0.019983    38.0651041666667      38.0451208680885\n",
       "5                 11      0.059955    29.3098958333333      29.2499412312020\n",
       "6                 12      0.000123    21.9921875000000      21.9920641054240\n",
       "7                 13      0.059665    15.9869791666667      15.9273145167971\n",
       "8                 14      0.019089    11.1692708333333      11.1501818845277\n",
       "9                 15      0.057527    7.41406249999999      7.35653512315663\n",
       "10                16      0.006693    4.59635416666667      4.58966131574238\n",
       "11                17      0.042014    2.59114583333333      2.54913204329543\n",
       "12                18      0.047426    1.27343750000000      1.22601162682243\n",
       "13                19      0.059203   0.518229166666667     0.459026244644549\n",
       "14                20      0.208941   0.200520833333333   0.00842058803666229\n",
       "15                21      0.440000   0.195312500000000     0.244687500000000\n",
       "16                22      0.671059   0.377604166666667     0.293454411963338\n",
       "17                23      0.840797   0.622395833333333     0.218401244644549\n",
       "18                24      0.912574   0.804687500000000     0.107886626822433\n",
       "19                25      0.922014   0.799479166666666     0.122534623371242\n",
       "20                26      0.993307   0.481770833333331     0.511536315742384\n",
       "21                27      0.977527  -0.273437499999999      1.25096487684336\n",
       "22                28      0.939089   -1.59114583333333      2.53023478213893\n",
       "23                29      0.979665   -3.59635416666667      4.57601881653621\n",
       "24                30      0.999877   -6.41406250000001      7.41393910542402"
      ]
     },
     "execution_count": 33,
     "metadata": {},
     "output_type": "execute_result"
    }
   ],
   "source": [
    "# Calcular el error de aproximación como el valor absoluto de la diferencia entre los valores aproximados y los reales\n",
    "df['Error de Aproximación'] = (df['Polinomio Evaluado'] - df['Probabilidad']).abs()\n",
    "\n",
    "df"
   ]
  },
  {
   "cell_type": "markdown",
   "metadata": {},
   "source": [
    "**5. Grafique los valores aproximados y los reales y analice el resultado**"
   ]
  },
  {
   "cell_type": "code",
   "execution_count": 34,
   "metadata": {},
   "outputs": [
    {
     "data": {
      "image/png": "[encoded data removed]",
      "text/plain": [
       "<Figure size 1000x600 with 1 Axes>"
      ]
     },
     "metadata": {},
     "output_type": "display_data"
    }
   ],
   "source": [
    "# Graficar los valores aproximados y los reales\n",
    "plt.figure(figsize=(10, 6))\n",
    "plt.plot(df['salario en miles'], df['Probabilidad'], label='Valores Reales', marker='o')\n",
    "plt.plot(df['salario en miles'], df['Polinomio Evaluado'], label='Valores Aproximados', marker='x')\n",
    "plt.xlabel('Salario en miles')\n",
    "plt.ylabel('Probabilidad')\n",
    "plt.title('Comparación de Valores Reales y Aproximados')\n",
    "plt.legend()\n",
    "plt.grid(True)\n",
    "plt.show()"
   ]
  },
  {
   "cell_type": "markdown",
   "metadata": {},
   "source": [
    "Al observar la gráfica, se puede notar que los valores aproximados del polinomio de Taylor se ajustan bien a los valores reales en la región cercana a x0 = 21. Sin embargo, fuera de esta región, los valores aproximados divergen significativamente de los valores reales, especialmente en los extremos del rango de salarios. Este comportamiento es esperado, ya que los polinomios de Taylor son más precisos cerca del punto de expansión y menos precisos a medida que nos alejamos de este punto."
   ]
  }
 ],
 "metadata": {
  "kernelspec": {
   "display_name": "Python 3",
   "language": "python",
   "name": "python3"
  },
  "language_info": {
   "codemirror_mode": {
    "name": "ipython",
    "version": 3
   },
   "file_extension": ".py",
   "mimetype": "text/x-python",
   "name": "python",
   "nbconvert_exporter": "python",
   "pygments_lexer": "ipython3",
   "version": "3.10.4"
  }
 },
 "nbformat": 4,
 "nbformat_minor": 2
}
