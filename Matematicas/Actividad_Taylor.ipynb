{
 "cells": [
  {
   "cell_type": "markdown",
   "metadata": {},
   "source": [
    "### **Tarea: Taylor** ###\n",
    "\n",
    "Matemáticas y Estadística para Inteligencia Artificial\n",
    "\n",
    "**Alumno**: Aminadab Córdova Acosta\n",
    "\n",
    "\n",
    "Instrucciones\n",
    "\n",
    "Los datos en la tabla muestran la probabilidad de que una persona, con un salario x, compre un producto determinado. Una función \n",
    "que comunmente se utiliza para modelar este comportamiento es la función logística:\n",
    "\n",
    "$$ f(x) = \\frac{1}{1 + e^{-(x - x_0)}} $$\n",
    "\n",
    "\n",
    "donde $ x_0 $ es el punto donde la probabilidad es 0.5. Sin embargo, en términos de evaluación, es más sencillo evaluar una aproximación polinómica que evaluar esta función. Es por ello que emplearemos un polinomio de Taylor para describir estos datos.\n",
    "\n",
    "1. Para los datos que se muestran en la tabla diga cuál cree que es el valor de $ x_0 $\n",
    "2. Encuentre un polinomio de Taylor de orden 3 para la función logística alrededor de $ x_0 $\n",
    "3. Evalúe el polinomio obtenido para cada uno de los salarios de la tabla\n",
    "4. Encuentre el error de aproximación calculando el valor absoluto de la diferencia de los valores\n",
    "aproximados y los reales\n",
    "5. Grafique los valores aproximados y los reales y analice el resultado"
   ]
  },
  {
   "cell_type": "code",
   "execution_count": 7,
   "metadata": {},
   "outputs": [
    {
     "name": "stdout",
     "output_type": "stream",
     "text": [
      "    salario en miles  Probabilidad\n",
      "0                  6  3.999969e-02\n",
      "1                  7  8.315280e-07\n",
      "2                  8  5.999774e-02\n",
      "3                  9  3.999386e-02\n",
      "4                 10  1.998330e-02\n",
      "5                 11  5.995460e-02\n",
      "6                 12  1.233946e-04\n",
      "7                 13  5.966465e-02\n",
      "8                 14  1.908895e-02\n",
      "9                 15  5.752738e-02\n",
      "10                16  6.692851e-03\n",
      "11                17  4.201379e-02\n",
      "12                18  4.742587e-02\n",
      "13                19  5.920292e-02\n",
      "14                20  2.089414e-01\n",
      "15                21  4.400000e-01\n",
      "16                22  6.710586e-01\n",
      "17                23  8.407971e-01\n",
      "18                24  9.125741e-01\n",
      "19                25  9.220138e-01\n",
      "20                26  9.933071e-01\n",
      "21                27  9.775274e-01\n",
      "22                28  9.390889e-01\n",
      "23                29  9.796646e-01\n",
      "24                30  9.998766e-01\n"
     ]
    }
   ],
   "source": [
    "import numpy as np\n",
    "import pandas as pd\n",
    "import matplotlib.pyplot as plt\n",
    "from scipy.optimize import curve_fit\n",
    "from sympy import symbols, diff, exp\n",
    "\n",
    "df = pd.read_excel(r'D:\\Nueva carpeta\\compra_producto.xlsx', usecols=\"B:C\")\n",
    "print(df)"
   ]
  },
  {
   "cell_type": "code",
   "execution_count": null,
   "metadata": {},
   "outputs": [],
   "source": []
  },
  {
   "cell_type": "markdown",
   "metadata": {},
   "source": [
    "**1. Para los datos que se muestran en la tabla diga cuál cree que es el valor de $ x_0 $**"
   ]
  },
  {
   "cell_type": "code",
   "execution_count": 9,
   "metadata": {},
   "outputs": [
    {
     "data": {
      "text/plain": [
       "21"
      ]
     },
     "execution_count": 9,
     "metadata": {},
     "output_type": "execute_result"
    }
   ],
   "source": [
    "# 1. Encontrar x0 (el punto donde la probabilidad es 0.5)\n",
    "x0_index = (df['Probabilidad'] - 0.5).abs().idxmin()\n",
    "x0 = df.loc[x0_index, 'salario en miles']\n",
    "x0"
   ]
  },
  {
   "cell_type": "markdown",
   "metadata": {},
   "source": [
    "**2. Encuentre un polinomio de Taylor de orden 3 para la función logística alrededor de $ x_0 $**"
   ]
  },
  {
   "cell_type": "code",
   "execution_count": 10,
   "metadata": {},
   "outputs": [],
   "source": [
    "# 2. Polinomio de Taylor de orden 3 alrededor de x0\n",
    "x = symbols('x')\n",
    "f_x = 1 / (1 + exp(-(x - x0)))\n",
    "taylor_poly = f_x.series(x, x0, 3).removeO()\n",
    "\n",
    "def eval_taylor(x_val, x0, taylor_expr):\n",
    "    \"\"\" Evalúa el polinomio de Taylor en un punto dado \"\"\"\n",
    "    return float(taylor_expr.subs(x, x_val))"
   ]
  },
  {
   "cell_type": "markdown",
   "metadata": {},
   "source": [
    "**3. Evalúe el polinomio obtenido para cada uno de los salarios de la tabla**"
   ]
  },
  {
   "cell_type": "code",
   "execution_count": 12,
   "metadata": {},
   "outputs": [
    {
     "data": {
      "application/vnd.microsoft.datawrangler.viewer.v0+json": {
       "columns": [
        {
         "name": "index",
         "rawType": "int64",
         "type": "integer"
        },
        {
         "name": "salario en miles",
         "rawType": "int64",
         "type": "integer"
        },
        {
         "name": "Probabilidad",
         "rawType": "float64",
         "type": "float"
        },
        {
         "name": "taylor_aprox",
         "rawType": "float64",
         "type": "float"
        }
       ],
       "conversionMethod": "pd.DataFrame",
       "ref": "59cbdf1f-184e-4b75-a350-07dd5d6eb1b9",
       "rows": [
        [
         "0",
         "6",
         "0.03999969409777308",
         "-3.25"
        ],
        [
         "1",
         "7",
         "8.315280276641321e-07",
         "-3.0"
        ],
        [
         "2",
         "8",
         "0.05999773967570209",
         "-2.75"
        ],
        [
         "3",
         "9",
         "0.03999385582539779",
         "-2.5"
        ],
        [
         "4",
         "10",
         "0.019983298578151905",
         "-2.25"
        ],
        [
         "5",
         "11",
         "0.059954602131297566",
         "-2.0"
        ],
        [
         "6",
         "12",
         "0.00012339457598623172",
         "-1.75"
        ],
        [
         "7",
         "13",
         "0.05966464986953352",
         "-1.5"
        ],
        [
         "8",
         "14",
         "0.019088948805599356",
         "-1.25"
        ],
        [
         "9",
         "15",
         "0.05752737684336522",
         "-1.0"
        ],
        [
         "10",
         "16",
         "0.0066928509242848554",
         "-0.75"
        ],
        [
         "11",
         "17",
         "0.042013790037908436",
         "-0.5"
        ],
        [
         "12",
         "18",
         "0.04742587317756678",
         "-0.25"
        ],
        [
         "13",
         "19",
         "0.05920292202211755",
         "0.0"
        ],
        [
         "14",
         "20",
         "0.2089414213699951",
         "0.25"
        ],
        [
         "15",
         "21",
         "0.44",
         "0.5"
        ],
        [
         "16",
         "22",
         "0.671058578630005",
         "0.75"
        ],
        [
         "17",
         "23",
         "0.8407970779778823",
         "1.0"
        ],
        [
         "18",
         "24",
         "0.9125741268224333",
         "1.25"
        ],
        [
         "19",
         "25",
         "0.9220137900379084",
         "1.5"
        ],
        [
         "20",
         "26",
         "0.9933071490757153",
         "1.75"
        ],
        [
         "21",
         "27",
         "0.9775273768433653",
         "2.0"
        ],
        [
         "22",
         "28",
         "0.9390889488055993",
         "2.25"
        ],
        [
         "23",
         "29",
         "0.9796646498695336",
         "2.5"
        ],
        [
         "24",
         "30",
         "0.9998766054240137",
         "2.75"
        ]
       ],
       "shape": {
        "columns": 3,
        "rows": 25
       }
      },
      "text/html": [
       "<div>\n",
       "<style scoped>\n",
       "    .dataframe tbody tr th:only-of-type {\n",
       "        vertical-align: middle;\n",
       "    }\n",
       "\n",
       "    .dataframe tbody tr th {\n",
       "        vertical-align: top;\n",
       "    }\n",
       "\n",
       "    .dataframe thead th {\n",
       "        text-align: right;\n",
       "    }\n",
       "</style>\n",
       "<table border=\"1\" class=\"dataframe\">\n",
       "  <thead>\n",
       "    <tr style=\"text-align: right;\">\n",
       "      <th></th>\n",
       "      <th>salario en miles</th>\n",
       "      <th>Probabilidad</th>\n",
       "      <th>taylor_aprox</th>\n",
       "    </tr>\n",
       "  </thead>\n",
       "  <tbody>\n",
       "    <tr>\n",
       "      <th>0</th>\n",
       "      <td>6</td>\n",
       "      <td>3.999969e-02</td>\n",
       "      <td>-3.25</td>\n",
       "    </tr>\n",
       "    <tr>\n",
       "      <th>1</th>\n",
       "      <td>7</td>\n",
       "      <td>8.315280e-07</td>\n",
       "      <td>-3.00</td>\n",
       "    </tr>\n",
       "    <tr>\n",
       "      <th>2</th>\n",
       "      <td>8</td>\n",
       "      <td>5.999774e-02</td>\n",
       "      <td>-2.75</td>\n",
       "    </tr>\n",
       "    <tr>\n",
       "      <th>3</th>\n",
       "      <td>9</td>\n",
       "      <td>3.999386e-02</td>\n",
       "      <td>-2.50</td>\n",
       "    </tr>\n",
       "    <tr>\n",
       "      <th>4</th>\n",
       "      <td>10</td>\n",
       "      <td>1.998330e-02</td>\n",
       "      <td>-2.25</td>\n",
       "    </tr>\n",
       "    <tr>\n",
       "      <th>5</th>\n",
       "      <td>11</td>\n",
       "      <td>5.995460e-02</td>\n",
       "      <td>-2.00</td>\n",
       "    </tr>\n",
       "    <tr>\n",
       "      <th>6</th>\n",
       "      <td>12</td>\n",
       "      <td>1.233946e-04</td>\n",
       "      <td>-1.75</td>\n",
       "    </tr>\n",
       "    <tr>\n",
       "      <th>7</th>\n",
       "      <td>13</td>\n",
       "      <td>5.966465e-02</td>\n",
       "      <td>-1.50</td>\n",
       "    </tr>\n",
       "    <tr>\n",
       "      <th>8</th>\n",
       "      <td>14</td>\n",
       "      <td>1.908895e-02</td>\n",
       "      <td>-1.25</td>\n",
       "    </tr>\n",
       "    <tr>\n",
       "      <th>9</th>\n",
       "      <td>15</td>\n",
       "      <td>5.752738e-02</td>\n",
       "      <td>-1.00</td>\n",
       "    </tr>\n",
       "    <tr>\n",
       "      <th>10</th>\n",
       "      <td>16</td>\n",
       "      <td>6.692851e-03</td>\n",
       "      <td>-0.75</td>\n",
       "    </tr>\n",
       "    <tr>\n",
       "      <th>11</th>\n",
       "      <td>17</td>\n",
       "      <td>4.201379e-02</td>\n",
       "      <td>-0.50</td>\n",
       "    </tr>\n",
       "    <tr>\n",
       "      <th>12</th>\n",
       "      <td>18</td>\n",
       "      <td>4.742587e-02</td>\n",
       "      <td>-0.25</td>\n",
       "    </tr>\n",
       "    <tr>\n",
       "      <th>13</th>\n",
       "      <td>19</td>\n",
       "      <td>5.920292e-02</td>\n",
       "      <td>0.00</td>\n",
       "    </tr>\n",
       "    <tr>\n",
       "      <th>14</th>\n",
       "      <td>20</td>\n",
       "      <td>2.089414e-01</td>\n",
       "      <td>0.25</td>\n",
       "    </tr>\n",
       "    <tr>\n",
       "      <th>15</th>\n",
       "      <td>21</td>\n",
       "      <td>4.400000e-01</td>\n",
       "      <td>0.50</td>\n",
       "    </tr>\n",
       "    <tr>\n",
       "      <th>16</th>\n",
       "      <td>22</td>\n",
       "      <td>6.710586e-01</td>\n",
       "      <td>0.75</td>\n",
       "    </tr>\n",
       "    <tr>\n",
       "      <th>17</th>\n",
       "      <td>23</td>\n",
       "      <td>8.407971e-01</td>\n",
       "      <td>1.00</td>\n",
       "    </tr>\n",
       "    <tr>\n",
       "      <th>18</th>\n",
       "      <td>24</td>\n",
       "      <td>9.125741e-01</td>\n",
       "      <td>1.25</td>\n",
       "    </tr>\n",
       "    <tr>\n",
       "      <th>19</th>\n",
       "      <td>25</td>\n",
       "      <td>9.220138e-01</td>\n",
       "      <td>1.50</td>\n",
       "    </tr>\n",
       "    <tr>\n",
       "      <th>20</th>\n",
       "      <td>26</td>\n",
       "      <td>9.933071e-01</td>\n",
       "      <td>1.75</td>\n",
       "    </tr>\n",
       "    <tr>\n",
       "      <th>21</th>\n",
       "      <td>27</td>\n",
       "      <td>9.775274e-01</td>\n",
       "      <td>2.00</td>\n",
       "    </tr>\n",
       "    <tr>\n",
       "      <th>22</th>\n",
       "      <td>28</td>\n",
       "      <td>9.390889e-01</td>\n",
       "      <td>2.25</td>\n",
       "    </tr>\n",
       "    <tr>\n",
       "      <th>23</th>\n",
       "      <td>29</td>\n",
       "      <td>9.796646e-01</td>\n",
       "      <td>2.50</td>\n",
       "    </tr>\n",
       "    <tr>\n",
       "      <th>24</th>\n",
       "      <td>30</td>\n",
       "      <td>9.998766e-01</td>\n",
       "      <td>2.75</td>\n",
       "    </tr>\n",
       "  </tbody>\n",
       "</table>\n",
       "</div>"
      ],
      "text/plain": [
       "    salario en miles  Probabilidad  taylor_aprox\n",
       "0                  6  3.999969e-02         -3.25\n",
       "1                  7  8.315280e-07         -3.00\n",
       "2                  8  5.999774e-02         -2.75\n",
       "3                  9  3.999386e-02         -2.50\n",
       "4                 10  1.998330e-02         -2.25\n",
       "5                 11  5.995460e-02         -2.00\n",
       "6                 12  1.233946e-04         -1.75\n",
       "7                 13  5.966465e-02         -1.50\n",
       "8                 14  1.908895e-02         -1.25\n",
       "9                 15  5.752738e-02         -1.00\n",
       "10                16  6.692851e-03         -0.75\n",
       "11                17  4.201379e-02         -0.50\n",
       "12                18  4.742587e-02         -0.25\n",
       "13                19  5.920292e-02          0.00\n",
       "14                20  2.089414e-01          0.25\n",
       "15                21  4.400000e-01          0.50\n",
       "16                22  6.710586e-01          0.75\n",
       "17                23  8.407971e-01          1.00\n",
       "18                24  9.125741e-01          1.25\n",
       "19                25  9.220138e-01          1.50\n",
       "20                26  9.933071e-01          1.75\n",
       "21                27  9.775274e-01          2.00\n",
       "22                28  9.390889e-01          2.25\n",
       "23                29  9.796646e-01          2.50\n",
       "24                30  9.998766e-01          2.75"
      ]
     },
     "execution_count": 12,
     "metadata": {},
     "output_type": "execute_result"
    }
   ],
   "source": [
    "df['taylor_aprox'] = df['salario en miles'].apply(lambda s: eval_taylor(s, x0, taylor_poly))\n",
    "df"
   ]
  },
  {
   "cell_type": "markdown",
   "metadata": {},
   "source": [
    "**4. Encuentre el error de aproximación calculando el valor absoluto de la diferencia de los valores aproximados y los reales**"
   ]
  },
  {
   "cell_type": "code",
   "execution_count": 14,
   "metadata": {},
   "outputs": [],
   "source": [
    "df['error'] = abs(df['taylor_aprox'] - df['Probabilidad'])"
   ]
  },
  {
   "cell_type": "code",
   "execution_count": 15,
   "metadata": {},
   "outputs": [
    {
     "data": {
      "application/vnd.microsoft.datawrangler.viewer.v0+json": {
       "columns": [
        {
         "name": "index",
         "rawType": "int64",
         "type": "integer"
        },
        {
         "name": "salario en miles",
         "rawType": "int64",
         "type": "integer"
        },
        {
         "name": "Probabilidad",
         "rawType": "float64",
         "type": "float"
        },
        {
         "name": "taylor_aprox",
         "rawType": "float64",
         "type": "float"
        },
        {
         "name": "error",
         "rawType": "float64",
         "type": "float"
        }
       ],
       "conversionMethod": "pd.DataFrame",
       "ref": "f26dd448-1ae7-4f27-bf7f-ee1c5032791d",
       "rows": [
        [
         "0",
         "6",
         "0.03999969409777308",
         "-3.25",
         "3.289999694097773"
        ],
        [
         "1",
         "7",
         "8.315280276641321e-07",
         "-3.0",
         "3.0000008315280278"
        ],
        [
         "2",
         "8",
         "0.05999773967570209",
         "-2.75",
         "2.809997739675702"
        ],
        [
         "3",
         "9",
         "0.03999385582539779",
         "-2.5",
         "2.5399938558253976"
        ],
        [
         "4",
         "10",
         "0.019983298578151905",
         "-2.25",
         "2.269983298578152"
        ],
        [
         "5",
         "11",
         "0.059954602131297566",
         "-2.0",
         "2.0599546021312976"
        ],
        [
         "6",
         "12",
         "0.00012339457598623172",
         "-1.75",
         "1.7501233945759862"
        ],
        [
         "7",
         "13",
         "0.05966464986953352",
         "-1.5",
         "1.5596646498695335"
        ],
        [
         "8",
         "14",
         "0.019088948805599356",
         "-1.25",
         "1.2690889488055994"
        ],
        [
         "9",
         "15",
         "0.05752737684336522",
         "-1.0",
         "1.0575273768433653"
        ],
        [
         "10",
         "16",
         "0.0066928509242848554",
         "-0.75",
         "0.7566928509242848"
        ],
        [
         "11",
         "17",
         "0.042013790037908436",
         "-0.5",
         "0.5420137900379084"
        ],
        [
         "12",
         "18",
         "0.04742587317756678",
         "-0.25",
         "0.2974258731775668"
        ],
        [
         "13",
         "19",
         "0.05920292202211755",
         "0.0",
         "0.05920292202211755"
        ],
        [
         "14",
         "20",
         "0.2089414213699951",
         "0.25",
         "0.041058578630004894"
        ],
        [
         "15",
         "21",
         "0.44",
         "0.5",
         "0.06"
        ],
        [
         "16",
         "22",
         "0.671058578630005",
         "0.75",
         "0.07894142136999505"
        ],
        [
         "17",
         "23",
         "0.8407970779778823",
         "1.0",
         "0.15920292202211772"
        ],
        [
         "18",
         "24",
         "0.9125741268224333",
         "1.25",
         "0.33742587317756667"
        ],
        [
         "19",
         "25",
         "0.9220137900379084",
         "1.5",
         "0.5779862099620916"
        ],
        [
         "20",
         "26",
         "0.9933071490757153",
         "1.75",
         "0.7566928509242847"
        ],
        [
         "21",
         "27",
         "0.9775273768433653",
         "2.0",
         "1.0224726231566348"
        ],
        [
         "22",
         "28",
         "0.9390889488055993",
         "2.25",
         "1.3109110511944007"
        ],
        [
         "23",
         "29",
         "0.9796646498695336",
         "2.5",
         "1.5203353501304664"
        ],
        [
         "24",
         "30",
         "0.9998766054240137",
         "2.75",
         "1.7501233945759864"
        ]
       ],
       "shape": {
        "columns": 4,
        "rows": 25
       }
      },
      "text/html": [
       "<div>\n",
       "<style scoped>\n",
       "    .dataframe tbody tr th:only-of-type {\n",
       "        vertical-align: middle;\n",
       "    }\n",
       "\n",
       "    .dataframe tbody tr th {\n",
       "        vertical-align: top;\n",
       "    }\n",
       "\n",
       "    .dataframe thead th {\n",
       "        text-align: right;\n",
       "    }\n",
       "</style>\n",
       "<table border=\"1\" class=\"dataframe\">\n",
       "  <thead>\n",
       "    <tr style=\"text-align: right;\">\n",
       "      <th></th>\n",
       "      <th>salario en miles</th>\n",
       "      <th>Probabilidad</th>\n",
       "      <th>taylor_aprox</th>\n",
       "      <th>error</th>\n",
       "    </tr>\n",
       "  </thead>\n",
       "  <tbody>\n",
       "    <tr>\n",
       "      <th>0</th>\n",
       "      <td>6</td>\n",
       "      <td>3.999969e-02</td>\n",
       "      <td>-3.25</td>\n",
       "      <td>3.290000</td>\n",
       "    </tr>\n",
       "    <tr>\n",
       "      <th>1</th>\n",
       "      <td>7</td>\n",
       "      <td>8.315280e-07</td>\n",
       "      <td>-3.00</td>\n",
       "      <td>3.000001</td>\n",
       "    </tr>\n",
       "    <tr>\n",
       "      <th>2</th>\n",
       "      <td>8</td>\n",
       "      <td>5.999774e-02</td>\n",
       "      <td>-2.75</td>\n",
       "      <td>2.809998</td>\n",
       "    </tr>\n",
       "    <tr>\n",
       "      <th>3</th>\n",
       "      <td>9</td>\n",
       "      <td>3.999386e-02</td>\n",
       "      <td>-2.50</td>\n",
       "      <td>2.539994</td>\n",
       "    </tr>\n",
       "    <tr>\n",
       "      <th>4</th>\n",
       "      <td>10</td>\n",
       "      <td>1.998330e-02</td>\n",
       "      <td>-2.25</td>\n",
       "      <td>2.269983</td>\n",
       "    </tr>\n",
       "    <tr>\n",
       "      <th>5</th>\n",
       "      <td>11</td>\n",
       "      <td>5.995460e-02</td>\n",
       "      <td>-2.00</td>\n",
       "      <td>2.059955</td>\n",
       "    </tr>\n",
       "    <tr>\n",
       "      <th>6</th>\n",
       "      <td>12</td>\n",
       "      <td>1.233946e-04</td>\n",
       "      <td>-1.75</td>\n",
       "      <td>1.750123</td>\n",
       "    </tr>\n",
       "    <tr>\n",
       "      <th>7</th>\n",
       "      <td>13</td>\n",
       "      <td>5.966465e-02</td>\n",
       "      <td>-1.50</td>\n",
       "      <td>1.559665</td>\n",
       "    </tr>\n",
       "    <tr>\n",
       "      <th>8</th>\n",
       "      <td>14</td>\n",
       "      <td>1.908895e-02</td>\n",
       "      <td>-1.25</td>\n",
       "      <td>1.269089</td>\n",
       "    </tr>\n",
       "    <tr>\n",
       "      <th>9</th>\n",
       "      <td>15</td>\n",
       "      <td>5.752738e-02</td>\n",
       "      <td>-1.00</td>\n",
       "      <td>1.057527</td>\n",
       "    </tr>\n",
       "    <tr>\n",
       "      <th>10</th>\n",
       "      <td>16</td>\n",
       "      <td>6.692851e-03</td>\n",
       "      <td>-0.75</td>\n",
       "      <td>0.756693</td>\n",
       "    </tr>\n",
       "    <tr>\n",
       "      <th>11</th>\n",
       "      <td>17</td>\n",
       "      <td>4.201379e-02</td>\n",
       "      <td>-0.50</td>\n",
       "      <td>0.542014</td>\n",
       "    </tr>\n",
       "    <tr>\n",
       "      <th>12</th>\n",
       "      <td>18</td>\n",
       "      <td>4.742587e-02</td>\n",
       "      <td>-0.25</td>\n",
       "      <td>0.297426</td>\n",
       "    </tr>\n",
       "    <tr>\n",
       "      <th>13</th>\n",
       "      <td>19</td>\n",
       "      <td>5.920292e-02</td>\n",
       "      <td>0.00</td>\n",
       "      <td>0.059203</td>\n",
       "    </tr>\n",
       "    <tr>\n",
       "      <th>14</th>\n",
       "      <td>20</td>\n",
       "      <td>2.089414e-01</td>\n",
       "      <td>0.25</td>\n",
       "      <td>0.041059</td>\n",
       "    </tr>\n",
       "    <tr>\n",
       "      <th>15</th>\n",
       "      <td>21</td>\n",
       "      <td>4.400000e-01</td>\n",
       "      <td>0.50</td>\n",
       "      <td>0.060000</td>\n",
       "    </tr>\n",
       "    <tr>\n",
       "      <th>16</th>\n",
       "      <td>22</td>\n",
       "      <td>6.710586e-01</td>\n",
       "      <td>0.75</td>\n",
       "      <td>0.078941</td>\n",
       "    </tr>\n",
       "    <tr>\n",
       "      <th>17</th>\n",
       "      <td>23</td>\n",
       "      <td>8.407971e-01</td>\n",
       "      <td>1.00</td>\n",
       "      <td>0.159203</td>\n",
       "    </tr>\n",
       "    <tr>\n",
       "      <th>18</th>\n",
       "      <td>24</td>\n",
       "      <td>9.125741e-01</td>\n",
       "      <td>1.25</td>\n",
       "      <td>0.337426</td>\n",
       "    </tr>\n",
       "    <tr>\n",
       "      <th>19</th>\n",
       "      <td>25</td>\n",
       "      <td>9.220138e-01</td>\n",
       "      <td>1.50</td>\n",
       "      <td>0.577986</td>\n",
       "    </tr>\n",
       "    <tr>\n",
       "      <th>20</th>\n",
       "      <td>26</td>\n",
       "      <td>9.933071e-01</td>\n",
       "      <td>1.75</td>\n",
       "      <td>0.756693</td>\n",
       "    </tr>\n",
       "    <tr>\n",
       "      <th>21</th>\n",
       "      <td>27</td>\n",
       "      <td>9.775274e-01</td>\n",
       "      <td>2.00</td>\n",
       "      <td>1.022473</td>\n",
       "    </tr>\n",
       "    <tr>\n",
       "      <th>22</th>\n",
       "      <td>28</td>\n",
       "      <td>9.390889e-01</td>\n",
       "      <td>2.25</td>\n",
       "      <td>1.310911</td>\n",
       "    </tr>\n",
       "    <tr>\n",
       "      <th>23</th>\n",
       "      <td>29</td>\n",
       "      <td>9.796646e-01</td>\n",
       "      <td>2.50</td>\n",
       "      <td>1.520335</td>\n",
       "    </tr>\n",
       "    <tr>\n",
       "      <th>24</th>\n",
       "      <td>30</td>\n",
       "      <td>9.998766e-01</td>\n",
       "      <td>2.75</td>\n",
       "      <td>1.750123</td>\n",
       "    </tr>\n",
       "  </tbody>\n",
       "</table>\n",
       "</div>"
      ],
      "text/plain": [
       "    salario en miles  Probabilidad  taylor_aprox     error\n",
       "0                  6  3.999969e-02         -3.25  3.290000\n",
       "1                  7  8.315280e-07         -3.00  3.000001\n",
       "2                  8  5.999774e-02         -2.75  2.809998\n",
       "3                  9  3.999386e-02         -2.50  2.539994\n",
       "4                 10  1.998330e-02         -2.25  2.269983\n",
       "5                 11  5.995460e-02         -2.00  2.059955\n",
       "6                 12  1.233946e-04         -1.75  1.750123\n",
       "7                 13  5.966465e-02         -1.50  1.559665\n",
       "8                 14  1.908895e-02         -1.25  1.269089\n",
       "9                 15  5.752738e-02         -1.00  1.057527\n",
       "10                16  6.692851e-03         -0.75  0.756693\n",
       "11                17  4.201379e-02         -0.50  0.542014\n",
       "12                18  4.742587e-02         -0.25  0.297426\n",
       "13                19  5.920292e-02          0.00  0.059203\n",
       "14                20  2.089414e-01          0.25  0.041059\n",
       "15                21  4.400000e-01          0.50  0.060000\n",
       "16                22  6.710586e-01          0.75  0.078941\n",
       "17                23  8.407971e-01          1.00  0.159203\n",
       "18                24  9.125741e-01          1.25  0.337426\n",
       "19                25  9.220138e-01          1.50  0.577986\n",
       "20                26  9.933071e-01          1.75  0.756693\n",
       "21                27  9.775274e-01          2.00  1.022473\n",
       "22                28  9.390889e-01          2.25  1.310911\n",
       "23                29  9.796646e-01          2.50  1.520335\n",
       "24                30  9.998766e-01          2.75  1.750123"
      ]
     },
     "execution_count": 15,
     "metadata": {},
     "output_type": "execute_result"
    }
   ],
   "source": [
    "df"
   ]
  },
  {
   "cell_type": "markdown",
   "metadata": {},
   "source": [
    "**5. Grafique los valores aproximados y los reales y analice el resultado**"
   ]
  },
  {
   "cell_type": "code",
   "execution_count": 17,
   "metadata": {},
   "outputs": [
    {
     "data": {
      "image/png": "[encoded data removed]",
      "text/plain": [
       "<Figure size 1000x600 with 1 Axes>"
      ]
     },
     "metadata": {},
     "output_type": "display_data"
    }
   ],
   "source": [
    "plt.figure(figsize=(10, 6))\n",
    "plt.plot(df['salario en miles'], df['Probabilidad'], 'bo-', label='Valores Reales')\n",
    "plt.plot(df['salario en miles'], df['taylor_aprox'], 'r*-', label='Aproximación Taylor')\n",
    "plt.xlabel('Salario (miles)')\n",
    "plt.ylabel('Probabilidad')\n",
    "plt.legend()\n",
    "plt.title('Comparación de la Función Logística y su Aproximación de Taylor')\n",
    "plt.show()"
   ]
  },
  {
   "cell_type": "code",
   "execution_count": 19,
   "metadata": {},
   "outputs": [
    {
     "name": "stdout",
     "output_type": "stream",
     "text": [
      "    salario en miles  Probabilidad  taylor_aprox     error\n",
      "0                  6  3.999969e-02         -3.25  3.290000\n",
      "1                  7  8.315280e-07         -3.00  3.000001\n",
      "2                  8  5.999774e-02         -2.75  2.809998\n",
      "3                  9  3.999386e-02         -2.50  2.539994\n",
      "4                 10  1.998330e-02         -2.25  2.269983\n",
      "5                 11  5.995460e-02         -2.00  2.059955\n",
      "6                 12  1.233946e-04         -1.75  1.750123\n",
      "7                 13  5.966465e-02         -1.50  1.559665\n",
      "8                 14  1.908895e-02         -1.25  1.269089\n",
      "9                 15  5.752738e-02         -1.00  1.057527\n",
      "10                16  6.692851e-03         -0.75  0.756693\n",
      "11                17  4.201379e-02         -0.50  0.542014\n",
      "12                18  4.742587e-02         -0.25  0.297426\n",
      "13                19  5.920292e-02          0.00  0.059203\n",
      "14                20  2.089414e-01          0.25  0.041059\n",
      "15                21  4.400000e-01          0.50  0.060000\n",
      "16                22  6.710586e-01          0.75  0.078941\n",
      "17                23  8.407971e-01          1.00  0.159203\n",
      "18                24  9.125741e-01          1.25  0.337426\n",
      "19                25  9.220138e-01          1.50  0.577986\n",
      "20                26  9.933071e-01          1.75  0.756693\n",
      "21                27  9.775274e-01          2.00  1.022473\n",
      "22                28  9.390889e-01          2.25  1.310911\n",
      "23                29  9.796646e-01          2.50  1.520335\n",
      "24                30  9.998766e-01          2.75  1.750123\n"
     ]
    }
   ],
   "source": [
    "# Mostrar resultados\n",
    "print(df[['salario en miles', 'Probabilidad', 'taylor_aprox', 'error']])"
   ]
  }
 ],
 "metadata": {
  "kernelspec": {
   "display_name": "Python 3",
   "language": "python",
   "name": "python3"
  },
  "language_info": {
   "codemirror_mode": {
    "name": "ipython",
    "version": 3
   },
   "file_extension": ".py",
   "mimetype": "text/x-python",
   "name": "python",
   "nbconvert_exporter": "python",
   "pygments_lexer": "ipython3",
   "version": "3.10.4"
  }
 },
 "nbformat": 4,
 "nbformat_minor": 2
}
