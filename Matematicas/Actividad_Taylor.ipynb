{
 "cells": [
  {
   "cell_type": "markdown",
   "metadata": {},
   "source": [
    "### **Tarea: Taylor** ###\n",
    "\n",
    "Matemáticas y Estadística para Inteligencia Artificial\n",
    "\n",
    "**Alumno**: Aminadab Córdova Acosta\n",
    "\n",
    "\n",
    "Instrucciones\n",
    "\n",
    "Los datos en la tabla muestran la probabilidad de que una persona, con un salario x, compre un producto determinado. Una función \n",
    "que comunmente se utiliza para modelar este comportamiento es la función logística:\n",
    "\n",
    "$$ f(x) = \\frac{1}{1 + e^{-(x - x_0)}} $$\n",
    "\n",
    "\n",
    "donde $ x_0 $ es el punto donde la probabilidad es 0.5. Sin embargo, en términos de evaluación, es más sencillo evaluar una aproximación polinómica que evaluar esta función. Es por ello que emplearemos un polinomio de Taylor para describir estos datos.\n",
    "\n",
    "1. Para los datos que se muestran en la tabla diga cuál cree que es el valor de $ x_0 $\n",
    "2. Encuentre un polinomio de Taylor de orden 3 para la función logística alrededor de $ x_0 $\n",
    "3. Evalúe el polinomio obtenido para cada uno de los salarios de la tabla\n",
    "4. Encuentre el error de aproximación calculando el valor absoluto de la diferencia de los valores\n",
    "aproximados y los reales\n",
    "5. Grafique los valores aproximados y los reales y analice el resultado"
   ]
  },
  {
   "cell_type": "code",
   "execution_count": 16,
   "metadata": {},
   "outputs": [
    {
     "name": "stdout",
     "output_type": "stream",
     "text": [
      "    salario en miles  Probabilidad\n",
      "0                  6  1.125352e-07\n",
      "1                  7  1.999969e-02\n",
      "2                  8  1.999917e-02\n",
      "3                  9  1.999774e-02\n",
      "4                 10  3.999386e-02\n",
      "5                 11  1.998330e-02\n",
      "6                 12  4.539787e-05\n",
      "7                 13  5.987661e-02\n",
      "8                 14  1.966465e-02\n",
      "9                 15  9.110512e-04\n",
      "10                16  5.752738e-02\n",
      "11                17  5.330715e-02\n",
      "12                18  4.201379e-02\n",
      "13                19  7.425873e-03\n",
      "14                20  5.920292e-02\n",
      "15                21  2.689414e-01\n",
      "16                22  4.600000e-01\n",
      "17                23  6.910586e-01\n",
      "18                24  8.607971e-01\n",
      "19                25  9.325741e-01\n",
      "20                26  9.820138e-01\n",
      "21                27  9.533071e-01\n",
      "22                28  9.975274e-01\n",
      "23                29  9.990889e-01\n",
      "24                30  9.996646e-01\n"
     ]
    }
   ],
   "source": [
    "import pandas as pd\n",
    "\n",
    "df = pd.read_excel(r'C:\\Users\\Aminadab Cordova\\Downloads\\datos_compra_productos.xlsx', usecols=\"B:C\")\n",
    "print(df)"
   ]
  }
 ],
 "metadata": {
  "kernelspec": {
   "display_name": "Python 3",
   "language": "python",
   "name": "python3"
  },
  "language_info": {
   "codemirror_mode": {
    "name": "ipython",
    "version": 3
   },
   "file_extension": ".py",
   "mimetype": "text/x-python",
   "name": "python",
   "nbconvert_exporter": "python",
   "pygments_lexer": "ipython3",
   "version": "3.12.0"
  }
 },
 "nbformat": 4,
 "nbformat_minor": 2
}
