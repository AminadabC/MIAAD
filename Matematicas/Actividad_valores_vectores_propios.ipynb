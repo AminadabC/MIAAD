{
 "cells": [
  {
   "cell_type": "markdown",
   "metadata": {},
   "source": [
    "### **Tarea: Valores y Vectores propios de una matriz** ###\n",
    "\n",
    "Mstemáticas y Estadística para Inteligencia Artificial\n",
    "\n",
    "**Alumno**: Aminadab Córdova Acosta"
   ]
  },
  {
   "cell_type": "markdown",
   "metadata": {},
   "source": [
    "Dada las matrices A y B, conteste las preguntas que se listan a continuación:\n",
    "\n",
    "$$\n",
    "A = \\begin{bmatrix}\n",
    "\\dfrac{55}{94} & \\dfrac{-27}{47} & \\dfrac{-81}{94} \\\\\n",
    "\\vphantom{\\dfrac{1}{2}} \\\\\n",
    "\\dfrac{-27}{47} & \\dfrac{-88}{47} & \\dfrac{9}{47} \\\\\n",
    "\\vphantom{\\dfrac{1}{2}} \\\\\n",
    "\\dfrac{-81}{94} & \\dfrac{9}{47} & \\dfrac{-161}{94}\n",
    "\\end{bmatrix}\n",
    "$$\n",
    "\n",
    "$$\n",
    "B = \\begin{bmatrix}\n",
    "9 & -141 & \\dfrac{-141}{5} \\\\\n",
    "\\vphantom{\\dfrac{1}{2}} \\\\\n",
    "-2 & 0 & -141 \\\\\n",
    "\\vphantom{\\dfrac{1}{2}} \\\\\n",
    "-3 & -423 & \\dfrac{47}{5}\n",
    "\\end{bmatrix}\n",
    "$$\n",
    "\n",
    "\n",
    "A continuación, se utilizan las librerías de python para la resolución de los ejercicios: sympy, numpy y pandas.\n"
   ]
  },
  {
   "cell_type": "code",
   "execution_count": 2,
   "metadata": {},
   "outputs": [
    {
     "name": "stdout",
     "output_type": "stream",
     "text": [
      "Matriz A:\n",
      "⎡ 55   -27   -81  ⎤\n",
      "⎢ ──   ────  ──── ⎥\n",
      "⎢ 94    47    94  ⎥\n",
      "⎢                 ⎥\n",
      "⎢-27   -88        ⎥\n",
      "⎢────  ────  9/47 ⎥\n",
      "⎢ 47    47        ⎥\n",
      "⎢                 ⎥\n",
      "⎢-81         -161 ⎥\n",
      "⎢────  9/47  ─────⎥\n",
      "⎣ 94          94  ⎦\n",
      "\n",
      "\n",
      "Matriz B:\n",
      "⎡9   -141  -141/5⎤\n",
      "⎢                ⎥\n",
      "⎢-2   0     -141 ⎥\n",
      "⎢                ⎥\n",
      "⎣-3  -423   47/5 ⎦\n",
      "\n",
      "\n"
     ]
    }
   ],
   "source": [
    "# Importar librerias requeridas\n",
    "import sympy as sp\n",
    "import numpy as np\n",
    "import pandas as pd\n",
    "\n",
    "# Matriz A\n",
    "A = sp.Matrix([\n",
    "    [sp.Rational(55,94), sp.Rational(-27, 47), sp.Rational(-81, 94)],\n",
    "    [sp.Rational(-27, 47), sp.Rational(-88, 47), sp.Rational(9, 47)],\n",
    "    [sp.Rational(-81, 94), sp.Rational(9, 47), sp.Rational(-161, 94)]\n",
    "])\n",
    "\n",
    "# Matriz B\n",
    "B = sp.Matrix([\n",
    "    [9, -141, sp.Rational(-141, 5)],\n",
    "    [-2, 0, -141],\n",
    "    [-3, -423, sp.Rational(47, 5)]\n",
    "])\n",
    "\n",
    "\n",
    "\n",
    "# Mostrar la matriz en formato matricial\n",
    "print(\"Matriz A:\")\n",
    "sp.pprint(A)\n",
    "print(\"\\n\")\n",
    "\n",
    "# Mostrar la matriz en formato matricial\n",
    "print(\"Matriz B:\")\n",
    "sp.pprint(B)\n",
    "print(\"\\n\")"
   ]
  },
  {
   "cell_type": "markdown",
   "metadata": {},
   "source": [
    "**1. Encuentre los valores propios de la matriz A e indique cuál es la multiplicidad algebraica de cada uno.**"
   ]
  },
  {
   "cell_type": "code",
   "execution_count": null,
   "metadata": {},
   "outputs": [
    {
     "name": "stdout",
     "output_type": "stream",
     "text": [
      "Autovalores y sus multiplicidades algebraicas:\n",
      "Autovalor: 1, Multiplicidad: 1\n",
      "Autovalor: -2, Multiplicidad: 2\n",
      "\n",
      "Polinomio característico:\n",
      " 3      2    \n",
      "λ  + 3⋅λ  - 4\n"
     ]
    }
   ],
   "source": [
    "# Obtener autovalores exactos y sus multiplicidades algebraicas\n",
    "eigenvalues = A.eigenvals()\n",
    "\n",
    "# Obtener polinomio característico\n",
    "lambda_ = sp.Symbol('λ') # Definir símbolo lambda\n",
    "char_poly = A.charpoly(lambda_) # Polinomio característico\n",
    "\n",
    "# Mostrar resultados\n",
    "print(\"Autovalores y sus multiplicidades algebraicas de la matriz A:\")\n",
    "for eigenvalue, multiplicity in eigenvalues.items():\n",
    "    print(f\"Autovalor: {eigenvalue}, Multiplicidad: {multiplicity}\")\n",
    "\n",
    "print(\"\\nPolinomio característico:\")\n",
    "sp.pprint(char_poly.as_expr())"
   ]
  },
  {
   "cell_type": "markdown",
   "metadata": {},
   "source": [
    "**2. Encuentre los subespacios propios asociados a cada valor propio**"
   ]
  },
  {
   "cell_type": "code",
   "execution_count": 17,
   "metadata": {},
   "outputs": [
    {
     "name": "stdout",
     "output_type": "stream",
     "text": [
      "Subespacios propios (vectores propios asociados a cada autovalor):\n",
      "\n",
      "Subespacio propio asociado al autovalor -2:\n",
      "⎡2/9⎤\n",
      "⎢   ⎥\n",
      "⎢ 1 ⎥\n",
      "⎢   ⎥\n",
      "⎣ 0 ⎦\n",
      "⎡1/3⎤\n",
      "⎢   ⎥\n",
      "⎢ 0 ⎥\n",
      "⎢   ⎥\n",
      "⎣ 1 ⎦\n",
      "\n",
      "Subespacio propio asociado al autovalor 1:\n",
      "⎡-3 ⎤\n",
      "⎢   ⎥\n",
      "⎢2/3⎥\n",
      "⎢   ⎥\n",
      "⎣ 1 ⎦\n"
     ]
    }
   ],
   "source": [
    "# Obtener autovalores y subespacios propios (vectores propios)\n",
    "eigenvects_A = A.eigenvects()\n",
    "\n",
    "# Mostrar los subespacios propios (vectores propios asociados a cada autovalor)\n",
    "print(\"Subespacios propios (vectores propios asociados a cada autovalor):\")\n",
    "for eigval, mult, eigvecs in eigenvects_A:\n",
    "    print(f\"\\nSubespacio propio asociado al autovalor {eigval}:\")\n",
    "    for vec in eigvecs:\n",
    "        sp.pprint(vec)"
   ]
  },
  {
   "cell_type": "markdown",
   "metadata": {},
   "source": [
    "**3. Encuentre una base para cada subespacio propio**"
   ]
  },
  {
   "cell_type": "code",
   "execution_count": 18,
   "metadata": {},
   "outputs": [
    {
     "name": "stdout",
     "output_type": "stream",
     "text": [
      "Base del subespacio propio asociado a λ = -2:\n",
      "⎡2/9⎤\n",
      "⎢   ⎥\n",
      "⎢ 1 ⎥\n",
      "⎢   ⎥\n",
      "⎣ 0 ⎦\n",
      "⎡1/3⎤\n",
      "⎢   ⎥\n",
      "⎢ 0 ⎥\n",
      "⎢   ⎥\n",
      "⎣ 1 ⎦\n",
      "\n",
      "Base del subespacio propio asociado a λ = 1:\n",
      "⎡-3 ⎤\n",
      "⎢   ⎥\n",
      "⎢2/3⎥\n",
      "⎢   ⎥\n",
      "⎣ 1 ⎦\n",
      "\n"
     ]
    }
   ],
   "source": [
    "# Mostrar los espacios propios con su base\n",
    "for val, mult, vects in eigenvects_A:\n",
    "    print(f\"Base del subespacio propio asociado a λ = {val}:\")\n",
    "    for v in vects:\n",
    "        sp.pprint(v)  # Mostrar los vectores de forma legible\n",
    "    print()"
   ]
  },
  {
   "cell_type": "markdown",
   "metadata": {},
   "source": [
    "**4. Diga si la matriz es diagonizable. Justifique su respuesta**"
   ]
  },
  {
   "cell_type": "code",
   "execution_count": null,
   "metadata": {},
   "outputs": [
    {
     "name": "stdout",
     "output_type": "stream",
     "text": [
      "\n",
      "¿Es la matriz A diagonalizable?\n",
      "Sí, la matriz A es diagonalizable.\n"
     ]
    }
   ],
   "source": [
    "# Una matriz es diagonalizable si la suma de las multiplicidades geométricas de sus autovalores es igual al tamaño de la matriz\n",
    "is_diagonalizable = sum(len(eigvecs) for eigval, mult, eigvecs in eigenvects_A) == A.shape[0]\n",
    "\n",
    "print(\"\\n¿Es la matriz A diagonalizable?\")\n",
    "if is_diagonalizable:\n",
    "    print(\"Sí, la matriz A es diagonalizable.\")\n",
    "else:\n",
    "    print(\"No, la matriz A no es diagonalizable.\")"
   ]
  },
  {
   "cell_type": "markdown",
   "metadata": {},
   "source": [
    "La matriz A es diagonalizable porque la suma de las dimensiones de sus espacios propios es igual a la dimensión de la matriz (en este caso, 3)."
   ]
  },
  {
   "cell_type": "markdown",
   "metadata": {},
   "source": [
    "**5. Encuentre la matriz C = AB y explique la relación que existe entre las columnas de la matriz C y la matriz B.**"
   ]
  },
  {
   "cell_type": "code",
   "execution_count": 23,
   "metadata": {},
   "outputs": [
    {
     "name": "stdout",
     "output_type": "stream",
     "text": [
      "Matriz A:\n",
      "⎡ 55   -27   -81  ⎤\n",
      "⎢ ──   ────  ──── ⎥\n",
      "⎢ 94    47    94  ⎥\n",
      "⎢                 ⎥\n",
      "⎢-27   -88        ⎥\n",
      "⎢────  ────  9/47 ⎥\n",
      "⎢ 47    47        ⎥\n",
      "⎢                 ⎥\n",
      "⎢-81         -161 ⎥\n",
      "⎢────  9/47  ─────⎥\n",
      "⎣ 94          94  ⎦\n",
      "\n",
      "Matriz B:\n",
      "⎡9   -141  -141/5⎤\n",
      "⎢                ⎥\n",
      "⎢-2   0     -141 ⎥\n",
      "⎢                ⎥\n",
      "⎣-3  -423   47/5 ⎦\n",
      "\n",
      "Matriz C = AB:\n",
      "⎡9   282  282/5⎤\n",
      "⎢              ⎥\n",
      "⎢-2   0    282 ⎥\n",
      "⎢              ⎥\n",
      "⎣-3  846  -94/5⎦\n"
     ]
    }
   ],
   "source": [
    "# Multiplicación de matrices\n",
    "C = A * B\n",
    "\n",
    "# Mostrar las matrices\n",
    "print(\"Matriz A:\")\n",
    "sp.pprint(A)\n",
    "print(\"\\nMatriz B:\")\n",
    "sp.pprint(B)\n",
    "print(\"\\nMatriz C = AB:\")\n",
    "sp.pprint(C)"
   ]
  },
  {
   "cell_type": "code",
   "execution_count": 24,
   "metadata": {},
   "outputs": [
    {
     "name": "stdout",
     "output_type": "stream",
     "text": [
      "\n",
      "Columna 1 de C calculada como A * Columna 1 de B:\n",
      "⎡9 ⎤\n",
      "⎢  ⎥\n",
      "⎢-2⎥\n",
      "⎢  ⎥\n",
      "⎣-3⎦\n",
      "\n",
      "Columna 2 de C calculada como A * Columna 2 de B:\n",
      "⎡282⎤\n",
      "⎢   ⎥\n",
      "⎢ 0 ⎥\n",
      "⎢   ⎥\n",
      "⎣846⎦\n",
      "\n",
      "Columna 3 de C calculada como A * Columna 3 de B:\n",
      "⎡282/5⎤\n",
      "⎢     ⎥\n",
      "⎢ 282 ⎥\n",
      "⎢     ⎥\n",
      "⎣-94/5⎦\n",
      "\n",
      "Rango de B: 3\n",
      "Rango de C: 3\n",
      "Las columnas de B y C tienen la misma independencia lineal.\n"
     ]
    }
   ],
   "source": [
    "# Analizar la relación entre las columnas de C y B\n",
    "for j in range(B.shape[1]):\n",
    "    transformed_col = A * B[:, j]\n",
    "    print(f\"\\nColumna {j+1} de C calculada como A * Columna {j+1} de B:\")\n",
    "    sp.pprint(transformed_col)\n",
    "\n",
    "# Determinar independencia lineal de las columnas de B y C\n",
    "rank_B = B.rank()\n",
    "rank_C = C.rank()\n",
    "\n",
    "print(f\"\\nRango de B: {rank_B}\")\n",
    "print(f\"Rango de C: {rank_C}\")\n",
    "\n",
    "if rank_B == rank_C:\n",
    "    print(\"Las columnas de B y C tienen la misma independencia lineal.\")\n",
    "else:\n",
    "    print(\"La transformación afecta la independencia lineal de las columnas.\")"
   ]
  },
  {
   "cell_type": "markdown",
   "metadata": {},
   "source": [
    "- La matriz C es el resultado de aplicar la transformación lineal definida por 𝐴 a las columnas de 𝐵\n",
    "\n",
    "- Cada columna de C es una combinación lineal de las columnas de 𝐵\n",
    "\n",
    "- La independencia lineal de las columnas de 𝐵 se conserva en C solo si 𝐴 es invertible"
   ]
  }
 ],
 "metadata": {
  "kernelspec": {
   "display_name": "Python 3",
   "language": "python",
   "name": "python3"
  },
  "language_info": {
   "codemirror_mode": {
    "name": "ipython",
    "version": 3
   },
   "file_extension": ".py",
   "mimetype": "text/x-python",
   "name": "python",
   "nbconvert_exporter": "python",
   "pygments_lexer": "ipython3",
   "version": "3.10.4"
  }
 },
 "nbformat": 4,
 "nbformat_minor": 2
}
