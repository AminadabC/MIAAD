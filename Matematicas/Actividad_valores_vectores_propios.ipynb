{
 "cells": [
  {
   "cell_type": "markdown",
   "metadata": {},
   "source": [
    "### **Tarea: Valores y Vectores propios de una matriz** ###\n",
    "\n",
    "Mstemáticas y Estadística para Inteligencia Artificial\n",
    "\n",
    "**Alumno**: Aminadab Córdova Acosta"
   ]
  },
  {
   "cell_type": "markdown",
   "metadata": {},
   "source": [
    "Dada las matrices A y B, conteste las preguntas que se listan a continuación:\n",
    "\n",
    "$$\n",
    "A = \\begin{bmatrix}\n",
    "\\dfrac{55}{94} & \\dfrac{-27}{47} & \\dfrac{-81}{94} \\\\\n",
    "\\vphantom{\\dfrac{1}{2}} \\\\\n",
    "\\dfrac{-27}{47} & \\dfrac{-88}{47} & \\dfrac{9}{47} \\\\\n",
    "\\vphantom{\\dfrac{1}{2}} \\\\\n",
    "\\dfrac{-81}{94} & \\dfrac{9}{47} & \\dfrac{-161}{94}\n",
    "\\end{bmatrix}\n",
    "$$\n",
    "\n",
    "$$\n",
    "B = \\begin{bmatrix}\n",
    "9 & -141 & \\dfrac{-141}{5} \\\\\n",
    "\\vphantom{\\dfrac{1}{2}} \\\\\n",
    "-2 & 0 & -141 \\\\\n",
    "\\vphantom{\\dfrac{1}{2}} \\\\\n",
    "-3 & -423 & \\dfrac{47}{5}\n",
    "\\end{bmatrix}\n",
    "$$\n",
    "\n",
    "\n",
    "A continuación, se utilizan las librerías de python para la resolución de los ejercicios: sympy, numpy y pandas.\n"
   ]
  },
  {
   "cell_type": "code",
   "execution_count": 6,
   "metadata": {},
   "outputs": [
    {
     "name": "stdout",
     "output_type": "stream",
     "text": [
      "Matriz A:\n",
      "⎡ 55   -27   -81  ⎤\n",
      "⎢ ──   ────  ──── ⎥\n",
      "⎢ 94    47    94  ⎥\n",
      "⎢                 ⎥\n",
      "⎢-27   -88        ⎥\n",
      "⎢────  ────  9/47 ⎥\n",
      "⎢ 47    47        ⎥\n",
      "⎢                 ⎥\n",
      "⎢-81         -161 ⎥\n",
      "⎢────  9/47  ─────⎥\n",
      "⎣ 94          94  ⎦\n",
      "\n",
      "\n",
      "Matriz B:\n",
      "⎡9   -141  -141/5⎤\n",
      "⎢                ⎥\n",
      "⎢-2   0     -141 ⎥\n",
      "⎢                ⎥\n",
      "⎣-3  -423   47/5 ⎦\n",
      "\n",
      "\n"
     ]
    }
   ],
   "source": [
    "# Importar librerias requeridas\n",
    "import sympy as sp\n",
    "import numpy as np\n",
    "import pandas as pd\n",
    "\n",
    "# Matriz A\n",
    "A = sp.Matrix([\n",
    "    [sp.Rational(55,94), sp.Rational(-27, 47), sp.Rational(-81, 94)],\n",
    "    [sp.Rational(-27, 47), sp.Rational(-88, 47), sp.Rational(9, 47)],\n",
    "    [sp.Rational(-81, 94), sp.Rational(9, 47), sp.Rational(-161, 94)]\n",
    "])\n",
    "\n",
    "# Matriz B\n",
    "B = sp.Matrix([\n",
    "    [9, -141, sp.Rational(-141, 5)],\n",
    "    [-2, 0, -141],\n",
    "    [-3, -423, sp.Rational(47, 5)]\n",
    "])\n",
    "\n",
    "\n",
    "\n",
    "# Mostrar la matriz en formato matricial\n",
    "print(\"Matriz A:\")\n",
    "sp.pprint(A)\n",
    "print(\"\\n\")\n",
    "\n",
    "# Mostrar la matriz en formato matricial\n",
    "print(\"Matriz B:\")\n",
    "sp.pprint(B)\n",
    "print(\"\\n\")"
   ]
  },
  {
   "cell_type": "markdown",
   "metadata": {},
   "source": [
    "**1. Encuentre los valores propios de la matriz A e indique cuál es la multiplicidad algebraica de cada uno.**"
   ]
  },
  {
   "cell_type": "code",
   "execution_count": 7,
   "metadata": {},
   "outputs": [
    {
     "name": "stdout",
     "output_type": "stream",
     "text": [
      "Autovalores y sus multiplicidades algebraicas:\n",
      "Autovalor: 1, Multiplicidad: 1\n",
      "Autovalor: -2, Multiplicidad: 2\n",
      "\n",
      "Polinomio característico:\n",
      " 3      2    \n",
      "λ  + 3⋅λ  - 4\n"
     ]
    }
   ],
   "source": [
    "# Obtener autovalores exactos y sus multiplicidades algebraicas\n",
    "eigenvalues = A.eigenvals()\n",
    "\n",
    "# Obtener polinomio característico\n",
    "lambda_ = sp.Symbol('λ')\n",
    "char_poly = A.charpoly(lambda_)\n",
    "\n",
    "# Mostrar resultados\n",
    "print(\"Autovalores y sus multiplicidades algebraicas:\")\n",
    "for eigenvalue, multiplicity in eigenvalues.items():\n",
    "    print(f\"Autovalor: {eigenvalue}, Multiplicidad: {multiplicity}\")\n",
    "\n",
    "print(\"\\nPolinomio característico:\")\n",
    "sp.pprint(char_poly.as_expr())"
   ]
  },
  {
   "cell_type": "code",
   "execution_count": 8,
   "metadata": {},
   "outputs": [
    {
     "name": "stdout",
     "output_type": "stream",
     "text": [
      "Autovalores y sus multiplicidades algebraicas:\n",
      "Autovalor: 1, Multiplicidad: 1\n",
      "Autovalor: -2, Multiplicidad: 2\n",
      "\n",
      "Polinomio característico:\n",
      " 3      2    \n",
      "λ  + 3⋅λ  - 4\n",
      "\n",
      "\n",
      "Subespacios propios (vectores propios asociados a cada autovalor):\n",
      "\n",
      "Subespacio propio asociado al autovalor -2:\n",
      "⎡2/9⎤\n",
      "⎢   ⎥\n",
      "⎢ 1 ⎥\n",
      "⎢   ⎥\n",
      "⎣ 0 ⎦\n",
      "⎡1/3⎤\n",
      "⎢   ⎥\n",
      "⎢ 0 ⎥\n",
      "⎢   ⎥\n",
      "⎣ 1 ⎦\n",
      "\n",
      "Subespacio propio asociado al autovalor 1:\n",
      "⎡-3 ⎤\n",
      "⎢   ⎥\n",
      "⎢2/3⎥\n",
      "⎢   ⎥\n",
      "⎣ 1 ⎦\n",
      "\n",
      "Subespacio propio asociado al autovalor -2:\n",
      "⎡2/9⎤\n",
      "⎢   ⎥\n",
      "⎢ 1 ⎥\n",
      "⎢   ⎥\n",
      "⎣ 0 ⎦\n",
      "⎡1/3⎤\n",
      "⎢   ⎥\n",
      "⎢ 0 ⎥\n",
      "⎢   ⎥\n",
      "⎣ 1 ⎦\n",
      "\n",
      "Subespacio propio asociado al autovalor 1:\n",
      "⎡-3 ⎤\n",
      "⎢   ⎥\n",
      "⎢2/3⎥\n",
      "⎢   ⎥\n",
      "⎣ 1 ⎦\n"
     ]
    }
   ],
   "source": [
    "# Obtener autovalores y sus multiplicidades algebraicas\n",
    "eigenvalues = A.eigenvals()\n",
    "\n",
    "# Obtener polinomio característico\n",
    "lambda_ = sp.Symbol('λ')\n",
    "char_poly = A.charpoly(lambda_)\n",
    "\n",
    "# Mostrar autovalores y sus multiplicidades\n",
    "print(\"Autovalores y sus multiplicidades algebraicas:\")\n",
    "for eigenvalue, multiplicity in eigenvalues.items():\n",
    "    print(f\"Autovalor: {eigenvalue}, Multiplicidad: {multiplicity}\")\n",
    "\n",
    "print(\"\\nPolinomio característico:\")\n",
    "sp.pprint(char_poly.as_expr())\n",
    "print(\"\\n\")\n",
    "\n",
    "# Obtener subespacios propios (vectores propios)\n",
    "print(\"Subespacios propios (vectores propios asociados a cada autovalor):\")\n",
    "for eigenvalue in eigenvalues:\n",
    "    eigenspace = A.eigenvects()\n",
    "    for eigval, mult, eigvecs in eigenspace:\n",
    "        print(f\"\\nSubespacio propio asociado al autovalor {eigval}:\")\n",
    "        for vec in eigvecs:\n",
    "            sp.pprint(vec)"
   ]
  },
  {
   "cell_type": "code",
   "execution_count": 9,
   "metadata": {},
   "outputs": [
    {
     "name": "stdout",
     "output_type": "stream",
     "text": [
      "Bases de los subespacios propios:\n",
      "\n",
      "Base del subespacio propio asociado al autovalor -2:\n",
      "⎡2/9⎤\n",
      "⎢   ⎥\n",
      "⎢ 1 ⎥\n",
      "⎢   ⎥\n",
      "⎣ 0 ⎦\n",
      "⎡1/3⎤\n",
      "⎢   ⎥\n",
      "⎢ 0 ⎥\n",
      "⎢   ⎥\n",
      "⎣ 1 ⎦\n",
      "\n",
      "Base del subespacio propio asociado al autovalor 1:\n",
      "⎡-3 ⎤\n",
      "⎢   ⎥\n",
      "⎢2/3⎥\n",
      "⎢   ⎥\n",
      "⎣ 1 ⎦\n"
     ]
    }
   ],
   "source": [
    "# Obtener autovalores y vectores propios\n",
    "eigenvects = A.eigenvects()\n",
    "\n",
    "# Mostrar las bases de los subespacios propios\n",
    "print(\"Bases de los subespacios propios:\")\n",
    "for eigenvalue, multiplicity, eigvecs in eigenvects:\n",
    "    print(f\"\\nBase del subespacio propio asociado al autovalor {eigenvalue}:\")\n",
    "    for vec in eigvecs:\n",
    "        sp.pprint(vec)"
   ]
  },
  {
   "cell_type": "code",
   "execution_count": 10,
   "metadata": {},
   "outputs": [
    {
     "name": "stdout",
     "output_type": "stream",
     "text": [
      "Autovalores y dimensiones de sus subespacios propios:\n",
      "Autovalor: -2, Multiplicidad algebraica: 2, Dimensión del subespacio propio: 2\n",
      "Autovalor: 1, Multiplicidad algebraica: 1, Dimensión del subespacio propio: 1\n",
      "\n",
      "¿Es la matriz diagonalizable?\n",
      "Sí\n"
     ]
    }
   ],
   "source": [
    "# Obtener autovalores y vectores propios\n",
    "eigenvects = A.eigenvects()\n",
    "\n",
    "# Verificar si la matriz es diagonalizable\n",
    "suma_multiplicidades_geometricas = sum(len(eigvecs) for _, _, eigvecs in eigenvects)\n",
    "\n",
    "# Comparar con el tamaño de la matriz\n",
    "es_diagonalizable = suma_multiplicidades_geometricas == A.shape[0]\n",
    "\n",
    "# Mostrar resultados\n",
    "print(\"Autovalores y dimensiones de sus subespacios propios:\")\n",
    "for eigenvalue, multiplicidad, eigvecs in eigenvects:\n",
    "    print(f\"Autovalor: {eigenvalue}, Multiplicidad algebraica: {multiplicidad}, Dimensión del subespacio propio: {len(eigvecs)}\")\n",
    "\n",
    "print(\"\\n¿Es la matriz diagonalizable?\")\n",
    "print(\"Sí\" if es_diagonalizable else \"No\")\n"
   ]
  },
  {
   "cell_type": "code",
   "execution_count": 11,
   "metadata": {},
   "outputs": [
    {
     "data": {
      "text/plain": [
       "[(-2,\n",
       "  2,\n",
       "  [Matrix([\n",
       "   [2/9],\n",
       "   [  1],\n",
       "   [  0]]),\n",
       "   Matrix([\n",
       "   [1/3],\n",
       "   [  0],\n",
       "   [  1]])]),\n",
       " (1,\n",
       "  1,\n",
       "  [Matrix([\n",
       "   [ -3],\n",
       "   [2/3],\n",
       "   [  1]])])]"
      ]
     },
     "execution_count": 11,
     "metadata": {},
     "output_type": "execute_result"
    }
   ],
   "source": [
    "eigenvects"
   ]
  },
  {
   "cell_type": "markdown",
   "metadata": {},
   "source": [
    "**2. Encuentre los subespacios propios asociados a cada valor propio**"
   ]
  },
  {
   "cell_type": "code",
   "execution_count": null,
   "metadata": {},
   "outputs": [],
   "source": []
  },
  {
   "cell_type": "markdown",
   "metadata": {},
   "source": [
    "**3. Encuentre una base para cada subespacio propio**"
   ]
  },
  {
   "cell_type": "code",
   "execution_count": null,
   "metadata": {},
   "outputs": [],
   "source": []
  },
  {
   "cell_type": "markdown",
   "metadata": {},
   "source": [
    "**4. Diga si la matriz es diagonizable. Justifique su respuesta**"
   ]
  },
  {
   "cell_type": "code",
   "execution_count": null,
   "metadata": {},
   "outputs": [],
   "source": []
  },
  {
   "cell_type": "markdown",
   "metadata": {},
   "source": [
    "**5. Encuentre la matriz C = AB y explique la relación que existe entre las columnas de la matriz C y la matriz B.**"
   ]
  },
  {
   "cell_type": "code",
   "execution_count": 12,
   "metadata": {},
   "outputs": [
    {
     "name": "stdout",
     "output_type": "stream",
     "text": [
      "Matriz C = AB:\n",
      "⎡9   282  282/5⎤\n",
      "⎢              ⎥\n",
      "⎢-2   0    282 ⎥\n",
      "⎢              ⎥\n",
      "⎣-3  846  -94/5⎦\n"
     ]
    }
   ],
   "source": [
    "# Multiplicación de matrices\n",
    "C = A * B\n",
    "\n",
    "# Mostrar la matriz C\n",
    "print(\"Matriz C = AB:\")\n",
    "sp.pprint(C)"
   ]
  },
  {
   "cell_type": "markdown",
   "metadata": {},
   "source": [
    "\n",
    "\n",
    "### **Relación entre las columnas de \\( C \\) y la matriz \\( B \\)**  \n",
    "En el producto de matrices \\( C = A \\cdot B \\), cada columna de \\( C \\) es una combinación lineal de las columnas de la matriz \\( B \\).  \n",
    "\n",
    "Específicamente, la \\( j \\)-ésima columna de \\( C \\), denotada como \\( C[:, j] \\), se obtiene multiplicando \\( A \\) por la \\( j \\)-ésima columna de \\( B \\):\n",
    "\n",
    "\\[\n",
    "C[:, j] = A \\cdot B[:, j]\n",
    "\\]\n",
    "\n",
    "Esto significa que **las columnas de \\( C \\) son transformaciones lineales de las columnas de \\( B \\) bajo la acción de \\( A \\)**. En otras palabras, **cada columna de \\( B \\) se transforma según la estructura de \\( A \\)**, lo que puede interpretarse como una proyección, escalamiento o combinación de sus componentes en un nuevo espacio."
   ]
  },
  {
   "cell_type": "markdown",
   "metadata": {},
   "source": []
  },
  {
   "cell_type": "code",
   "execution_count": 13,
   "metadata": {},
   "outputs": [
    {
     "name": "stdout",
     "output_type": "stream",
     "text": [
      "Valores propios de A y sus multiplicidades algebraicas:\n",
      "λ = 1, multiplicidad algebraica = 1\n",
      "λ = -2, multiplicidad algebraica = 2\n"
     ]
    }
   ],
   "source": [
    "# Calcular valores propios de A\n",
    "eigenvalues = A.eigenvals()\n",
    "\n",
    "# Mostrar valores propios y sus multiplicidades algebraicas\n",
    "print(\"Valores propios de A y sus multiplicidades algebraicas:\")\n",
    "for val, mult in eigenvalues.items():\n",
    "    print(f\"λ = {val}, multiplicidad algebraica = {mult}\")\n"
   ]
  },
  {
   "cell_type": "code",
   "execution_count": 14,
   "metadata": {},
   "outputs": [
    {
     "name": "stdout",
     "output_type": "stream",
     "text": [
      "\n",
      "Subespacios propios asociados a cada valor propio:\n",
      "\n",
      "Para λ = -2:\n",
      "Multiplicidad algebraica: 2\n",
      "Base del subespacio propio:\n",
      "⎡2/9⎤\n",
      "⎢   ⎥\n",
      "⎢ 1 ⎥\n",
      "⎢   ⎥\n",
      "⎣ 0 ⎦\n",
      "⎡1/3⎤\n",
      "⎢   ⎥\n",
      "⎢ 0 ⎥\n",
      "⎢   ⎥\n",
      "⎣ 1 ⎦\n",
      "\n",
      "Para λ = 1:\n",
      "Multiplicidad algebraica: 1\n",
      "Base del subespacio propio:\n",
      "⎡-3 ⎤\n",
      "⎢   ⎥\n",
      "⎢2/3⎥\n",
      "⎢   ⎥\n",
      "⎣ 1 ⎦\n"
     ]
    }
   ],
   "source": [
    "\n",
    "# Calcular vectores propios (subespacios propios)\n",
    "eigenvectors = A.eigenvects()\n",
    "print(\"\\nSubespacios propios asociados a cada valor propio:\")\n",
    "\n",
    "for eigenval, alg_mult, eigenspace in eigenvectors:\n",
    "    print(f\"\\nPara λ = {eigenval}:\")\n",
    "    print(f\"Multiplicidad algebraica: {alg_mult}\")\n",
    "    print(\"Base del subespacio propio:\")\n",
    "    for vector in eigenspace:\n",
    "        sp.pprint(vector)\n"
   ]
  },
  {
   "cell_type": "code",
   "execution_count": 15,
   "metadata": {},
   "outputs": [
    {
     "name": "stdout",
     "output_type": "stream",
     "text": [
      "Bases de los subespacios propios:\n",
      "\n",
      "Para λ = -2:\n",
      "Multiplicidad algebraica: 2\n",
      "Base del subespacio propio:\n",
      "⎡2/9⎤\n",
      "⎢   ⎥\n",
      "⎢ 1 ⎥\n",
      "⎢   ⎥\n",
      "⎣ 0 ⎦\n",
      "⎡1/3⎤\n",
      "⎢   ⎥\n",
      "⎢ 0 ⎥\n",
      "⎢   ⎥\n",
      "⎣ 1 ⎦\n",
      "\n",
      "Para λ = 1:\n",
      "Multiplicidad algebraica: 1\n",
      "Base del subespacio propio:\n",
      "⎡-3 ⎤\n",
      "⎢   ⎥\n",
      "⎢2/3⎥\n",
      "⎢   ⎥\n",
      "⎣ 1 ⎦\n"
     ]
    }
   ],
   "source": [
    "# Calcular valores propios y sus vectores propios\n",
    "eigenvectors = A.eigenvects()\n",
    "\n",
    "print(\"Bases de los subespacios propios:\")\n",
    "for eigenval, alg_mult, eigenspace in eigenvectors:\n",
    "    print(f\"\\nPara λ = {eigenval}:\")\n",
    "    print(f\"Multiplicidad algebraica: {alg_mult}\")\n",
    "    print(\"Base del subespacio propio:\")\n",
    "    for vector in eigenspace:\n",
    "        sp.pprint(vector)\n"
   ]
  },
  {
   "cell_type": "code",
   "execution_count": 16,
   "metadata": {},
   "outputs": [
    {
     "name": "stdout",
     "output_type": "stream",
     "text": [
      "La matriz A es diagonalizable.\n"
     ]
    }
   ],
   "source": [
    "# Calcular los valores propios y sus vectores propios\n",
    "eigenvectors = A.eigenvects()\n",
    "\n",
    "# Determinar si la matriz es diagonalizable\n",
    "dim_subespacios = sum(len(vectors) for _, _, vectors in eigenvectors)\n",
    "n = A.shape[0]\n",
    "\n",
    "if dim_subespacios == n:\n",
    "    print(\"La matriz A es diagonalizable.\")\n",
    "else:\n",
    "    print(\"La matriz A NO es diagonalizable.\")\n"
   ]
  }
 ],
 "metadata": {
  "kernelspec": {
   "display_name": "Python 3",
   "language": "python",
   "name": "python3"
  },
  "language_info": {
   "codemirror_mode": {
    "name": "ipython",
    "version": 3
   },
   "file_extension": ".py",
   "mimetype": "text/x-python",
   "name": "python",
   "nbconvert_exporter": "python",
   "pygments_lexer": "ipython3",
   "version": "3.10.4"
  }
 },
 "nbformat": 4,
 "nbformat_minor": 2
}
