{
 "cells": [
  {
   "cell_type": "markdown",
   "metadata": {},
   "source": [
    "### **Tarea de Valores y Vectores propios de una matriz** ###\n",
    "\n",
    "**Alumno**: Aminadab Córdova Acosta"
   ]
  },
  {
   "cell_type": "markdown",
   "metadata": {},
   "source": [
    "Dada las matrices A y B, conteste las preguntas que se listan a continuación:\n",
    "\n",
    "$$\n",
    "A = \\begin{bmatrix}\n",
    "\\dfrac{1}{2} & \\dfrac{3}{4} & \\dfrac{5}{6} \\\\\n",
    "\\vphantom{\\dfrac{1}{2}} \\\\\n",
    "\\dfrac{7}{8} & \\dfrac{9}{10} & \\dfrac{11}{12} \\\\\n",
    "\\vphantom{\\dfrac{1}{2}} \\\\\n",
    "\\dfrac{13}{14} & \\dfrac{15}{16} & \\dfrac{17}{18}\n",
    "\\end{bmatrix}\n",
    "$$\n",
    "\n",
    "$$\n",
    "B = \\begin{bmatrix}\n",
    "\\dfrac{19}{20} & \\dfrac{21}{22} & \\dfrac{23}{24} \\\\\n",
    "\\vphantom{\\dfrac{1}{2}} \\\\\n",
    "\\dfrac{25}{26} & \\dfrac{27}{28} & \\dfrac{29}{30} \\\\\n",
    "\\vphantom{\\dfrac{1}{2}} \\\\\n",
    "\\dfrac{31}{32} & \\dfrac{33}{34} & \\dfrac{35}{36}\n",
    "\\end{bmatrix}\n",
    "$$\n"
   ]
  },
  {
   "cell_type": "code",
   "execution_count": 1,
   "metadata": {},
   "outputs": [
    {
     "name": "stdout",
     "output_type": "stream",
     "text": [
      "Matriz A:\n",
      "⎡5/11   9/11   -9/11⎤\n",
      "⎢                   ⎥\n",
      "⎢       -19         ⎥\n",
      "⎢9/11   ────   -3/11⎥\n",
      "⎢        11         ⎥\n",
      "⎢                   ⎥\n",
      "⎢              -19  ⎥\n",
      "⎢-9/11  -3/11  ──── ⎥\n",
      "⎣               11  ⎦\n",
      "\n",
      "\n",
      "Matriz B:\n",
      "⎡5/11   9/11   -9/11⎤\n",
      "⎢                   ⎥\n",
      "⎢       -19         ⎥\n",
      "⎢9/11   ────   -3/11⎥\n",
      "⎢        11         ⎥\n",
      "⎢                   ⎥\n",
      "⎢              -19  ⎥\n",
      "⎢-9/11  -3/11  ──── ⎥\n",
      "⎣               11  ⎦\n",
      "\n",
      "\n"
     ]
    }
   ],
   "source": [
    "import sympy as sp\n",
    "import numpy as np\n",
    "import pandas as pd\n",
    "\n",
    "# Matriz A\n",
    "A = sp.Matrix([\n",
    "    [sp.Rational(5,11), sp.Rational(9, 11), sp.Rational(-9, 11)],\n",
    "    [sp.Rational(9, 11), sp.Rational(-19, 11), sp.Rational(-3, 11)],\n",
    "    [sp.Rational(-9, 11), sp.Rational(-3, 11), sp.Rational(-19, 11)]\n",
    "])\n",
    "\n",
    "# Matriz B\n",
    "B = sp.Matrix([\n",
    "    [sp.Rational(5,11), sp.Rational(9, 11), sp.Rational(-9, 11)],\n",
    "    [sp.Rational(9, 11), sp.Rational(-19, 11), sp.Rational(-3, 11)],\n",
    "    [sp.Rational(-9, 11), sp.Rational(-3, 11), sp.Rational(-19, 11)]\n",
    "])\n",
    "\n",
    "\n",
    "\n",
    "# Mostrar la matriz en formato matricial\n",
    "print(\"Matriz A:\")\n",
    "sp.pprint(A)\n",
    "print(\"\\n\")\n",
    "\n",
    "# Mostrar la matriz en formato matricial\n",
    "print(\"Matriz B:\")\n",
    "sp.pprint(B)\n",
    "print(\"\\n\")"
   ]
  },
  {
   "cell_type": "code",
   "execution_count": null,
   "metadata": {},
   "outputs": [],
   "source": [
    "\n",
    "# Obtener autovalores exactos y sus multiplicidades algebraicas\n",
    "eigenvalues = A.eigenvals()\n",
    "\n",
    "# Obtener polinomio característico\n",
    "lambda_ = sp.Symbol('λ')\n",
    "char_poly = A.charpoly(lambda_)\n",
    "\n",
    "# Mostrar resultados\n",
    "print(\"Autovalores y sus multiplicidades algebraicas:\")\n",
    "for eigenvalue, multiplicity in eigenvalues.items():\n",
    "    print(f\"Autovalor: {eigenvalue}, Multiplicidad: {multiplicity}\")\n",
    "\n",
    "print(\"\\nPolinomio característico:\")\n",
    "sp.pprint(char_poly.as_expr())\n"
   ]
  },
  {
   "cell_type": "code",
   "execution_count": 3,
   "metadata": {},
   "outputs": [
    {
     "name": "stdout",
     "output_type": "stream",
     "text": [
      "Autovalores y sus multiplicidades algebraicas:\n",
      "Autovalor: 1, Multiplicidad: 1\n",
      "Autovalor: -2, Multiplicidad: 2\n",
      "\n",
      "Polinomio característico:\n",
      " 3      2    \n",
      "λ  + 3⋅λ  - 4\n",
      "\n",
      "\n",
      "Subespacios propios (vectores propios asociados a cada autovalor):\n",
      "\n",
      "Subespacio propio asociado al autovalor -2:\n",
      "⎡-1/3⎤\n",
      "⎢    ⎥\n",
      "⎢ 1  ⎥\n",
      "⎢    ⎥\n",
      "⎣ 0  ⎦\n",
      "⎡1/3⎤\n",
      "⎢   ⎥\n",
      "⎢ 0 ⎥\n",
      "⎢   ⎥\n",
      "⎣ 1 ⎦\n",
      "\n",
      "Subespacio propio asociado al autovalor 1:\n",
      "⎡-3⎤\n",
      "⎢  ⎥\n",
      "⎢-1⎥\n",
      "⎢  ⎥\n",
      "⎣1 ⎦\n",
      "\n",
      "Subespacio propio asociado al autovalor -2:\n",
      "⎡-1/3⎤\n",
      "⎢    ⎥\n",
      "⎢ 1  ⎥\n",
      "⎢    ⎥\n",
      "⎣ 0  ⎦\n",
      "⎡1/3⎤\n",
      "⎢   ⎥\n",
      "⎢ 0 ⎥\n",
      "⎢   ⎥\n",
      "⎣ 1 ⎦\n",
      "\n",
      "Subespacio propio asociado al autovalor 1:\n",
      "⎡-3⎤\n",
      "⎢  ⎥\n",
      "⎢-1⎥\n",
      "⎢  ⎥\n",
      "⎣1 ⎦\n"
     ]
    }
   ],
   "source": [
    "# Obtener autovalores y sus multiplicidades algebraicas\n",
    "eigenvalues = A.eigenvals()\n",
    "\n",
    "# Obtener polinomio característico\n",
    "lambda_ = sp.Symbol('λ')\n",
    "char_poly = A.charpoly(lambda_)\n",
    "\n",
    "# Mostrar autovalores y sus multiplicidades\n",
    "print(\"Autovalores y sus multiplicidades algebraicas:\")\n",
    "for eigenvalue, multiplicity in eigenvalues.items():\n",
    "    print(f\"Autovalor: {eigenvalue}, Multiplicidad: {multiplicity}\")\n",
    "\n",
    "print(\"\\nPolinomio característico:\")\n",
    "sp.pprint(char_poly.as_expr())\n",
    "print(\"\\n\")\n",
    "\n",
    "# Obtener subespacios propios (vectores propios)\n",
    "print(\"Subespacios propios (vectores propios asociados a cada autovalor):\")\n",
    "for eigenvalue in eigenvalues:\n",
    "    eigenspace = A.eigenvects()\n",
    "    for eigval, mult, eigvecs in eigenspace:\n",
    "        print(f\"\\nSubespacio propio asociado al autovalor {eigval}:\")\n",
    "        for vec in eigvecs:\n",
    "            sp.pprint(vec)"
   ]
  },
  {
   "cell_type": "code",
   "execution_count": 4,
   "metadata": {},
   "outputs": [
    {
     "name": "stdout",
     "output_type": "stream",
     "text": [
      "Bases de los subespacios propios:\n",
      "\n",
      "Base del subespacio propio asociado al autovalor -2:\n",
      "⎡-1/3⎤\n",
      "⎢    ⎥\n",
      "⎢ 1  ⎥\n",
      "⎢    ⎥\n",
      "⎣ 0  ⎦\n",
      "⎡1/3⎤\n",
      "⎢   ⎥\n",
      "⎢ 0 ⎥\n",
      "⎢   ⎥\n",
      "⎣ 1 ⎦\n",
      "\n",
      "Base del subespacio propio asociado al autovalor 1:\n",
      "⎡-3⎤\n",
      "⎢  ⎥\n",
      "⎢-1⎥\n",
      "⎢  ⎥\n",
      "⎣1 ⎦\n"
     ]
    }
   ],
   "source": [
    "# Obtener autovalores y vectores propios\n",
    "eigenvects = A.eigenvects()\n",
    "\n",
    "# Mostrar las bases de los subespacios propios\n",
    "print(\"Bases de los subespacios propios:\")\n",
    "for eigenvalue, multiplicity, eigvecs in eigenvects:\n",
    "    print(f\"\\nBase del subespacio propio asociado al autovalor {eigenvalue}:\")\n",
    "    for vec in eigvecs:\n",
    "        sp.pprint(vec)"
   ]
  },
  {
   "cell_type": "code",
   "execution_count": 5,
   "metadata": {},
   "outputs": [
    {
     "name": "stdout",
     "output_type": "stream",
     "text": [
      "Autovalores y dimensiones de sus subespacios propios:\n",
      "Autovalor: -2, Multiplicidad algebraica: 2, Dimensión del subespacio propio: 2\n",
      "Autovalor: 1, Multiplicidad algebraica: 1, Dimensión del subespacio propio: 1\n",
      "\n",
      "¿Es la matriz diagonalizable?\n",
      "Sí\n"
     ]
    }
   ],
   "source": [
    "# Obtener autovalores y vectores propios\n",
    "eigenvects = A.eigenvects()\n",
    "\n",
    "# Verificar si la matriz es diagonalizable\n",
    "suma_multiplicidades_geometricas = sum(len(eigvecs) for _, _, eigvecs in eigenvects)\n",
    "\n",
    "# Comparar con el tamaño de la matriz\n",
    "es_diagonalizable = suma_multiplicidades_geometricas == A.shape[0]\n",
    "\n",
    "# Mostrar resultados\n",
    "print(\"Autovalores y dimensiones de sus subespacios propios:\")\n",
    "for eigenvalue, multiplicidad, eigvecs in eigenvects:\n",
    "    print(f\"Autovalor: {eigenvalue}, Multiplicidad algebraica: {multiplicidad}, Dimensión del subespacio propio: {len(eigvecs)}\")\n",
    "\n",
    "print(\"\\n¿Es la matriz diagonalizable?\")\n",
    "print(\"Sí\" if es_diagonalizable else \"No\")\n"
   ]
  },
  {
   "cell_type": "code",
   "execution_count": 9,
   "metadata": {},
   "outputs": [
    {
     "data": {
      "text/plain": [
       "[(-2,\n",
       "  2,\n",
       "  [Matrix([\n",
       "   [-1/3],\n",
       "   [   1],\n",
       "   [   0]]),\n",
       "   Matrix([\n",
       "   [1/3],\n",
       "   [  0],\n",
       "   [  1]])]),\n",
       " (1,\n",
       "  1,\n",
       "  [Matrix([\n",
       "   [-3],\n",
       "   [-1],\n",
       "   [ 1]])])]"
      ]
     },
     "execution_count": 9,
     "metadata": {},
     "output_type": "execute_result"
    }
   ],
   "source": [
    "eigenvects"
   ]
  }
 ],
 "metadata": {
  "kernelspec": {
   "display_name": "Python 3",
   "language": "python",
   "name": "python3"
  },
  "language_info": {
   "codemirror_mode": {
    "name": "ipython",
    "version": 3
   },
   "file_extension": ".py",
   "mimetype": "text/x-python",
   "name": "python",
   "nbconvert_exporter": "python",
   "pygments_lexer": "ipython3",
   "version": "3.12.0"
  }
 },
 "nbformat": 4,
 "nbformat_minor": 2
}
